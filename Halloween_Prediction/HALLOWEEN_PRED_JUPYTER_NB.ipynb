{
  "nbformat": 4,
  "nbformat_minor": 0,
  "metadata": {
    "colab": {
      "name": "Ghouls_Dataset_ML3_Advanced_Final.ipynb",
      "provenance": [],
      "collapsed_sections": []
    },
    "kernelspec": {
      "name": "python3",
      "display_name": "Python 3"
    },
    "language_info": {
      "name": "python"
    }
  },
  "cells": [
    {
      "cell_type": "markdown",
      "metadata": {
        "id": "4uQ_62ddW6sX"
      },
      "source": [
        "# INSAID ML3 ADVANCED TERM PROJECT\n",
        "## GHOULS, GHOSTS AND GOBLINS CLASSIFICATION DATASET\n",
        "\n"
      ]
    },
    {
      "cell_type": "markdown",
      "metadata": {
        "id": "DkgqRpIwXd1s"
      },
      "source": [
        "<img src =  'https://github.com/padmapriyajain/Image_Dictionary/blob/master/GGG.png?raw=true' width=\"1100\" height=\"250\">\n",
        "\n"
      ]
    },
    {
      "cell_type": "markdown",
      "metadata": {
        "id": "8iL4QO5barNW"
      },
      "source": [
        "# Table of Contents\n",
        "\n",
        "1. [INTRODUCTION](#section1) <br>\n",
        "  - 1.1 [PROBLEM STATEMENT](#section101)<br>\n",
        "  - 1.2 [IMPORT LIBRARIES AND DATA](#section102)<br>\n",
        "2. [DATA DESCRIPTION](#section2) <br>\n",
        "3. [EXPLORATORY DATA ANALYSIS](#section3)<br>\n",
        "4. [FEATURE ENGINEERING](#section4)<br>\n",
        "5. [MODEL PREDICTIONS](#section5)<br>\n",
        "  - 5.1 [IMPORT LIBRARIES FOR PREDICTION](#section501)\n",
        "  - 5.2 [PREDICTION WITH BASELINE MODEL](#section502)\n",
        "  - 5.3 [PREDICTION WITH BEST PARAMETERS ON BASELINE MODELS](#section501)\n",
        "    - 5.3.1 [RANDOM FOREST WITH RANDOMIZED SEARCH](#section50301)\n",
        "    - 5.3.2 [KNN WITH BEST K VALUE](#section50302)\n",
        "    - 5.3.3 [STOCHASTIC GRADIENT DESCENT WITH GRID SEARCHCV](#section50303)\n",
        "    - 5.3.4 [GRADIENT BOOSTING CLASSIFIER WITH RANDOMIZED SEARCHCV](#section50304)\n",
        "    - 5.3.5 [LOGISTIC REGRESSION WITH BEST PARAMETER](#section50305)\n",
        "    - 5.3.6 [SUPPORT VECTOR CLASSIFIER WITH GRID SEARCHCV](#section50306)\n",
        "    - 5.3.7 [VOTING CLASSIFIER](#section50307)\n",
        "6. [CONCLUSION AND FUTURE PREDICTION](#section6)<br>"
      ]
    },
    {
      "cell_type": "markdown",
      "metadata": {
        "id": "w-bihG5Ba9Qb"
      },
      "source": [
        "<a id='section1'></a>\n",
        "# 1. INTRODUCTION:\n",
        "\n",
        "I am M Padmapriya, student of Jan 2020 cohort. I am presenting the GHOULS dataset for my ML ADVANCED project.\n",
        "\n",
        "<a id=section101></a> \n",
        "## 1.1 PROBLEM STATEMENT\n",
        "\n",
        "* This dataset has the scientific observations and measurements of halloween creatures like Ghouls, Ghosts and Goblins.\n",
        "\n",
        "* The intention of learning is to distinguish and classify them by their bone length measurements, severity of rot, extent of soullessness, and other characteristics. \n",
        "\n",
        "* We should be able to identify the type of halloween based on the characteristics in the test data.\n",
        "\n",
        "* All the classifier models learnt till ML3, along with optimization techniques should be applied as part of this project."
      ]
    },
    {
      "cell_type": "markdown",
      "metadata": {
        "id": "_083wiCB8d-F"
      },
      "source": [
        "<a id=section102></a> \n",
        "## 1.2 IMPORT LIBRARIES AND DATA"
      ]
    },
    {
      "cell_type": "code",
      "metadata": {
        "id": "y6YdU1OLaqc8"
      },
      "source": [
        "                                                                       # Import packages\n",
        "import pandas as pd\n",
        "import seaborn as sns\n",
        "import numpy as np\n",
        "import matplotlib.pyplot as plt\n",
        "from matplotlib.pyplot import pie, axis, show\n",
        "%matplotlib inline                   \n",
        "from IPython.core.interactiveshell import InteractiveShell\n",
        "InteractiveShell.ast_node_interactivity= 'all' \n",
        "\n",
        "import warnings                                                                  # Ignore warning related to pandas_profiling                                      \n",
        "warnings.filterwarnings('ignore') \n",
        "\n",
        "pd.set_option('display.max_columns', 100)                                        # Display all dataframe columns in outputs\n",
        "                                                                                 # This sets it up to dispaly with a horizontal scroll instead of hiding the middle columns\n",
        "\n",
        "#library\n",
        "import sys\n",
        "import pandas as pd\n",
        "import numpy as np\n",
        "import random as rnd\n",
        "%matplotlib inline\n",
        "\n",
        "from sklearn import svm, tree, linear_model, neighbors, naive_bayes, ensemble, discriminant_analysis, gaussian_process\n",
        "from xgboost import XGBClassifier\n",
        "\n",
        "#Common Model Helpers\n",
        "from sklearn import feature_selection\n",
        "from sklearn import model_selection\n",
        "from sklearn import metrics\n",
        "\n",
        "#Visualization\n",
        "import seaborn as sns\n",
        "import matplotlib.pyplot as plt\n",
        "import matplotlib as mpl\n",
        "import matplotlib.pylab as pylab\n",
        "from pandas.plotting import scatter_matrix\n",
        "\n",
        "# Importing Models\n",
        "from sklearn import svm, tree, linear_model, neighbors, naive_bayes, ensemble, discriminant_analysis, gaussian_process\n",
        "\n",
        "from sklearn.linear_model import LogisticRegression\n",
        "from sklearn.tree import DecisionTreeClassifier\n",
        "from sklearn.discriminant_analysis import LinearDiscriminantAnalysis\n",
        "from sklearn.ensemble import AdaBoostClassifier, RandomForestClassifier, GradientBoostingClassifier\n",
        "from sklearn.neighbors import KNeighborsClassifier\n",
        "from sklearn.svm import SVC, LinearSVC\n",
        "from xgboost import XGBClassifier\n",
        "from lightgbm import LGBMClassifier\n",
        "\n",
        "# Importing other tools\n",
        "from sklearn import model_selection\n",
        "from sklearn.metrics import confusion_matrix, classification_report, make_scorer\n",
        "from sklearn.metrics import accuracy_score, recall_score, precision_recall_curve\n",
        "from sklearn.model_selection import StratifiedKFold, cross_validate\n",
        "from sklearn.preprocessing import StandardScaler\n",
        "from sklearn.pipeline import Pipeline\n",
        "from sklearn.calibration import CalibratedClassifierCV                              "
      ],
      "execution_count": 55,
      "outputs": []
    },
    {
      "cell_type": "code",
      "metadata": {
        "id": "i7cOWcAW9Fp_"
      },
      "source": [
        "# Load the dataset in to halloween dataframe\n",
        "\n",
        "df_hal_train = pd.read_csv(\"https://raw.githubusercontent.com/insaid2018/Term-4/master/Projects/Ghouls_train.csv\")\n",
        "df_hal_test = pd.read_csv(\"https://raw.githubusercontent.com/insaid2018/Term-4/master/Projects/Ghouls_test.csv\")"
      ],
      "execution_count": 84,
      "outputs": []
    },
    {
      "cell_type": "markdown",
      "metadata": {
        "id": "TBaMggHP-q0w"
      },
      "source": [
        "<a id='section2'></a> \n",
        "# 2. DATA DESCRIPTION"
      ]
    },
    {
      "cell_type": "code",
      "metadata": {
        "colab": {
          "base_uri": "https://localhost:8080/",
          "height": 196
        },
        "id": "PLJW-xfs-Ht9",
        "outputId": "7cbb70fe-4187-4a4e-832b-a1e19c400080"
      },
      "source": [
        "# Sample of halloween train data\n",
        "df_hal_train.sample(5)"
      ],
      "execution_count": 57,
      "outputs": [
        {
          "output_type": "execute_result",
          "data": {
            "text/html": [
              "<div>\n",
              "<style scoped>\n",
              "    .dataframe tbody tr th:only-of-type {\n",
              "        vertical-align: middle;\n",
              "    }\n",
              "\n",
              "    .dataframe tbody tr th {\n",
              "        vertical-align: top;\n",
              "    }\n",
              "\n",
              "    .dataframe thead th {\n",
              "        text-align: right;\n",
              "    }\n",
              "</style>\n",
              "<table border=\"1\" class=\"dataframe\">\n",
              "  <thead>\n",
              "    <tr style=\"text-align: right;\">\n",
              "      <th></th>\n",
              "      <th>id</th>\n",
              "      <th>bone_length</th>\n",
              "      <th>rotting_flesh</th>\n",
              "      <th>hair_length</th>\n",
              "      <th>has_soul</th>\n",
              "      <th>color</th>\n",
              "      <th>type</th>\n",
              "    </tr>\n",
              "  </thead>\n",
              "  <tbody>\n",
              "    <tr>\n",
              "      <th>259</th>\n",
              "      <td>630</td>\n",
              "      <td>0.476320</td>\n",
              "      <td>0.286226</td>\n",
              "      <td>0.488843</td>\n",
              "      <td>0.411461</td>\n",
              "      <td>clear</td>\n",
              "      <td>Goblin</td>\n",
              "    </tr>\n",
              "    <tr>\n",
              "      <th>321</th>\n",
              "      <td>756</td>\n",
              "      <td>0.187781</td>\n",
              "      <td>0.736491</td>\n",
              "      <td>0.344348</td>\n",
              "      <td>0.346306</td>\n",
              "      <td>clear</td>\n",
              "      <td>Ghost</td>\n",
              "    </tr>\n",
              "    <tr>\n",
              "      <th>286</th>\n",
              "      <td>693</td>\n",
              "      <td>0.468841</td>\n",
              "      <td>0.517418</td>\n",
              "      <td>0.620956</td>\n",
              "      <td>0.624848</td>\n",
              "      <td>clear</td>\n",
              "      <td>Goblin</td>\n",
              "    </tr>\n",
              "    <tr>\n",
              "      <th>307</th>\n",
              "      <td>733</td>\n",
              "      <td>0.521237</td>\n",
              "      <td>0.608728</td>\n",
              "      <td>0.946612</td>\n",
              "      <td>0.676993</td>\n",
              "      <td>white</td>\n",
              "      <td>Ghoul</td>\n",
              "    </tr>\n",
              "    <tr>\n",
              "      <th>346</th>\n",
              "      <td>836</td>\n",
              "      <td>0.346283</td>\n",
              "      <td>0.158742</td>\n",
              "      <td>0.714987</td>\n",
              "      <td>0.322676</td>\n",
              "      <td>white</td>\n",
              "      <td>Goblin</td>\n",
              "    </tr>\n",
              "  </tbody>\n",
              "</table>\n",
              "</div>"
            ],
            "text/plain": [
              "      id  bone_length  rotting_flesh  hair_length  has_soul  color    type\n",
              "259  630     0.476320       0.286226     0.488843  0.411461  clear  Goblin\n",
              "321  756     0.187781       0.736491     0.344348  0.346306  clear   Ghost\n",
              "286  693     0.468841       0.517418     0.620956  0.624848  clear  Goblin\n",
              "307  733     0.521237       0.608728     0.946612  0.676993  white   Ghoul\n",
              "346  836     0.346283       0.158742     0.714987  0.322676  white  Goblin"
            ]
          },
          "metadata": {
            "tags": []
          },
          "execution_count": 57
        }
      ]
    },
    {
      "cell_type": "code",
      "metadata": {
        "colab": {
          "base_uri": "https://localhost:8080/",
          "height": 196
        },
        "id": "20KRm5Bd-c4S",
        "outputId": "bbf416cb-0c66-4600-dc35-38d21983c1e6"
      },
      "source": [
        "# Sample of halloween test data\n",
        "df_hal_test.sample(5)"
      ],
      "execution_count": 58,
      "outputs": [
        {
          "output_type": "execute_result",
          "data": {
            "text/html": [
              "<div>\n",
              "<style scoped>\n",
              "    .dataframe tbody tr th:only-of-type {\n",
              "        vertical-align: middle;\n",
              "    }\n",
              "\n",
              "    .dataframe tbody tr th {\n",
              "        vertical-align: top;\n",
              "    }\n",
              "\n",
              "    .dataframe thead th {\n",
              "        text-align: right;\n",
              "    }\n",
              "</style>\n",
              "<table border=\"1\" class=\"dataframe\">\n",
              "  <thead>\n",
              "    <tr style=\"text-align: right;\">\n",
              "      <th></th>\n",
              "      <th>id</th>\n",
              "      <th>bone_length</th>\n",
              "      <th>rotting_flesh</th>\n",
              "      <th>hair_length</th>\n",
              "      <th>has_soul</th>\n",
              "      <th>color</th>\n",
              "    </tr>\n",
              "  </thead>\n",
              "  <tbody>\n",
              "    <tr>\n",
              "      <th>320</th>\n",
              "      <td>535</td>\n",
              "      <td>0.326442</td>\n",
              "      <td>0.936041</td>\n",
              "      <td>0.352307</td>\n",
              "      <td>0.538078</td>\n",
              "      <td>clear</td>\n",
              "    </tr>\n",
              "    <tr>\n",
              "      <th>85</th>\n",
              "      <td>152</td>\n",
              "      <td>0.385390</td>\n",
              "      <td>0.531998</td>\n",
              "      <td>0.159234</td>\n",
              "      <td>0.254646</td>\n",
              "      <td>clear</td>\n",
              "    </tr>\n",
              "    <tr>\n",
              "      <th>360</th>\n",
              "      <td>613</td>\n",
              "      <td>0.282410</td>\n",
              "      <td>0.318677</td>\n",
              "      <td>0.460365</td>\n",
              "      <td>0.540802</td>\n",
              "      <td>blue</td>\n",
              "    </tr>\n",
              "    <tr>\n",
              "      <th>343</th>\n",
              "      <td>576</td>\n",
              "      <td>0.506012</td>\n",
              "      <td>0.153566</td>\n",
              "      <td>0.446913</td>\n",
              "      <td>0.512833</td>\n",
              "      <td>green</td>\n",
              "    </tr>\n",
              "    <tr>\n",
              "      <th>147</th>\n",
              "      <td>255</td>\n",
              "      <td>0.329971</td>\n",
              "      <td>0.362024</td>\n",
              "      <td>0.449953</td>\n",
              "      <td>0.235233</td>\n",
              "      <td>black</td>\n",
              "    </tr>\n",
              "  </tbody>\n",
              "</table>\n",
              "</div>"
            ],
            "text/plain": [
              "      id  bone_length  rotting_flesh  hair_length  has_soul  color\n",
              "320  535     0.326442       0.936041     0.352307  0.538078  clear\n",
              "85   152     0.385390       0.531998     0.159234  0.254646  clear\n",
              "360  613     0.282410       0.318677     0.460365  0.540802   blue\n",
              "343  576     0.506012       0.153566     0.446913  0.512833  green\n",
              "147  255     0.329971       0.362024     0.449953  0.235233  black"
            ]
          },
          "metadata": {
            "tags": []
          },
          "execution_count": 58
        }
      ]
    },
    {
      "cell_type": "code",
      "metadata": {
        "colab": {
          "base_uri": "https://localhost:8080/"
        },
        "id": "Nhm51Pb7P9Ll",
        "outputId": "66c5814a-75d4-4c82-f5ce-b68a8abe7712"
      },
      "source": [
        "# Info and describe the halloween data\n",
        "df_hal_train.info()"
      ],
      "execution_count": 59,
      "outputs": [
        {
          "output_type": "stream",
          "text": [
            "<class 'pandas.core.frame.DataFrame'>\n",
            "RangeIndex: 371 entries, 0 to 370\n",
            "Data columns (total 7 columns):\n",
            " #   Column         Non-Null Count  Dtype  \n",
            "---  ------         --------------  -----  \n",
            " 0   id             371 non-null    int64  \n",
            " 1   bone_length    371 non-null    float64\n",
            " 2   rotting_flesh  371 non-null    float64\n",
            " 3   hair_length    371 non-null    float64\n",
            " 4   has_soul       371 non-null    float64\n",
            " 5   color          371 non-null    object \n",
            " 6   type           371 non-null    object \n",
            "dtypes: float64(4), int64(1), object(2)\n",
            "memory usage: 20.4+ KB\n"
          ],
          "name": "stdout"
        }
      ]
    },
    {
      "cell_type": "code",
      "metadata": {
        "colab": {
          "base_uri": "https://localhost:8080/",
          "height": 375
        },
        "id": "-fmKH70hTpVb",
        "outputId": "71f04247-d7c2-4eb1-b279-35bad537fe7d"
      },
      "source": [
        "df_hal_train.describe(include= 'all')"
      ],
      "execution_count": 60,
      "outputs": [
        {
          "output_type": "execute_result",
          "data": {
            "text/html": [
              "<div>\n",
              "<style scoped>\n",
              "    .dataframe tbody tr th:only-of-type {\n",
              "        vertical-align: middle;\n",
              "    }\n",
              "\n",
              "    .dataframe tbody tr th {\n",
              "        vertical-align: top;\n",
              "    }\n",
              "\n",
              "    .dataframe thead th {\n",
              "        text-align: right;\n",
              "    }\n",
              "</style>\n",
              "<table border=\"1\" class=\"dataframe\">\n",
              "  <thead>\n",
              "    <tr style=\"text-align: right;\">\n",
              "      <th></th>\n",
              "      <th>id</th>\n",
              "      <th>bone_length</th>\n",
              "      <th>rotting_flesh</th>\n",
              "      <th>hair_length</th>\n",
              "      <th>has_soul</th>\n",
              "      <th>color</th>\n",
              "      <th>type</th>\n",
              "    </tr>\n",
              "  </thead>\n",
              "  <tbody>\n",
              "    <tr>\n",
              "      <th>count</th>\n",
              "      <td>371.000000</td>\n",
              "      <td>371.000000</td>\n",
              "      <td>371.000000</td>\n",
              "      <td>371.000000</td>\n",
              "      <td>371.000000</td>\n",
              "      <td>371</td>\n",
              "      <td>371</td>\n",
              "    </tr>\n",
              "    <tr>\n",
              "      <th>unique</th>\n",
              "      <td>NaN</td>\n",
              "      <td>NaN</td>\n",
              "      <td>NaN</td>\n",
              "      <td>NaN</td>\n",
              "      <td>NaN</td>\n",
              "      <td>6</td>\n",
              "      <td>3</td>\n",
              "    </tr>\n",
              "    <tr>\n",
              "      <th>top</th>\n",
              "      <td>NaN</td>\n",
              "      <td>NaN</td>\n",
              "      <td>NaN</td>\n",
              "      <td>NaN</td>\n",
              "      <td>NaN</td>\n",
              "      <td>white</td>\n",
              "      <td>Ghoul</td>\n",
              "    </tr>\n",
              "    <tr>\n",
              "      <th>freq</th>\n",
              "      <td>NaN</td>\n",
              "      <td>NaN</td>\n",
              "      <td>NaN</td>\n",
              "      <td>NaN</td>\n",
              "      <td>NaN</td>\n",
              "      <td>137</td>\n",
              "      <td>129</td>\n",
              "    </tr>\n",
              "    <tr>\n",
              "      <th>mean</th>\n",
              "      <td>443.676550</td>\n",
              "      <td>0.434160</td>\n",
              "      <td>0.506848</td>\n",
              "      <td>0.529114</td>\n",
              "      <td>0.471392</td>\n",
              "      <td>NaN</td>\n",
              "      <td>NaN</td>\n",
              "    </tr>\n",
              "    <tr>\n",
              "      <th>std</th>\n",
              "      <td>263.222489</td>\n",
              "      <td>0.132833</td>\n",
              "      <td>0.146358</td>\n",
              "      <td>0.169902</td>\n",
              "      <td>0.176129</td>\n",
              "      <td>NaN</td>\n",
              "      <td>NaN</td>\n",
              "    </tr>\n",
              "    <tr>\n",
              "      <th>min</th>\n",
              "      <td>0.000000</td>\n",
              "      <td>0.061032</td>\n",
              "      <td>0.095687</td>\n",
              "      <td>0.134600</td>\n",
              "      <td>0.009402</td>\n",
              "      <td>NaN</td>\n",
              "      <td>NaN</td>\n",
              "    </tr>\n",
              "    <tr>\n",
              "      <th>25%</th>\n",
              "      <td>205.500000</td>\n",
              "      <td>0.340006</td>\n",
              "      <td>0.414812</td>\n",
              "      <td>0.407428</td>\n",
              "      <td>0.348002</td>\n",
              "      <td>NaN</td>\n",
              "      <td>NaN</td>\n",
              "    </tr>\n",
              "    <tr>\n",
              "      <th>50%</th>\n",
              "      <td>458.000000</td>\n",
              "      <td>0.434891</td>\n",
              "      <td>0.501552</td>\n",
              "      <td>0.538642</td>\n",
              "      <td>0.466372</td>\n",
              "      <td>NaN</td>\n",
              "      <td>NaN</td>\n",
              "    </tr>\n",
              "    <tr>\n",
              "      <th>75%</th>\n",
              "      <td>678.500000</td>\n",
              "      <td>0.517223</td>\n",
              "      <td>0.603977</td>\n",
              "      <td>0.647244</td>\n",
              "      <td>0.600610</td>\n",
              "      <td>NaN</td>\n",
              "      <td>NaN</td>\n",
              "    </tr>\n",
              "    <tr>\n",
              "      <th>max</th>\n",
              "      <td>897.000000</td>\n",
              "      <td>0.817001</td>\n",
              "      <td>0.932466</td>\n",
              "      <td>1.000000</td>\n",
              "      <td>0.935721</td>\n",
              "      <td>NaN</td>\n",
              "      <td>NaN</td>\n",
              "    </tr>\n",
              "  </tbody>\n",
              "</table>\n",
              "</div>"
            ],
            "text/plain": [
              "                id  bone_length  rotting_flesh  hair_length    has_soul  \\\n",
              "count   371.000000   371.000000     371.000000   371.000000  371.000000   \n",
              "unique         NaN          NaN            NaN          NaN         NaN   \n",
              "top            NaN          NaN            NaN          NaN         NaN   \n",
              "freq           NaN          NaN            NaN          NaN         NaN   \n",
              "mean    443.676550     0.434160       0.506848     0.529114    0.471392   \n",
              "std     263.222489     0.132833       0.146358     0.169902    0.176129   \n",
              "min       0.000000     0.061032       0.095687     0.134600    0.009402   \n",
              "25%     205.500000     0.340006       0.414812     0.407428    0.348002   \n",
              "50%     458.000000     0.434891       0.501552     0.538642    0.466372   \n",
              "75%     678.500000     0.517223       0.603977     0.647244    0.600610   \n",
              "max     897.000000     0.817001       0.932466     1.000000    0.935721   \n",
              "\n",
              "        color   type  \n",
              "count     371    371  \n",
              "unique      6      3  \n",
              "top     white  Ghoul  \n",
              "freq      137    129  \n",
              "mean      NaN    NaN  \n",
              "std       NaN    NaN  \n",
              "min       NaN    NaN  \n",
              "25%       NaN    NaN  \n",
              "50%       NaN    NaN  \n",
              "75%       NaN    NaN  \n",
              "max       NaN    NaN  "
            ]
          },
          "metadata": {
            "tags": []
          },
          "execution_count": 60
        }
      ]
    },
    {
      "cell_type": "code",
      "metadata": {
        "colab": {
          "base_uri": "https://localhost:8080/"
        },
        "id": "NXEI-vuLVCwp",
        "outputId": "e4bb4497-5b73-4c1d-d788-d0eedcc24aec"
      },
      "source": [
        "print(\"Types:\", df_hal_train.type.unique())\n",
        "print(\"Color:\", df_hal_train.color.unique())"
      ],
      "execution_count": 61,
      "outputs": [
        {
          "output_type": "stream",
          "text": [
            "Types: ['Ghoul' 'Goblin' 'Ghost']\n",
            "Color: ['clear' 'green' 'black' 'white' 'blue' 'blood']\n"
          ],
          "name": "stdout"
        }
      ]
    },
    {
      "cell_type": "markdown",
      "metadata": {
        "id": "dMW1_4paUNDR"
      },
      "source": [
        "OBSERVATIONS:\n",
        "\n",
        "  * There are 371 character observations.\n",
        "  * There are 7 features (1 int, 4 float and 2 object type features)\n",
        "    1. ID : Appears to be the identification number of the monster in question\n",
        "    2. Bone Length : Average length of the bones in the creature.\n",
        "    3. Rotting Flesh : Percentage of flesh on the creature that is rotting\n",
        "    4. Hair Length : Average length of the hair on the creature.\n",
        "    5. Has Soul : The percentage of a soul present in the creature\n",
        "    6. Color : The color of the creature\n",
        "    7. Type : The category of the creature (i.e. ghoul, goblin or ghost)\n",
        "  * There are no missing values\n",
        "  * There are 3 unique types of halloweens \"GHOUL\", \"GOBLIN\" and \"GHOST\"112\n",
        "  * There are 6 unique colors \"CLEAR\", \"GREEN\", \"BLACK\", \"WHITE\", \"BLUE\", \"BLOOD\"\n",
        "\n",
        "ACTIONS:\n",
        "\n",
        "  * ID feature should be removed, since it doesnt add any value to the classification.\n",
        "  * COLOR and TYPE has to be encoded and converted to numerical values.\n"
      ]
    },
    {
      "cell_type": "markdown",
      "metadata": {
        "id": "u0nroTu-Xubv"
      },
      "source": [
        "<a id='section3'></a> \n",
        "# 3. EXPLORATORY DATA ANALYSIS"
      ]
    },
    {
      "cell_type": "markdown",
      "metadata": {
        "id": "bPM3_pCmYNJE"
      },
      "source": [
        "1. How many are identified as GHOULS, GHOSTS and GOBLINS?\n",
        "\n",
        "* We see that the Ghouls are more than the other 2 types."
      ]
    },
    {
      "cell_type": "code",
      "metadata": {
        "colab": {
          "base_uri": "https://localhost:8080/",
          "height": 352
        },
        "id": "XslNdZeQXwQ9",
        "outputId": "28bde874-9cee-4acb-bf45-174b82d9d769"
      },
      "source": [
        "sns.countplot(df_hal_train.type)\n",
        "df_hal_train.type.value_counts()"
      ],
      "execution_count": 86,
      "outputs": [
        {
          "output_type": "execute_result",
          "data": {
            "text/plain": [
              "<matplotlib.axes._subplots.AxesSubplot at 0x7fc13f72c8d0>"
            ]
          },
          "metadata": {
            "tags": []
          },
          "execution_count": 86
        },
        {
          "output_type": "execute_result",
          "data": {
            "text/plain": [
              "Ghoul     129\n",
              "Goblin    125\n",
              "Ghost     117\n",
              "Name: type, dtype: int64"
            ]
          },
          "metadata": {
            "tags": []
          },
          "execution_count": 86
        },
        {
          "output_type": "display_data",
          "data": {
            "image/png": "[encoded data removed]",
            "text/plain": [
              "<Figure size 432x288 with 1 Axes>"
            ]
          },
          "metadata": {
            "tags": []
          }
        }
      ]
    },
    {
      "cell_type": "markdown",
      "metadata": {
        "id": "rqajC_rXZXGI"
      },
      "source": [
        "2. How many color variations are there in the dataset?\n",
        "\n",
        "* We see that white and clear/transparent colored halloweens are more as per the dataset."
      ]
    },
    {
      "cell_type": "code",
      "metadata": {
        "colab": {
          "base_uri": "https://localhost:8080/",
          "height": 285
        },
        "id": "sR_qPamJZirO",
        "outputId": "d789bb68-83a8-4f12-ea21-97da1318e702"
      },
      "source": [
        "sns.countplot(df_hal_train.color);"
      ],
      "execution_count": 63,
      "outputs": [
        {
          "output_type": "display_data",
          "data": {
            "image/png": "[encoded data removed]",
            "text/plain": [
              "<Figure size 432x288 with 1 Axes>"
            ]
          },
          "metadata": {
            "tags": [],
            "needs_background": "light"
          }
        }
      ]
    },
    {
      "cell_type": "markdown",
      "metadata": {
        "id": "55ifadh3avQm"
      },
      "source": [
        "3. What is the predominant colour of the Halloweens?\n",
        "\n",
        "We see that Ghouls and Ghosts are mostly white in colour and Goblins are mostly transparent or clear."
      ]
    },
    {
      "cell_type": "code",
      "metadata": {
        "colab": {
          "base_uri": "https://localhost:8080/",
          "height": 285
        },
        "id": "IX--TQJga19R",
        "outputId": "9bf79669-3d36-4ad1-f65f-d8852fa88afc"
      },
      "source": [
        "fig = plt.figure(figsize=(12,4))\n",
        "sns.countplot(df_hal_train.type, hue = df_hal_train.color);"
      ],
      "execution_count": 64,
      "outputs": [
        {
          "output_type": "display_data",
          "data": {
            "image/png": "[encoded data removed]",
            "text/plain": [
              "<Figure size 864x288 with 1 Axes>"
            ]
          },
          "metadata": {
            "tags": [],
            "needs_background": "light"
          }
        }
      ]
    },
    {
      "cell_type": "markdown",
      "metadata": {
        "id": "aE-BviTN4Pxc"
      },
      "source": [
        "4. What is the distribution of values of all features?\n",
        "\n",
        "We see that all the features are almost normally distributed.\n"
      ]
    },
    {
      "cell_type": "code",
      "metadata": {
        "colab": {
          "base_uri": "https://localhost:8080/",
          "height": 339
        },
        "id": "i5NNethK4Zey",
        "outputId": "7a1b5c1f-d9b0-46a6-d59c-8295ebb3a480"
      },
      "source": [
        "fig, ax = plt.subplots(1, 4,figsize=(15,5))\n",
        "plt.subplot(1,4,1)\n",
        "sns.set(color_codes=True)                                                \n",
        "sns.set_palette(sns.color_palette(\"muted\"));\n",
        "sns.distplot(df_hal_train[\"bone_length\"])\n",
        "plt.subplot(1,4,2)\n",
        "sns.set(color_codes=True)                                                \n",
        "sns.set_palette(sns.color_palette(\"muted\"))\n",
        "sns.distplot(df_hal_train['rotting_flesh']);\n",
        "plt.subplot(1,4,3)\n",
        "sns.set(color_codes=True)                                                \n",
        "sns.set_palette(sns.color_palette(\"muted\"))\n",
        "sns.distplot(df_hal_train['hair_length']);\n",
        "plt.subplot(1,4,4)\n",
        "sns.set(color_codes=True)                                               \n",
        "sns.set_palette(sns.color_palette(\"muted\"))\n",
        "sns.distplot(df_hal_train['has_soul']);"
      ],
      "execution_count": 65,
      "outputs": [
        {
          "output_type": "display_data",
          "data": {
            "image/png": "[encoded data removed]",
            "text/plain": [
              "<Figure size 1080x360 with 4 Axes>"
            ]
          },
          "metadata": {
            "tags": [],
            "needs_background": "light"
          }
        }
      ]
    },
    {
      "cell_type": "markdown",
      "metadata": {
        "id": "QY1an-dv9B5I"
      },
      "source": [
        "5. What is the correlation of all the features?\n",
        "\n",
        "   We get the following observations from heat map:\n",
        "\n",
        "    * Rotting flesh feature is neagatively correlated with all the other features.\n",
        "    * Has soul is more correlated with the hair length.\n",
        "\n",
        "  Since none of the features are very highly correlated, there is no need to drop any columns.\n",
        "\n"
      ]
    },
    {
      "cell_type": "code",
      "metadata": {
        "colab": {
          "base_uri": "https://localhost:8080/",
          "height": 331
        },
        "id": "IZpdDVDq9c91",
        "outputId": "5fdf6fe2-3bf9-464b-d34a-1c3e07045353"
      },
      "source": [
        "sns.heatmap(df_hal_train.drop('id', axis = 1).corr(), annot = True);"
      ],
      "execution_count": 66,
      "outputs": [
        {
          "output_type": "display_data",
          "data": {
            "image/png": "[encoded data removed]",
            "text/plain": [
              "<Figure size 432x288 with 2 Axes>"
            ]
          },
          "metadata": {
            "tags": []
          }
        }
      ]
    },
    {
      "cell_type": "markdown",
      "metadata": {
        "id": "8lllvuV6-keF"
      },
      "source": [
        "6. What is the variation of each characteristic feature with that of halloween type?"
      ]
    },
    {
      "cell_type": "markdown",
      "metadata": {
        "id": "3vjIRYw1-siu"
      },
      "source": [
        "1. BoneLength and Halloween Type"
      ]
    },
    {
      "cell_type": "code",
      "metadata": {
        "colab": {
          "base_uri": "https://localhost:8080/",
          "height": 464
        },
        "id": "7ul2Qh5i3gvg",
        "outputId": "b1fa1ab4-a92f-4f8c-c09c-befbe0c8d9b6"
      },
      "source": [
        "from plotnine import ggplot, aes, geom_boxplot\n",
        "ggplot(df_hal_train) + aes(x=\"type\", y=\"bone_length\", fill = \"type\") + geom_boxplot()"
      ],
      "execution_count": 67,
      "outputs": [
        {
          "output_type": "display_data",
          "data": {
            "image/png": "[encoded data removed]",
            "text/plain": [
              "<Figure size 640x480 with 1 Axes>"
            ]
          },
          "metadata": {
            "tags": []
          }
        },
        {
          "output_type": "execute_result",
          "data": {
            "text/plain": [
              "<ggplot: (8779248234941)>"
            ]
          },
          "metadata": {
            "tags": []
          },
          "execution_count": 67
        }
      ]
    },
    {
      "cell_type": "markdown",
      "metadata": {
        "id": "VXFh5KPH64Kn"
      },
      "source": [
        "We see that:\n",
        "  1. All Ghouls have higher bone length compared to ghosts.\n",
        "  2. Approx 50 percentile of Goblins have less bone length compared to Ghouls.\n",
        "  3. And 50 percentile of Goblins have bone length similar to that of Ghouls, this area of prediction will be tricky."
      ]
    },
    {
      "cell_type": "markdown",
      "metadata": {
        "id": "ho9M5nys-3lJ"
      },
      "source": [
        "2. Hairlength and Halloween Type"
      ]
    },
    {
      "cell_type": "code",
      "metadata": {
        "colab": {
          "base_uri": "https://localhost:8080/",
          "height": 464
        },
        "id": "BpfkoE9M3gyl",
        "outputId": "2cd6816d-3321-4f0f-95a9-54f37ea065b2"
      },
      "source": [
        "ggplot(df_hal_train) + aes(x=\"type\", y=\"hair_length\", fill = \"type\") + geom_boxplot()"
      ],
      "execution_count": 68,
      "outputs": [
        {
          "output_type": "display_data",
          "data": {
            "image/png": "[encoded data removed]",
            "text/plain": [
              "<Figure size 640x480 with 1 Axes>"
            ]
          },
          "metadata": {
            "tags": []
          }
        },
        {
          "output_type": "execute_result",
          "data": {
            "text/plain": [
              "<ggplot: (8779248228241)>"
            ]
          },
          "metadata": {
            "tags": []
          },
          "execution_count": 68
        }
      ]
    },
    {
      "cell_type": "markdown",
      "metadata": {
        "id": "qLdyGhEl7zqw"
      },
      "source": [
        "We see that:\n",
        "  1. All the Ghouls have more hair length when compared to Ghosts.\n",
        "  2. Approximately 50 percentile of Goblins have less hair compared to Ghouls.\n",
        "  3. And 50percentile of Goblins have hairlength similar to Ghouls. So differentiating this 50% between them is going to be tricky.\n"
      ]
    },
    {
      "cell_type": "markdown",
      "metadata": {
        "id": "r6ItkzyG--Y2"
      },
      "source": [
        "3. Rotting Flesh and Halloween Type"
      ]
    },
    {
      "cell_type": "code",
      "metadata": {
        "colab": {
          "base_uri": "https://localhost:8080/",
          "height": 464
        },
        "id": "z01Bgi9V9Obe",
        "outputId": "a9cc9d72-b8f4-44b2-ee2c-f0ee2ec31cca"
      },
      "source": [
        "ggplot(df_hal_train) + aes(x=\"type\", y=\"rotting_flesh\", fill = \"type\") + geom_boxplot()"
      ],
      "execution_count": 69,
      "outputs": [
        {
          "output_type": "display_data",
          "data": {
            "image/png": "[encoded data removed]",
            "text/plain": [
              "<Figure size 640x480 with 1 Axes>"
            ]
          },
          "metadata": {
            "tags": []
          }
        },
        {
          "output_type": "execute_result",
          "data": {
            "text/plain": [
              "<ggplot: (8779248292365)>"
            ]
          },
          "metadata": {
            "tags": []
          },
          "execution_count": 69
        }
      ]
    },
    {
      "cell_type": "markdown",
      "metadata": {
        "id": "v3wJOk8t9bUy"
      },
      "source": [
        "We see that:\n",
        "  1. Ghosts have more rotting flesh when compared to Goblins\n",
        "  2. Approx 50% ofGhouls have less rotting flesh than all Ghosts.\n",
        "  3. Goblins have less rotting flesh when compared all."
      ]
    },
    {
      "cell_type": "markdown",
      "metadata": {
        "id": "e-VeWB9lAM9o"
      },
      "source": [
        "<a id='section4'></a> \n",
        "# 4 Feature Engineering"
      ]
    },
    {
      "cell_type": "markdown",
      "metadata": {
        "id": "09NAtnqBAXrU"
      },
      "source": [
        "1. Encoding the colour feature in both train, test and dropping the \"Id\" feature."
      ]
    },
    {
      "cell_type": "code",
      "metadata": {
        "id": "NjOOmi_QAm6Q"
      },
      "source": [
        "df_hal_test = pd.concat([df_hal_test, pd.get_dummies(df_hal_test.color, prefix=\"color\", drop_first = True)], axis=1)\n",
        "df_hal_train = pd.concat([df_hal_train, pd.get_dummies(df_hal_train.color, prefix=\"color\", drop_first = True)], axis=1)\n",
        "df_hal_train.drop(['color','id'], axis=1, inplace=True)\n",
        "df_hal_test.drop(['color','id'], axis=1, inplace=True)"
      ],
      "execution_count": 70,
      "outputs": []
    },
    {
      "cell_type": "code",
      "metadata": {
        "colab": {
          "base_uri": "https://localhost:8080/"
        },
        "id": "wT06ln9hBzEw",
        "outputId": "07b4362d-6a88-4703-a8cb-6cd9ce4b4ca3"
      },
      "source": [
        "print(\"Train:\", df_hal_train.shape)\n",
        "print(\"Test:\", df_hal_test.shape)"
      ],
      "execution_count": 71,
      "outputs": [
        {
          "output_type": "stream",
          "text": [
            "Train: (371, 10)\n",
            "Test: (529, 9)\n"
          ],
          "name": "stdout"
        }
      ]
    },
    {
      "cell_type": "markdown",
      "metadata": {
        "id": "E8R_PSWfQ8IW"
      },
      "source": [
        "2. Encoding the type feature in train dataset"
      ]
    },
    {
      "cell_type": "code",
      "metadata": {
        "colab": {
          "base_uri": "https://localhost:8080/",
          "height": 196
        },
        "id": "rBeu1KJWDFNL",
        "outputId": "bba4f398-845a-4c94-d932-18e5e58680b9"
      },
      "source": [
        "df_hal_train['type'] = df_hal_train['type'].replace(['Ghoul', 'Goblin', 'Ghost'], [1, 2, 3])\n",
        "\n",
        "df_hal_train.sample(5)"
      ],
      "execution_count": 72,
      "outputs": [
        {
          "output_type": "execute_result",
          "data": {
            "text/html": [
              "<div>\n",
              "<style scoped>\n",
              "    .dataframe tbody tr th:only-of-type {\n",
              "        vertical-align: middle;\n",
              "    }\n",
              "\n",
              "    .dataframe tbody tr th {\n",
              "        vertical-align: top;\n",
              "    }\n",
              "\n",
              "    .dataframe thead th {\n",
              "        text-align: right;\n",
              "    }\n",
              "</style>\n",
              "<table border=\"1\" class=\"dataframe\">\n",
              "  <thead>\n",
              "    <tr style=\"text-align: right;\">\n",
              "      <th></th>\n",
              "      <th>bone_length</th>\n",
              "      <th>rotting_flesh</th>\n",
              "      <th>hair_length</th>\n",
              "      <th>has_soul</th>\n",
              "      <th>type</th>\n",
              "      <th>color_blood</th>\n",
              "      <th>color_blue</th>\n",
              "      <th>color_clear</th>\n",
              "      <th>color_green</th>\n",
              "      <th>color_white</th>\n",
              "    </tr>\n",
              "  </thead>\n",
              "  <tbody>\n",
              "    <tr>\n",
              "      <th>32</th>\n",
              "      <td>0.554510</td>\n",
              "      <td>0.630669</td>\n",
              "      <td>0.592484</td>\n",
              "      <td>0.615364</td>\n",
              "      <td>2</td>\n",
              "      <td>0</td>\n",
              "      <td>0</td>\n",
              "      <td>0</td>\n",
              "      <td>0</td>\n",
              "      <td>1</td>\n",
              "    </tr>\n",
              "    <tr>\n",
              "      <th>349</th>\n",
              "      <td>0.502599</td>\n",
              "      <td>0.604174</td>\n",
              "      <td>0.617955</td>\n",
              "      <td>0.593545</td>\n",
              "      <td>1</td>\n",
              "      <td>0</td>\n",
              "      <td>0</td>\n",
              "      <td>1</td>\n",
              "      <td>0</td>\n",
              "      <td>0</td>\n",
              "    </tr>\n",
              "    <tr>\n",
              "      <th>114</th>\n",
              "      <td>0.489132</td>\n",
              "      <td>0.481304</td>\n",
              "      <td>0.482691</td>\n",
              "      <td>0.460081</td>\n",
              "      <td>2</td>\n",
              "      <td>0</td>\n",
              "      <td>0</td>\n",
              "      <td>0</td>\n",
              "      <td>0</td>\n",
              "      <td>1</td>\n",
              "    </tr>\n",
              "    <tr>\n",
              "      <th>195</th>\n",
              "      <td>0.367419</td>\n",
              "      <td>0.575229</td>\n",
              "      <td>0.474942</td>\n",
              "      <td>0.448402</td>\n",
              "      <td>1</td>\n",
              "      <td>0</td>\n",
              "      <td>0</td>\n",
              "      <td>0</td>\n",
              "      <td>0</td>\n",
              "      <td>1</td>\n",
              "    </tr>\n",
              "    <tr>\n",
              "      <th>237</th>\n",
              "      <td>0.523789</td>\n",
              "      <td>0.657317</td>\n",
              "      <td>0.818979</td>\n",
              "      <td>0.624504</td>\n",
              "      <td>1</td>\n",
              "      <td>0</td>\n",
              "      <td>0</td>\n",
              "      <td>0</td>\n",
              "      <td>0</td>\n",
              "      <td>1</td>\n",
              "    </tr>\n",
              "  </tbody>\n",
              "</table>\n",
              "</div>"
            ],
            "text/plain": [
              "     bone_length  rotting_flesh  hair_length  has_soul  type  color_blood  \\\n",
              "32      0.554510       0.630669     0.592484  0.615364     2            0   \n",
              "349     0.502599       0.604174     0.617955  0.593545     1            0   \n",
              "114     0.489132       0.481304     0.482691  0.460081     2            0   \n",
              "195     0.367419       0.575229     0.474942  0.448402     1            0   \n",
              "237     0.523789       0.657317     0.818979  0.624504     1            0   \n",
              "\n",
              "     color_blue  color_clear  color_green  color_white  \n",
              "32            0            0            0            1  \n",
              "349           0            1            0            0  \n",
              "114           0            0            0            1  \n",
              "195           0            0            0            1  \n",
              "237           0            0            0            1  "
            ]
          },
          "metadata": {
            "tags": []
          },
          "execution_count": 72
        }
      ]
    },
    {
      "cell_type": "markdown",
      "metadata": {
        "id": "aEoJ12EGTrOv"
      },
      "source": [
        "3. Define the X (Independent) and Y (Target variable).\n"
      ]
    },
    {
      "cell_type": "code",
      "metadata": {
        "id": "KYTArYhXTqlZ"
      },
      "source": [
        "y = df_hal_train['type']\n",
        "X = df_hal_train.drop(['type'], axis = 1)"
      ],
      "execution_count": 73,
      "outputs": []
    },
    {
      "cell_type": "markdown",
      "metadata": {
        "id": "OrLIJ3P3Upy-"
      },
      "source": [
        "4. Split the data into train and test for learning and testing the model."
      ]
    },
    {
      "cell_type": "code",
      "metadata": {
        "id": "cPs8nQ6AUUXm"
      },
      "source": [
        "from sklearn.model_selection import train_test_split\n",
        "\n",
        "X_train, X_test, y_train, y_test = train_test_split( X, y, test_size=0.2, random_state = 42, stratify = y)"
      ],
      "execution_count": 74,
      "outputs": []
    },
    {
      "cell_type": "code",
      "metadata": {
        "colab": {
          "base_uri": "https://localhost:8080/"
        },
        "id": "AxTdFKKjUUak",
        "outputId": "d638686f-c944-4089-a07f-054a5b2ea27e"
      },
      "source": [
        "X_train.shape\n",
        "X_test.shape"
      ],
      "execution_count": 75,
      "outputs": [
        {
          "output_type": "execute_result",
          "data": {
            "text/plain": [
              "(296, 9)"
            ]
          },
          "metadata": {
            "tags": []
          },
          "execution_count": 75
        },
        {
          "output_type": "execute_result",
          "data": {
            "text/plain": [
              "(75, 9)"
            ]
          },
          "metadata": {
            "tags": []
          },
          "execution_count": 75
        }
      ]
    },
    {
      "cell_type": "markdown",
      "metadata": {
        "id": "qwIyP52ektda"
      },
      "source": [
        "<a id='section6'></a>\n",
        "# 5. MODEL PREDICTIONS\n",
        "\n",
        "The Target variable \"type\" is a multiclass variable, hence its a classification dataset where in we need to find if the halloween is a GHOUL or GHOST or GOBLIN. The algorithms which I will be applying for this dataset are listed below:\n",
        "  1. Logistic Regression (Baseline, GridSearchCV)\n",
        "  2. Decision Tree Classifier (Baseline, GridSearchCV)\n",
        "  3. Random Forest Classifier (Baseline, RandomizedSearchCV)\n",
        "  4. K - Nearest Neighbour (Baseline, Best K)\n",
        "  5. Gaussian Naive Bayes\n",
        "  6. Support Vector Classifier (Baseline, Grid SearchCV)\n",
        "  7. Linear Discriminant Analysis\n",
        "  8. Bagging Classifier\n",
        "  9. Gradient Boosting Classifier (Baseline, GridSearchCV)\n",
        "  10. AdaBoost Classifer\n",
        "  11. Voting Classifer\n",
        "\n",
        "The different metrics which we have for validating the classifier models are:\n",
        "  1. Confusion Matrix\n",
        "  2. Accuracy\n",
        "  3. Recall\n",
        "  4. Precision\n",
        "  5. F1 Score\n",
        "\n",
        "In this dataset we are trying to classify a message as GHOUL - 1, GOBLIN - 2, GHOST - 3\n",
        "\n",
        "1. Accuracy : (TP + TN)/ (TP + TN + FP + FN)  \n",
        "   How many halloweens where correctly classified??\n",
        "2. Recall/Sensitivity: TP/ (TP + FN)  \n",
        "   How many Ghouls, Ghosts and Goblins where correctly predicted out of the total Ghouls, Ghosts and Goblins respectively?\n",
        "3. Precision: TP/(TP + FP)  \n",
        "   How many Ghouls, Ghosts and Goblins where individually and correctly predicted out of total predictions?\n",
        "4. F1 Score: 2.Precision * Recall/ (Precision + Recall)\n",
        "   Weighted average of True positives and True negatives.\n",
        "\n",
        "So, in the modelling, we need to make sure that the accuracy and f1 score are high."
      ]
    },
    {
      "cell_type": "markdown",
      "metadata": {
        "id": "3_02KcQllgne"
      },
      "source": [
        "<a id=section501></a>\n",
        "## 5.1 Import required libraries for predictions"
      ]
    },
    {
      "cell_type": "code",
      "metadata": {
        "id": "ZBhs5wz7KbPh"
      },
      "source": [
        "from sklearn.metrics import accuracy_score, log_loss\n",
        "from sklearn.neighbors import KNeighborsClassifier\n",
        "from sklearn.svm import SVC\n",
        "from sklearn.tree import DecisionTreeClassifier\n",
        "from sklearn.ensemble import RandomForestClassifier, AdaBoostClassifier, GradientBoostingClassifier\n",
        "from sklearn.naive_bayes import GaussianNB\n",
        "from sklearn.discriminant_analysis import LinearDiscriminantAnalysis, QuadraticDiscriminantAnalysis\n",
        "from sklearn.linear_model import LogisticRegression, SGDClassifier\n",
        "from sklearn.metrics import confusion_matrix, accuracy_score, precision_score, recall_score, f1_score\n",
        "from sklearn.model_selection import RandomizedSearchCV\n",
        "from scipy.stats import randint as sp_randint\n",
        "from sklearn.model_selection import GridSearchCV\n",
        "from sklearn.ensemble import BaggingClassifier\n",
        "from sklearn.ensemble import VotingClassifier"
      ],
      "execution_count": 76,
      "outputs": []
    },
    {
      "cell_type": "markdown",
      "metadata": {
        "id": "Ir3lChO2KWiT"
      },
      "source": [
        "<a id=section502></a>\n",
        "## 5.2 Baseline Model Selection"
      ]
    },
    {
      "cell_type": "code",
      "metadata": {
        "id": "yVT5td9ITGdT"
      },
      "source": [
        "def run_model(model, X_train, y_train, X_test, y_test, model_metrics):\n",
        "    model.fit(X_train, y_train)\n",
        "    y_pred_test = model.predict(X_test)\n",
        "    y_pred_train = model.predict(X_train)\n",
        "    scores = get_metrics(y_train,y_pred_train,y_test,y_pred_test,model_metrics,model)\n",
        "    return(scores)"
      ],
      "execution_count": 77,
      "outputs": []
    },
    {
      "cell_type": "code",
      "metadata": {
        "id": "ho0eD6tpTQwp"
      },
      "source": [
        "def get_metrics(y_train,y_pred_train,y_test,y_pred_test,model_metrics,model):\n",
        "    accuracy_test = accuracy_score(y_test, y_pred_test)\n",
        "    accuracy_train = accuracy_score(y_train, y_pred_train)\n",
        "    f1score_test = f1_score(y_test,y_pred_test, average= 'weighted')\n",
        "    f1score_train = f1_score(y_train,y_pred_train, average = 'weighted')\n",
        "    new_row = {'model': type(model).__name__, 'accuracy_test': accuracy_test, 'accuracy_train': accuracy_train, 'f1score_test' : f1score_test, 'f1score_train':f1score_train}\n",
        "    model_metrics = model_metrics.append(new_row, ignore_index=True)\n",
        "    return(model_metrics)"
      ],
      "execution_count": 78,
      "outputs": []
    },
    {
      "cell_type": "code",
      "metadata": {
        "id": "FoOX7Kf7TjSz"
      },
      "source": [
        "def run_grid_model(model, grid, X_train, y_train, X_test, y_test,model_metrics):\n",
        "    rf_random = RandomizedSearchCV(estimator = model, param_distributions = grid, n_iter = 100, cv = 5, n_jobs = -1, verbose= 3)\n",
        "    # Fit the random search model\n",
        "    rf_random.fit(X_train, y_train)\n",
        "    print(f\"Best params of the randomized searchcv model is : {rf_random.best_params_} \\n-----------------------------------\")\n",
        "    y_pred_test = rf_random.predict(X_test)\n",
        "    y_pred_train = rf_random.predict(X_train)\n",
        "    scores = get_metrics(y_train,y_pred_train,y_test,y_pred_test,model_metrics,model)\n",
        "    return(scores)"
      ],
      "execution_count": 79,
      "outputs": []
    },
    {
      "cell_type": "code",
      "metadata": {
        "colab": {
          "base_uri": "https://localhost:8080/",
          "height": 422
        },
        "id": "yZK-B2p1T2Ui",
        "outputId": "6e2330c7-caaa-4b8b-ed40-80d60bc1868e"
      },
      "source": [
        "models = [\n",
        "    LogisticRegression(random_state=42),\n",
        "    DecisionTreeClassifier(random_state=42),\n",
        "    RandomForestClassifier(random_state=42),\n",
        "    KNeighborsClassifier(),\n",
        "    GaussianNB(),\n",
        "    SVC(probability=True, random_state=42),\n",
        "    GradientBoostingClassifier(random_state=42),\n",
        "    AdaBoostClassifier(random_state=42),\n",
        "    LinearDiscriminantAnalysis(),\n",
        "    QuadraticDiscriminantAnalysis(),\n",
        "    SGDClassifier(random_state=50),\n",
        "    BaggingClassifier(random_state = 42)\n",
        "] \n",
        "print (\"This is base model experiementation to decide benchmark models\")\n",
        "data = {'model': [], 'accuracy_test': [], 'accuracy_train':[], 'f1score_test': [], 'f1score_train': []}\n",
        "model_metrics = pd.DataFrame(data)\n",
        "i=0\n",
        "for eachModel in models:\n",
        "  model_metrics = run_model(eachModel,X_train, y_train, X_test, y_test, model_metrics)\n",
        "\n",
        "model_metrics"
      ],
      "execution_count": 80,
      "outputs": [
        {
          "output_type": "stream",
          "text": [
            "This is base model experiementation to decide benchmark models\n"
          ],
          "name": "stdout"
        },
        {
          "output_type": "execute_result",
          "data": {
            "text/html": [
              "<div>\n",
              "<style scoped>\n",
              "    .dataframe tbody tr th:only-of-type {\n",
              "        vertical-align: middle;\n",
              "    }\n",
              "\n",
              "    .dataframe tbody tr th {\n",
              "        vertical-align: top;\n",
              "    }\n",
              "\n",
              "    .dataframe thead th {\n",
              "        text-align: right;\n",
              "    }\n",
              "</style>\n",
              "<table border=\"1\" class=\"dataframe\">\n",
              "  <thead>\n",
              "    <tr style=\"text-align: right;\">\n",
              "      <th></th>\n",
              "      <th>model</th>\n",
              "      <th>accuracy_test</th>\n",
              "      <th>accuracy_train</th>\n",
              "      <th>f1score_test</th>\n",
              "      <th>f1score_train</th>\n",
              "    </tr>\n",
              "  </thead>\n",
              "  <tbody>\n",
              "    <tr>\n",
              "      <th>0</th>\n",
              "      <td>LogisticRegression</td>\n",
              "      <td>0.746667</td>\n",
              "      <td>0.763514</td>\n",
              "      <td>0.735185</td>\n",
              "      <td>0.758397</td>\n",
              "    </tr>\n",
              "    <tr>\n",
              "      <th>1</th>\n",
              "      <td>DecisionTreeClassifier</td>\n",
              "      <td>0.720000</td>\n",
              "      <td>1.000000</td>\n",
              "      <td>0.714698</td>\n",
              "      <td>1.000000</td>\n",
              "    </tr>\n",
              "    <tr>\n",
              "      <th>2</th>\n",
              "      <td>RandomForestClassifier</td>\n",
              "      <td>0.680000</td>\n",
              "      <td>1.000000</td>\n",
              "      <td>0.680000</td>\n",
              "      <td>1.000000</td>\n",
              "    </tr>\n",
              "    <tr>\n",
              "      <th>3</th>\n",
              "      <td>KNeighborsClassifier</td>\n",
              "      <td>0.760000</td>\n",
              "      <td>0.777027</td>\n",
              "      <td>0.756543</td>\n",
              "      <td>0.780100</td>\n",
              "    </tr>\n",
              "    <tr>\n",
              "      <th>4</th>\n",
              "      <td>GaussianNB</td>\n",
              "      <td>0.706667</td>\n",
              "      <td>0.756757</td>\n",
              "      <td>0.709943</td>\n",
              "      <td>0.761007</td>\n",
              "    </tr>\n",
              "    <tr>\n",
              "      <th>5</th>\n",
              "      <td>SVC</td>\n",
              "      <td>0.746667</td>\n",
              "      <td>0.787162</td>\n",
              "      <td>0.738579</td>\n",
              "      <td>0.784676</td>\n",
              "    </tr>\n",
              "    <tr>\n",
              "      <th>6</th>\n",
              "      <td>GradientBoostingClassifier</td>\n",
              "      <td>0.680000</td>\n",
              "      <td>1.000000</td>\n",
              "      <td>0.687003</td>\n",
              "      <td>1.000000</td>\n",
              "    </tr>\n",
              "    <tr>\n",
              "      <th>7</th>\n",
              "      <td>AdaBoostClassifier</td>\n",
              "      <td>0.720000</td>\n",
              "      <td>0.743243</td>\n",
              "      <td>0.727999</td>\n",
              "      <td>0.745722</td>\n",
              "    </tr>\n",
              "    <tr>\n",
              "      <th>8</th>\n",
              "      <td>LinearDiscriminantAnalysis</td>\n",
              "      <td>0.706667</td>\n",
              "      <td>0.750000</td>\n",
              "      <td>0.698140</td>\n",
              "      <td>0.750392</td>\n",
              "    </tr>\n",
              "    <tr>\n",
              "      <th>9</th>\n",
              "      <td>QuadraticDiscriminantAnalysis</td>\n",
              "      <td>0.706667</td>\n",
              "      <td>0.783784</td>\n",
              "      <td>0.700580</td>\n",
              "      <td>0.785108</td>\n",
              "    </tr>\n",
              "    <tr>\n",
              "      <th>10</th>\n",
              "      <td>SGDClassifier</td>\n",
              "      <td>0.773333</td>\n",
              "      <td>0.726351</td>\n",
              "      <td>0.772404</td>\n",
              "      <td>0.726649</td>\n",
              "    </tr>\n",
              "    <tr>\n",
              "      <th>11</th>\n",
              "      <td>BaggingClassifier</td>\n",
              "      <td>0.706667</td>\n",
              "      <td>0.986486</td>\n",
              "      <td>0.709989</td>\n",
              "      <td>0.986430</td>\n",
              "    </tr>\n",
              "  </tbody>\n",
              "</table>\n",
              "</div>"
            ],
            "text/plain": [
              "                            model  accuracy_test  accuracy_train  \\\n",
              "0              LogisticRegression       0.746667        0.763514   \n",
              "1          DecisionTreeClassifier       0.720000        1.000000   \n",
              "2          RandomForestClassifier       0.680000        1.000000   \n",
              "3            KNeighborsClassifier       0.760000        0.777027   \n",
              "4                      GaussianNB       0.706667        0.756757   \n",
              "5                             SVC       0.746667        0.787162   \n",
              "6      GradientBoostingClassifier       0.680000        1.000000   \n",
              "7              AdaBoostClassifier       0.720000        0.743243   \n",
              "8      LinearDiscriminantAnalysis       0.706667        0.750000   \n",
              "9   QuadraticDiscriminantAnalysis       0.706667        0.783784   \n",
              "10                  SGDClassifier       0.773333        0.726351   \n",
              "11              BaggingClassifier       0.706667        0.986486   \n",
              "\n",
              "    f1score_test  f1score_train  \n",
              "0       0.735185       0.758397  \n",
              "1       0.714698       1.000000  \n",
              "2       0.680000       1.000000  \n",
              "3       0.756543       0.780100  \n",
              "4       0.709943       0.761007  \n",
              "5       0.738579       0.784676  \n",
              "6       0.687003       1.000000  \n",
              "7       0.727999       0.745722  \n",
              "8       0.698140       0.750392  \n",
              "9       0.700580       0.785108  \n",
              "10      0.772404       0.726649  \n",
              "11      0.709989       0.986430  "
            ]
          },
          "metadata": {
            "tags": []
          },
          "execution_count": 80
        }
      ]
    },
    {
      "cell_type": "markdown",
      "metadata": {
        "id": "1xqVspP6pkrI"
      },
      "source": [
        "As we see that, the following models are performing close and have higher accuracy:\n",
        "1. SGDClassifer - 77.33%\n",
        "2. KNeighboursClassifer - 76%\n",
        "3. Logistic Regression - 74.67%\n",
        "4. SVC - 74.67%"
      ]
    },
    {
      "cell_type": "code",
      "metadata": {
        "colab": {
          "base_uri": "https://localhost:8080/",
          "height": 449
        },
        "id": "CHnvPk3vcJmA",
        "outputId": "d504bc1d-532b-427e-e136-1269bfb8f6ad"
      },
      "source": [
        "df_test = model_metrics.iloc[:,[0,1,3]].copy()\n",
        "df_test.set_index('model', inplace=True)\n",
        "plt.figure(figsize=(15,4))\n",
        "sns.lineplot(data = df_test)\n",
        "plt.yticks(np.arange(0.65, 0.79, step=0.02))\n",
        "plt.xticks(rotation=90)\n",
        "plt.legend(loc = 'upper_center')\n",
        "plt.show();"
      ],
      "execution_count": 81,
      "outputs": [
        {
          "output_type": "display_data",
          "data": {
            "image/png": "[encoded data removed]",
            "text/plain": [
              "<Figure size 1080x288 with 1 Axes>"
            ]
          },
          "metadata": {
            "tags": []
          }
        }
      ]
    },
    {
      "cell_type": "markdown",
      "metadata": {
        "id": "bN7ng7e3qlS8"
      },
      "source": [
        "<a id=section503></a>\n",
        "## 5.3 Best paramaterized baseline models\n",
        "\n"
      ]
    },
    {
      "cell_type": "markdown",
      "metadata": {
        "id": "R4IiCEqnqw07"
      },
      "source": [
        "<a id=section50301></a>\n",
        "### 5.3.1 Randomized Search for Random Forest Model"
      ]
    },
    {
      "cell_type": "code",
      "metadata": {
        "id": "HlqcrtTHkwWF"
      },
      "source": [
        "# Create the random grid\n",
        "random_grid = {'n_estimators': [10,50, 100],\n",
        "               'max_features': ['auto', 'sqrt'],\n",
        "               'max_depth': [10,30,50, 70],\n",
        "               'min_samples_split': [2,5,7],\n",
        "               'min_samples_leaf': [2,5,7],\n",
        "               'bootstrap': [True,False],\n",
        "               'criterion': ['gini', 'entropy']}"
      ],
      "execution_count": 82,
      "outputs": []
    },
    {
      "cell_type": "code",
      "metadata": {
        "colab": {
          "base_uri": "https://localhost:8080/",
          "height": 572
        },
        "id": "NTn04fbjk0ay",
        "outputId": "adb64605-998f-4329-9c74-30a270c04745"
      },
      "source": [
        "model_metrics = run_grid_model(RandomForestClassifier(random_state = 42),random_grid, X_train, y_train, X_test, y_test, model_metrics)\n",
        "model_metrics"
      ],
      "execution_count": 29,
      "outputs": [
        {
          "output_type": "stream",
          "text": [
            "Fitting 5 folds for each of 100 candidates, totalling 500 fits\n"
          ],
          "name": "stdout"
        },
        {
          "output_type": "stream",
          "text": [
            "[Parallel(n_jobs=-1)]: Using backend LokyBackend with 2 concurrent workers.\n",
            "[Parallel(n_jobs=-1)]: Done  28 tasks      | elapsed:    3.5s\n",
            "[Parallel(n_jobs=-1)]: Done 386 tasks      | elapsed:   29.7s\n"
          ],
          "name": "stderr"
        },
        {
          "output_type": "stream",
          "text": [
            "Best params of the randomized searchcv model is : {'n_estimators': 50, 'min_samples_split': 5, 'min_samples_leaf': 5, 'max_features': 'sqrt', 'max_depth': 30, 'criterion': 'entropy', 'bootstrap': True} \n",
            "-----------------------------------\n"
          ],
          "name": "stdout"
        },
        {
          "output_type": "stream",
          "text": [
            "[Parallel(n_jobs=-1)]: Done 500 out of 500 | elapsed:   38.3s finished\n"
          ],
          "name": "stderr"
        },
        {
          "output_type": "execute_result",
          "data": {
            "text/html": [
              "<div>\n",
              "<style scoped>\n",
              "    .dataframe tbody tr th:only-of-type {\n",
              "        vertical-align: middle;\n",
              "    }\n",
              "\n",
              "    .dataframe tbody tr th {\n",
              "        vertical-align: top;\n",
              "    }\n",
              "\n",
              "    .dataframe thead th {\n",
              "        text-align: right;\n",
              "    }\n",
              "</style>\n",
              "<table border=\"1\" class=\"dataframe\">\n",
              "  <thead>\n",
              "    <tr style=\"text-align: right;\">\n",
              "      <th></th>\n",
              "      <th>model</th>\n",
              "      <th>accuracy_test</th>\n",
              "      <th>accuracy_train</th>\n",
              "      <th>f1score_test</th>\n",
              "      <th>f1score_train</th>\n",
              "    </tr>\n",
              "  </thead>\n",
              "  <tbody>\n",
              "    <tr>\n",
              "      <th>0</th>\n",
              "      <td>LogisticRegression</td>\n",
              "      <td>0.746667</td>\n",
              "      <td>0.763514</td>\n",
              "      <td>0.735185</td>\n",
              "      <td>0.758397</td>\n",
              "    </tr>\n",
              "    <tr>\n",
              "      <th>1</th>\n",
              "      <td>DecisionTreeClassifier</td>\n",
              "      <td>0.720000</td>\n",
              "      <td>1.000000</td>\n",
              "      <td>0.714698</td>\n",
              "      <td>1.000000</td>\n",
              "    </tr>\n",
              "    <tr>\n",
              "      <th>2</th>\n",
              "      <td>RandomForestClassifier</td>\n",
              "      <td>0.680000</td>\n",
              "      <td>1.000000</td>\n",
              "      <td>0.680000</td>\n",
              "      <td>1.000000</td>\n",
              "    </tr>\n",
              "    <tr>\n",
              "      <th>3</th>\n",
              "      <td>KNeighborsClassifier</td>\n",
              "      <td>0.760000</td>\n",
              "      <td>0.777027</td>\n",
              "      <td>0.756543</td>\n",
              "      <td>0.780100</td>\n",
              "    </tr>\n",
              "    <tr>\n",
              "      <th>4</th>\n",
              "      <td>GaussianNB</td>\n",
              "      <td>0.706667</td>\n",
              "      <td>0.756757</td>\n",
              "      <td>0.709943</td>\n",
              "      <td>0.761007</td>\n",
              "    </tr>\n",
              "    <tr>\n",
              "      <th>5</th>\n",
              "      <td>SVC</td>\n",
              "      <td>0.746667</td>\n",
              "      <td>0.787162</td>\n",
              "      <td>0.738579</td>\n",
              "      <td>0.784676</td>\n",
              "    </tr>\n",
              "    <tr>\n",
              "      <th>6</th>\n",
              "      <td>GradientBoostingClassifier</td>\n",
              "      <td>0.680000</td>\n",
              "      <td>1.000000</td>\n",
              "      <td>0.687003</td>\n",
              "      <td>1.000000</td>\n",
              "    </tr>\n",
              "    <tr>\n",
              "      <th>7</th>\n",
              "      <td>AdaBoostClassifier</td>\n",
              "      <td>0.720000</td>\n",
              "      <td>0.743243</td>\n",
              "      <td>0.727999</td>\n",
              "      <td>0.745722</td>\n",
              "    </tr>\n",
              "    <tr>\n",
              "      <th>8</th>\n",
              "      <td>LinearDiscriminantAnalysis</td>\n",
              "      <td>0.706667</td>\n",
              "      <td>0.750000</td>\n",
              "      <td>0.698140</td>\n",
              "      <td>0.750392</td>\n",
              "    </tr>\n",
              "    <tr>\n",
              "      <th>9</th>\n",
              "      <td>QuadraticDiscriminantAnalysis</td>\n",
              "      <td>0.706667</td>\n",
              "      <td>0.783784</td>\n",
              "      <td>0.700580</td>\n",
              "      <td>0.785108</td>\n",
              "    </tr>\n",
              "    <tr>\n",
              "      <th>10</th>\n",
              "      <td>SGDClassifier</td>\n",
              "      <td>0.773333</td>\n",
              "      <td>0.726351</td>\n",
              "      <td>0.772404</td>\n",
              "      <td>0.726649</td>\n",
              "    </tr>\n",
              "    <tr>\n",
              "      <th>11</th>\n",
              "      <td>BaggingClassifier</td>\n",
              "      <td>0.706667</td>\n",
              "      <td>0.986486</td>\n",
              "      <td>0.709989</td>\n",
              "      <td>0.986430</td>\n",
              "    </tr>\n",
              "    <tr>\n",
              "      <th>12</th>\n",
              "      <td>RandomForestClassifier</td>\n",
              "      <td>0.733333</td>\n",
              "      <td>0.868243</td>\n",
              "      <td>0.723321</td>\n",
              "      <td>0.868871</td>\n",
              "    </tr>\n",
              "  </tbody>\n",
              "</table>\n",
              "</div>"
            ],
            "text/plain": [
              "                            model  accuracy_test  accuracy_train  \\\n",
              "0              LogisticRegression       0.746667        0.763514   \n",
              "1          DecisionTreeClassifier       0.720000        1.000000   \n",
              "2          RandomForestClassifier       0.680000        1.000000   \n",
              "3            KNeighborsClassifier       0.760000        0.777027   \n",
              "4                      GaussianNB       0.706667        0.756757   \n",
              "5                             SVC       0.746667        0.787162   \n",
              "6      GradientBoostingClassifier       0.680000        1.000000   \n",
              "7              AdaBoostClassifier       0.720000        0.743243   \n",
              "8      LinearDiscriminantAnalysis       0.706667        0.750000   \n",
              "9   QuadraticDiscriminantAnalysis       0.706667        0.783784   \n",
              "10                  SGDClassifier       0.773333        0.726351   \n",
              "11              BaggingClassifier       0.706667        0.986486   \n",
              "12         RandomForestClassifier       0.733333        0.868243   \n",
              "\n",
              "    f1score_test  f1score_train  \n",
              "0       0.735185       0.758397  \n",
              "1       0.714698       1.000000  \n",
              "2       0.680000       1.000000  \n",
              "3       0.756543       0.780100  \n",
              "4       0.709943       0.761007  \n",
              "5       0.738579       0.784676  \n",
              "6       0.687003       1.000000  \n",
              "7       0.727999       0.745722  \n",
              "8       0.698140       0.750392  \n",
              "9       0.700580       0.785108  \n",
              "10      0.772404       0.726649  \n",
              "11      0.709989       0.986430  \n",
              "12      0.723321       0.868871  "
            ]
          },
          "metadata": {
            "tags": []
          },
          "execution_count": 29
        }
      ]
    },
    {
      "cell_type": "code",
      "metadata": {
        "colab": {
          "base_uri": "https://localhost:8080/",
          "height": 435
        },
        "id": "zmuVm40qsJsj",
        "outputId": "2f27a865-60b1-4b5f-c674-c87cce5dd02d"
      },
      "source": [
        "rf_best = RandomForestClassifier(random_state = 42, n_estimators= 50, min_samples_split= 2, min_samples_leaf= 5, max_features= 'sqrt', max_depth= 30, criterion= 'entropy', bootstrap=True)\n",
        "model_metrics.loc[12,\"model\"] = \"RandomForest_RandomizedSearchCV\" \n",
        "model_metrics"
      ],
      "execution_count": 30,
      "outputs": [
        {
          "output_type": "execute_result",
          "data": {
            "text/html": [
              "<div>\n",
              "<style scoped>\n",
              "    .dataframe tbody tr th:only-of-type {\n",
              "        vertical-align: middle;\n",
              "    }\n",
              "\n",
              "    .dataframe tbody tr th {\n",
              "        vertical-align: top;\n",
              "    }\n",
              "\n",
              "    .dataframe thead th {\n",
              "        text-align: right;\n",
              "    }\n",
              "</style>\n",
              "<table border=\"1\" class=\"dataframe\">\n",
              "  <thead>\n",
              "    <tr style=\"text-align: right;\">\n",
              "      <th></th>\n",
              "      <th>model</th>\n",
              "      <th>accuracy_test</th>\n",
              "      <th>accuracy_train</th>\n",
              "      <th>f1score_test</th>\n",
              "      <th>f1score_train</th>\n",
              "    </tr>\n",
              "  </thead>\n",
              "  <tbody>\n",
              "    <tr>\n",
              "      <th>0</th>\n",
              "      <td>LogisticRegression</td>\n",
              "      <td>0.746667</td>\n",
              "      <td>0.763514</td>\n",
              "      <td>0.735185</td>\n",
              "      <td>0.758397</td>\n",
              "    </tr>\n",
              "    <tr>\n",
              "      <th>1</th>\n",
              "      <td>DecisionTreeClassifier</td>\n",
              "      <td>0.720000</td>\n",
              "      <td>1.000000</td>\n",
              "      <td>0.714698</td>\n",
              "      <td>1.000000</td>\n",
              "    </tr>\n",
              "    <tr>\n",
              "      <th>2</th>\n",
              "      <td>RandomForestClassifier</td>\n",
              "      <td>0.680000</td>\n",
              "      <td>1.000000</td>\n",
              "      <td>0.680000</td>\n",
              "      <td>1.000000</td>\n",
              "    </tr>\n",
              "    <tr>\n",
              "      <th>3</th>\n",
              "      <td>KNeighborsClassifier</td>\n",
              "      <td>0.760000</td>\n",
              "      <td>0.777027</td>\n",
              "      <td>0.756543</td>\n",
              "      <td>0.780100</td>\n",
              "    </tr>\n",
              "    <tr>\n",
              "      <th>4</th>\n",
              "      <td>GaussianNB</td>\n",
              "      <td>0.706667</td>\n",
              "      <td>0.756757</td>\n",
              "      <td>0.709943</td>\n",
              "      <td>0.761007</td>\n",
              "    </tr>\n",
              "    <tr>\n",
              "      <th>5</th>\n",
              "      <td>SVC</td>\n",
              "      <td>0.746667</td>\n",
              "      <td>0.787162</td>\n",
              "      <td>0.738579</td>\n",
              "      <td>0.784676</td>\n",
              "    </tr>\n",
              "    <tr>\n",
              "      <th>6</th>\n",
              "      <td>GradientBoostingClassifier</td>\n",
              "      <td>0.680000</td>\n",
              "      <td>1.000000</td>\n",
              "      <td>0.687003</td>\n",
              "      <td>1.000000</td>\n",
              "    </tr>\n",
              "    <tr>\n",
              "      <th>7</th>\n",
              "      <td>AdaBoostClassifier</td>\n",
              "      <td>0.720000</td>\n",
              "      <td>0.743243</td>\n",
              "      <td>0.727999</td>\n",
              "      <td>0.745722</td>\n",
              "    </tr>\n",
              "    <tr>\n",
              "      <th>8</th>\n",
              "      <td>LinearDiscriminantAnalysis</td>\n",
              "      <td>0.706667</td>\n",
              "      <td>0.750000</td>\n",
              "      <td>0.698140</td>\n",
              "      <td>0.750392</td>\n",
              "    </tr>\n",
              "    <tr>\n",
              "      <th>9</th>\n",
              "      <td>QuadraticDiscriminantAnalysis</td>\n",
              "      <td>0.706667</td>\n",
              "      <td>0.783784</td>\n",
              "      <td>0.700580</td>\n",
              "      <td>0.785108</td>\n",
              "    </tr>\n",
              "    <tr>\n",
              "      <th>10</th>\n",
              "      <td>SGDClassifier</td>\n",
              "      <td>0.773333</td>\n",
              "      <td>0.726351</td>\n",
              "      <td>0.772404</td>\n",
              "      <td>0.726649</td>\n",
              "    </tr>\n",
              "    <tr>\n",
              "      <th>11</th>\n",
              "      <td>BaggingClassifier</td>\n",
              "      <td>0.706667</td>\n",
              "      <td>0.986486</td>\n",
              "      <td>0.709989</td>\n",
              "      <td>0.986430</td>\n",
              "    </tr>\n",
              "    <tr>\n",
              "      <th>12</th>\n",
              "      <td>RandomForest_RandomizedSearchCV</td>\n",
              "      <td>0.733333</td>\n",
              "      <td>0.868243</td>\n",
              "      <td>0.723321</td>\n",
              "      <td>0.868871</td>\n",
              "    </tr>\n",
              "  </tbody>\n",
              "</table>\n",
              "</div>"
            ],
            "text/plain": [
              "                              model  accuracy_test  accuracy_train  \\\n",
              "0                LogisticRegression       0.746667        0.763514   \n",
              "1            DecisionTreeClassifier       0.720000        1.000000   \n",
              "2            RandomForestClassifier       0.680000        1.000000   \n",
              "3              KNeighborsClassifier       0.760000        0.777027   \n",
              "4                        GaussianNB       0.706667        0.756757   \n",
              "5                               SVC       0.746667        0.787162   \n",
              "6        GradientBoostingClassifier       0.680000        1.000000   \n",
              "7                AdaBoostClassifier       0.720000        0.743243   \n",
              "8        LinearDiscriminantAnalysis       0.706667        0.750000   \n",
              "9     QuadraticDiscriminantAnalysis       0.706667        0.783784   \n",
              "10                    SGDClassifier       0.773333        0.726351   \n",
              "11                BaggingClassifier       0.706667        0.986486   \n",
              "12  RandomForest_RandomizedSearchCV       0.733333        0.868243   \n",
              "\n",
              "    f1score_test  f1score_train  \n",
              "0       0.735185       0.758397  \n",
              "1       0.714698       1.000000  \n",
              "2       0.680000       1.000000  \n",
              "3       0.756543       0.780100  \n",
              "4       0.709943       0.761007  \n",
              "5       0.738579       0.784676  \n",
              "6       0.687003       1.000000  \n",
              "7       0.727999       0.745722  \n",
              "8       0.698140       0.750392  \n",
              "9       0.700580       0.785108  \n",
              "10      0.772404       0.726649  \n",
              "11      0.709989       0.986430  \n",
              "12      0.723321       0.868871  "
            ]
          },
          "metadata": {
            "tags": []
          },
          "execution_count": 30
        }
      ]
    },
    {
      "cell_type": "markdown",
      "metadata": {
        "id": "67VxFKQsrA5T"
      },
      "source": [
        "<a id=section50302></a>\n",
        "### 5.3.2 Best K for KNearest Neighbour Model"
      ]
    },
    {
      "cell_type": "code",
      "metadata": {
        "id": "3B6oQnAHsaA8"
      },
      "source": [
        "from sklearn.model_selection import cross_val_score\n",
        "# creating list of K for KNN\n",
        "k_list = list(range(4,20,1))\n",
        "# creating list of cv scores\n",
        "cv_scores = []\n",
        "# perform 10-fold cross validation\n",
        "for k in k_list:\n",
        "    knn = KNeighborsClassifier(n_neighbors=k)\n",
        "    scores = cross_val_score(knn, X_train, y_train, cv=10)\n",
        "    cv_scores.append(scores.mean())"
      ],
      "execution_count": 31,
      "outputs": []
    },
    {
      "cell_type": "code",
      "metadata": {
        "colab": {
          "base_uri": "https://localhost:8080/",
          "height": 379
        },
        "id": "r41rTUe5s0P8",
        "outputId": "ef7ae3a0-9dde-4755-f962-21082f24b20e"
      },
      "source": [
        "# changing to misclassification error\n",
        "pre = [1 - x for x in cv_scores]\n",
        "\n",
        "plt.figure()\n",
        "plt.figure(figsize=(10,5))\n",
        "plt.title('The optimal number of neighbors', fontsize=20, fontweight='bold')\n",
        "plt.xlabel('Number of Neighbors K', fontsize=15)\n",
        "plt.ylabel('Misclassification Error', fontsize=15)\n",
        "sns.set_style(\"whitegrid\")\n",
        "plt.plot(k_list, pre);\n",
        "plt.show();"
      ],
      "execution_count": 32,
      "outputs": [
        {
          "output_type": "display_data",
          "data": {
            "text/plain": [
              "<Figure size 432x288 with 0 Axes>"
            ]
          },
          "metadata": {
            "tags": []
          }
        },
        {
          "output_type": "display_data",
          "data": {
            "image/png": "[encoded data removed]",
            "text/plain": [
              "<Figure size 720x360 with 1 Axes>"
            ]
          },
          "metadata": {
            "tags": []
          }
        }
      ]
    },
    {
      "cell_type": "code",
      "metadata": {
        "colab": {
          "base_uri": "https://localhost:8080/",
          "height": 515
        },
        "id": "rlPEbkHRt2PV",
        "outputId": "c18e079f-7b06-434d-bf2f-69451e71f048"
      },
      "source": [
        "knn_best = KNeighborsClassifier(n_neighbors=5)\n",
        "knn_best.fit(X_train, y_train)\n",
        "y_pred_test = knn_best.predict(X_test)\n",
        "y_pred_train = knn_best.predict(X_train)\n",
        "model_metrics = get_metrics(y_train,y_pred_train,y_test,y_pred_test,model_metrics, knn_best)\n",
        "model_metrics"
      ],
      "execution_count": 33,
      "outputs": [
        {
          "output_type": "execute_result",
          "data": {
            "text/plain": [
              "KNeighborsClassifier(algorithm='auto', leaf_size=30, metric='minkowski',\n",
              "                     metric_params=None, n_jobs=None, n_neighbors=5, p=2,\n",
              "                     weights='uniform')"
            ]
          },
          "metadata": {
            "tags": []
          },
          "execution_count": 33
        },
        {
          "output_type": "execute_result",
          "data": {
            "text/html": [
              "<div>\n",
              "<style scoped>\n",
              "    .dataframe tbody tr th:only-of-type {\n",
              "        vertical-align: middle;\n",
              "    }\n",
              "\n",
              "    .dataframe tbody tr th {\n",
              "        vertical-align: top;\n",
              "    }\n",
              "\n",
              "    .dataframe thead th {\n",
              "        text-align: right;\n",
              "    }\n",
              "</style>\n",
              "<table border=\"1\" class=\"dataframe\">\n",
              "  <thead>\n",
              "    <tr style=\"text-align: right;\">\n",
              "      <th></th>\n",
              "      <th>model</th>\n",
              "      <th>accuracy_test</th>\n",
              "      <th>accuracy_train</th>\n",
              "      <th>f1score_test</th>\n",
              "      <th>f1score_train</th>\n",
              "    </tr>\n",
              "  </thead>\n",
              "  <tbody>\n",
              "    <tr>\n",
              "      <th>0</th>\n",
              "      <td>LogisticRegression</td>\n",
              "      <td>0.746667</td>\n",
              "      <td>0.763514</td>\n",
              "      <td>0.735185</td>\n",
              "      <td>0.758397</td>\n",
              "    </tr>\n",
              "    <tr>\n",
              "      <th>1</th>\n",
              "      <td>DecisionTreeClassifier</td>\n",
              "      <td>0.720000</td>\n",
              "      <td>1.000000</td>\n",
              "      <td>0.714698</td>\n",
              "      <td>1.000000</td>\n",
              "    </tr>\n",
              "    <tr>\n",
              "      <th>2</th>\n",
              "      <td>RandomForestClassifier</td>\n",
              "      <td>0.680000</td>\n",
              "      <td>1.000000</td>\n",
              "      <td>0.680000</td>\n",
              "      <td>1.000000</td>\n",
              "    </tr>\n",
              "    <tr>\n",
              "      <th>3</th>\n",
              "      <td>KNeighborsClassifier</td>\n",
              "      <td>0.760000</td>\n",
              "      <td>0.777027</td>\n",
              "      <td>0.756543</td>\n",
              "      <td>0.780100</td>\n",
              "    </tr>\n",
              "    <tr>\n",
              "      <th>4</th>\n",
              "      <td>GaussianNB</td>\n",
              "      <td>0.706667</td>\n",
              "      <td>0.756757</td>\n",
              "      <td>0.709943</td>\n",
              "      <td>0.761007</td>\n",
              "    </tr>\n",
              "    <tr>\n",
              "      <th>5</th>\n",
              "      <td>SVC</td>\n",
              "      <td>0.746667</td>\n",
              "      <td>0.787162</td>\n",
              "      <td>0.738579</td>\n",
              "      <td>0.784676</td>\n",
              "    </tr>\n",
              "    <tr>\n",
              "      <th>6</th>\n",
              "      <td>GradientBoostingClassifier</td>\n",
              "      <td>0.680000</td>\n",
              "      <td>1.000000</td>\n",
              "      <td>0.687003</td>\n",
              "      <td>1.000000</td>\n",
              "    </tr>\n",
              "    <tr>\n",
              "      <th>7</th>\n",
              "      <td>AdaBoostClassifier</td>\n",
              "      <td>0.720000</td>\n",
              "      <td>0.743243</td>\n",
              "      <td>0.727999</td>\n",
              "      <td>0.745722</td>\n",
              "    </tr>\n",
              "    <tr>\n",
              "      <th>8</th>\n",
              "      <td>LinearDiscriminantAnalysis</td>\n",
              "      <td>0.706667</td>\n",
              "      <td>0.750000</td>\n",
              "      <td>0.698140</td>\n",
              "      <td>0.750392</td>\n",
              "    </tr>\n",
              "    <tr>\n",
              "      <th>9</th>\n",
              "      <td>QuadraticDiscriminantAnalysis</td>\n",
              "      <td>0.706667</td>\n",
              "      <td>0.783784</td>\n",
              "      <td>0.700580</td>\n",
              "      <td>0.785108</td>\n",
              "    </tr>\n",
              "    <tr>\n",
              "      <th>10</th>\n",
              "      <td>SGDClassifier</td>\n",
              "      <td>0.773333</td>\n",
              "      <td>0.726351</td>\n",
              "      <td>0.772404</td>\n",
              "      <td>0.726649</td>\n",
              "    </tr>\n",
              "    <tr>\n",
              "      <th>11</th>\n",
              "      <td>BaggingClassifier</td>\n",
              "      <td>0.706667</td>\n",
              "      <td>0.986486</td>\n",
              "      <td>0.709989</td>\n",
              "      <td>0.986430</td>\n",
              "    </tr>\n",
              "    <tr>\n",
              "      <th>12</th>\n",
              "      <td>RandomForest_RandomizedSearchCV</td>\n",
              "      <td>0.733333</td>\n",
              "      <td>0.868243</td>\n",
              "      <td>0.723321</td>\n",
              "      <td>0.868871</td>\n",
              "    </tr>\n",
              "    <tr>\n",
              "      <th>13</th>\n",
              "      <td>KNeighborsClassifier</td>\n",
              "      <td>0.760000</td>\n",
              "      <td>0.777027</td>\n",
              "      <td>0.756543</td>\n",
              "      <td>0.780100</td>\n",
              "    </tr>\n",
              "  </tbody>\n",
              "</table>\n",
              "</div>"
            ],
            "text/plain": [
              "                              model  accuracy_test  accuracy_train  \\\n",
              "0                LogisticRegression       0.746667        0.763514   \n",
              "1            DecisionTreeClassifier       0.720000        1.000000   \n",
              "2            RandomForestClassifier       0.680000        1.000000   \n",
              "3              KNeighborsClassifier       0.760000        0.777027   \n",
              "4                        GaussianNB       0.706667        0.756757   \n",
              "5                               SVC       0.746667        0.787162   \n",
              "6        GradientBoostingClassifier       0.680000        1.000000   \n",
              "7                AdaBoostClassifier       0.720000        0.743243   \n",
              "8        LinearDiscriminantAnalysis       0.706667        0.750000   \n",
              "9     QuadraticDiscriminantAnalysis       0.706667        0.783784   \n",
              "10                    SGDClassifier       0.773333        0.726351   \n",
              "11                BaggingClassifier       0.706667        0.986486   \n",
              "12  RandomForest_RandomizedSearchCV       0.733333        0.868243   \n",
              "13             KNeighborsClassifier       0.760000        0.777027   \n",
              "\n",
              "    f1score_test  f1score_train  \n",
              "0       0.735185       0.758397  \n",
              "1       0.714698       1.000000  \n",
              "2       0.680000       1.000000  \n",
              "3       0.756543       0.780100  \n",
              "4       0.709943       0.761007  \n",
              "5       0.738579       0.784676  \n",
              "6       0.687003       1.000000  \n",
              "7       0.727999       0.745722  \n",
              "8       0.698140       0.750392  \n",
              "9       0.700580       0.785108  \n",
              "10      0.772404       0.726649  \n",
              "11      0.709989       0.986430  \n",
              "12      0.723321       0.868871  \n",
              "13      0.756543       0.780100  "
            ]
          },
          "metadata": {
            "tags": []
          },
          "execution_count": 33
        }
      ]
    },
    {
      "cell_type": "code",
      "metadata": {
        "colab": {
          "base_uri": "https://localhost:8080/",
          "height": 465
        },
        "id": "YsArYOYr6lu8",
        "outputId": "9ba5f6f1-6840-443f-a352-73dced0cc0ae"
      },
      "source": [
        "model_metrics.loc[13,\"model\"] = \"KNeighbors_K_5\" \n",
        "model_metrics"
      ],
      "execution_count": 34,
      "outputs": [
        {
          "output_type": "execute_result",
          "data": {
            "text/html": [
              "<div>\n",
              "<style scoped>\n",
              "    .dataframe tbody tr th:only-of-type {\n",
              "        vertical-align: middle;\n",
              "    }\n",
              "\n",
              "    .dataframe tbody tr th {\n",
              "        vertical-align: top;\n",
              "    }\n",
              "\n",
              "    .dataframe thead th {\n",
              "        text-align: right;\n",
              "    }\n",
              "</style>\n",
              "<table border=\"1\" class=\"dataframe\">\n",
              "  <thead>\n",
              "    <tr style=\"text-align: right;\">\n",
              "      <th></th>\n",
              "      <th>model</th>\n",
              "      <th>accuracy_test</th>\n",
              "      <th>accuracy_train</th>\n",
              "      <th>f1score_test</th>\n",
              "      <th>f1score_train</th>\n",
              "    </tr>\n",
              "  </thead>\n",
              "  <tbody>\n",
              "    <tr>\n",
              "      <th>0</th>\n",
              "      <td>LogisticRegression</td>\n",
              "      <td>0.746667</td>\n",
              "      <td>0.763514</td>\n",
              "      <td>0.735185</td>\n",
              "      <td>0.758397</td>\n",
              "    </tr>\n",
              "    <tr>\n",
              "      <th>1</th>\n",
              "      <td>DecisionTreeClassifier</td>\n",
              "      <td>0.720000</td>\n",
              "      <td>1.000000</td>\n",
              "      <td>0.714698</td>\n",
              "      <td>1.000000</td>\n",
              "    </tr>\n",
              "    <tr>\n",
              "      <th>2</th>\n",
              "      <td>RandomForestClassifier</td>\n",
              "      <td>0.680000</td>\n",
              "      <td>1.000000</td>\n",
              "      <td>0.680000</td>\n",
              "      <td>1.000000</td>\n",
              "    </tr>\n",
              "    <tr>\n",
              "      <th>3</th>\n",
              "      <td>KNeighborsClassifier</td>\n",
              "      <td>0.760000</td>\n",
              "      <td>0.777027</td>\n",
              "      <td>0.756543</td>\n",
              "      <td>0.780100</td>\n",
              "    </tr>\n",
              "    <tr>\n",
              "      <th>4</th>\n",
              "      <td>GaussianNB</td>\n",
              "      <td>0.706667</td>\n",
              "      <td>0.756757</td>\n",
              "      <td>0.709943</td>\n",
              "      <td>0.761007</td>\n",
              "    </tr>\n",
              "    <tr>\n",
              "      <th>5</th>\n",
              "      <td>SVC</td>\n",
              "      <td>0.746667</td>\n",
              "      <td>0.787162</td>\n",
              "      <td>0.738579</td>\n",
              "      <td>0.784676</td>\n",
              "    </tr>\n",
              "    <tr>\n",
              "      <th>6</th>\n",
              "      <td>GradientBoostingClassifier</td>\n",
              "      <td>0.680000</td>\n",
              "      <td>1.000000</td>\n",
              "      <td>0.687003</td>\n",
              "      <td>1.000000</td>\n",
              "    </tr>\n",
              "    <tr>\n",
              "      <th>7</th>\n",
              "      <td>AdaBoostClassifier</td>\n",
              "      <td>0.720000</td>\n",
              "      <td>0.743243</td>\n",
              "      <td>0.727999</td>\n",
              "      <td>0.745722</td>\n",
              "    </tr>\n",
              "    <tr>\n",
              "      <th>8</th>\n",
              "      <td>LinearDiscriminantAnalysis</td>\n",
              "      <td>0.706667</td>\n",
              "      <td>0.750000</td>\n",
              "      <td>0.698140</td>\n",
              "      <td>0.750392</td>\n",
              "    </tr>\n",
              "    <tr>\n",
              "      <th>9</th>\n",
              "      <td>QuadraticDiscriminantAnalysis</td>\n",
              "      <td>0.706667</td>\n",
              "      <td>0.783784</td>\n",
              "      <td>0.700580</td>\n",
              "      <td>0.785108</td>\n",
              "    </tr>\n",
              "    <tr>\n",
              "      <th>10</th>\n",
              "      <td>SGDClassifier</td>\n",
              "      <td>0.773333</td>\n",
              "      <td>0.726351</td>\n",
              "      <td>0.772404</td>\n",
              "      <td>0.726649</td>\n",
              "    </tr>\n",
              "    <tr>\n",
              "      <th>11</th>\n",
              "      <td>BaggingClassifier</td>\n",
              "      <td>0.706667</td>\n",
              "      <td>0.986486</td>\n",
              "      <td>0.709989</td>\n",
              "      <td>0.986430</td>\n",
              "    </tr>\n",
              "    <tr>\n",
              "      <th>12</th>\n",
              "      <td>RandomForest_RandomizedSearchCV</td>\n",
              "      <td>0.733333</td>\n",
              "      <td>0.868243</td>\n",
              "      <td>0.723321</td>\n",
              "      <td>0.868871</td>\n",
              "    </tr>\n",
              "    <tr>\n",
              "      <th>13</th>\n",
              "      <td>KNeighbors_K_5</td>\n",
              "      <td>0.760000</td>\n",
              "      <td>0.777027</td>\n",
              "      <td>0.756543</td>\n",
              "      <td>0.780100</td>\n",
              "    </tr>\n",
              "  </tbody>\n",
              "</table>\n",
              "</div>"
            ],
            "text/plain": [
              "                              model  accuracy_test  accuracy_train  \\\n",
              "0                LogisticRegression       0.746667        0.763514   \n",
              "1            DecisionTreeClassifier       0.720000        1.000000   \n",
              "2            RandomForestClassifier       0.680000        1.000000   \n",
              "3              KNeighborsClassifier       0.760000        0.777027   \n",
              "4                        GaussianNB       0.706667        0.756757   \n",
              "5                               SVC       0.746667        0.787162   \n",
              "6        GradientBoostingClassifier       0.680000        1.000000   \n",
              "7                AdaBoostClassifier       0.720000        0.743243   \n",
              "8        LinearDiscriminantAnalysis       0.706667        0.750000   \n",
              "9     QuadraticDiscriminantAnalysis       0.706667        0.783784   \n",
              "10                    SGDClassifier       0.773333        0.726351   \n",
              "11                BaggingClassifier       0.706667        0.986486   \n",
              "12  RandomForest_RandomizedSearchCV       0.733333        0.868243   \n",
              "13                   KNeighbors_K_5       0.760000        0.777027   \n",
              "\n",
              "    f1score_test  f1score_train  \n",
              "0       0.735185       0.758397  \n",
              "1       0.714698       1.000000  \n",
              "2       0.680000       1.000000  \n",
              "3       0.756543       0.780100  \n",
              "4       0.709943       0.761007  \n",
              "5       0.738579       0.784676  \n",
              "6       0.687003       1.000000  \n",
              "7       0.727999       0.745722  \n",
              "8       0.698140       0.750392  \n",
              "9       0.700580       0.785108  \n",
              "10      0.772404       0.726649  \n",
              "11      0.709989       0.986430  \n",
              "12      0.723321       0.868871  \n",
              "13      0.756543       0.780100  "
            ]
          },
          "metadata": {
            "tags": []
          },
          "execution_count": 34
        }
      ]
    },
    {
      "cell_type": "markdown",
      "metadata": {
        "id": "_ZmvsFUZr8Xb"
      },
      "source": [
        "<a id=section50303></a>\n",
        "### 5.3.3 Grid Search CV on Stochastic Gradient Classifer"
      ]
    },
    {
      "cell_type": "code",
      "metadata": {
        "colab": {
          "base_uri": "https://localhost:8080/"
        },
        "id": "aZfBAoJbCx2E",
        "outputId": "8cb7f7ed-2293-4de2-a144-c63aed88eada"
      },
      "source": [
        "params = {\"alpha\": [1e-4,3e-4,7e-4,1e-3,3e-3,7e-3,1e-2], \"max_iter\": list(range(1,51))}\n",
        "model = SGDClassifier(loss = 'log', random_state= 50)\n",
        "sgd = GridSearchCV(model,param_grid = params, scoring = 'accuracy', cv = 10)\n",
        "sgd.fit(X_train,y_train)\n",
        "print('Best score: {}'.format(sgd.best_score_))\n",
        "print('Best parameters: {}'.format(sgd.best_params_))"
      ],
      "execution_count": 35,
      "outputs": [
        {
          "output_type": "execute_result",
          "data": {
            "text/plain": [
              "GridSearchCV(cv=10, error_score=nan,\n",
              "             estimator=SGDClassifier(alpha=0.0001, average=False,\n",
              "                                     class_weight=None, early_stopping=False,\n",
              "                                     epsilon=0.1, eta0=0.0, fit_intercept=True,\n",
              "                                     l1_ratio=0.15, learning_rate='optimal',\n",
              "                                     loss='log', max_iter=1000,\n",
              "                                     n_iter_no_change=5, n_jobs=None,\n",
              "                                     penalty='l2', power_t=0.5, random_state=50,\n",
              "                                     shuffle=True, tol=0.001,\n",
              "                                     validation_fraction=0.1, verbose=0,\n",
              "                                     warm_start=False),\n",
              "             iid='deprecated', n_jobs=None,\n",
              "             param_grid={'alpha': [0.0001, 0.0003, 0.0007, 0.001, 0.003, 0.007,\n",
              "                                   0.01],\n",
              "                         'max_iter': [1, 2, 3, 4, 5, 6, 7, 8, 9, 10, 11, 12, 13,\n",
              "                                      14, 15, 16, 17, 18, 19, 20, 21, 22, 23,\n",
              "                                      24, 25, 26, 27, 28, 29, 30, ...]},\n",
              "             pre_dispatch='2*n_jobs', refit=True, return_train_score=False,\n",
              "             scoring='accuracy', verbose=0)"
            ]
          },
          "metadata": {
            "tags": []
          },
          "execution_count": 35
        },
        {
          "output_type": "stream",
          "text": [
            "Best score: 0.7326436781609196\n",
            "Best parameters: {'alpha': 0.0001, 'max_iter': 37}\n"
          ],
          "name": "stdout"
        }
      ]
    },
    {
      "cell_type": "code",
      "metadata": {
        "colab": {
          "base_uri": "https://localhost:8080/"
        },
        "id": "5YzUwDydLNUP",
        "outputId": "26c4b0f0-46c7-43c3-fb79-9f2bac2228df"
      },
      "source": [
        "%%time\n",
        "sgd_best = SGDClassifier(alpha=0.0001,loss='log', max_iter=37,random_state=50)\n",
        "sgd_best.fit(X_train, y_train)\n",
        "y_pred_train = sgd_best.predict(X_train)\n",
        "y_pred_test = sgd_best.predict(X_test)\n",
        "model_metrics = get_metrics(y_train,y_pred_train,y_test,y_pred_test,model_metrics, sgd_best)"
      ],
      "execution_count": 36,
      "outputs": [
        {
          "output_type": "stream",
          "text": [
            "CPU times: user 15.6 ms, sys: 0 ns, total: 15.6 ms\n",
            "Wall time: 15.4 ms\n"
          ],
          "name": "stdout"
        }
      ]
    },
    {
      "cell_type": "code",
      "metadata": {
        "colab": {
          "base_uri": "https://localhost:8080/",
          "height": 494
        },
        "id": "Lq_MZ8_VVYZG",
        "outputId": "0c6a5a7a-601e-4bf5-c216-281bd7b4ccee"
      },
      "source": [
        "model_metrics"
      ],
      "execution_count": 37,
      "outputs": [
        {
          "output_type": "execute_result",
          "data": {
            "text/html": [
              "<div>\n",
              "<style scoped>\n",
              "    .dataframe tbody tr th:only-of-type {\n",
              "        vertical-align: middle;\n",
              "    }\n",
              "\n",
              "    .dataframe tbody tr th {\n",
              "        vertical-align: top;\n",
              "    }\n",
              "\n",
              "    .dataframe thead th {\n",
              "        text-align: right;\n",
              "    }\n",
              "</style>\n",
              "<table border=\"1\" class=\"dataframe\">\n",
              "  <thead>\n",
              "    <tr style=\"text-align: right;\">\n",
              "      <th></th>\n",
              "      <th>model</th>\n",
              "      <th>accuracy_test</th>\n",
              "      <th>accuracy_train</th>\n",
              "      <th>f1score_test</th>\n",
              "      <th>f1score_train</th>\n",
              "    </tr>\n",
              "  </thead>\n",
              "  <tbody>\n",
              "    <tr>\n",
              "      <th>0</th>\n",
              "      <td>LogisticRegression</td>\n",
              "      <td>0.746667</td>\n",
              "      <td>0.763514</td>\n",
              "      <td>0.735185</td>\n",
              "      <td>0.758397</td>\n",
              "    </tr>\n",
              "    <tr>\n",
              "      <th>1</th>\n",
              "      <td>DecisionTreeClassifier</td>\n",
              "      <td>0.720000</td>\n",
              "      <td>1.000000</td>\n",
              "      <td>0.714698</td>\n",
              "      <td>1.000000</td>\n",
              "    </tr>\n",
              "    <tr>\n",
              "      <th>2</th>\n",
              "      <td>RandomForestClassifier</td>\n",
              "      <td>0.680000</td>\n",
              "      <td>1.000000</td>\n",
              "      <td>0.680000</td>\n",
              "      <td>1.000000</td>\n",
              "    </tr>\n",
              "    <tr>\n",
              "      <th>3</th>\n",
              "      <td>KNeighborsClassifier</td>\n",
              "      <td>0.760000</td>\n",
              "      <td>0.777027</td>\n",
              "      <td>0.756543</td>\n",
              "      <td>0.780100</td>\n",
              "    </tr>\n",
              "    <tr>\n",
              "      <th>4</th>\n",
              "      <td>GaussianNB</td>\n",
              "      <td>0.706667</td>\n",
              "      <td>0.756757</td>\n",
              "      <td>0.709943</td>\n",
              "      <td>0.761007</td>\n",
              "    </tr>\n",
              "    <tr>\n",
              "      <th>5</th>\n",
              "      <td>SVC</td>\n",
              "      <td>0.746667</td>\n",
              "      <td>0.787162</td>\n",
              "      <td>0.738579</td>\n",
              "      <td>0.784676</td>\n",
              "    </tr>\n",
              "    <tr>\n",
              "      <th>6</th>\n",
              "      <td>GradientBoostingClassifier</td>\n",
              "      <td>0.680000</td>\n",
              "      <td>1.000000</td>\n",
              "      <td>0.687003</td>\n",
              "      <td>1.000000</td>\n",
              "    </tr>\n",
              "    <tr>\n",
              "      <th>7</th>\n",
              "      <td>AdaBoostClassifier</td>\n",
              "      <td>0.720000</td>\n",
              "      <td>0.743243</td>\n",
              "      <td>0.727999</td>\n",
              "      <td>0.745722</td>\n",
              "    </tr>\n",
              "    <tr>\n",
              "      <th>8</th>\n",
              "      <td>LinearDiscriminantAnalysis</td>\n",
              "      <td>0.706667</td>\n",
              "      <td>0.750000</td>\n",
              "      <td>0.698140</td>\n",
              "      <td>0.750392</td>\n",
              "    </tr>\n",
              "    <tr>\n",
              "      <th>9</th>\n",
              "      <td>QuadraticDiscriminantAnalysis</td>\n",
              "      <td>0.706667</td>\n",
              "      <td>0.783784</td>\n",
              "      <td>0.700580</td>\n",
              "      <td>0.785108</td>\n",
              "    </tr>\n",
              "    <tr>\n",
              "      <th>10</th>\n",
              "      <td>SGDClassifier</td>\n",
              "      <td>0.773333</td>\n",
              "      <td>0.726351</td>\n",
              "      <td>0.772404</td>\n",
              "      <td>0.726649</td>\n",
              "    </tr>\n",
              "    <tr>\n",
              "      <th>11</th>\n",
              "      <td>BaggingClassifier</td>\n",
              "      <td>0.706667</td>\n",
              "      <td>0.986486</td>\n",
              "      <td>0.709989</td>\n",
              "      <td>0.986430</td>\n",
              "    </tr>\n",
              "    <tr>\n",
              "      <th>12</th>\n",
              "      <td>RandomForest_RandomizedSearchCV</td>\n",
              "      <td>0.733333</td>\n",
              "      <td>0.868243</td>\n",
              "      <td>0.723321</td>\n",
              "      <td>0.868871</td>\n",
              "    </tr>\n",
              "    <tr>\n",
              "      <th>13</th>\n",
              "      <td>KNeighbors_K_5</td>\n",
              "      <td>0.760000</td>\n",
              "      <td>0.777027</td>\n",
              "      <td>0.756543</td>\n",
              "      <td>0.780100</td>\n",
              "    </tr>\n",
              "    <tr>\n",
              "      <th>14</th>\n",
              "      <td>SGDClassifier</td>\n",
              "      <td>0.773333</td>\n",
              "      <td>0.719595</td>\n",
              "      <td>0.780079</td>\n",
              "      <td>0.721662</td>\n",
              "    </tr>\n",
              "  </tbody>\n",
              "</table>\n",
              "</div>"
            ],
            "text/plain": [
              "                              model  accuracy_test  accuracy_train  \\\n",
              "0                LogisticRegression       0.746667        0.763514   \n",
              "1            DecisionTreeClassifier       0.720000        1.000000   \n",
              "2            RandomForestClassifier       0.680000        1.000000   \n",
              "3              KNeighborsClassifier       0.760000        0.777027   \n",
              "4                        GaussianNB       0.706667        0.756757   \n",
              "5                               SVC       0.746667        0.787162   \n",
              "6        GradientBoostingClassifier       0.680000        1.000000   \n",
              "7                AdaBoostClassifier       0.720000        0.743243   \n",
              "8        LinearDiscriminantAnalysis       0.706667        0.750000   \n",
              "9     QuadraticDiscriminantAnalysis       0.706667        0.783784   \n",
              "10                    SGDClassifier       0.773333        0.726351   \n",
              "11                BaggingClassifier       0.706667        0.986486   \n",
              "12  RandomForest_RandomizedSearchCV       0.733333        0.868243   \n",
              "13                   KNeighbors_K_5       0.760000        0.777027   \n",
              "14                    SGDClassifier       0.773333        0.719595   \n",
              "\n",
              "    f1score_test  f1score_train  \n",
              "0       0.735185       0.758397  \n",
              "1       0.714698       1.000000  \n",
              "2       0.680000       1.000000  \n",
              "3       0.756543       0.780100  \n",
              "4       0.709943       0.761007  \n",
              "5       0.738579       0.784676  \n",
              "6       0.687003       1.000000  \n",
              "7       0.727999       0.745722  \n",
              "8       0.698140       0.750392  \n",
              "9       0.700580       0.785108  \n",
              "10      0.772404       0.726649  \n",
              "11      0.709989       0.986430  \n",
              "12      0.723321       0.868871  \n",
              "13      0.756543       0.780100  \n",
              "14      0.780079       0.721662  "
            ]
          },
          "metadata": {
            "tags": []
          },
          "execution_count": 37
        }
      ]
    },
    {
      "cell_type": "code",
      "metadata": {
        "colab": {
          "base_uri": "https://localhost:8080/",
          "height": 494
        },
        "id": "Uu_geNR_EkC_",
        "outputId": "4629dcc7-cb03-44e0-eab2-1c5b8f4bc77b"
      },
      "source": [
        "model_metrics.loc[14,\"model\"] = \"SGDClassifier_GridSearchCV\" \n",
        "model_metrics"
      ],
      "execution_count": 38,
      "outputs": [
        {
          "output_type": "execute_result",
          "data": {
            "text/html": [
              "<div>\n",
              "<style scoped>\n",
              "    .dataframe tbody tr th:only-of-type {\n",
              "        vertical-align: middle;\n",
              "    }\n",
              "\n",
              "    .dataframe tbody tr th {\n",
              "        vertical-align: top;\n",
              "    }\n",
              "\n",
              "    .dataframe thead th {\n",
              "        text-align: right;\n",
              "    }\n",
              "</style>\n",
              "<table border=\"1\" class=\"dataframe\">\n",
              "  <thead>\n",
              "    <tr style=\"text-align: right;\">\n",
              "      <th></th>\n",
              "      <th>model</th>\n",
              "      <th>accuracy_test</th>\n",
              "      <th>accuracy_train</th>\n",
              "      <th>f1score_test</th>\n",
              "      <th>f1score_train</th>\n",
              "    </tr>\n",
              "  </thead>\n",
              "  <tbody>\n",
              "    <tr>\n",
              "      <th>0</th>\n",
              "      <td>LogisticRegression</td>\n",
              "      <td>0.746667</td>\n",
              "      <td>0.763514</td>\n",
              "      <td>0.735185</td>\n",
              "      <td>0.758397</td>\n",
              "    </tr>\n",
              "    <tr>\n",
              "      <th>1</th>\n",
              "      <td>DecisionTreeClassifier</td>\n",
              "      <td>0.720000</td>\n",
              "      <td>1.000000</td>\n",
              "      <td>0.714698</td>\n",
              "      <td>1.000000</td>\n",
              "    </tr>\n",
              "    <tr>\n",
              "      <th>2</th>\n",
              "      <td>RandomForestClassifier</td>\n",
              "      <td>0.680000</td>\n",
              "      <td>1.000000</td>\n",
              "      <td>0.680000</td>\n",
              "      <td>1.000000</td>\n",
              "    </tr>\n",
              "    <tr>\n",
              "      <th>3</th>\n",
              "      <td>KNeighborsClassifier</td>\n",
              "      <td>0.760000</td>\n",
              "      <td>0.777027</td>\n",
              "      <td>0.756543</td>\n",
              "      <td>0.780100</td>\n",
              "    </tr>\n",
              "    <tr>\n",
              "      <th>4</th>\n",
              "      <td>GaussianNB</td>\n",
              "      <td>0.706667</td>\n",
              "      <td>0.756757</td>\n",
              "      <td>0.709943</td>\n",
              "      <td>0.761007</td>\n",
              "    </tr>\n",
              "    <tr>\n",
              "      <th>5</th>\n",
              "      <td>SVC</td>\n",
              "      <td>0.746667</td>\n",
              "      <td>0.787162</td>\n",
              "      <td>0.738579</td>\n",
              "      <td>0.784676</td>\n",
              "    </tr>\n",
              "    <tr>\n",
              "      <th>6</th>\n",
              "      <td>GradientBoostingClassifier</td>\n",
              "      <td>0.680000</td>\n",
              "      <td>1.000000</td>\n",
              "      <td>0.687003</td>\n",
              "      <td>1.000000</td>\n",
              "    </tr>\n",
              "    <tr>\n",
              "      <th>7</th>\n",
              "      <td>AdaBoostClassifier</td>\n",
              "      <td>0.720000</td>\n",
              "      <td>0.743243</td>\n",
              "      <td>0.727999</td>\n",
              "      <td>0.745722</td>\n",
              "    </tr>\n",
              "    <tr>\n",
              "      <th>8</th>\n",
              "      <td>LinearDiscriminantAnalysis</td>\n",
              "      <td>0.706667</td>\n",
              "      <td>0.750000</td>\n",
              "      <td>0.698140</td>\n",
              "      <td>0.750392</td>\n",
              "    </tr>\n",
              "    <tr>\n",
              "      <th>9</th>\n",
              "      <td>QuadraticDiscriminantAnalysis</td>\n",
              "      <td>0.706667</td>\n",
              "      <td>0.783784</td>\n",
              "      <td>0.700580</td>\n",
              "      <td>0.785108</td>\n",
              "    </tr>\n",
              "    <tr>\n",
              "      <th>10</th>\n",
              "      <td>SGDClassifier</td>\n",
              "      <td>0.773333</td>\n",
              "      <td>0.726351</td>\n",
              "      <td>0.772404</td>\n",
              "      <td>0.726649</td>\n",
              "    </tr>\n",
              "    <tr>\n",
              "      <th>11</th>\n",
              "      <td>BaggingClassifier</td>\n",
              "      <td>0.706667</td>\n",
              "      <td>0.986486</td>\n",
              "      <td>0.709989</td>\n",
              "      <td>0.986430</td>\n",
              "    </tr>\n",
              "    <tr>\n",
              "      <th>12</th>\n",
              "      <td>RandomForest_RandomizedSearchCV</td>\n",
              "      <td>0.733333</td>\n",
              "      <td>0.868243</td>\n",
              "      <td>0.723321</td>\n",
              "      <td>0.868871</td>\n",
              "    </tr>\n",
              "    <tr>\n",
              "      <th>13</th>\n",
              "      <td>KNeighbors_K_5</td>\n",
              "      <td>0.760000</td>\n",
              "      <td>0.777027</td>\n",
              "      <td>0.756543</td>\n",
              "      <td>0.780100</td>\n",
              "    </tr>\n",
              "    <tr>\n",
              "      <th>14</th>\n",
              "      <td>SGDClassifier_GridSearchCV</td>\n",
              "      <td>0.773333</td>\n",
              "      <td>0.719595</td>\n",
              "      <td>0.780079</td>\n",
              "      <td>0.721662</td>\n",
              "    </tr>\n",
              "  </tbody>\n",
              "</table>\n",
              "</div>"
            ],
            "text/plain": [
              "                              model  accuracy_test  accuracy_train  \\\n",
              "0                LogisticRegression       0.746667        0.763514   \n",
              "1            DecisionTreeClassifier       0.720000        1.000000   \n",
              "2            RandomForestClassifier       0.680000        1.000000   \n",
              "3              KNeighborsClassifier       0.760000        0.777027   \n",
              "4                        GaussianNB       0.706667        0.756757   \n",
              "5                               SVC       0.746667        0.787162   \n",
              "6        GradientBoostingClassifier       0.680000        1.000000   \n",
              "7                AdaBoostClassifier       0.720000        0.743243   \n",
              "8        LinearDiscriminantAnalysis       0.706667        0.750000   \n",
              "9     QuadraticDiscriminantAnalysis       0.706667        0.783784   \n",
              "10                    SGDClassifier       0.773333        0.726351   \n",
              "11                BaggingClassifier       0.706667        0.986486   \n",
              "12  RandomForest_RandomizedSearchCV       0.733333        0.868243   \n",
              "13                   KNeighbors_K_5       0.760000        0.777027   \n",
              "14       SGDClassifier_GridSearchCV       0.773333        0.719595   \n",
              "\n",
              "    f1score_test  f1score_train  \n",
              "0       0.735185       0.758397  \n",
              "1       0.714698       1.000000  \n",
              "2       0.680000       1.000000  \n",
              "3       0.756543       0.780100  \n",
              "4       0.709943       0.761007  \n",
              "5       0.738579       0.784676  \n",
              "6       0.687003       1.000000  \n",
              "7       0.727999       0.745722  \n",
              "8       0.698140       0.750392  \n",
              "9       0.700580       0.785108  \n",
              "10      0.772404       0.726649  \n",
              "11      0.709989       0.986430  \n",
              "12      0.723321       0.868871  \n",
              "13      0.756543       0.780100  \n",
              "14      0.780079       0.721662  "
            ]
          },
          "metadata": {
            "tags": []
          },
          "execution_count": 38
        }
      ]
    },
    {
      "cell_type": "markdown",
      "metadata": {
        "id": "Ne3shnvFwhbt"
      },
      "source": [
        "<a id=section50304></a>\n",
        "### 5.3.4 Randomized Search on GradientBoosting Classifier"
      ]
    },
    {
      "cell_type": "code",
      "metadata": {
        "colab": {
          "base_uri": "https://localhost:8080/"
        },
        "id": "fTT3-XooZzuk",
        "outputId": "145c4191-6d11-4fc9-ab79-77c2ebb61d92"
      },
      "source": [
        "grid = {'learning_rate':[0.05, 0.1, 0.5], 'n_estimators':[100, 200, 500], 'max_depth':[2, 3, 5, 10]}\n",
        "model = GradientBoostingClassifier(random_state = 42)\n",
        "gbc = RandomizedSearchCV(estimator = model, param_distributions = grid, n_iter = 100, cv = 5, n_jobs = -1, verbose= 3)\n",
        "gbc.fit(X_train, y_train)\n",
        "print('Best score: {}'.format(gbc.best_score_))\n",
        "print('Best parameters: {}'.format(gbc.best_params_))"
      ],
      "execution_count": 39,
      "outputs": [
        {
          "output_type": "stream",
          "text": [
            "Fitting 5 folds for each of 36 candidates, totalling 180 fits\n"
          ],
          "name": "stdout"
        },
        {
          "output_type": "stream",
          "text": [
            "[Parallel(n_jobs=-1)]: Using backend LokyBackend with 2 concurrent workers.\n",
            "[Parallel(n_jobs=-1)]: Done  28 tasks      | elapsed:   15.9s\n",
            "[Parallel(n_jobs=-1)]: Done 124 tasks      | elapsed:  1.4min\n",
            "[Parallel(n_jobs=-1)]: Done 180 out of 180 | elapsed:  1.8min finished\n"
          ],
          "name": "stderr"
        },
        {
          "output_type": "execute_result",
          "data": {
            "text/plain": [
              "RandomizedSearchCV(cv=5, error_score=nan,\n",
              "                   estimator=GradientBoostingClassifier(ccp_alpha=0.0,\n",
              "                                                        criterion='friedman_mse',\n",
              "                                                        init=None,\n",
              "                                                        learning_rate=0.1,\n",
              "                                                        loss='deviance',\n",
              "                                                        max_depth=3,\n",
              "                                                        max_features=None,\n",
              "                                                        max_leaf_nodes=None,\n",
              "                                                        min_impurity_decrease=0.0,\n",
              "                                                        min_impurity_split=None,\n",
              "                                                        min_samples_leaf=1,\n",
              "                                                        min_samples_split=2,\n",
              "                                                        min_weight_fraction_leaf=0.0,\n",
              "                                                        n_estimators=100,\n",
              "                                                        n_ite...\n",
              "                                                        presort='deprecated',\n",
              "                                                        random_state=42,\n",
              "                                                        subsample=1.0,\n",
              "                                                        tol=0.0001,\n",
              "                                                        validation_fraction=0.1,\n",
              "                                                        verbose=0,\n",
              "                                                        warm_start=False),\n",
              "                   iid='deprecated', n_iter=100, n_jobs=-1,\n",
              "                   param_distributions={'learning_rate': [0.05, 0.1, 0.5],\n",
              "                                        'max_depth': [2, 3, 5, 10],\n",
              "                                        'n_estimators': [100, 200, 500]},\n",
              "                   pre_dispatch='2*n_jobs', random_state=None, refit=True,\n",
              "                   return_train_score=False, scoring=None, verbose=3)"
            ]
          },
          "metadata": {
            "tags": []
          },
          "execution_count": 39
        },
        {
          "output_type": "stream",
          "text": [
            "Best score: 0.7264406779661017\n",
            "Best parameters: {'n_estimators': 100, 'max_depth': 2, 'learning_rate': 0.05}\n"
          ],
          "name": "stdout"
        }
      ]
    },
    {
      "cell_type": "code",
      "metadata": {
        "colab": {
          "base_uri": "https://localhost:8080/",
          "height": 692
        },
        "id": "U5OPpxheCkm_",
        "outputId": "cde2890f-4d59-4dda-9cc6-4f04d795d870"
      },
      "source": [
        "gbc_best =  GradientBoostingClassifier(n_estimators =  100, max_depth = 2, learning_rate = 0.05, random_state=42)\n",
        "gbc_best.fit(X_train, y_train)\n",
        "y_pred_train = gbc_best.predict(X_train)\n",
        "y_pred_test = gbc_best.predict(X_test)\n",
        "model_metrics = get_metrics(y_train,y_pred_train,y_test,y_pred_test,model_metrics, gbc_best)\n",
        "model_metrics"
      ],
      "execution_count": 40,
      "outputs": [
        {
          "output_type": "execute_result",
          "data": {
            "text/plain": [
              "GradientBoostingClassifier(ccp_alpha=0.0, criterion='friedman_mse', init=None,\n",
              "                           learning_rate=0.05, loss='deviance', max_depth=2,\n",
              "                           max_features=None, max_leaf_nodes=None,\n",
              "                           min_impurity_decrease=0.0, min_impurity_split=None,\n",
              "                           min_samples_leaf=1, min_samples_split=2,\n",
              "                           min_weight_fraction_leaf=0.0, n_estimators=100,\n",
              "                           n_iter_no_change=None, presort='deprecated',\n",
              "                           random_state=42, subsample=1.0, tol=0.0001,\n",
              "                           validation_fraction=0.1, verbose=0,\n",
              "                           warm_start=False)"
            ]
          },
          "metadata": {
            "tags": []
          },
          "execution_count": 40
        },
        {
          "output_type": "execute_result",
          "data": {
            "text/html": [
              "<div>\n",
              "<style scoped>\n",
              "    .dataframe tbody tr th:only-of-type {\n",
              "        vertical-align: middle;\n",
              "    }\n",
              "\n",
              "    .dataframe tbody tr th {\n",
              "        vertical-align: top;\n",
              "    }\n",
              "\n",
              "    .dataframe thead th {\n",
              "        text-align: right;\n",
              "    }\n",
              "</style>\n",
              "<table border=\"1\" class=\"dataframe\">\n",
              "  <thead>\n",
              "    <tr style=\"text-align: right;\">\n",
              "      <th></th>\n",
              "      <th>model</th>\n",
              "      <th>accuracy_test</th>\n",
              "      <th>accuracy_train</th>\n",
              "      <th>f1score_test</th>\n",
              "      <th>f1score_train</th>\n",
              "    </tr>\n",
              "  </thead>\n",
              "  <tbody>\n",
              "    <tr>\n",
              "      <th>0</th>\n",
              "      <td>LogisticRegression</td>\n",
              "      <td>0.746667</td>\n",
              "      <td>0.763514</td>\n",
              "      <td>0.735185</td>\n",
              "      <td>0.758397</td>\n",
              "    </tr>\n",
              "    <tr>\n",
              "      <th>1</th>\n",
              "      <td>DecisionTreeClassifier</td>\n",
              "      <td>0.720000</td>\n",
              "      <td>1.000000</td>\n",
              "      <td>0.714698</td>\n",
              "      <td>1.000000</td>\n",
              "    </tr>\n",
              "    <tr>\n",
              "      <th>2</th>\n",
              "      <td>RandomForestClassifier</td>\n",
              "      <td>0.680000</td>\n",
              "      <td>1.000000</td>\n",
              "      <td>0.680000</td>\n",
              "      <td>1.000000</td>\n",
              "    </tr>\n",
              "    <tr>\n",
              "      <th>3</th>\n",
              "      <td>KNeighborsClassifier</td>\n",
              "      <td>0.760000</td>\n",
              "      <td>0.777027</td>\n",
              "      <td>0.756543</td>\n",
              "      <td>0.780100</td>\n",
              "    </tr>\n",
              "    <tr>\n",
              "      <th>4</th>\n",
              "      <td>GaussianNB</td>\n",
              "      <td>0.706667</td>\n",
              "      <td>0.756757</td>\n",
              "      <td>0.709943</td>\n",
              "      <td>0.761007</td>\n",
              "    </tr>\n",
              "    <tr>\n",
              "      <th>5</th>\n",
              "      <td>SVC</td>\n",
              "      <td>0.746667</td>\n",
              "      <td>0.787162</td>\n",
              "      <td>0.738579</td>\n",
              "      <td>0.784676</td>\n",
              "    </tr>\n",
              "    <tr>\n",
              "      <th>6</th>\n",
              "      <td>GradientBoostingClassifier</td>\n",
              "      <td>0.680000</td>\n",
              "      <td>1.000000</td>\n",
              "      <td>0.687003</td>\n",
              "      <td>1.000000</td>\n",
              "    </tr>\n",
              "    <tr>\n",
              "      <th>7</th>\n",
              "      <td>AdaBoostClassifier</td>\n",
              "      <td>0.720000</td>\n",
              "      <td>0.743243</td>\n",
              "      <td>0.727999</td>\n",
              "      <td>0.745722</td>\n",
              "    </tr>\n",
              "    <tr>\n",
              "      <th>8</th>\n",
              "      <td>LinearDiscriminantAnalysis</td>\n",
              "      <td>0.706667</td>\n",
              "      <td>0.750000</td>\n",
              "      <td>0.698140</td>\n",
              "      <td>0.750392</td>\n",
              "    </tr>\n",
              "    <tr>\n",
              "      <th>9</th>\n",
              "      <td>QuadraticDiscriminantAnalysis</td>\n",
              "      <td>0.706667</td>\n",
              "      <td>0.783784</td>\n",
              "      <td>0.700580</td>\n",
              "      <td>0.785108</td>\n",
              "    </tr>\n",
              "    <tr>\n",
              "      <th>10</th>\n",
              "      <td>SGDClassifier</td>\n",
              "      <td>0.773333</td>\n",
              "      <td>0.726351</td>\n",
              "      <td>0.772404</td>\n",
              "      <td>0.726649</td>\n",
              "    </tr>\n",
              "    <tr>\n",
              "      <th>11</th>\n",
              "      <td>BaggingClassifier</td>\n",
              "      <td>0.706667</td>\n",
              "      <td>0.986486</td>\n",
              "      <td>0.709989</td>\n",
              "      <td>0.986430</td>\n",
              "    </tr>\n",
              "    <tr>\n",
              "      <th>12</th>\n",
              "      <td>RandomForest_RandomizedSearchCV</td>\n",
              "      <td>0.733333</td>\n",
              "      <td>0.868243</td>\n",
              "      <td>0.723321</td>\n",
              "      <td>0.868871</td>\n",
              "    </tr>\n",
              "    <tr>\n",
              "      <th>13</th>\n",
              "      <td>KNeighbors_K_5</td>\n",
              "      <td>0.760000</td>\n",
              "      <td>0.777027</td>\n",
              "      <td>0.756543</td>\n",
              "      <td>0.780100</td>\n",
              "    </tr>\n",
              "    <tr>\n",
              "      <th>14</th>\n",
              "      <td>SGDClassifier_GridSearchCV</td>\n",
              "      <td>0.773333</td>\n",
              "      <td>0.719595</td>\n",
              "      <td>0.780079</td>\n",
              "      <td>0.721662</td>\n",
              "    </tr>\n",
              "    <tr>\n",
              "      <th>15</th>\n",
              "      <td>GradientBoostingClassifier</td>\n",
              "      <td>0.706667</td>\n",
              "      <td>0.908784</td>\n",
              "      <td>0.708878</td>\n",
              "      <td>0.909381</td>\n",
              "    </tr>\n",
              "  </tbody>\n",
              "</table>\n",
              "</div>"
            ],
            "text/plain": [
              "                              model  accuracy_test  accuracy_train  \\\n",
              "0                LogisticRegression       0.746667        0.763514   \n",
              "1            DecisionTreeClassifier       0.720000        1.000000   \n",
              "2            RandomForestClassifier       0.680000        1.000000   \n",
              "3              KNeighborsClassifier       0.760000        0.777027   \n",
              "4                        GaussianNB       0.706667        0.756757   \n",
              "5                               SVC       0.746667        0.787162   \n",
              "6        GradientBoostingClassifier       0.680000        1.000000   \n",
              "7                AdaBoostClassifier       0.720000        0.743243   \n",
              "8        LinearDiscriminantAnalysis       0.706667        0.750000   \n",
              "9     QuadraticDiscriminantAnalysis       0.706667        0.783784   \n",
              "10                    SGDClassifier       0.773333        0.726351   \n",
              "11                BaggingClassifier       0.706667        0.986486   \n",
              "12  RandomForest_RandomizedSearchCV       0.733333        0.868243   \n",
              "13                   KNeighbors_K_5       0.760000        0.777027   \n",
              "14       SGDClassifier_GridSearchCV       0.773333        0.719595   \n",
              "15       GradientBoostingClassifier       0.706667        0.908784   \n",
              "\n",
              "    f1score_test  f1score_train  \n",
              "0       0.735185       0.758397  \n",
              "1       0.714698       1.000000  \n",
              "2       0.680000       1.000000  \n",
              "3       0.756543       0.780100  \n",
              "4       0.709943       0.761007  \n",
              "5       0.738579       0.784676  \n",
              "6       0.687003       1.000000  \n",
              "7       0.727999       0.745722  \n",
              "8       0.698140       0.750392  \n",
              "9       0.700580       0.785108  \n",
              "10      0.772404       0.726649  \n",
              "11      0.709989       0.986430  \n",
              "12      0.723321       0.868871  \n",
              "13      0.756543       0.780100  \n",
              "14      0.780079       0.721662  \n",
              "15      0.708878       0.909381  "
            ]
          },
          "metadata": {
            "tags": []
          },
          "execution_count": 40
        }
      ]
    },
    {
      "cell_type": "code",
      "metadata": {
        "colab": {
          "base_uri": "https://localhost:8080/",
          "height": 524
        },
        "id": "FLFdMcWQa6UX",
        "outputId": "f396a463-874d-4661-b4d8-4bbac8d98629"
      },
      "source": [
        "model_metrics.loc[15,\"model\"] = \"GradientBoosting_GridSearchCV\" \n",
        "model_metrics"
      ],
      "execution_count": 41,
      "outputs": [
        {
          "output_type": "execute_result",
          "data": {
            "text/html": [
              "<div>\n",
              "<style scoped>\n",
              "    .dataframe tbody tr th:only-of-type {\n",
              "        vertical-align: middle;\n",
              "    }\n",
              "\n",
              "    .dataframe tbody tr th {\n",
              "        vertical-align: top;\n",
              "    }\n",
              "\n",
              "    .dataframe thead th {\n",
              "        text-align: right;\n",
              "    }\n",
              "</style>\n",
              "<table border=\"1\" class=\"dataframe\">\n",
              "  <thead>\n",
              "    <tr style=\"text-align: right;\">\n",
              "      <th></th>\n",
              "      <th>model</th>\n",
              "      <th>accuracy_test</th>\n",
              "      <th>accuracy_train</th>\n",
              "      <th>f1score_test</th>\n",
              "      <th>f1score_train</th>\n",
              "    </tr>\n",
              "  </thead>\n",
              "  <tbody>\n",
              "    <tr>\n",
              "      <th>0</th>\n",
              "      <td>LogisticRegression</td>\n",
              "      <td>0.746667</td>\n",
              "      <td>0.763514</td>\n",
              "      <td>0.735185</td>\n",
              "      <td>0.758397</td>\n",
              "    </tr>\n",
              "    <tr>\n",
              "      <th>1</th>\n",
              "      <td>DecisionTreeClassifier</td>\n",
              "      <td>0.720000</td>\n",
              "      <td>1.000000</td>\n",
              "      <td>0.714698</td>\n",
              "      <td>1.000000</td>\n",
              "    </tr>\n",
              "    <tr>\n",
              "      <th>2</th>\n",
              "      <td>RandomForestClassifier</td>\n",
              "      <td>0.680000</td>\n",
              "      <td>1.000000</td>\n",
              "      <td>0.680000</td>\n",
              "      <td>1.000000</td>\n",
              "    </tr>\n",
              "    <tr>\n",
              "      <th>3</th>\n",
              "      <td>KNeighborsClassifier</td>\n",
              "      <td>0.760000</td>\n",
              "      <td>0.777027</td>\n",
              "      <td>0.756543</td>\n",
              "      <td>0.780100</td>\n",
              "    </tr>\n",
              "    <tr>\n",
              "      <th>4</th>\n",
              "      <td>GaussianNB</td>\n",
              "      <td>0.706667</td>\n",
              "      <td>0.756757</td>\n",
              "      <td>0.709943</td>\n",
              "      <td>0.761007</td>\n",
              "    </tr>\n",
              "    <tr>\n",
              "      <th>5</th>\n",
              "      <td>SVC</td>\n",
              "      <td>0.746667</td>\n",
              "      <td>0.787162</td>\n",
              "      <td>0.738579</td>\n",
              "      <td>0.784676</td>\n",
              "    </tr>\n",
              "    <tr>\n",
              "      <th>6</th>\n",
              "      <td>GradientBoostingClassifier</td>\n",
              "      <td>0.680000</td>\n",
              "      <td>1.000000</td>\n",
              "      <td>0.687003</td>\n",
              "      <td>1.000000</td>\n",
              "    </tr>\n",
              "    <tr>\n",
              "      <th>7</th>\n",
              "      <td>AdaBoostClassifier</td>\n",
              "      <td>0.720000</td>\n",
              "      <td>0.743243</td>\n",
              "      <td>0.727999</td>\n",
              "      <td>0.745722</td>\n",
              "    </tr>\n",
              "    <tr>\n",
              "      <th>8</th>\n",
              "      <td>LinearDiscriminantAnalysis</td>\n",
              "      <td>0.706667</td>\n",
              "      <td>0.750000</td>\n",
              "      <td>0.698140</td>\n",
              "      <td>0.750392</td>\n",
              "    </tr>\n",
              "    <tr>\n",
              "      <th>9</th>\n",
              "      <td>QuadraticDiscriminantAnalysis</td>\n",
              "      <td>0.706667</td>\n",
              "      <td>0.783784</td>\n",
              "      <td>0.700580</td>\n",
              "      <td>0.785108</td>\n",
              "    </tr>\n",
              "    <tr>\n",
              "      <th>10</th>\n",
              "      <td>SGDClassifier</td>\n",
              "      <td>0.773333</td>\n",
              "      <td>0.726351</td>\n",
              "      <td>0.772404</td>\n",
              "      <td>0.726649</td>\n",
              "    </tr>\n",
              "    <tr>\n",
              "      <th>11</th>\n",
              "      <td>BaggingClassifier</td>\n",
              "      <td>0.706667</td>\n",
              "      <td>0.986486</td>\n",
              "      <td>0.709989</td>\n",
              "      <td>0.986430</td>\n",
              "    </tr>\n",
              "    <tr>\n",
              "      <th>12</th>\n",
              "      <td>RandomForest_RandomizedSearchCV</td>\n",
              "      <td>0.733333</td>\n",
              "      <td>0.868243</td>\n",
              "      <td>0.723321</td>\n",
              "      <td>0.868871</td>\n",
              "    </tr>\n",
              "    <tr>\n",
              "      <th>13</th>\n",
              "      <td>KNeighbors_K_5</td>\n",
              "      <td>0.760000</td>\n",
              "      <td>0.777027</td>\n",
              "      <td>0.756543</td>\n",
              "      <td>0.780100</td>\n",
              "    </tr>\n",
              "    <tr>\n",
              "      <th>14</th>\n",
              "      <td>SGDClassifier_GridSearchCV</td>\n",
              "      <td>0.773333</td>\n",
              "      <td>0.719595</td>\n",
              "      <td>0.780079</td>\n",
              "      <td>0.721662</td>\n",
              "    </tr>\n",
              "    <tr>\n",
              "      <th>15</th>\n",
              "      <td>GradientBoosting_GridSearchCV</td>\n",
              "      <td>0.706667</td>\n",
              "      <td>0.908784</td>\n",
              "      <td>0.708878</td>\n",
              "      <td>0.909381</td>\n",
              "    </tr>\n",
              "  </tbody>\n",
              "</table>\n",
              "</div>"
            ],
            "text/plain": [
              "                              model  accuracy_test  accuracy_train  \\\n",
              "0                LogisticRegression       0.746667        0.763514   \n",
              "1            DecisionTreeClassifier       0.720000        1.000000   \n",
              "2            RandomForestClassifier       0.680000        1.000000   \n",
              "3              KNeighborsClassifier       0.760000        0.777027   \n",
              "4                        GaussianNB       0.706667        0.756757   \n",
              "5                               SVC       0.746667        0.787162   \n",
              "6        GradientBoostingClassifier       0.680000        1.000000   \n",
              "7                AdaBoostClassifier       0.720000        0.743243   \n",
              "8        LinearDiscriminantAnalysis       0.706667        0.750000   \n",
              "9     QuadraticDiscriminantAnalysis       0.706667        0.783784   \n",
              "10                    SGDClassifier       0.773333        0.726351   \n",
              "11                BaggingClassifier       0.706667        0.986486   \n",
              "12  RandomForest_RandomizedSearchCV       0.733333        0.868243   \n",
              "13                   KNeighbors_K_5       0.760000        0.777027   \n",
              "14       SGDClassifier_GridSearchCV       0.773333        0.719595   \n",
              "15    GradientBoosting_GridSearchCV       0.706667        0.908784   \n",
              "\n",
              "    f1score_test  f1score_train  \n",
              "0       0.735185       0.758397  \n",
              "1       0.714698       1.000000  \n",
              "2       0.680000       1.000000  \n",
              "3       0.756543       0.780100  \n",
              "4       0.709943       0.761007  \n",
              "5       0.738579       0.784676  \n",
              "6       0.687003       1.000000  \n",
              "7       0.727999       0.745722  \n",
              "8       0.698140       0.750392  \n",
              "9       0.700580       0.785108  \n",
              "10      0.772404       0.726649  \n",
              "11      0.709989       0.986430  \n",
              "12      0.723321       0.868871  \n",
              "13      0.756543       0.780100  \n",
              "14      0.780079       0.721662  \n",
              "15      0.708878       0.909381  "
            ]
          },
          "metadata": {
            "tags": []
          },
          "execution_count": 41
        }
      ]
    },
    {
      "cell_type": "markdown",
      "metadata": {
        "id": "Lkgt-9Yzyj9G"
      },
      "source": [
        "<a id=section50305></a>\n",
        "### 5.3.5 Best parameter for Logistic Regression"
      ]
    },
    {
      "cell_type": "code",
      "metadata": {
        "colab": {
          "base_uri": "https://localhost:8080/"
        },
        "id": "MfEIQ2vogZfW",
        "outputId": "c51cac6d-9c58-43bc-bdf5-3ed139a03b0a"
      },
      "source": [
        "params = {'penalty':['l1', 'l2'], 'C':[1, 2, 3, 5, 10]}\n",
        "model = LogisticRegression(random_state = 42)\n",
        "lr = GridSearchCV(model, param_grid = params, cv = 5, n_jobs = -1)\n",
        "lr.fit(X_train, y_train)\n",
        "print('Best score: {}'.format(lr.best_score_))\n",
        "print('Best parameters: {}'.format(lr.best_params_))"
      ],
      "execution_count": 42,
      "outputs": [
        {
          "output_type": "execute_result",
          "data": {
            "text/plain": [
              "GridSearchCV(cv=5, error_score=nan,\n",
              "             estimator=LogisticRegression(C=1.0, class_weight=None, dual=False,\n",
              "                                          fit_intercept=True,\n",
              "                                          intercept_scaling=1, l1_ratio=None,\n",
              "                                          max_iter=100, multi_class='auto',\n",
              "                                          n_jobs=None, penalty='l2',\n",
              "                                          random_state=42, solver='lbfgs',\n",
              "                                          tol=0.0001, verbose=0,\n",
              "                                          warm_start=False),\n",
              "             iid='deprecated', n_jobs=-1,\n",
              "             param_grid={'C': [1, 2, 3, 5, 10], 'penalty': ['l1', 'l2']},\n",
              "             pre_dispatch='2*n_jobs', refit=True, return_train_score=False,\n",
              "             scoring=None, verbose=0)"
            ]
          },
          "metadata": {
            "tags": []
          },
          "execution_count": 42
        },
        {
          "output_type": "stream",
          "text": [
            "Best score: 0.7228813559322033\n",
            "Best parameters: {'C': 10, 'penalty': 'l2'}\n"
          ],
          "name": "stdout"
        }
      ]
    },
    {
      "cell_type": "code",
      "metadata": {
        "colab": {
          "base_uri": "https://localhost:8080/",
          "height": 638
        },
        "id": "txt9tIooBWof",
        "outputId": "3a5aab4c-b4a4-4231-f48d-35500c79d15c"
      },
      "source": [
        "lr_best = LogisticRegression(random_state = 42, C = 10, penalty = 'l2')\n",
        "lr_best.fit(X_train, y_train)\n",
        "y_pred_train = lr_best.predict(X_train)\n",
        "y_pred_test = lr_best.predict(X_test)\n",
        "model_metrics = get_metrics(y_train,y_pred_train,y_test,y_pred_test,model_metrics, lr_best)\n",
        "model_metrics"
      ],
      "execution_count": 43,
      "outputs": [
        {
          "output_type": "execute_result",
          "data": {
            "text/plain": [
              "LogisticRegression(C=10, class_weight=None, dual=False, fit_intercept=True,\n",
              "                   intercept_scaling=1, l1_ratio=None, max_iter=100,\n",
              "                   multi_class='auto', n_jobs=None, penalty='l2',\n",
              "                   random_state=42, solver='lbfgs', tol=0.0001, verbose=0,\n",
              "                   warm_start=False)"
            ]
          },
          "metadata": {
            "tags": []
          },
          "execution_count": 43
        },
        {
          "output_type": "execute_result",
          "data": {
            "text/html": [
              "<div>\n",
              "<style scoped>\n",
              "    .dataframe tbody tr th:only-of-type {\n",
              "        vertical-align: middle;\n",
              "    }\n",
              "\n",
              "    .dataframe tbody tr th {\n",
              "        vertical-align: top;\n",
              "    }\n",
              "\n",
              "    .dataframe thead th {\n",
              "        text-align: right;\n",
              "    }\n",
              "</style>\n",
              "<table border=\"1\" class=\"dataframe\">\n",
              "  <thead>\n",
              "    <tr style=\"text-align: right;\">\n",
              "      <th></th>\n",
              "      <th>model</th>\n",
              "      <th>accuracy_test</th>\n",
              "      <th>accuracy_train</th>\n",
              "      <th>f1score_test</th>\n",
              "      <th>f1score_train</th>\n",
              "    </tr>\n",
              "  </thead>\n",
              "  <tbody>\n",
              "    <tr>\n",
              "      <th>0</th>\n",
              "      <td>LogisticRegression</td>\n",
              "      <td>0.746667</td>\n",
              "      <td>0.763514</td>\n",
              "      <td>0.735185</td>\n",
              "      <td>0.758397</td>\n",
              "    </tr>\n",
              "    <tr>\n",
              "      <th>1</th>\n",
              "      <td>DecisionTreeClassifier</td>\n",
              "      <td>0.720000</td>\n",
              "      <td>1.000000</td>\n",
              "      <td>0.714698</td>\n",
              "      <td>1.000000</td>\n",
              "    </tr>\n",
              "    <tr>\n",
              "      <th>2</th>\n",
              "      <td>RandomForestClassifier</td>\n",
              "      <td>0.680000</td>\n",
              "      <td>1.000000</td>\n",
              "      <td>0.680000</td>\n",
              "      <td>1.000000</td>\n",
              "    </tr>\n",
              "    <tr>\n",
              "      <th>3</th>\n",
              "      <td>KNeighborsClassifier</td>\n",
              "      <td>0.760000</td>\n",
              "      <td>0.777027</td>\n",
              "      <td>0.756543</td>\n",
              "      <td>0.780100</td>\n",
              "    </tr>\n",
              "    <tr>\n",
              "      <th>4</th>\n",
              "      <td>GaussianNB</td>\n",
              "      <td>0.706667</td>\n",
              "      <td>0.756757</td>\n",
              "      <td>0.709943</td>\n",
              "      <td>0.761007</td>\n",
              "    </tr>\n",
              "    <tr>\n",
              "      <th>5</th>\n",
              "      <td>SVC</td>\n",
              "      <td>0.746667</td>\n",
              "      <td>0.787162</td>\n",
              "      <td>0.738579</td>\n",
              "      <td>0.784676</td>\n",
              "    </tr>\n",
              "    <tr>\n",
              "      <th>6</th>\n",
              "      <td>GradientBoostingClassifier</td>\n",
              "      <td>0.680000</td>\n",
              "      <td>1.000000</td>\n",
              "      <td>0.687003</td>\n",
              "      <td>1.000000</td>\n",
              "    </tr>\n",
              "    <tr>\n",
              "      <th>7</th>\n",
              "      <td>AdaBoostClassifier</td>\n",
              "      <td>0.720000</td>\n",
              "      <td>0.743243</td>\n",
              "      <td>0.727999</td>\n",
              "      <td>0.745722</td>\n",
              "    </tr>\n",
              "    <tr>\n",
              "      <th>8</th>\n",
              "      <td>LinearDiscriminantAnalysis</td>\n",
              "      <td>0.706667</td>\n",
              "      <td>0.750000</td>\n",
              "      <td>0.698140</td>\n",
              "      <td>0.750392</td>\n",
              "    </tr>\n",
              "    <tr>\n",
              "      <th>9</th>\n",
              "      <td>QuadraticDiscriminantAnalysis</td>\n",
              "      <td>0.706667</td>\n",
              "      <td>0.783784</td>\n",
              "      <td>0.700580</td>\n",
              "      <td>0.785108</td>\n",
              "    </tr>\n",
              "    <tr>\n",
              "      <th>10</th>\n",
              "      <td>SGDClassifier</td>\n",
              "      <td>0.773333</td>\n",
              "      <td>0.726351</td>\n",
              "      <td>0.772404</td>\n",
              "      <td>0.726649</td>\n",
              "    </tr>\n",
              "    <tr>\n",
              "      <th>11</th>\n",
              "      <td>BaggingClassifier</td>\n",
              "      <td>0.706667</td>\n",
              "      <td>0.986486</td>\n",
              "      <td>0.709989</td>\n",
              "      <td>0.986430</td>\n",
              "    </tr>\n",
              "    <tr>\n",
              "      <th>12</th>\n",
              "      <td>RandomForest_RandomizedSearchCV</td>\n",
              "      <td>0.733333</td>\n",
              "      <td>0.868243</td>\n",
              "      <td>0.723321</td>\n",
              "      <td>0.868871</td>\n",
              "    </tr>\n",
              "    <tr>\n",
              "      <th>13</th>\n",
              "      <td>KNeighbors_K_5</td>\n",
              "      <td>0.760000</td>\n",
              "      <td>0.777027</td>\n",
              "      <td>0.756543</td>\n",
              "      <td>0.780100</td>\n",
              "    </tr>\n",
              "    <tr>\n",
              "      <th>14</th>\n",
              "      <td>SGDClassifier_GridSearchCV</td>\n",
              "      <td>0.773333</td>\n",
              "      <td>0.719595</td>\n",
              "      <td>0.780079</td>\n",
              "      <td>0.721662</td>\n",
              "    </tr>\n",
              "    <tr>\n",
              "      <th>15</th>\n",
              "      <td>GradientBoosting_GridSearchCV</td>\n",
              "      <td>0.706667</td>\n",
              "      <td>0.908784</td>\n",
              "      <td>0.708878</td>\n",
              "      <td>0.909381</td>\n",
              "    </tr>\n",
              "    <tr>\n",
              "      <th>16</th>\n",
              "      <td>LogisticRegression</td>\n",
              "      <td>0.760000</td>\n",
              "      <td>0.760135</td>\n",
              "      <td>0.754744</td>\n",
              "      <td>0.759202</td>\n",
              "    </tr>\n",
              "  </tbody>\n",
              "</table>\n",
              "</div>"
            ],
            "text/plain": [
              "                              model  accuracy_test  accuracy_train  \\\n",
              "0                LogisticRegression       0.746667        0.763514   \n",
              "1            DecisionTreeClassifier       0.720000        1.000000   \n",
              "2            RandomForestClassifier       0.680000        1.000000   \n",
              "3              KNeighborsClassifier       0.760000        0.777027   \n",
              "4                        GaussianNB       0.706667        0.756757   \n",
              "5                               SVC       0.746667        0.787162   \n",
              "6        GradientBoostingClassifier       0.680000        1.000000   \n",
              "7                AdaBoostClassifier       0.720000        0.743243   \n",
              "8        LinearDiscriminantAnalysis       0.706667        0.750000   \n",
              "9     QuadraticDiscriminantAnalysis       0.706667        0.783784   \n",
              "10                    SGDClassifier       0.773333        0.726351   \n",
              "11                BaggingClassifier       0.706667        0.986486   \n",
              "12  RandomForest_RandomizedSearchCV       0.733333        0.868243   \n",
              "13                   KNeighbors_K_5       0.760000        0.777027   \n",
              "14       SGDClassifier_GridSearchCV       0.773333        0.719595   \n",
              "15    GradientBoosting_GridSearchCV       0.706667        0.908784   \n",
              "16               LogisticRegression       0.760000        0.760135   \n",
              "\n",
              "    f1score_test  f1score_train  \n",
              "0       0.735185       0.758397  \n",
              "1       0.714698       1.000000  \n",
              "2       0.680000       1.000000  \n",
              "3       0.756543       0.780100  \n",
              "4       0.709943       0.761007  \n",
              "5       0.738579       0.784676  \n",
              "6       0.687003       1.000000  \n",
              "7       0.727999       0.745722  \n",
              "8       0.698140       0.750392  \n",
              "9       0.700580       0.785108  \n",
              "10      0.772404       0.726649  \n",
              "11      0.709989       0.986430  \n",
              "12      0.723321       0.868871  \n",
              "13      0.756543       0.780100  \n",
              "14      0.780079       0.721662  \n",
              "15      0.708878       0.909381  \n",
              "16      0.754744       0.759202  "
            ]
          },
          "metadata": {
            "tags": []
          },
          "execution_count": 43
        }
      ]
    },
    {
      "cell_type": "code",
      "metadata": {
        "colab": {
          "base_uri": "https://localhost:8080/",
          "height": 554
        },
        "id": "X_AJA2mviw5R",
        "outputId": "8920e70d-d22b-4923-b58d-4dde324e0886"
      },
      "source": [
        "model_metrics.loc[16,\"model\"] = \"LogisticRegression_GridSearchCV\" \n",
        "model_metrics"
      ],
      "execution_count": 44,
      "outputs": [
        {
          "output_type": "execute_result",
          "data": {
            "text/html": [
              "<div>\n",
              "<style scoped>\n",
              "    .dataframe tbody tr th:only-of-type {\n",
              "        vertical-align: middle;\n",
              "    }\n",
              "\n",
              "    .dataframe tbody tr th {\n",
              "        vertical-align: top;\n",
              "    }\n",
              "\n",
              "    .dataframe thead th {\n",
              "        text-align: right;\n",
              "    }\n",
              "</style>\n",
              "<table border=\"1\" class=\"dataframe\">\n",
              "  <thead>\n",
              "    <tr style=\"text-align: right;\">\n",
              "      <th></th>\n",
              "      <th>model</th>\n",
              "      <th>accuracy_test</th>\n",
              "      <th>accuracy_train</th>\n",
              "      <th>f1score_test</th>\n",
              "      <th>f1score_train</th>\n",
              "    </tr>\n",
              "  </thead>\n",
              "  <tbody>\n",
              "    <tr>\n",
              "      <th>0</th>\n",
              "      <td>LogisticRegression</td>\n",
              "      <td>0.746667</td>\n",
              "      <td>0.763514</td>\n",
              "      <td>0.735185</td>\n",
              "      <td>0.758397</td>\n",
              "    </tr>\n",
              "    <tr>\n",
              "      <th>1</th>\n",
              "      <td>DecisionTreeClassifier</td>\n",
              "      <td>0.720000</td>\n",
              "      <td>1.000000</td>\n",
              "      <td>0.714698</td>\n",
              "      <td>1.000000</td>\n",
              "    </tr>\n",
              "    <tr>\n",
              "      <th>2</th>\n",
              "      <td>RandomForestClassifier</td>\n",
              "      <td>0.680000</td>\n",
              "      <td>1.000000</td>\n",
              "      <td>0.680000</td>\n",
              "      <td>1.000000</td>\n",
              "    </tr>\n",
              "    <tr>\n",
              "      <th>3</th>\n",
              "      <td>KNeighborsClassifier</td>\n",
              "      <td>0.760000</td>\n",
              "      <td>0.777027</td>\n",
              "      <td>0.756543</td>\n",
              "      <td>0.780100</td>\n",
              "    </tr>\n",
              "    <tr>\n",
              "      <th>4</th>\n",
              "      <td>GaussianNB</td>\n",
              "      <td>0.706667</td>\n",
              "      <td>0.756757</td>\n",
              "      <td>0.709943</td>\n",
              "      <td>0.761007</td>\n",
              "    </tr>\n",
              "    <tr>\n",
              "      <th>5</th>\n",
              "      <td>SVC</td>\n",
              "      <td>0.746667</td>\n",
              "      <td>0.787162</td>\n",
              "      <td>0.738579</td>\n",
              "      <td>0.784676</td>\n",
              "    </tr>\n",
              "    <tr>\n",
              "      <th>6</th>\n",
              "      <td>GradientBoostingClassifier</td>\n",
              "      <td>0.680000</td>\n",
              "      <td>1.000000</td>\n",
              "      <td>0.687003</td>\n",
              "      <td>1.000000</td>\n",
              "    </tr>\n",
              "    <tr>\n",
              "      <th>7</th>\n",
              "      <td>AdaBoostClassifier</td>\n",
              "      <td>0.720000</td>\n",
              "      <td>0.743243</td>\n",
              "      <td>0.727999</td>\n",
              "      <td>0.745722</td>\n",
              "    </tr>\n",
              "    <tr>\n",
              "      <th>8</th>\n",
              "      <td>LinearDiscriminantAnalysis</td>\n",
              "      <td>0.706667</td>\n",
              "      <td>0.750000</td>\n",
              "      <td>0.698140</td>\n",
              "      <td>0.750392</td>\n",
              "    </tr>\n",
              "    <tr>\n",
              "      <th>9</th>\n",
              "      <td>QuadraticDiscriminantAnalysis</td>\n",
              "      <td>0.706667</td>\n",
              "      <td>0.783784</td>\n",
              "      <td>0.700580</td>\n",
              "      <td>0.785108</td>\n",
              "    </tr>\n",
              "    <tr>\n",
              "      <th>10</th>\n",
              "      <td>SGDClassifier</td>\n",
              "      <td>0.773333</td>\n",
              "      <td>0.726351</td>\n",
              "      <td>0.772404</td>\n",
              "      <td>0.726649</td>\n",
              "    </tr>\n",
              "    <tr>\n",
              "      <th>11</th>\n",
              "      <td>BaggingClassifier</td>\n",
              "      <td>0.706667</td>\n",
              "      <td>0.986486</td>\n",
              "      <td>0.709989</td>\n",
              "      <td>0.986430</td>\n",
              "    </tr>\n",
              "    <tr>\n",
              "      <th>12</th>\n",
              "      <td>RandomForest_RandomizedSearchCV</td>\n",
              "      <td>0.733333</td>\n",
              "      <td>0.868243</td>\n",
              "      <td>0.723321</td>\n",
              "      <td>0.868871</td>\n",
              "    </tr>\n",
              "    <tr>\n",
              "      <th>13</th>\n",
              "      <td>KNeighbors_K_5</td>\n",
              "      <td>0.760000</td>\n",
              "      <td>0.777027</td>\n",
              "      <td>0.756543</td>\n",
              "      <td>0.780100</td>\n",
              "    </tr>\n",
              "    <tr>\n",
              "      <th>14</th>\n",
              "      <td>SGDClassifier_GridSearchCV</td>\n",
              "      <td>0.773333</td>\n",
              "      <td>0.719595</td>\n",
              "      <td>0.780079</td>\n",
              "      <td>0.721662</td>\n",
              "    </tr>\n",
              "    <tr>\n",
              "      <th>15</th>\n",
              "      <td>GradientBoosting_GridSearchCV</td>\n",
              "      <td>0.706667</td>\n",
              "      <td>0.908784</td>\n",
              "      <td>0.708878</td>\n",
              "      <td>0.909381</td>\n",
              "    </tr>\n",
              "    <tr>\n",
              "      <th>16</th>\n",
              "      <td>LogisticRegression_GridSearchCV</td>\n",
              "      <td>0.760000</td>\n",
              "      <td>0.760135</td>\n",
              "      <td>0.754744</td>\n",
              "      <td>0.759202</td>\n",
              "    </tr>\n",
              "  </tbody>\n",
              "</table>\n",
              "</div>"
            ],
            "text/plain": [
              "                              model  accuracy_test  accuracy_train  \\\n",
              "0                LogisticRegression       0.746667        0.763514   \n",
              "1            DecisionTreeClassifier       0.720000        1.000000   \n",
              "2            RandomForestClassifier       0.680000        1.000000   \n",
              "3              KNeighborsClassifier       0.760000        0.777027   \n",
              "4                        GaussianNB       0.706667        0.756757   \n",
              "5                               SVC       0.746667        0.787162   \n",
              "6        GradientBoostingClassifier       0.680000        1.000000   \n",
              "7                AdaBoostClassifier       0.720000        0.743243   \n",
              "8        LinearDiscriminantAnalysis       0.706667        0.750000   \n",
              "9     QuadraticDiscriminantAnalysis       0.706667        0.783784   \n",
              "10                    SGDClassifier       0.773333        0.726351   \n",
              "11                BaggingClassifier       0.706667        0.986486   \n",
              "12  RandomForest_RandomizedSearchCV       0.733333        0.868243   \n",
              "13                   KNeighbors_K_5       0.760000        0.777027   \n",
              "14       SGDClassifier_GridSearchCV       0.773333        0.719595   \n",
              "15    GradientBoosting_GridSearchCV       0.706667        0.908784   \n",
              "16  LogisticRegression_GridSearchCV       0.760000        0.760135   \n",
              "\n",
              "    f1score_test  f1score_train  \n",
              "0       0.735185       0.758397  \n",
              "1       0.714698       1.000000  \n",
              "2       0.680000       1.000000  \n",
              "3       0.756543       0.780100  \n",
              "4       0.709943       0.761007  \n",
              "5       0.738579       0.784676  \n",
              "6       0.687003       1.000000  \n",
              "7       0.727999       0.745722  \n",
              "8       0.698140       0.750392  \n",
              "9       0.700580       0.785108  \n",
              "10      0.772404       0.726649  \n",
              "11      0.709989       0.986430  \n",
              "12      0.723321       0.868871  \n",
              "13      0.756543       0.780100  \n",
              "14      0.780079       0.721662  \n",
              "15      0.708878       0.909381  \n",
              "16      0.754744       0.759202  "
            ]
          },
          "metadata": {
            "tags": []
          },
          "execution_count": 44
        }
      ]
    },
    {
      "cell_type": "markdown",
      "metadata": {
        "id": "N6gpItnTPmkU"
      },
      "source": [
        "<a id=section50306></a>\n",
        "### 5.3.6 Grid Search CV on Support Vector Classifier"
      ]
    },
    {
      "cell_type": "code",
      "metadata": {
        "colab": {
          "base_uri": "https://localhost:8080/"
        },
        "id": "4VraaAEN_rV7",
        "outputId": "e49d93e1-c343-44bd-8c39-f9c2cd8f534f"
      },
      "source": [
        "params = {'kernel':['linear', 'rbf'], 'C':[1, 3, 5, 10], 'degree':[3, 5, 10]}\n",
        "model = SVC(probability = True, random_state = 42)\n",
        "svc = GridSearchCV(model, param_grid = params, cv = 5, n_jobs = -1)\n",
        "svc.fit(X_train, y_train)\n",
        "print('Best score: {}'.format(svc.best_score_))\n",
        "print('Best parameters: {}'.format(svc.best_params_))"
      ],
      "execution_count": 45,
      "outputs": [
        {
          "output_type": "execute_result",
          "data": {
            "text/plain": [
              "GridSearchCV(cv=5, error_score=nan,\n",
              "             estimator=SVC(C=1.0, break_ties=False, cache_size=200,\n",
              "                           class_weight=None, coef0=0.0,\n",
              "                           decision_function_shape='ovr', degree=3,\n",
              "                           gamma='scale', kernel='rbf', max_iter=-1,\n",
              "                           probability=True, random_state=42, shrinking=True,\n",
              "                           tol=0.001, verbose=False),\n",
              "             iid='deprecated', n_jobs=-1,\n",
              "             param_grid={'C': [1, 3, 5, 10], 'degree': [3, 5, 10],\n",
              "                         'kernel': ['linear', 'rbf']},\n",
              "             pre_dispatch='2*n_jobs', refit=True, return_train_score=False,\n",
              "             scoring=None, verbose=0)"
            ]
          },
          "metadata": {
            "tags": []
          },
          "execution_count": 45
        },
        {
          "output_type": "stream",
          "text": [
            "Best score: 0.7161016949152541\n",
            "Best parameters: {'C': 10, 'degree': 3, 'kernel': 'linear'}\n"
          ],
          "name": "stdout"
        }
      ]
    },
    {
      "cell_type": "code",
      "metadata": {
        "colab": {
          "base_uri": "https://localhost:8080/"
        },
        "id": "aI_WgGi4AOJ3",
        "outputId": "09dd4007-c276-454e-be1e-22aa71ec83a5"
      },
      "source": [
        "%%time\n",
        "svc_best = SVC(C = 10, degree = 3, kernel = 'linear', probability = True, random_state = 42)\n",
        "svc_best.fit(X_train, y_train)\n",
        "y_pred_train = svc_best.predict(X_train)\n",
        "y_pred_test = svc_best.predict(X_test)\n",
        "model_metrics = get_metrics(y_train,y_pred_train,y_test,y_pred_test,model_metrics, svc_best)"
      ],
      "execution_count": 46,
      "outputs": [
        {
          "output_type": "stream",
          "text": [
            "CPU times: user 19.9 ms, sys: 0 ns, total: 19.9 ms\n",
            "Wall time: 22.8 ms\n"
          ],
          "name": "stdout"
        }
      ]
    },
    {
      "cell_type": "code",
      "metadata": {
        "colab": {
          "base_uri": "https://localhost:8080/",
          "height": 584
        },
        "id": "-R2aLIqkU9MB",
        "outputId": "906162d2-7d98-4c1b-c5de-2814d6a9c153"
      },
      "source": [
        "model_metrics"
      ],
      "execution_count": 47,
      "outputs": [
        {
          "output_type": "execute_result",
          "data": {
            "text/html": [
              "<div>\n",
              "<style scoped>\n",
              "    .dataframe tbody tr th:only-of-type {\n",
              "        vertical-align: middle;\n",
              "    }\n",
              "\n",
              "    .dataframe tbody tr th {\n",
              "        vertical-align: top;\n",
              "    }\n",
              "\n",
              "    .dataframe thead th {\n",
              "        text-align: right;\n",
              "    }\n",
              "</style>\n",
              "<table border=\"1\" class=\"dataframe\">\n",
              "  <thead>\n",
              "    <tr style=\"text-align: right;\">\n",
              "      <th></th>\n",
              "      <th>model</th>\n",
              "      <th>accuracy_test</th>\n",
              "      <th>accuracy_train</th>\n",
              "      <th>f1score_test</th>\n",
              "      <th>f1score_train</th>\n",
              "    </tr>\n",
              "  </thead>\n",
              "  <tbody>\n",
              "    <tr>\n",
              "      <th>0</th>\n",
              "      <td>LogisticRegression</td>\n",
              "      <td>0.746667</td>\n",
              "      <td>0.763514</td>\n",
              "      <td>0.735185</td>\n",
              "      <td>0.758397</td>\n",
              "    </tr>\n",
              "    <tr>\n",
              "      <th>1</th>\n",
              "      <td>DecisionTreeClassifier</td>\n",
              "      <td>0.720000</td>\n",
              "      <td>1.000000</td>\n",
              "      <td>0.714698</td>\n",
              "      <td>1.000000</td>\n",
              "    </tr>\n",
              "    <tr>\n",
              "      <th>2</th>\n",
              "      <td>RandomForestClassifier</td>\n",
              "      <td>0.680000</td>\n",
              "      <td>1.000000</td>\n",
              "      <td>0.680000</td>\n",
              "      <td>1.000000</td>\n",
              "    </tr>\n",
              "    <tr>\n",
              "      <th>3</th>\n",
              "      <td>KNeighborsClassifier</td>\n",
              "      <td>0.760000</td>\n",
              "      <td>0.777027</td>\n",
              "      <td>0.756543</td>\n",
              "      <td>0.780100</td>\n",
              "    </tr>\n",
              "    <tr>\n",
              "      <th>4</th>\n",
              "      <td>GaussianNB</td>\n",
              "      <td>0.706667</td>\n",
              "      <td>0.756757</td>\n",
              "      <td>0.709943</td>\n",
              "      <td>0.761007</td>\n",
              "    </tr>\n",
              "    <tr>\n",
              "      <th>5</th>\n",
              "      <td>SVC</td>\n",
              "      <td>0.746667</td>\n",
              "      <td>0.787162</td>\n",
              "      <td>0.738579</td>\n",
              "      <td>0.784676</td>\n",
              "    </tr>\n",
              "    <tr>\n",
              "      <th>6</th>\n",
              "      <td>GradientBoostingClassifier</td>\n",
              "      <td>0.680000</td>\n",
              "      <td>1.000000</td>\n",
              "      <td>0.687003</td>\n",
              "      <td>1.000000</td>\n",
              "    </tr>\n",
              "    <tr>\n",
              "      <th>7</th>\n",
              "      <td>AdaBoostClassifier</td>\n",
              "      <td>0.720000</td>\n",
              "      <td>0.743243</td>\n",
              "      <td>0.727999</td>\n",
              "      <td>0.745722</td>\n",
              "    </tr>\n",
              "    <tr>\n",
              "      <th>8</th>\n",
              "      <td>LinearDiscriminantAnalysis</td>\n",
              "      <td>0.706667</td>\n",
              "      <td>0.750000</td>\n",
              "      <td>0.698140</td>\n",
              "      <td>0.750392</td>\n",
              "    </tr>\n",
              "    <tr>\n",
              "      <th>9</th>\n",
              "      <td>QuadraticDiscriminantAnalysis</td>\n",
              "      <td>0.706667</td>\n",
              "      <td>0.783784</td>\n",
              "      <td>0.700580</td>\n",
              "      <td>0.785108</td>\n",
              "    </tr>\n",
              "    <tr>\n",
              "      <th>10</th>\n",
              "      <td>SGDClassifier</td>\n",
              "      <td>0.773333</td>\n",
              "      <td>0.726351</td>\n",
              "      <td>0.772404</td>\n",
              "      <td>0.726649</td>\n",
              "    </tr>\n",
              "    <tr>\n",
              "      <th>11</th>\n",
              "      <td>BaggingClassifier</td>\n",
              "      <td>0.706667</td>\n",
              "      <td>0.986486</td>\n",
              "      <td>0.709989</td>\n",
              "      <td>0.986430</td>\n",
              "    </tr>\n",
              "    <tr>\n",
              "      <th>12</th>\n",
              "      <td>RandomForest_RandomizedSearchCV</td>\n",
              "      <td>0.733333</td>\n",
              "      <td>0.868243</td>\n",
              "      <td>0.723321</td>\n",
              "      <td>0.868871</td>\n",
              "    </tr>\n",
              "    <tr>\n",
              "      <th>13</th>\n",
              "      <td>KNeighbors_K_5</td>\n",
              "      <td>0.760000</td>\n",
              "      <td>0.777027</td>\n",
              "      <td>0.756543</td>\n",
              "      <td>0.780100</td>\n",
              "    </tr>\n",
              "    <tr>\n",
              "      <th>14</th>\n",
              "      <td>SGDClassifier_GridSearchCV</td>\n",
              "      <td>0.773333</td>\n",
              "      <td>0.719595</td>\n",
              "      <td>0.780079</td>\n",
              "      <td>0.721662</td>\n",
              "    </tr>\n",
              "    <tr>\n",
              "      <th>15</th>\n",
              "      <td>GradientBoosting_GridSearchCV</td>\n",
              "      <td>0.706667</td>\n",
              "      <td>0.908784</td>\n",
              "      <td>0.708878</td>\n",
              "      <td>0.909381</td>\n",
              "    </tr>\n",
              "    <tr>\n",
              "      <th>16</th>\n",
              "      <td>LogisticRegression_GridSearchCV</td>\n",
              "      <td>0.760000</td>\n",
              "      <td>0.760135</td>\n",
              "      <td>0.754744</td>\n",
              "      <td>0.759202</td>\n",
              "    </tr>\n",
              "    <tr>\n",
              "      <th>17</th>\n",
              "      <td>SVC</td>\n",
              "      <td>0.773333</td>\n",
              "      <td>0.770270</td>\n",
              "      <td>0.772864</td>\n",
              "      <td>0.771632</td>\n",
              "    </tr>\n",
              "  </tbody>\n",
              "</table>\n",
              "</div>"
            ],
            "text/plain": [
              "                              model  accuracy_test  accuracy_train  \\\n",
              "0                LogisticRegression       0.746667        0.763514   \n",
              "1            DecisionTreeClassifier       0.720000        1.000000   \n",
              "2            RandomForestClassifier       0.680000        1.000000   \n",
              "3              KNeighborsClassifier       0.760000        0.777027   \n",
              "4                        GaussianNB       0.706667        0.756757   \n",
              "5                               SVC       0.746667        0.787162   \n",
              "6        GradientBoostingClassifier       0.680000        1.000000   \n",
              "7                AdaBoostClassifier       0.720000        0.743243   \n",
              "8        LinearDiscriminantAnalysis       0.706667        0.750000   \n",
              "9     QuadraticDiscriminantAnalysis       0.706667        0.783784   \n",
              "10                    SGDClassifier       0.773333        0.726351   \n",
              "11                BaggingClassifier       0.706667        0.986486   \n",
              "12  RandomForest_RandomizedSearchCV       0.733333        0.868243   \n",
              "13                   KNeighbors_K_5       0.760000        0.777027   \n",
              "14       SGDClassifier_GridSearchCV       0.773333        0.719595   \n",
              "15    GradientBoosting_GridSearchCV       0.706667        0.908784   \n",
              "16  LogisticRegression_GridSearchCV       0.760000        0.760135   \n",
              "17                              SVC       0.773333        0.770270   \n",
              "\n",
              "    f1score_test  f1score_train  \n",
              "0       0.735185       0.758397  \n",
              "1       0.714698       1.000000  \n",
              "2       0.680000       1.000000  \n",
              "3       0.756543       0.780100  \n",
              "4       0.709943       0.761007  \n",
              "5       0.738579       0.784676  \n",
              "6       0.687003       1.000000  \n",
              "7       0.727999       0.745722  \n",
              "8       0.698140       0.750392  \n",
              "9       0.700580       0.785108  \n",
              "10      0.772404       0.726649  \n",
              "11      0.709989       0.986430  \n",
              "12      0.723321       0.868871  \n",
              "13      0.756543       0.780100  \n",
              "14      0.780079       0.721662  \n",
              "15      0.708878       0.909381  \n",
              "16      0.754744       0.759202  \n",
              "17      0.772864       0.771632  "
            ]
          },
          "metadata": {
            "tags": []
          },
          "execution_count": 47
        }
      ]
    },
    {
      "cell_type": "code",
      "metadata": {
        "colab": {
          "base_uri": "https://localhost:8080/",
          "height": 584
        },
        "id": "qjdj2oneA9eb",
        "outputId": "e67110bf-d4b7-42a3-b186-f6a44b6e4b65"
      },
      "source": [
        "model_metrics.loc[17,\"model\"] = \"SVC_GridSearchCV\" \n",
        "model_metrics"
      ],
      "execution_count": 48,
      "outputs": [
        {
          "output_type": "execute_result",
          "data": {
            "text/html": [
              "<div>\n",
              "<style scoped>\n",
              "    .dataframe tbody tr th:only-of-type {\n",
              "        vertical-align: middle;\n",
              "    }\n",
              "\n",
              "    .dataframe tbody tr th {\n",
              "        vertical-align: top;\n",
              "    }\n",
              "\n",
              "    .dataframe thead th {\n",
              "        text-align: right;\n",
              "    }\n",
              "</style>\n",
              "<table border=\"1\" class=\"dataframe\">\n",
              "  <thead>\n",
              "    <tr style=\"text-align: right;\">\n",
              "      <th></th>\n",
              "      <th>model</th>\n",
              "      <th>accuracy_test</th>\n",
              "      <th>accuracy_train</th>\n",
              "      <th>f1score_test</th>\n",
              "      <th>f1score_train</th>\n",
              "    </tr>\n",
              "  </thead>\n",
              "  <tbody>\n",
              "    <tr>\n",
              "      <th>0</th>\n",
              "      <td>LogisticRegression</td>\n",
              "      <td>0.746667</td>\n",
              "      <td>0.763514</td>\n",
              "      <td>0.735185</td>\n",
              "      <td>0.758397</td>\n",
              "    </tr>\n",
              "    <tr>\n",
              "      <th>1</th>\n",
              "      <td>DecisionTreeClassifier</td>\n",
              "      <td>0.720000</td>\n",
              "      <td>1.000000</td>\n",
              "      <td>0.714698</td>\n",
              "      <td>1.000000</td>\n",
              "    </tr>\n",
              "    <tr>\n",
              "      <th>2</th>\n",
              "      <td>RandomForestClassifier</td>\n",
              "      <td>0.680000</td>\n",
              "      <td>1.000000</td>\n",
              "      <td>0.680000</td>\n",
              "      <td>1.000000</td>\n",
              "    </tr>\n",
              "    <tr>\n",
              "      <th>3</th>\n",
              "      <td>KNeighborsClassifier</td>\n",
              "      <td>0.760000</td>\n",
              "      <td>0.777027</td>\n",
              "      <td>0.756543</td>\n",
              "      <td>0.780100</td>\n",
              "    </tr>\n",
              "    <tr>\n",
              "      <th>4</th>\n",
              "      <td>GaussianNB</td>\n",
              "      <td>0.706667</td>\n",
              "      <td>0.756757</td>\n",
              "      <td>0.709943</td>\n",
              "      <td>0.761007</td>\n",
              "    </tr>\n",
              "    <tr>\n",
              "      <th>5</th>\n",
              "      <td>SVC</td>\n",
              "      <td>0.746667</td>\n",
              "      <td>0.787162</td>\n",
              "      <td>0.738579</td>\n",
              "      <td>0.784676</td>\n",
              "    </tr>\n",
              "    <tr>\n",
              "      <th>6</th>\n",
              "      <td>GradientBoostingClassifier</td>\n",
              "      <td>0.680000</td>\n",
              "      <td>1.000000</td>\n",
              "      <td>0.687003</td>\n",
              "      <td>1.000000</td>\n",
              "    </tr>\n",
              "    <tr>\n",
              "      <th>7</th>\n",
              "      <td>AdaBoostClassifier</td>\n",
              "      <td>0.720000</td>\n",
              "      <td>0.743243</td>\n",
              "      <td>0.727999</td>\n",
              "      <td>0.745722</td>\n",
              "    </tr>\n",
              "    <tr>\n",
              "      <th>8</th>\n",
              "      <td>LinearDiscriminantAnalysis</td>\n",
              "      <td>0.706667</td>\n",
              "      <td>0.750000</td>\n",
              "      <td>0.698140</td>\n",
              "      <td>0.750392</td>\n",
              "    </tr>\n",
              "    <tr>\n",
              "      <th>9</th>\n",
              "      <td>QuadraticDiscriminantAnalysis</td>\n",
              "      <td>0.706667</td>\n",
              "      <td>0.783784</td>\n",
              "      <td>0.700580</td>\n",
              "      <td>0.785108</td>\n",
              "    </tr>\n",
              "    <tr>\n",
              "      <th>10</th>\n",
              "      <td>SGDClassifier</td>\n",
              "      <td>0.773333</td>\n",
              "      <td>0.726351</td>\n",
              "      <td>0.772404</td>\n",
              "      <td>0.726649</td>\n",
              "    </tr>\n",
              "    <tr>\n",
              "      <th>11</th>\n",
              "      <td>BaggingClassifier</td>\n",
              "      <td>0.706667</td>\n",
              "      <td>0.986486</td>\n",
              "      <td>0.709989</td>\n",
              "      <td>0.986430</td>\n",
              "    </tr>\n",
              "    <tr>\n",
              "      <th>12</th>\n",
              "      <td>RandomForest_RandomizedSearchCV</td>\n",
              "      <td>0.733333</td>\n",
              "      <td>0.868243</td>\n",
              "      <td>0.723321</td>\n",
              "      <td>0.868871</td>\n",
              "    </tr>\n",
              "    <tr>\n",
              "      <th>13</th>\n",
              "      <td>KNeighbors_K_5</td>\n",
              "      <td>0.760000</td>\n",
              "      <td>0.777027</td>\n",
              "      <td>0.756543</td>\n",
              "      <td>0.780100</td>\n",
              "    </tr>\n",
              "    <tr>\n",
              "      <th>14</th>\n",
              "      <td>SGDClassifier_GridSearchCV</td>\n",
              "      <td>0.773333</td>\n",
              "      <td>0.719595</td>\n",
              "      <td>0.780079</td>\n",
              "      <td>0.721662</td>\n",
              "    </tr>\n",
              "    <tr>\n",
              "      <th>15</th>\n",
              "      <td>GradientBoosting_GridSearchCV</td>\n",
              "      <td>0.706667</td>\n",
              "      <td>0.908784</td>\n",
              "      <td>0.708878</td>\n",
              "      <td>0.909381</td>\n",
              "    </tr>\n",
              "    <tr>\n",
              "      <th>16</th>\n",
              "      <td>LogisticRegression_GridSearchCV</td>\n",
              "      <td>0.760000</td>\n",
              "      <td>0.760135</td>\n",
              "      <td>0.754744</td>\n",
              "      <td>0.759202</td>\n",
              "    </tr>\n",
              "    <tr>\n",
              "      <th>17</th>\n",
              "      <td>SVC_GridSearchCV</td>\n",
              "      <td>0.773333</td>\n",
              "      <td>0.770270</td>\n",
              "      <td>0.772864</td>\n",
              "      <td>0.771632</td>\n",
              "    </tr>\n",
              "  </tbody>\n",
              "</table>\n",
              "</div>"
            ],
            "text/plain": [
              "                              model  accuracy_test  accuracy_train  \\\n",
              "0                LogisticRegression       0.746667        0.763514   \n",
              "1            DecisionTreeClassifier       0.720000        1.000000   \n",
              "2            RandomForestClassifier       0.680000        1.000000   \n",
              "3              KNeighborsClassifier       0.760000        0.777027   \n",
              "4                        GaussianNB       0.706667        0.756757   \n",
              "5                               SVC       0.746667        0.787162   \n",
              "6        GradientBoostingClassifier       0.680000        1.000000   \n",
              "7                AdaBoostClassifier       0.720000        0.743243   \n",
              "8        LinearDiscriminantAnalysis       0.706667        0.750000   \n",
              "9     QuadraticDiscriminantAnalysis       0.706667        0.783784   \n",
              "10                    SGDClassifier       0.773333        0.726351   \n",
              "11                BaggingClassifier       0.706667        0.986486   \n",
              "12  RandomForest_RandomizedSearchCV       0.733333        0.868243   \n",
              "13                   KNeighbors_K_5       0.760000        0.777027   \n",
              "14       SGDClassifier_GridSearchCV       0.773333        0.719595   \n",
              "15    GradientBoosting_GridSearchCV       0.706667        0.908784   \n",
              "16  LogisticRegression_GridSearchCV       0.760000        0.760135   \n",
              "17                 SVC_GridSearchCV       0.773333        0.770270   \n",
              "\n",
              "    f1score_test  f1score_train  \n",
              "0       0.735185       0.758397  \n",
              "1       0.714698       1.000000  \n",
              "2       0.680000       1.000000  \n",
              "3       0.756543       0.780100  \n",
              "4       0.709943       0.761007  \n",
              "5       0.738579       0.784676  \n",
              "6       0.687003       1.000000  \n",
              "7       0.727999       0.745722  \n",
              "8       0.698140       0.750392  \n",
              "9       0.700580       0.785108  \n",
              "10      0.772404       0.726649  \n",
              "11      0.709989       0.986430  \n",
              "12      0.723321       0.868871  \n",
              "13      0.756543       0.780100  \n",
              "14      0.780079       0.721662  \n",
              "15      0.708878       0.909381  \n",
              "16      0.754744       0.759202  \n",
              "17      0.772864       0.771632  "
            ]
          },
          "metadata": {
            "tags": []
          },
          "execution_count": 48
        }
      ]
    },
    {
      "cell_type": "markdown",
      "metadata": {
        "id": "JfLK0DKO01iK"
      },
      "source": [
        "<a id=section50307></a>\n",
        "### 5.3.7 Voting Classifier"
      ]
    },
    {
      "cell_type": "code",
      "metadata": {
        "colab": {
          "base_uri": "https://localhost:8080/"
        },
        "id": "RERBRPhCkYZl",
        "outputId": "113164f9-60f7-46dd-8f44-f36e5a79f508"
      },
      "source": [
        "%%time\n",
        "voting_clf = VotingClassifier(estimators=[('rf', rf_best), ('knn', knn_best), ('sgd', sgd_best), ('lr', lr_best), ('svc', svc_best)], voting='hard')\n",
        "voting_clf.fit(X_train, y_train)\n",
        "y_pred_train = voting_clf.predict(X_train)\n",
        "y_pred_test = voting_clf.predict(X_test)\n",
        "model_metrics = get_metrics(y_train,y_pred_train,y_test,y_pred_test,model_metrics, voting_clf)"
      ],
      "execution_count": 49,
      "outputs": [
        {
          "output_type": "stream",
          "text": [
            "CPU times: user 178 ms, sys: 1.06 ms, total: 179 ms\n",
            "Wall time: 184 ms\n"
          ],
          "name": "stdout"
        }
      ]
    },
    {
      "cell_type": "code",
      "metadata": {
        "colab": {
          "base_uri": "https://localhost:8080/",
          "height": 614
        },
        "id": "GP1heaZ_U0Q-",
        "outputId": "7767e37f-7883-4054-ed70-b5389cdc13e7"
      },
      "source": [
        "model_metrics"
      ],
      "execution_count": 50,
      "outputs": [
        {
          "output_type": "execute_result",
          "data": {
            "text/html": [
              "<div>\n",
              "<style scoped>\n",
              "    .dataframe tbody tr th:only-of-type {\n",
              "        vertical-align: middle;\n",
              "    }\n",
              "\n",
              "    .dataframe tbody tr th {\n",
              "        vertical-align: top;\n",
              "    }\n",
              "\n",
              "    .dataframe thead th {\n",
              "        text-align: right;\n",
              "    }\n",
              "</style>\n",
              "<table border=\"1\" class=\"dataframe\">\n",
              "  <thead>\n",
              "    <tr style=\"text-align: right;\">\n",
              "      <th></th>\n",
              "      <th>model</th>\n",
              "      <th>accuracy_test</th>\n",
              "      <th>accuracy_train</th>\n",
              "      <th>f1score_test</th>\n",
              "      <th>f1score_train</th>\n",
              "    </tr>\n",
              "  </thead>\n",
              "  <tbody>\n",
              "    <tr>\n",
              "      <th>0</th>\n",
              "      <td>LogisticRegression</td>\n",
              "      <td>0.746667</td>\n",
              "      <td>0.763514</td>\n",
              "      <td>0.735185</td>\n",
              "      <td>0.758397</td>\n",
              "    </tr>\n",
              "    <tr>\n",
              "      <th>1</th>\n",
              "      <td>DecisionTreeClassifier</td>\n",
              "      <td>0.720000</td>\n",
              "      <td>1.000000</td>\n",
              "      <td>0.714698</td>\n",
              "      <td>1.000000</td>\n",
              "    </tr>\n",
              "    <tr>\n",
              "      <th>2</th>\n",
              "      <td>RandomForestClassifier</td>\n",
              "      <td>0.680000</td>\n",
              "      <td>1.000000</td>\n",
              "      <td>0.680000</td>\n",
              "      <td>1.000000</td>\n",
              "    </tr>\n",
              "    <tr>\n",
              "      <th>3</th>\n",
              "      <td>KNeighborsClassifier</td>\n",
              "      <td>0.760000</td>\n",
              "      <td>0.777027</td>\n",
              "      <td>0.756543</td>\n",
              "      <td>0.780100</td>\n",
              "    </tr>\n",
              "    <tr>\n",
              "      <th>4</th>\n",
              "      <td>GaussianNB</td>\n",
              "      <td>0.706667</td>\n",
              "      <td>0.756757</td>\n",
              "      <td>0.709943</td>\n",
              "      <td>0.761007</td>\n",
              "    </tr>\n",
              "    <tr>\n",
              "      <th>5</th>\n",
              "      <td>SVC</td>\n",
              "      <td>0.746667</td>\n",
              "      <td>0.787162</td>\n",
              "      <td>0.738579</td>\n",
              "      <td>0.784676</td>\n",
              "    </tr>\n",
              "    <tr>\n",
              "      <th>6</th>\n",
              "      <td>GradientBoostingClassifier</td>\n",
              "      <td>0.680000</td>\n",
              "      <td>1.000000</td>\n",
              "      <td>0.687003</td>\n",
              "      <td>1.000000</td>\n",
              "    </tr>\n",
              "    <tr>\n",
              "      <th>7</th>\n",
              "      <td>AdaBoostClassifier</td>\n",
              "      <td>0.720000</td>\n",
              "      <td>0.743243</td>\n",
              "      <td>0.727999</td>\n",
              "      <td>0.745722</td>\n",
              "    </tr>\n",
              "    <tr>\n",
              "      <th>8</th>\n",
              "      <td>LinearDiscriminantAnalysis</td>\n",
              "      <td>0.706667</td>\n",
              "      <td>0.750000</td>\n",
              "      <td>0.698140</td>\n",
              "      <td>0.750392</td>\n",
              "    </tr>\n",
              "    <tr>\n",
              "      <th>9</th>\n",
              "      <td>QuadraticDiscriminantAnalysis</td>\n",
              "      <td>0.706667</td>\n",
              "      <td>0.783784</td>\n",
              "      <td>0.700580</td>\n",
              "      <td>0.785108</td>\n",
              "    </tr>\n",
              "    <tr>\n",
              "      <th>10</th>\n",
              "      <td>SGDClassifier</td>\n",
              "      <td>0.773333</td>\n",
              "      <td>0.726351</td>\n",
              "      <td>0.772404</td>\n",
              "      <td>0.726649</td>\n",
              "    </tr>\n",
              "    <tr>\n",
              "      <th>11</th>\n",
              "      <td>BaggingClassifier</td>\n",
              "      <td>0.706667</td>\n",
              "      <td>0.986486</td>\n",
              "      <td>0.709989</td>\n",
              "      <td>0.986430</td>\n",
              "    </tr>\n",
              "    <tr>\n",
              "      <th>12</th>\n",
              "      <td>RandomForest_RandomizedSearchCV</td>\n",
              "      <td>0.733333</td>\n",
              "      <td>0.868243</td>\n",
              "      <td>0.723321</td>\n",
              "      <td>0.868871</td>\n",
              "    </tr>\n",
              "    <tr>\n",
              "      <th>13</th>\n",
              "      <td>KNeighbors_K_5</td>\n",
              "      <td>0.760000</td>\n",
              "      <td>0.777027</td>\n",
              "      <td>0.756543</td>\n",
              "      <td>0.780100</td>\n",
              "    </tr>\n",
              "    <tr>\n",
              "      <th>14</th>\n",
              "      <td>SGDClassifier_GridSearchCV</td>\n",
              "      <td>0.773333</td>\n",
              "      <td>0.719595</td>\n",
              "      <td>0.780079</td>\n",
              "      <td>0.721662</td>\n",
              "    </tr>\n",
              "    <tr>\n",
              "      <th>15</th>\n",
              "      <td>GradientBoosting_GridSearchCV</td>\n",
              "      <td>0.706667</td>\n",
              "      <td>0.908784</td>\n",
              "      <td>0.708878</td>\n",
              "      <td>0.909381</td>\n",
              "    </tr>\n",
              "    <tr>\n",
              "      <th>16</th>\n",
              "      <td>LogisticRegression_GridSearchCV</td>\n",
              "      <td>0.760000</td>\n",
              "      <td>0.760135</td>\n",
              "      <td>0.754744</td>\n",
              "      <td>0.759202</td>\n",
              "    </tr>\n",
              "    <tr>\n",
              "      <th>17</th>\n",
              "      <td>SVC_GridSearchCV</td>\n",
              "      <td>0.773333</td>\n",
              "      <td>0.770270</td>\n",
              "      <td>0.772864</td>\n",
              "      <td>0.771632</td>\n",
              "    </tr>\n",
              "    <tr>\n",
              "      <th>18</th>\n",
              "      <td>VotingClassifier</td>\n",
              "      <td>0.773333</td>\n",
              "      <td>0.793919</td>\n",
              "      <td>0.772118</td>\n",
              "      <td>0.796033</td>\n",
              "    </tr>\n",
              "  </tbody>\n",
              "</table>\n",
              "</div>"
            ],
            "text/plain": [
              "                              model  accuracy_test  accuracy_train  \\\n",
              "0                LogisticRegression       0.746667        0.763514   \n",
              "1            DecisionTreeClassifier       0.720000        1.000000   \n",
              "2            RandomForestClassifier       0.680000        1.000000   \n",
              "3              KNeighborsClassifier       0.760000        0.777027   \n",
              "4                        GaussianNB       0.706667        0.756757   \n",
              "5                               SVC       0.746667        0.787162   \n",
              "6        GradientBoostingClassifier       0.680000        1.000000   \n",
              "7                AdaBoostClassifier       0.720000        0.743243   \n",
              "8        LinearDiscriminantAnalysis       0.706667        0.750000   \n",
              "9     QuadraticDiscriminantAnalysis       0.706667        0.783784   \n",
              "10                    SGDClassifier       0.773333        0.726351   \n",
              "11                BaggingClassifier       0.706667        0.986486   \n",
              "12  RandomForest_RandomizedSearchCV       0.733333        0.868243   \n",
              "13                   KNeighbors_K_5       0.760000        0.777027   \n",
              "14       SGDClassifier_GridSearchCV       0.773333        0.719595   \n",
              "15    GradientBoosting_GridSearchCV       0.706667        0.908784   \n",
              "16  LogisticRegression_GridSearchCV       0.760000        0.760135   \n",
              "17                 SVC_GridSearchCV       0.773333        0.770270   \n",
              "18                 VotingClassifier       0.773333        0.793919   \n",
              "\n",
              "    f1score_test  f1score_train  \n",
              "0       0.735185       0.758397  \n",
              "1       0.714698       1.000000  \n",
              "2       0.680000       1.000000  \n",
              "3       0.756543       0.780100  \n",
              "4       0.709943       0.761007  \n",
              "5       0.738579       0.784676  \n",
              "6       0.687003       1.000000  \n",
              "7       0.727999       0.745722  \n",
              "8       0.698140       0.750392  \n",
              "9       0.700580       0.785108  \n",
              "10      0.772404       0.726649  \n",
              "11      0.709989       0.986430  \n",
              "12      0.723321       0.868871  \n",
              "13      0.756543       0.780100  \n",
              "14      0.780079       0.721662  \n",
              "15      0.708878       0.909381  \n",
              "16      0.754744       0.759202  \n",
              "17      0.772864       0.771632  \n",
              "18      0.772118       0.796033  "
            ]
          },
          "metadata": {
            "tags": []
          },
          "execution_count": 50
        }
      ]
    },
    {
      "cell_type": "code",
      "metadata": {
        "colab": {
          "base_uri": "https://localhost:8080/",
          "height": 486
        },
        "id": "plbx1TE0ZWbS",
        "outputId": "4d7ed963-0a51-4e0e-804b-4e09fc1ae042"
      },
      "source": [
        "df_test = model_metrics.iloc[:,[0,1,3]].copy()\n",
        "df_test.set_index('model', inplace=True)\n",
        "plt.figure(figsize=(15,4))\n",
        "sns.lineplot(data = df_test)\n",
        "plt.yticks(np.arange(0.66, 0.80, step=0.02))\n",
        "plt.xticks(rotation=90)\n",
        "plt.legend(loc = 'upper_center')\n",
        "plt.show();"
      ],
      "execution_count": 51,
      "outputs": [
        {
          "output_type": "display_data",
          "data": {
            "image/png": "[encoded data removed]",
            "text/plain": [
              "<Figure size 1080x288 with 1 Axes>"
            ]
          },
          "metadata": {
            "tags": []
          }
        }
      ]
    },
    {
      "cell_type": "markdown",
      "metadata": {
        "id": "fajer0HXT5k_"
      },
      "source": [
        "As we see here, the accuracy for the below models are almost close:\n",
        "\n",
        "1. SGD Classifier with Grid Search\n",
        "2. SVC Classifier with Grid Search\n",
        "3. Voting Classifier\n",
        "\n",
        "Lets compare there performance w.r.t time taken:\n",
        "\n",
        "1. Stochastic Gradient Descent Classifer with Grid Search - 18.3ms\n",
        "2. Support Vector Classifier with Grid Search - 26.3ms\n",
        "3. Voting Classifier - 174ms\n",
        "\n",
        "We see that Stochastic Gradient Descent gives a high accuracy and less execution time."
      ]
    },
    {
      "cell_type": "markdown",
      "metadata": {
        "id": "i4DAtkR4WIjc"
      },
      "source": [
        "<a id=section6></a>\n",
        "## 6. CONCLUSION AND FUTURE HALLOWEEN PREDICTION\n",
        "\n",
        "Hereby we conclude that, STOCHASTIC GRADIENT DESCENT CLASSIFIER with best parameters arrived by Grid Search can be proposed for future halloween prediction. It gives a accuracy score of 77.34% and takes a time of about 18.3ms"
      ]
    },
    {
      "cell_type": "code",
      "metadata": {
        "colab": {
          "base_uri": "https://localhost:8080/"
        },
        "id": "1znkpYIw1UmJ",
        "outputId": "136b5e73-969d-4460-fcf4-85d81ed5313d"
      },
      "source": [
        "df_hal_test.info()"
      ],
      "execution_count": 52,
      "outputs": [
        {
          "output_type": "stream",
          "text": [
            "<class 'pandas.core.frame.DataFrame'>\n",
            "RangeIndex: 529 entries, 0 to 528\n",
            "Data columns (total 9 columns):\n",
            " #   Column         Non-Null Count  Dtype  \n",
            "---  ------         --------------  -----  \n",
            " 0   bone_length    529 non-null    float64\n",
            " 1   rotting_flesh  529 non-null    float64\n",
            " 2   hair_length    529 non-null    float64\n",
            " 3   has_soul       529 non-null    float64\n",
            " 4   color_blood    529 non-null    uint8  \n",
            " 5   color_blue     529 non-null    uint8  \n",
            " 6   color_clear    529 non-null    uint8  \n",
            " 7   color_green    529 non-null    uint8  \n",
            " 8   color_white    529 non-null    uint8  \n",
            "dtypes: float64(4), uint8(5)\n",
            "memory usage: 19.2 KB\n"
          ],
          "name": "stdout"
        }
      ]
    },
    {
      "cell_type": "code",
      "metadata": {
        "colab": {
          "base_uri": "https://localhost:8080/",
          "height": 505
        },
        "id": "iOnwoEU31YD-",
        "outputId": "e75de957-b373-4be4-bd72-b1bb47c28292"
      },
      "source": [
        "X_test_A = df_hal_test # Actual test case given\n",
        "sgd_best.fit(X_train, y_train)\n",
        "y_pred_test_A = sgd_best.predict(X_test_A)\n",
        "df_hal_test['type'] = y_pred_test_A\n",
        "df_hal_test['type'] = df_hal_test['type'].replace([1, 2, 3], ['Ghoul', 'Goblin', 'Ghost'])\n",
        "df_hal_test"
      ],
      "execution_count": 53,
      "outputs": [
        {
          "output_type": "execute_result",
          "data": {
            "text/plain": [
              "SGDClassifier(alpha=0.0001, average=False, class_weight=None,\n",
              "              early_stopping=False, epsilon=0.1, eta0=0.0, fit_intercept=True,\n",
              "              l1_ratio=0.15, learning_rate='optimal', loss='log', max_iter=37,\n",
              "              n_iter_no_change=5, n_jobs=None, penalty='l2', power_t=0.5,\n",
              "              random_state=50, shuffle=True, tol=0.001, validation_fraction=0.1,\n",
              "              verbose=0, warm_start=False)"
            ]
          },
          "metadata": {
            "tags": []
          },
          "execution_count": 53
        },
        {
          "output_type": "execute_result",
          "data": {
            "text/html": [
              "<div>\n",
              "<style scoped>\n",
              "    .dataframe tbody tr th:only-of-type {\n",
              "        vertical-align: middle;\n",
              "    }\n",
              "\n",
              "    .dataframe tbody tr th {\n",
              "        vertical-align: top;\n",
              "    }\n",
              "\n",
              "    .dataframe thead th {\n",
              "        text-align: right;\n",
              "    }\n",
              "</style>\n",
              "<table border=\"1\" class=\"dataframe\">\n",
              "  <thead>\n",
              "    <tr style=\"text-align: right;\">\n",
              "      <th></th>\n",
              "      <th>bone_length</th>\n",
              "      <th>rotting_flesh</th>\n",
              "      <th>hair_length</th>\n",
              "      <th>has_soul</th>\n",
              "      <th>color_blood</th>\n",
              "      <th>color_blue</th>\n",
              "      <th>color_clear</th>\n",
              "      <th>color_green</th>\n",
              "      <th>color_white</th>\n",
              "      <th>type</th>\n",
              "    </tr>\n",
              "  </thead>\n",
              "  <tbody>\n",
              "    <tr>\n",
              "      <th>0</th>\n",
              "      <td>0.471774</td>\n",
              "      <td>0.387937</td>\n",
              "      <td>0.706087</td>\n",
              "      <td>0.698537</td>\n",
              "      <td>0</td>\n",
              "      <td>0</td>\n",
              "      <td>0</td>\n",
              "      <td>0</td>\n",
              "      <td>0</td>\n",
              "      <td>Ghoul</td>\n",
              "    </tr>\n",
              "    <tr>\n",
              "      <th>1</th>\n",
              "      <td>0.427332</td>\n",
              "      <td>0.645024</td>\n",
              "      <td>0.565558</td>\n",
              "      <td>0.451462</td>\n",
              "      <td>0</td>\n",
              "      <td>0</td>\n",
              "      <td>0</td>\n",
              "      <td>0</td>\n",
              "      <td>1</td>\n",
              "      <td>Goblin</td>\n",
              "    </tr>\n",
              "    <tr>\n",
              "      <th>2</th>\n",
              "      <td>0.549602</td>\n",
              "      <td>0.491931</td>\n",
              "      <td>0.660387</td>\n",
              "      <td>0.449809</td>\n",
              "      <td>0</td>\n",
              "      <td>0</td>\n",
              "      <td>0</td>\n",
              "      <td>0</td>\n",
              "      <td>0</td>\n",
              "      <td>Ghoul</td>\n",
              "    </tr>\n",
              "    <tr>\n",
              "      <th>3</th>\n",
              "      <td>0.638095</td>\n",
              "      <td>0.682867</td>\n",
              "      <td>0.471409</td>\n",
              "      <td>0.356924</td>\n",
              "      <td>0</td>\n",
              "      <td>0</td>\n",
              "      <td>0</td>\n",
              "      <td>0</td>\n",
              "      <td>1</td>\n",
              "      <td>Goblin</td>\n",
              "    </tr>\n",
              "    <tr>\n",
              "      <th>4</th>\n",
              "      <td>0.361762</td>\n",
              "      <td>0.583997</td>\n",
              "      <td>0.377256</td>\n",
              "      <td>0.276364</td>\n",
              "      <td>0</td>\n",
              "      <td>0</td>\n",
              "      <td>0</td>\n",
              "      <td>0</td>\n",
              "      <td>0</td>\n",
              "      <td>Ghost</td>\n",
              "    </tr>\n",
              "    <tr>\n",
              "      <th>...</th>\n",
              "      <td>...</td>\n",
              "      <td>...</td>\n",
              "      <td>...</td>\n",
              "      <td>...</td>\n",
              "      <td>...</td>\n",
              "      <td>...</td>\n",
              "      <td>...</td>\n",
              "      <td>...</td>\n",
              "      <td>...</td>\n",
              "      <td>...</td>\n",
              "    </tr>\n",
              "    <tr>\n",
              "      <th>524</th>\n",
              "      <td>0.377573</td>\n",
              "      <td>0.390158</td>\n",
              "      <td>0.696465</td>\n",
              "      <td>0.355373</td>\n",
              "      <td>0</td>\n",
              "      <td>1</td>\n",
              "      <td>0</td>\n",
              "      <td>0</td>\n",
              "      <td>0</td>\n",
              "      <td>Goblin</td>\n",
              "    </tr>\n",
              "    <tr>\n",
              "      <th>525</th>\n",
              "      <td>0.229161</td>\n",
              "      <td>0.601265</td>\n",
              "      <td>0.191282</td>\n",
              "      <td>0.475115</td>\n",
              "      <td>0</td>\n",
              "      <td>0</td>\n",
              "      <td>1</td>\n",
              "      <td>0</td>\n",
              "      <td>0</td>\n",
              "      <td>Ghost</td>\n",
              "    </tr>\n",
              "    <tr>\n",
              "      <th>526</th>\n",
              "      <td>0.510497</td>\n",
              "      <td>0.498347</td>\n",
              "      <td>0.708020</td>\n",
              "      <td>0.714154</td>\n",
              "      <td>0</td>\n",
              "      <td>0</td>\n",
              "      <td>0</td>\n",
              "      <td>0</td>\n",
              "      <td>1</td>\n",
              "      <td>Ghoul</td>\n",
              "    </tr>\n",
              "    <tr>\n",
              "      <th>527</th>\n",
              "      <td>0.331472</td>\n",
              "      <td>0.765835</td>\n",
              "      <td>0.338207</td>\n",
              "      <td>0.193431</td>\n",
              "      <td>0</td>\n",
              "      <td>0</td>\n",
              "      <td>1</td>\n",
              "      <td>0</td>\n",
              "      <td>0</td>\n",
              "      <td>Ghost</td>\n",
              "    </tr>\n",
              "    <tr>\n",
              "      <th>528</th>\n",
              "      <td>0.256789</td>\n",
              "      <td>0.691802</td>\n",
              "      <td>0.415197</td>\n",
              "      <td>0.348971</td>\n",
              "      <td>0</td>\n",
              "      <td>0</td>\n",
              "      <td>0</td>\n",
              "      <td>0</td>\n",
              "      <td>1</td>\n",
              "      <td>Ghost</td>\n",
              "    </tr>\n",
              "  </tbody>\n",
              "</table>\n",
              "<p>529 rows × 10 columns</p>\n",
              "</div>"
            ],
            "text/plain": [
              "     bone_length  rotting_flesh  hair_length  has_soul  color_blood  \\\n",
              "0       0.471774       0.387937     0.706087  0.698537            0   \n",
              "1       0.427332       0.645024     0.565558  0.451462            0   \n",
              "2       0.549602       0.491931     0.660387  0.449809            0   \n",
              "3       0.638095       0.682867     0.471409  0.356924            0   \n",
              "4       0.361762       0.583997     0.377256  0.276364            0   \n",
              "..           ...            ...          ...       ...          ...   \n",
              "524     0.377573       0.390158     0.696465  0.355373            0   \n",
              "525     0.229161       0.601265     0.191282  0.475115            0   \n",
              "526     0.510497       0.498347     0.708020  0.714154            0   \n",
              "527     0.331472       0.765835     0.338207  0.193431            0   \n",
              "528     0.256789       0.691802     0.415197  0.348971            0   \n",
              "\n",
              "     color_blue  color_clear  color_green  color_white    type  \n",
              "0             0            0            0            0   Ghoul  \n",
              "1             0            0            0            1  Goblin  \n",
              "2             0            0            0            0   Ghoul  \n",
              "3             0            0            0            1  Goblin  \n",
              "4             0            0            0            0   Ghost  \n",
              "..          ...          ...          ...          ...     ...  \n",
              "524           1            0            0            0  Goblin  \n",
              "525           0            1            0            0   Ghost  \n",
              "526           0            0            0            1   Ghoul  \n",
              "527           0            1            0            0   Ghost  \n",
              "528           0            0            0            1   Ghost  \n",
              "\n",
              "[529 rows x 10 columns]"
            ]
          },
          "metadata": {
            "tags": []
          },
          "execution_count": 53
        }
      ]
    },
    {
      "cell_type": "code",
      "metadata": {
        "id": "lgRlnhep2sn9"
      },
      "source": [
        "df_hal_test.to_csv('prediction.csv') "
      ],
      "execution_count": 54,
      "outputs": []
    }
  ]
}
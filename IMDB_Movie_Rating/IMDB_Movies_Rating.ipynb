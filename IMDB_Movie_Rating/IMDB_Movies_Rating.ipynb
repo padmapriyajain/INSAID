{
  "nbformat": 4,
  "nbformat_minor": 0,
  "metadata": {
    "colab": {
      "name": "Movies_1.ipynb",
      "provenance": [],
      "collapsed_sections": []
    },
    "kernelspec": {
      "name": "python3",
      "display_name": "Python 3"
    }
  },
  "cells": [
    {
      "cell_type": "markdown",
      "metadata": {
        "id": "4NmGzov0X_l_"
      },
      "source": [
        "<img src = 'https://github.com/insaid2018/Term-1/blob/master/Images/INSAID_Full%20Logo.png?raw=true' width=\"600\" height=\"200\">\n",
        "\n",
        "# EDA ON IMDB Movies Rating\n",
        "\n",
        "\n",
        "\n"
      ]
    },
    {
      "cell_type": "markdown",
      "metadata": {
        "id": "_VJSebDQAeiR"
      },
      "source": [
        "## Table of Contents\n",
        "\n",
        "1. [Problem Statement](#section1) <br>\n",
        "2. [Importing Packages](#section2) <br>\n",
        "3. [Loading Dataset](#section3)<br>\n",
        "  - 3.1 [Description of the Datasets](#section301)<br>\n",
        "4. [Pandas Profiling before Data Preprocessing](#section4)<br>\n",
        "5. [Data Cleaning/Preprocessing](#section5)<br>\n",
        "  - 5.1 [Column standardization](#section501)<br>\n",
        "  - 5.2 [Remove duplicate records](#section502)<br>\n",
        "  - 5.3 [Handling missing values](#section503)<br>\n",
        "6. [Pandas Profiling after Data Preprocessing](#section6)<br>\n",
        "7. [Exploratory Data Analysis](#section7)<br>\n",
        "  - 7.1 [Feature Based Analysis](#section701)\n",
        "    - 7.1.1 [What are the top 10 car brands on sale?](#section70101)\n",
        "    - 7.1.2 [What is the sale distribution based on engine type?](#section70102)\n",
        "    - 7.1.3 [What is the sale distribution based on drive type?](#section70103)\n",
        "    - 7.1.4 [What is the sale distribution based on body type?](#section70104)\n",
        "    - 7.1.5 [What is the car sale based on registration?](#section70105)\n",
        "  - 7.2 [Price Based Analysis?](#section702)\n",
        "    - 7.2.1 [What are car brands on sale based on avg price?](#section70201)\n",
        "    - 7.2.2 [How price varies based on body type?](#section70202)\n",
        "    - 7.2.3 [How price varies based on engine type?](#section70203)\n",
        "    - 7.2.4 [How price varies based on drive type??](#section70204)\n",
        "  - 7.3 [Mileage Based Analysis](#section703)\n",
        "    - 7.3.1 [What is sale distribution based on mileage?](#section70301)\n",
        "    - 7.3.2 [How price varies based on mileage?](#section70302)\n",
        "    - 7.3.3 [How mileage varies based on body type?](#section70303)\n",
        "    - 7.3.4 [How mileage varies based on engine type?](#section70304)\n",
        "    - 7.3.5 [How mileage varies based on drive type?](#section70305)\n",
        "  - 7.4 [Year Based Analysis](#section704)\n",
        "    - 7.4.1 [What is the car sale based on year of production?](#section70401)\n",
        "    - 7.4.2 [How is price variation over years?](#section70402)\n",
        "  - 7.5 [Multivariant Based Analysis](#section705)\n",
        "    - 7.5.1 [What is the registered car sale distribution based on body type?](#section70501)\n",
        "    - 7.5.2 [What is the trend of ukraine registered cars?](#section70502)\n",
        "    - 7.5.3 [What is the price variance over years based on body type?](#section70503)\n",
        "    - 7.5.4 [What is the price variance over years based on engine type?](#section70504)\n",
        "    - 7.5.5 [What is the price variance over years based on drive type?](#section70505)\n",
        "    - 7.5.6 [What is the price variance over mileage based on engine type?](#section70506)\n",
        "    - 7.5.7 [What is the price variance over mileage based on body type?](#section70507)\n",
        "    - 7.5.8 [What is the price variance over mileage based on drive type?](#section70508)\n",
        "- 8 [Conclusion](#section8)\n",
        "  - 8.1 [Actionable Insights](#section801)\n",
        "\n",
        "\n"
      ]
    },
    {
      "cell_type": "markdown",
      "metadata": {
        "id": "Fe8PyseDAKkb"
      },
      "source": [
        "<a id='section1'></a>\n",
        "### 1. Problem Statement\n",
        " \n",
        "*   Analyse the 1000 movies data and get insights of all the features. \n",
        "* Lets see what are all the features affecting the revenue of a movie?"
      ]
    },
    {
      "cell_type": "markdown",
      "metadata": {
        "id": "9zD6Gy7wZFsr"
      },
      "source": [
        "<a id=section2></a>\n",
        "### 2. Importing Packages\n",
        "\n"
      ]
    },
    {
      "cell_type": "code",
      "metadata": {
        "id": "c40J13SkX9lT",
        "colab": {
          "base_uri": "https://localhost:8080/",
          "height": 70
        },
        "outputId": "da1ddb98-1c09-439f-cf08-9c2c3b9fad6b"
      },
      "source": [
        "import sys                                                                      # Import packages\n",
        "import pandas as pd\n",
        "import seaborn as sns\n",
        "import numpy as np\n",
        "import matplotlib.pyplot as plt\n",
        "from matplotlib.pyplot import pie, axis, show\n",
        "%matplotlib inline                                                              \n",
        "from bokeh.plotting import *\n",
        "from bokeh.io import output_notebook \n",
        "output_notebook()\n",
        "import warnings                                                                 # Ignore warning related to pandas_profiling\n",
        "warnings.filterwarnings('ignore') \n",
        "\n",
        "pd.set_option('display.max_columns', 100)                                       # Display all dataframe columns in outputs (it has 27 columns, which is wider than the notebook)\n",
        "                                                                                # This sets it up to dispaly with a horizontal scroll instead of hiding the middle columns"
      ],
      "execution_count": null,
      "outputs": [
        {
          "output_type": "stream",
          "text": [
            "/usr/local/lib/python3.6/dist-packages/statsmodels/tools/_testing.py:19: FutureWarning: pandas.util.testing is deprecated. Use the functions in the public API at pandas.testing instead.\n",
            "  import pandas.util.testing as tm\n"
          ],
          "name": "stderr"
        }
      ]
    },
    {
      "cell_type": "markdown",
      "metadata": {
        "id": "LNu0_0wwX7MS"
      },
      "source": [
        "<a id=section3></a>\n",
        "### 3. Loading Dataset"
      ]
    },
    {
      "cell_type": "code",
      "metadata": {
        "id": "OrXGcNzSLZKJ",
        "colab": {
          "base_uri": "https://localhost:8080/",
          "height": 296
        },
        "outputId": "682075d8-438d-4d21-beca-094067327370"
      },
      "source": [
        "movies = pd.read_csv(\"https://raw.githubusercontent.com/insaid2018/Term-1/master/Data/Projects/1000%20movies%20data.csv\")    #Loading car advertisement sale dataset\n",
        "movies.head()"
      ],
      "execution_count": null,
      "outputs": [
        {
          "output_type": "execute_result",
          "data": {
            "text/html": [
              "<div>\n",
              "<style scoped>\n",
              "    .dataframe tbody tr th:only-of-type {\n",
              "        vertical-align: middle;\n",
              "    }\n",
              "\n",
              "    .dataframe tbody tr th {\n",
              "        vertical-align: top;\n",
              "    }\n",
              "\n",
              "    .dataframe thead th {\n",
              "        text-align: right;\n",
              "    }\n",
              "</style>\n",
              "<table border=\"1\" class=\"dataframe\">\n",
              "  <thead>\n",
              "    <tr style=\"text-align: right;\">\n",
              "      <th></th>\n",
              "      <th>Rank</th>\n",
              "      <th>Title</th>\n",
              "      <th>Genre</th>\n",
              "      <th>Description</th>\n",
              "      <th>Director</th>\n",
              "      <th>Actors</th>\n",
              "      <th>Year</th>\n",
              "      <th>Runtime (Minutes)</th>\n",
              "      <th>Rating</th>\n",
              "      <th>Votes</th>\n",
              "      <th>Revenue (Millions)</th>\n",
              "      <th>Metascore</th>\n",
              "    </tr>\n",
              "  </thead>\n",
              "  <tbody>\n",
              "    <tr>\n",
              "      <th>0</th>\n",
              "      <td>1</td>\n",
              "      <td>Guardians of the Galaxy</td>\n",
              "      <td>Action,Adventure,Sci-Fi</td>\n",
              "      <td>A group of intergalactic criminals are forced ...</td>\n",
              "      <td>James Gunn</td>\n",
              "      <td>Chris Pratt, Vin Diesel, Bradley Cooper, Zoe S...</td>\n",
              "      <td>2014</td>\n",
              "      <td>121</td>\n",
              "      <td>8.1</td>\n",
              "      <td>757074</td>\n",
              "      <td>333.13</td>\n",
              "      <td>76.0</td>\n",
              "    </tr>\n",
              "    <tr>\n",
              "      <th>1</th>\n",
              "      <td>2</td>\n",
              "      <td>Prometheus</td>\n",
              "      <td>Adventure,Mystery,Sci-Fi</td>\n",
              "      <td>Following clues to the origin of mankind, a te...</td>\n",
              "      <td>Ridley Scott</td>\n",
              "      <td>Noomi Rapace, Logan Marshall-Green, Michael Fa...</td>\n",
              "      <td>2012</td>\n",
              "      <td>124</td>\n",
              "      <td>7.0</td>\n",
              "      <td>485820</td>\n",
              "      <td>126.46</td>\n",
              "      <td>65.0</td>\n",
              "    </tr>\n",
              "    <tr>\n",
              "      <th>2</th>\n",
              "      <td>3</td>\n",
              "      <td>Split</td>\n",
              "      <td>Horror,Thriller</td>\n",
              "      <td>Three girls are kidnapped by a man with a diag...</td>\n",
              "      <td>M. Night Shyamalan</td>\n",
              "      <td>James McAvoy, Anya Taylor-Joy, Haley Lu Richar...</td>\n",
              "      <td>2016</td>\n",
              "      <td>117</td>\n",
              "      <td>7.3</td>\n",
              "      <td>157606</td>\n",
              "      <td>138.12</td>\n",
              "      <td>62.0</td>\n",
              "    </tr>\n",
              "    <tr>\n",
              "      <th>3</th>\n",
              "      <td>4</td>\n",
              "      <td>Sing</td>\n",
              "      <td>Animation,Comedy,Family</td>\n",
              "      <td>In a city of humanoid animals, a hustling thea...</td>\n",
              "      <td>Christophe Lourdelet</td>\n",
              "      <td>Matthew McConaughey,Reese Witherspoon, Seth Ma...</td>\n",
              "      <td>2016</td>\n",
              "      <td>108</td>\n",
              "      <td>7.2</td>\n",
              "      <td>60545</td>\n",
              "      <td>270.32</td>\n",
              "      <td>59.0</td>\n",
              "    </tr>\n",
              "    <tr>\n",
              "      <th>4</th>\n",
              "      <td>5</td>\n",
              "      <td>Suicide Squad</td>\n",
              "      <td>Action,Adventure,Fantasy</td>\n",
              "      <td>A secret government agency recruits some of th...</td>\n",
              "      <td>David Ayer</td>\n",
              "      <td>Will Smith, Jared Leto, Margot Robbie, Viola D...</td>\n",
              "      <td>2016</td>\n",
              "      <td>123</td>\n",
              "      <td>6.2</td>\n",
              "      <td>393727</td>\n",
              "      <td>325.02</td>\n",
              "      <td>40.0</td>\n",
              "    </tr>\n",
              "  </tbody>\n",
              "</table>\n",
              "</div>"
            ],
            "text/plain": [
              "   Rank                    Title                     Genre  \\\n",
              "0     1  Guardians of the Galaxy   Action,Adventure,Sci-Fi   \n",
              "1     2               Prometheus  Adventure,Mystery,Sci-Fi   \n",
              "2     3                    Split           Horror,Thriller   \n",
              "3     4                     Sing   Animation,Comedy,Family   \n",
              "4     5            Suicide Squad  Action,Adventure,Fantasy   \n",
              "\n",
              "                                         Description              Director  \\\n",
              "0  A group of intergalactic criminals are forced ...            James Gunn   \n",
              "1  Following clues to the origin of mankind, a te...          Ridley Scott   \n",
              "2  Three girls are kidnapped by a man with a diag...    M. Night Shyamalan   \n",
              "3  In a city of humanoid animals, a hustling thea...  Christophe Lourdelet   \n",
              "4  A secret government agency recruits some of th...            David Ayer   \n",
              "\n",
              "                                              Actors  Year  Runtime (Minutes)  \\\n",
              "0  Chris Pratt, Vin Diesel, Bradley Cooper, Zoe S...  2014                121   \n",
              "1  Noomi Rapace, Logan Marshall-Green, Michael Fa...  2012                124   \n",
              "2  James McAvoy, Anya Taylor-Joy, Haley Lu Richar...  2016                117   \n",
              "3  Matthew McConaughey,Reese Witherspoon, Seth Ma...  2016                108   \n",
              "4  Will Smith, Jared Leto, Margot Robbie, Viola D...  2016                123   \n",
              "\n",
              "   Rating   Votes  Revenue (Millions)  Metascore  \n",
              "0     8.1  757074              333.13       76.0  \n",
              "1     7.0  485820              126.46       65.0  \n",
              "2     7.3  157606              138.12       62.0  \n",
              "3     7.2   60545              270.32       59.0  \n",
              "4     6.2  393727              325.02       40.0  "
            ]
          },
          "metadata": {
            "tags": []
          },
          "execution_count": 2
        }
      ]
    },
    {
      "cell_type": "markdown",
      "metadata": {
        "id": "hwL2Nl25MWG0"
      },
      "source": [
        "<a id=section301></a>\n",
        "### 3.1 Description of the Datasets"
      ]
    },
    {
      "cell_type": "markdown",
      "metadata": {
        "id": "Q3lP5WteMrXA"
      },
      "source": [
        "Lets see a sample data from the movies dataset"
      ]
    },
    {
      "cell_type": "code",
      "metadata": {
        "id": "aWrYBuOHKzeH",
        "colab": {
          "base_uri": "https://localhost:8080/",
          "height": 296
        },
        "outputId": "08d565bb-13c3-453f-fc03-2004d8b5e324"
      },
      "source": [
        "movies.sample(5)"
      ],
      "execution_count": null,
      "outputs": [
        {
          "output_type": "execute_result",
          "data": {
            "text/html": [
              "<div>\n",
              "<style scoped>\n",
              "    .dataframe tbody tr th:only-of-type {\n",
              "        vertical-align: middle;\n",
              "    }\n",
              "\n",
              "    .dataframe tbody tr th {\n",
              "        vertical-align: top;\n",
              "    }\n",
              "\n",
              "    .dataframe thead th {\n",
              "        text-align: right;\n",
              "    }\n",
              "</style>\n",
              "<table border=\"1\" class=\"dataframe\">\n",
              "  <thead>\n",
              "    <tr style=\"text-align: right;\">\n",
              "      <th></th>\n",
              "      <th>Rank</th>\n",
              "      <th>Title</th>\n",
              "      <th>Genre</th>\n",
              "      <th>Description</th>\n",
              "      <th>Director</th>\n",
              "      <th>Actors</th>\n",
              "      <th>Year</th>\n",
              "      <th>Runtime (Minutes)</th>\n",
              "      <th>Rating</th>\n",
              "      <th>Votes</th>\n",
              "      <th>Revenue (Millions)</th>\n",
              "      <th>Metascore</th>\n",
              "    </tr>\n",
              "  </thead>\n",
              "  <tbody>\n",
              "    <tr>\n",
              "      <th>247</th>\n",
              "      <td>248</td>\n",
              "      <td>20th Century Women</td>\n",
              "      <td>Comedy,Drama</td>\n",
              "      <td>The story of a teenage boy, his mother, and tw...</td>\n",
              "      <td>Mike Mills</td>\n",
              "      <td>Annette Bening, Elle Fanning, Greta Gerwig, Bi...</td>\n",
              "      <td>2016</td>\n",
              "      <td>119</td>\n",
              "      <td>7.4</td>\n",
              "      <td>14708</td>\n",
              "      <td>5.66</td>\n",
              "      <td>83.0</td>\n",
              "    </tr>\n",
              "    <tr>\n",
              "      <th>885</th>\n",
              "      <td>886</td>\n",
              "      <td>Babel</td>\n",
              "      <td>Drama</td>\n",
              "      <td>Tragedy strikes a married couple on vacation i...</td>\n",
              "      <td>Alejandro González Iñárritu</td>\n",
              "      <td>Brad Pitt, Cate Blanchett, Gael García Bernal,...</td>\n",
              "      <td>2006</td>\n",
              "      <td>143</td>\n",
              "      <td>7.5</td>\n",
              "      <td>253417</td>\n",
              "      <td>34.30</td>\n",
              "      <td>69.0</td>\n",
              "    </tr>\n",
              "    <tr>\n",
              "      <th>168</th>\n",
              "      <td>169</td>\n",
              "      <td>13 Hours</td>\n",
              "      <td>Action,Drama,History</td>\n",
              "      <td>During an attack on a U.S. compound in Libya, ...</td>\n",
              "      <td>Michael Bay</td>\n",
              "      <td>John Krasinski, Pablo Schreiber, James Badge D...</td>\n",
              "      <td>2016</td>\n",
              "      <td>144</td>\n",
              "      <td>7.3</td>\n",
              "      <td>76935</td>\n",
              "      <td>52.82</td>\n",
              "      <td>48.0</td>\n",
              "    </tr>\n",
              "    <tr>\n",
              "      <th>755</th>\n",
              "      <td>756</td>\n",
              "      <td>The Road</td>\n",
              "      <td>Adventure,Drama</td>\n",
              "      <td>In a dangerous post-apocalyptic world, an aili...</td>\n",
              "      <td>John Hillcoat</td>\n",
              "      <td>Viggo Mortensen, Charlize Theron, Kodi Smit-Mc...</td>\n",
              "      <td>2009</td>\n",
              "      <td>111</td>\n",
              "      <td>7.3</td>\n",
              "      <td>187302</td>\n",
              "      <td>0.06</td>\n",
              "      <td>NaN</td>\n",
              "    </tr>\n",
              "    <tr>\n",
              "      <th>443</th>\n",
              "      <td>444</td>\n",
              "      <td>Blue Valentine</td>\n",
              "      <td>Drama,Romance</td>\n",
              "      <td>The relationship of a contemporary married cou...</td>\n",
              "      <td>Derek Cianfrance</td>\n",
              "      <td>Ryan Gosling, Michelle Williams, John Doman,Fa...</td>\n",
              "      <td>2010</td>\n",
              "      <td>112</td>\n",
              "      <td>7.4</td>\n",
              "      <td>151409</td>\n",
              "      <td>9.70</td>\n",
              "      <td>81.0</td>\n",
              "    </tr>\n",
              "  </tbody>\n",
              "</table>\n",
              "</div>"
            ],
            "text/plain": [
              "     Rank               Title                 Genre  \\\n",
              "247   248  20th Century Women          Comedy,Drama   \n",
              "885   886               Babel                 Drama   \n",
              "168   169            13 Hours  Action,Drama,History   \n",
              "755   756            The Road       Adventure,Drama   \n",
              "443   444      Blue Valentine         Drama,Romance   \n",
              "\n",
              "                                           Description  \\\n",
              "247  The story of a teenage boy, his mother, and tw...   \n",
              "885  Tragedy strikes a married couple on vacation i...   \n",
              "168  During an attack on a U.S. compound in Libya, ...   \n",
              "755  In a dangerous post-apocalyptic world, an aili...   \n",
              "443  The relationship of a contemporary married cou...   \n",
              "\n",
              "                        Director  \\\n",
              "247                   Mike Mills   \n",
              "885  Alejandro González Iñárritu   \n",
              "168                  Michael Bay   \n",
              "755                John Hillcoat   \n",
              "443             Derek Cianfrance   \n",
              "\n",
              "                                                Actors  Year  \\\n",
              "247  Annette Bening, Elle Fanning, Greta Gerwig, Bi...  2016   \n",
              "885  Brad Pitt, Cate Blanchett, Gael García Bernal,...  2006   \n",
              "168  John Krasinski, Pablo Schreiber, James Badge D...  2016   \n",
              "755  Viggo Mortensen, Charlize Theron, Kodi Smit-Mc...  2009   \n",
              "443  Ryan Gosling, Michelle Williams, John Doman,Fa...  2010   \n",
              "\n",
              "     Runtime (Minutes)  Rating   Votes  Revenue (Millions)  Metascore  \n",
              "247                119     7.4   14708                5.66       83.0  \n",
              "885                143     7.5  253417               34.30       69.0  \n",
              "168                144     7.3   76935               52.82       48.0  \n",
              "755                111     7.3  187302                0.06        NaN  \n",
              "443                112     7.4  151409                9.70       81.0  "
            ]
          },
          "metadata": {
            "tags": []
          },
          "execution_count": 3
        }
      ]
    },
    {
      "cell_type": "markdown",
      "metadata": {
        "id": "Vt-iB2t3NXsN"
      },
      "source": [
        "Lets see the basic information about the dataset."
      ]
    },
    {
      "cell_type": "code",
      "metadata": {
        "id": "6KpfCu3LLo1-",
        "colab": {
          "base_uri": "https://localhost:8080/",
          "height": 336
        },
        "outputId": "f76194cb-e92d-409b-b052-2f0b10c61279"
      },
      "source": [
        "movies.info()"
      ],
      "execution_count": null,
      "outputs": [
        {
          "output_type": "stream",
          "text": [
            "<class 'pandas.core.frame.DataFrame'>\n",
            "RangeIndex: 1000 entries, 0 to 999\n",
            "Data columns (total 12 columns):\n",
            " #   Column              Non-Null Count  Dtype  \n",
            "---  ------              --------------  -----  \n",
            " 0   Rank                1000 non-null   int64  \n",
            " 1   Title               1000 non-null   object \n",
            " 2   Genre               1000 non-null   object \n",
            " 3   Description         1000 non-null   object \n",
            " 4   Director            1000 non-null   object \n",
            " 5   Actors              1000 non-null   object \n",
            " 6   Year                1000 non-null   int64  \n",
            " 7   Runtime (Minutes)   1000 non-null   int64  \n",
            " 8   Rating              1000 non-null   float64\n",
            " 9   Votes               1000 non-null   int64  \n",
            " 10  Revenue (Millions)  872 non-null    float64\n",
            " 11  Metascore           936 non-null    float64\n",
            "dtypes: float64(3), int64(4), object(5)\n",
            "memory usage: 93.9+ KB\n"
          ],
          "name": "stdout"
        }
      ]
    },
    {
      "cell_type": "markdown",
      "metadata": {
        "id": "zhd2iAtjQgyK"
      },
      "source": [
        "Info funtion on the dataset gives us the following insights: <br>\n",
        "* There are a total of **1000 samples (rows)** and **11 columns** in the dataframe.\n",
        "* There are **4 columns** with a **numeric** datatype and **5 columns** with an **object** datatype and **3 columns** with a **float** datatype.\n",
        "* There are **missing values** in the **Revenue and Metascore** column.<br>\n",
        "* Columns description:\n",
        "** **Rank**: Movie rank order as given by IMDB. Unique values: 1-1000. <br>\n",
        "** **Title**: Title of the movie. Unique values <br>\n",
        "** **Genre**: A comma-separated list of genres used to classify the film <br>\n",
        "** **Description**: Brief one-sentence movie summary <br>\n",
        "** **Director**: The name of the film's director <br>\n",
        "** **Actors**: A comma-separated list of the main stars of the film <br>\n",
        "** **Year**: The year that the film released as an integer. Values: 2006-2016. Greater the year it means its the lastest movie otherwise they are the old movies.<br>\n",
        "** **Runtime(In Minutes)**: The duration of the film in minutes. Values:66-191 meaning approx 1 hour - 3 hours   \n",
        "** **Rating**: User rating for the movie 0-10. 0-3 can be considered poor , 4-7 as average and 8-10 as high performance movies. Most of the users will rate the movie only if they like the movie. <br>\n",
        "** **Votes**: Number of public votes. Values: 61-1791916. This can be considered as number of people who have watched the movie and given a rating ranging 1-10. <br>\n",
        "** **Revenue (Millions)**: Movie revenue in millions <br>\n",
        "** **Metascore**: An aggregated average of critic scores. Values are between 0 and 100. Higher scores represent positive reviews. <br>\n"
      ]
    },
    {
      "cell_type": "code",
      "metadata": {
        "id": "4GHKEBHrMMX-",
        "colab": {
          "base_uri": "https://localhost:8080/",
          "height": 284
        },
        "outputId": "d591010d-856e-4e79-8810-76846a052a8c"
      },
      "source": [
        "movies.describe()"
      ],
      "execution_count": null,
      "outputs": [
        {
          "output_type": "execute_result",
          "data": {
            "text/html": [
              "<div>\n",
              "<style scoped>\n",
              "    .dataframe tbody tr th:only-of-type {\n",
              "        vertical-align: middle;\n",
              "    }\n",
              "\n",
              "    .dataframe tbody tr th {\n",
              "        vertical-align: top;\n",
              "    }\n",
              "\n",
              "    .dataframe thead th {\n",
              "        text-align: right;\n",
              "    }\n",
              "</style>\n",
              "<table border=\"1\" class=\"dataframe\">\n",
              "  <thead>\n",
              "    <tr style=\"text-align: right;\">\n",
              "      <th></th>\n",
              "      <th>Rank</th>\n",
              "      <th>Year</th>\n",
              "      <th>Runtime (Minutes)</th>\n",
              "      <th>Rating</th>\n",
              "      <th>Votes</th>\n",
              "      <th>Revenue (Millions)</th>\n",
              "      <th>Metascore</th>\n",
              "    </tr>\n",
              "  </thead>\n",
              "  <tbody>\n",
              "    <tr>\n",
              "      <th>count</th>\n",
              "      <td>1000.000000</td>\n",
              "      <td>1000.000000</td>\n",
              "      <td>1000.000000</td>\n",
              "      <td>1000.000000</td>\n",
              "      <td>1.000000e+03</td>\n",
              "      <td>872.000000</td>\n",
              "      <td>936.000000</td>\n",
              "    </tr>\n",
              "    <tr>\n",
              "      <th>mean</th>\n",
              "      <td>500.500000</td>\n",
              "      <td>2012.783000</td>\n",
              "      <td>113.172000</td>\n",
              "      <td>6.723200</td>\n",
              "      <td>1.698083e+05</td>\n",
              "      <td>82.956376</td>\n",
              "      <td>58.985043</td>\n",
              "    </tr>\n",
              "    <tr>\n",
              "      <th>std</th>\n",
              "      <td>288.819436</td>\n",
              "      <td>3.205962</td>\n",
              "      <td>18.810908</td>\n",
              "      <td>0.945429</td>\n",
              "      <td>1.887626e+05</td>\n",
              "      <td>103.253540</td>\n",
              "      <td>17.194757</td>\n",
              "    </tr>\n",
              "    <tr>\n",
              "      <th>min</th>\n",
              "      <td>1.000000</td>\n",
              "      <td>2006.000000</td>\n",
              "      <td>66.000000</td>\n",
              "      <td>1.900000</td>\n",
              "      <td>6.100000e+01</td>\n",
              "      <td>0.000000</td>\n",
              "      <td>11.000000</td>\n",
              "    </tr>\n",
              "    <tr>\n",
              "      <th>25%</th>\n",
              "      <td>250.750000</td>\n",
              "      <td>2010.000000</td>\n",
              "      <td>100.000000</td>\n",
              "      <td>6.200000</td>\n",
              "      <td>3.630900e+04</td>\n",
              "      <td>13.270000</td>\n",
              "      <td>47.000000</td>\n",
              "    </tr>\n",
              "    <tr>\n",
              "      <th>50%</th>\n",
              "      <td>500.500000</td>\n",
              "      <td>2014.000000</td>\n",
              "      <td>111.000000</td>\n",
              "      <td>6.800000</td>\n",
              "      <td>1.107990e+05</td>\n",
              "      <td>47.985000</td>\n",
              "      <td>59.500000</td>\n",
              "    </tr>\n",
              "    <tr>\n",
              "      <th>75%</th>\n",
              "      <td>750.250000</td>\n",
              "      <td>2016.000000</td>\n",
              "      <td>123.000000</td>\n",
              "      <td>7.400000</td>\n",
              "      <td>2.399098e+05</td>\n",
              "      <td>113.715000</td>\n",
              "      <td>72.000000</td>\n",
              "    </tr>\n",
              "    <tr>\n",
              "      <th>max</th>\n",
              "      <td>1000.000000</td>\n",
              "      <td>2016.000000</td>\n",
              "      <td>191.000000</td>\n",
              "      <td>9.000000</td>\n",
              "      <td>1.791916e+06</td>\n",
              "      <td>936.630000</td>\n",
              "      <td>100.000000</td>\n",
              "    </tr>\n",
              "  </tbody>\n",
              "</table>\n",
              "</div>"
            ],
            "text/plain": [
              "              Rank         Year  Runtime (Minutes)       Rating         Votes  \\\n",
              "count  1000.000000  1000.000000        1000.000000  1000.000000  1.000000e+03   \n",
              "mean    500.500000  2012.783000         113.172000     6.723200  1.698083e+05   \n",
              "std     288.819436     3.205962          18.810908     0.945429  1.887626e+05   \n",
              "min       1.000000  2006.000000          66.000000     1.900000  6.100000e+01   \n",
              "25%     250.750000  2010.000000         100.000000     6.200000  3.630900e+04   \n",
              "50%     500.500000  2014.000000         111.000000     6.800000  1.107990e+05   \n",
              "75%     750.250000  2016.000000         123.000000     7.400000  2.399098e+05   \n",
              "max    1000.000000  2016.000000         191.000000     9.000000  1.791916e+06   \n",
              "\n",
              "       Revenue (Millions)   Metascore  \n",
              "count          872.000000  936.000000  \n",
              "mean            82.956376   58.985043  \n",
              "std            103.253540   17.194757  \n",
              "min              0.000000   11.000000  \n",
              "25%             13.270000   47.000000  \n",
              "50%             47.985000   59.500000  \n",
              "75%            113.715000   72.000000  \n",
              "max            936.630000  100.000000  "
            ]
          },
          "metadata": {
            "tags": []
          },
          "execution_count": 5
        }
      ]
    },
    {
      "cell_type": "code",
      "metadata": {
        "id": "zh_KrbB2WEJz",
        "colab": {
          "base_uri": "https://localhost:8080/",
          "height": 235
        },
        "outputId": "6d49d796-75f3-41b7-821a-b616fc7d3053"
      },
      "source": [
        "len(movies.index) - movies.count()"
      ],
      "execution_count": null,
      "outputs": [
        {
          "output_type": "execute_result",
          "data": {
            "text/plain": [
              "Rank                    0\n",
              "Title                   0\n",
              "Genre                   0\n",
              "Description             0\n",
              "Director                0\n",
              "Actors                  0\n",
              "Year                    0\n",
              "Runtime (Minutes)       0\n",
              "Rating                  0\n",
              "Votes                   0\n",
              "Revenue (Millions)    128\n",
              "Metascore              64\n",
              "dtype: int64"
            ]
          },
          "metadata": {
            "tags": []
          },
          "execution_count": 6
        }
      ]
    },
    {
      "cell_type": "markdown",
      "metadata": {
        "id": "GKTvNsNlTiuZ"
      },
      "source": [
        "Describe function on the dataset gives us the following insights:<br>\n",
        "* **Revenue(In Millions)** has **128 missing** values and **Metascore** has **64 missing** values.\n",
        "* **Rating** and **Metascore** has their mean closer to median, so they are normally distributed.\n",
        "* **Revenue (In Millions)** has its mean greater than median and their is a huge difference between the 75th pecentile and the maximum value, hence the Revenue seems to be right skewed and their are some outliers."
      ]
    },
    {
      "cell_type": "code",
      "metadata": {
        "id": "tMfpdchua6AB",
        "colab": {
          "base_uri": "https://localhost:8080/",
          "height": 235
        },
        "outputId": "a0e7fbc6-e1da-4c66-b419-462677a4291f"
      },
      "source": [
        "movies.isnull().sum()"
      ],
      "execution_count": null,
      "outputs": [
        {
          "output_type": "execute_result",
          "data": {
            "text/plain": [
              "Rank                    0\n",
              "Title                   0\n",
              "Genre                   0\n",
              "Description             0\n",
              "Director                0\n",
              "Actors                  0\n",
              "Year                    0\n",
              "Runtime (Minutes)       0\n",
              "Rating                  0\n",
              "Votes                   0\n",
              "Revenue (Millions)    128\n",
              "Metascore              64\n",
              "dtype: int64"
            ]
          },
          "metadata": {
            "tags": []
          },
          "execution_count": 7
        }
      ]
    },
    {
      "cell_type": "markdown",
      "metadata": {
        "id": "cHEXjfhhZ7L4"
      },
      "source": [
        "<a id=section4></a> \n",
        "### 4. Pandas Profiling before Data Preprocessing"
      ]
    },
    {
      "cell_type": "markdown",
      "metadata": {
        "id": "u-N86CjDZ4q7"
      },
      "source": [
        "Here, we will perform **Pandas Profiling before preprocessing** our dataset:<br>\n",
        "* **Install** pandas profiling<br>\n",
        "* **Import** pandas profiling<br>\n",
        "* **Generate** the profile report (__car_sales_pre_profiling.html__) to get quick overview of the variables in the dataset."
      ]
    },
    {
      "cell_type": "code",
      "metadata": {
        "id": "XcbpgkKXMWWo"
      },
      "source": [
        "#!pip install pandas-profiling==1.4.3\n",
        "#!pip install pandas-profiling --upgrade"
      ],
      "execution_count": null,
      "outputs": []
    },
    {
      "cell_type": "code",
      "metadata": {
        "id": "LuHtXHHCbc1V"
      },
      "source": [
        "#import pandas_profiling                                                      # Get a quick overview for all the variables using pandas_profiling                                         \n",
        "#profile = pandas_profiling.ProfileReport(movies)"
      ],
      "execution_count": null,
      "outputs": []
    },
    {
      "cell_type": "code",
      "metadata": {
        "id": "rbMDKNfmbnYS"
      },
      "source": [
        "# To output pandas profiling report to an external html file.\n",
        "# Saving the output as profiling_before_preprocessing.html\n",
        "#profile = movies.profile_report(title='Pandas Profiling before Data Preprocessing')\n",
        "#profile.to_file(\"movies_profiling_before_processing.html\")   \n",
        "\n",
        "# To output the pandas profiling report on the notebook.\n",
        "\n",
        "#movies.profile_report(title='Pandas Profiling before Data Preprocessing')\n"
      ],
      "execution_count": null,
      "outputs": []
    },
    {
      "cell_type": "markdown",
      "metadata": {
        "id": "7oW6K04Gct1C"
      },
      "source": [
        "**Observations from Pandas Profiling before Data Processing** <br><br>\n",
        "**Dataset info:**\n",
        "* Number of variables: 12\n",
        "* Number of observations: 1000\n",
        "* Missing cells: 192(1.6%)\n",
        "\n",
        "**Summary of data types in this dataset:**<br>\n",
        "* Numeric: 7\n",
        "* Categorical : 5 \n",
        "\n",
        "**Insights:**\n",
        "\n",
        "* **Rank** is uniform and unique.\n",
        "* **Title**, **Description** and **Votes** have a **high cardinality**.\n",
        "* **Genre**, **Director** and **Actor**have a high cardinality of 207, 644 and 996 distinct vaues respectively.\n",
        "* **Genre** and **Actors** are categorical and have comma separeted values hence having many distint values.\n",
        "* **Runtime**, **Rating** and **Metascore** are almost normally distributed. \n",
        "* **Revenue(In Millions)** is right skewed, with a skewness of about 2.59.\n",
        "* **Rating** and **Metascore** are highly co-related\n",
        "* **Votes** and **Revenue** are highly correlated.\n",
        "* **Year** is negatively correlated with votes.\n",
        "\n",
        "\n"
      ]
    },
    {
      "cell_type": "markdown",
      "metadata": {
        "id": "EfptzAg9sO9y"
      },
      "source": [
        "<a id=section5></a> \n",
        "### 5. Data Cleaning/Preprocessing"
      ]
    },
    {
      "cell_type": "markdown",
      "metadata": {
        "id": "7HxY0metsffJ"
      },
      "source": [
        "<a id=section501></a> \n",
        "### 5.1 Column standardization\n"
      ]
    },
    {
      "cell_type": "markdown",
      "metadata": {
        "id": "4FhoagUUloTj"
      },
      "source": [
        "Standardize all column headers to lower case (to prevent typos and for ease of use) and delete unnecessary columns."
      ]
    },
    {
      "cell_type": "code",
      "metadata": {
        "id": "yAvA6ue6qdin",
        "colab": {
          "base_uri": "https://localhost:8080/",
          "height": 235
        },
        "outputId": "b86b6301-f175-4bf4-9ea1-5e1072cdb22d"
      },
      "source": [
        "movies.columns = map(str.lower, movies.columns) \n",
        "movies.dtypes"
      ],
      "execution_count": null,
      "outputs": [
        {
          "output_type": "execute_result",
          "data": {
            "text/plain": [
              "rank                    int64\n",
              "title                  object\n",
              "genre                  object\n",
              "description            object\n",
              "director               object\n",
              "actors                 object\n",
              "year                    int64\n",
              "runtime (minutes)       int64\n",
              "rating                float64\n",
              "votes                   int64\n",
              "revenue (millions)    float64\n",
              "metascore             float64\n",
              "dtype: object"
            ]
          },
          "metadata": {
            "tags": []
          },
          "execution_count": 10
        }
      ]
    },
    {
      "cell_type": "code",
      "metadata": {
        "id": "XXtQq2WYU0yp",
        "colab": {
          "base_uri": "https://localhost:8080/",
          "height": 235
        },
        "outputId": "c5e2dfd6-079e-40f3-a212-a67f00cf8808"
      },
      "source": [
        "movies = movies.rename(columns= {'runtime (minutes)':'runtime_min', 'revenue (millions)':'revenue_mill'})\n",
        "movies.dtypes"
      ],
      "execution_count": null,
      "outputs": [
        {
          "output_type": "execute_result",
          "data": {
            "text/plain": [
              "rank              int64\n",
              "title            object\n",
              "genre            object\n",
              "description      object\n",
              "director         object\n",
              "actors           object\n",
              "year              int64\n",
              "runtime_min       int64\n",
              "rating          float64\n",
              "votes             int64\n",
              "revenue_mill    float64\n",
              "metascore       float64\n",
              "dtype: object"
            ]
          },
          "metadata": {
            "tags": []
          },
          "execution_count": 11
        }
      ]
    },
    {
      "cell_type": "code",
      "metadata": {
        "id": "GEA-0TJOrXtm",
        "colab": {
          "base_uri": "https://localhost:8080/",
          "height": 218
        },
        "outputId": "ce9492a4-5317-4e5f-8947-ce7e53a780e2"
      },
      "source": [
        "movies = movies.drop(columns = 'description', axis = 1)\n",
        "movies.dtypes"
      ],
      "execution_count": null,
      "outputs": [
        {
          "output_type": "execute_result",
          "data": {
            "text/plain": [
              "rank              int64\n",
              "title            object\n",
              "genre            object\n",
              "director         object\n",
              "actors           object\n",
              "year              int64\n",
              "runtime_min       int64\n",
              "rating          float64\n",
              "votes             int64\n",
              "revenue_mill    float64\n",
              "metascore       float64\n",
              "dtype: object"
            ]
          },
          "metadata": {
            "tags": []
          },
          "execution_count": 12
        }
      ]
    },
    {
      "cell_type": "markdown",
      "metadata": {
        "id": "BmYpS9yzBiGv"
      },
      "source": [
        "<a id=section503></a> \n",
        "### 5.3 Handling missing values"
      ]
    },
    {
      "cell_type": "markdown",
      "metadata": {
        "id": "WTan-nU3m0td"
      },
      "source": [
        "* **revenue_mill** and **metascore** has 128 and 64 missing values respectively. Lets drop all the null values for simplicity.\n"
      ]
    },
    {
      "cell_type": "code",
      "metadata": {
        "id": "bPnRsYzlq23m",
        "colab": {
          "base_uri": "https://localhost:8080/",
          "height": 319
        },
        "outputId": "f1c037b0-99ed-4be0-c7d0-8218fe65f5ba"
      },
      "source": [
        "movies = movies.dropna()\n",
        "movies.info()"
      ],
      "execution_count": null,
      "outputs": [
        {
          "output_type": "stream",
          "text": [
            "<class 'pandas.core.frame.DataFrame'>\n",
            "Int64Index: 838 entries, 0 to 999\n",
            "Data columns (total 11 columns):\n",
            " #   Column        Non-Null Count  Dtype  \n",
            "---  ------        --------------  -----  \n",
            " 0   rank          838 non-null    int64  \n",
            " 1   title         838 non-null    object \n",
            " 2   genre         838 non-null    object \n",
            " 3   director      838 non-null    object \n",
            " 4   actors        838 non-null    object \n",
            " 5   year          838 non-null    int64  \n",
            " 6   runtime_min   838 non-null    int64  \n",
            " 7   rating        838 non-null    float64\n",
            " 8   votes         838 non-null    int64  \n",
            " 9   revenue_mill  838 non-null    float64\n",
            " 10  metascore     838 non-null    float64\n",
            "dtypes: float64(3), int64(4), object(4)\n",
            "memory usage: 78.6+ KB\n"
          ],
          "name": "stdout"
        }
      ]
    },
    {
      "cell_type": "code",
      "metadata": {
        "id": "yIGxBVWGyfTl"
      },
      "source": [
        "def explode(df, lst_cols, fill_value=''):\n",
        "    # make sure `lst_cols` is a list\n",
        "    if lst_cols and not isinstance(lst_cols, list):\n",
        "        lst_cols = [lst_cols]\n",
        "    # all columns except `lst_cols`\n",
        "    idx_cols = df.columns.difference(lst_cols)\n",
        "\n",
        "    # calculate lengths of lists\n",
        "    lens = df[lst_cols[0]].str.len()\n",
        "\n",
        "    if (lens > 0).all():\n",
        "        # ALL lists in cells aren't empty\n",
        "        return pd.DataFrame({\n",
        "            col:np.repeat(df[col].values, lens)\n",
        "            for col in idx_cols\n",
        "        }).assign(**{col:np.concatenate(df[col].values) for col in lst_cols}) \\\n",
        "          .loc[:, df.columns]\n",
        "    else:\n",
        "        # at least one list in cells is empty\n",
        "        return pd.DataFrame({\n",
        "            col:np.repeat(df[col].values, lens)\n",
        "            for col in idx_cols\n",
        "        }).assign(**{col:np.concatenate(df[col].values) for col in lst_cols}) \\\n",
        "          .append(df.loc[lens==0, idx_cols]).fillna(fill_value) \\\n",
        "          .loc[:, df.columns]"
      ],
      "execution_count": null,
      "outputs": []
    },
    {
      "cell_type": "code",
      "metadata": {
        "id": "QsUXpPtyGrXR",
        "colab": {
          "base_uri": "https://localhost:8080/",
          "height": 195
        },
        "outputId": "5b389187-0e64-4f19-a7b5-2fd3bd65a9de"
      },
      "source": [
        "movies_genre = movies.copy(deep=True)\n",
        "movies_genre.genre = movies_genre.genre.str.split(',')\n",
        "movies_genre.head()"
      ],
      "execution_count": null,
      "outputs": [
        {
          "output_type": "execute_result",
          "data": {
            "text/html": [
              "<div>\n",
              "<style scoped>\n",
              "    .dataframe tbody tr th:only-of-type {\n",
              "        vertical-align: middle;\n",
              "    }\n",
              "\n",
              "    .dataframe tbody tr th {\n",
              "        vertical-align: top;\n",
              "    }\n",
              "\n",
              "    .dataframe thead th {\n",
              "        text-align: right;\n",
              "    }\n",
              "</style>\n",
              "<table border=\"1\" class=\"dataframe\">\n",
              "  <thead>\n",
              "    <tr style=\"text-align: right;\">\n",
              "      <th></th>\n",
              "      <th>rank</th>\n",
              "      <th>title</th>\n",
              "      <th>genre</th>\n",
              "      <th>director</th>\n",
              "      <th>actors</th>\n",
              "      <th>year</th>\n",
              "      <th>runtime_min</th>\n",
              "      <th>rating</th>\n",
              "      <th>votes</th>\n",
              "      <th>revenue_mill</th>\n",
              "      <th>metascore</th>\n",
              "    </tr>\n",
              "  </thead>\n",
              "  <tbody>\n",
              "    <tr>\n",
              "      <th>0</th>\n",
              "      <td>1</td>\n",
              "      <td>Guardians of the Galaxy</td>\n",
              "      <td>[Action, Adventure, Sci-Fi]</td>\n",
              "      <td>James Gunn</td>\n",
              "      <td>Chris Pratt, Vin Diesel, Bradley Cooper, Zoe S...</td>\n",
              "      <td>2014</td>\n",
              "      <td>121</td>\n",
              "      <td>8.1</td>\n",
              "      <td>757074</td>\n",
              "      <td>333.13</td>\n",
              "      <td>76.0</td>\n",
              "    </tr>\n",
              "    <tr>\n",
              "      <th>1</th>\n",
              "      <td>2</td>\n",
              "      <td>Prometheus</td>\n",
              "      <td>[Adventure, Mystery, Sci-Fi]</td>\n",
              "      <td>Ridley Scott</td>\n",
              "      <td>Noomi Rapace, Logan Marshall-Green, Michael Fa...</td>\n",
              "      <td>2012</td>\n",
              "      <td>124</td>\n",
              "      <td>7.0</td>\n",
              "      <td>485820</td>\n",
              "      <td>126.46</td>\n",
              "      <td>65.0</td>\n",
              "    </tr>\n",
              "    <tr>\n",
              "      <th>2</th>\n",
              "      <td>3</td>\n",
              "      <td>Split</td>\n",
              "      <td>[Horror, Thriller]</td>\n",
              "      <td>M. Night Shyamalan</td>\n",
              "      <td>James McAvoy, Anya Taylor-Joy, Haley Lu Richar...</td>\n",
              "      <td>2016</td>\n",
              "      <td>117</td>\n",
              "      <td>7.3</td>\n",
              "      <td>157606</td>\n",
              "      <td>138.12</td>\n",
              "      <td>62.0</td>\n",
              "    </tr>\n",
              "    <tr>\n",
              "      <th>3</th>\n",
              "      <td>4</td>\n",
              "      <td>Sing</td>\n",
              "      <td>[Animation, Comedy, Family]</td>\n",
              "      <td>Christophe Lourdelet</td>\n",
              "      <td>Matthew McConaughey,Reese Witherspoon, Seth Ma...</td>\n",
              "      <td>2016</td>\n",
              "      <td>108</td>\n",
              "      <td>7.2</td>\n",
              "      <td>60545</td>\n",
              "      <td>270.32</td>\n",
              "      <td>59.0</td>\n",
              "    </tr>\n",
              "    <tr>\n",
              "      <th>4</th>\n",
              "      <td>5</td>\n",
              "      <td>Suicide Squad</td>\n",
              "      <td>[Action, Adventure, Fantasy]</td>\n",
              "      <td>David Ayer</td>\n",
              "      <td>Will Smith, Jared Leto, Margot Robbie, Viola D...</td>\n",
              "      <td>2016</td>\n",
              "      <td>123</td>\n",
              "      <td>6.2</td>\n",
              "      <td>393727</td>\n",
              "      <td>325.02</td>\n",
              "      <td>40.0</td>\n",
              "    </tr>\n",
              "  </tbody>\n",
              "</table>\n",
              "</div>"
            ],
            "text/plain": [
              "   rank                    title                         genre  \\\n",
              "0     1  Guardians of the Galaxy   [Action, Adventure, Sci-Fi]   \n",
              "1     2               Prometheus  [Adventure, Mystery, Sci-Fi]   \n",
              "2     3                    Split            [Horror, Thriller]   \n",
              "3     4                     Sing   [Animation, Comedy, Family]   \n",
              "4     5            Suicide Squad  [Action, Adventure, Fantasy]   \n",
              "\n",
              "               director                                             actors  \\\n",
              "0            James Gunn  Chris Pratt, Vin Diesel, Bradley Cooper, Zoe S...   \n",
              "1          Ridley Scott  Noomi Rapace, Logan Marshall-Green, Michael Fa...   \n",
              "2    M. Night Shyamalan  James McAvoy, Anya Taylor-Joy, Haley Lu Richar...   \n",
              "3  Christophe Lourdelet  Matthew McConaughey,Reese Witherspoon, Seth Ma...   \n",
              "4            David Ayer  Will Smith, Jared Leto, Margot Robbie, Viola D...   \n",
              "\n",
              "   year  runtime_min  rating   votes  revenue_mill  metascore  \n",
              "0  2014          121     8.1  757074        333.13       76.0  \n",
              "1  2012          124     7.0  485820        126.46       65.0  \n",
              "2  2016          117     7.3  157606        138.12       62.0  \n",
              "3  2016          108     7.2   60545        270.32       59.0  \n",
              "4  2016          123     6.2  393727        325.02       40.0  "
            ]
          },
          "metadata": {
            "tags": []
          },
          "execution_count": 15
        }
      ]
    },
    {
      "cell_type": "code",
      "metadata": {
        "id": "RLM4VEGf0cOW"
      },
      "source": [
        "movies_genre = explode(movies_genre, ['genre'])"
      ],
      "execution_count": null,
      "outputs": []
    },
    {
      "cell_type": "code",
      "metadata": {
        "id": "Fv578j5VEw-L"
      },
      "source": [
        "movies_genre.genre = movies_genre.genre.str.strip()"
      ],
      "execution_count": null,
      "outputs": []
    },
    {
      "cell_type": "code",
      "metadata": {
        "id": "kM5F-kgg1ev9",
        "colab": {
          "base_uri": "https://localhost:8080/",
          "height": 195
        },
        "outputId": "642ed386-96b7-4433-deb6-b84aa7242d25"
      },
      "source": [
        "movies_genre.head()"
      ],
      "execution_count": null,
      "outputs": [
        {
          "output_type": "execute_result",
          "data": {
            "text/html": [
              "<div>\n",
              "<style scoped>\n",
              "    .dataframe tbody tr th:only-of-type {\n",
              "        vertical-align: middle;\n",
              "    }\n",
              "\n",
              "    .dataframe tbody tr th {\n",
              "        vertical-align: top;\n",
              "    }\n",
              "\n",
              "    .dataframe thead th {\n",
              "        text-align: right;\n",
              "    }\n",
              "</style>\n",
              "<table border=\"1\" class=\"dataframe\">\n",
              "  <thead>\n",
              "    <tr style=\"text-align: right;\">\n",
              "      <th></th>\n",
              "      <th>rank</th>\n",
              "      <th>title</th>\n",
              "      <th>genre</th>\n",
              "      <th>director</th>\n",
              "      <th>actors</th>\n",
              "      <th>year</th>\n",
              "      <th>runtime_min</th>\n",
              "      <th>rating</th>\n",
              "      <th>votes</th>\n",
              "      <th>revenue_mill</th>\n",
              "      <th>metascore</th>\n",
              "    </tr>\n",
              "  </thead>\n",
              "  <tbody>\n",
              "    <tr>\n",
              "      <th>0</th>\n",
              "      <td>1</td>\n",
              "      <td>Guardians of the Galaxy</td>\n",
              "      <td>Action</td>\n",
              "      <td>James Gunn</td>\n",
              "      <td>Chris Pratt, Vin Diesel, Bradley Cooper, Zoe S...</td>\n",
              "      <td>2014</td>\n",
              "      <td>121</td>\n",
              "      <td>8.1</td>\n",
              "      <td>757074</td>\n",
              "      <td>333.13</td>\n",
              "      <td>76.0</td>\n",
              "    </tr>\n",
              "    <tr>\n",
              "      <th>1</th>\n",
              "      <td>1</td>\n",
              "      <td>Guardians of the Galaxy</td>\n",
              "      <td>Adventure</td>\n",
              "      <td>James Gunn</td>\n",
              "      <td>Chris Pratt, Vin Diesel, Bradley Cooper, Zoe S...</td>\n",
              "      <td>2014</td>\n",
              "      <td>121</td>\n",
              "      <td>8.1</td>\n",
              "      <td>757074</td>\n",
              "      <td>333.13</td>\n",
              "      <td>76.0</td>\n",
              "    </tr>\n",
              "    <tr>\n",
              "      <th>2</th>\n",
              "      <td>1</td>\n",
              "      <td>Guardians of the Galaxy</td>\n",
              "      <td>Sci-Fi</td>\n",
              "      <td>James Gunn</td>\n",
              "      <td>Chris Pratt, Vin Diesel, Bradley Cooper, Zoe S...</td>\n",
              "      <td>2014</td>\n",
              "      <td>121</td>\n",
              "      <td>8.1</td>\n",
              "      <td>757074</td>\n",
              "      <td>333.13</td>\n",
              "      <td>76.0</td>\n",
              "    </tr>\n",
              "    <tr>\n",
              "      <th>3</th>\n",
              "      <td>2</td>\n",
              "      <td>Prometheus</td>\n",
              "      <td>Adventure</td>\n",
              "      <td>Ridley Scott</td>\n",
              "      <td>Noomi Rapace, Logan Marshall-Green, Michael Fa...</td>\n",
              "      <td>2012</td>\n",
              "      <td>124</td>\n",
              "      <td>7.0</td>\n",
              "      <td>485820</td>\n",
              "      <td>126.46</td>\n",
              "      <td>65.0</td>\n",
              "    </tr>\n",
              "    <tr>\n",
              "      <th>4</th>\n",
              "      <td>2</td>\n",
              "      <td>Prometheus</td>\n",
              "      <td>Mystery</td>\n",
              "      <td>Ridley Scott</td>\n",
              "      <td>Noomi Rapace, Logan Marshall-Green, Michael Fa...</td>\n",
              "      <td>2012</td>\n",
              "      <td>124</td>\n",
              "      <td>7.0</td>\n",
              "      <td>485820</td>\n",
              "      <td>126.46</td>\n",
              "      <td>65.0</td>\n",
              "    </tr>\n",
              "  </tbody>\n",
              "</table>\n",
              "</div>"
            ],
            "text/plain": [
              "   rank                    title      genre      director  \\\n",
              "0     1  Guardians of the Galaxy     Action    James Gunn   \n",
              "1     1  Guardians of the Galaxy  Adventure    James Gunn   \n",
              "2     1  Guardians of the Galaxy     Sci-Fi    James Gunn   \n",
              "3     2               Prometheus  Adventure  Ridley Scott   \n",
              "4     2               Prometheus    Mystery  Ridley Scott   \n",
              "\n",
              "                                              actors  year  runtime_min  \\\n",
              "0  Chris Pratt, Vin Diesel, Bradley Cooper, Zoe S...  2014          121   \n",
              "1  Chris Pratt, Vin Diesel, Bradley Cooper, Zoe S...  2014          121   \n",
              "2  Chris Pratt, Vin Diesel, Bradley Cooper, Zoe S...  2014          121   \n",
              "3  Noomi Rapace, Logan Marshall-Green, Michael Fa...  2012          124   \n",
              "4  Noomi Rapace, Logan Marshall-Green, Michael Fa...  2012          124   \n",
              "\n",
              "   rating   votes  revenue_mill  metascore  \n",
              "0     8.1  757074        333.13       76.0  \n",
              "1     8.1  757074        333.13       76.0  \n",
              "2     8.1  757074        333.13       76.0  \n",
              "3     7.0  485820        126.46       65.0  \n",
              "4     7.0  485820        126.46       65.0  "
            ]
          },
          "metadata": {
            "tags": []
          },
          "execution_count": 18
        }
      ]
    },
    {
      "cell_type": "code",
      "metadata": {
        "id": "n43YestbqvQ_",
        "colab": {
          "base_uri": "https://localhost:8080/",
          "height": 195
        },
        "outputId": "fb9bb2db-e95e-4b5e-cfeb-60185d5f15d7"
      },
      "source": [
        "movies_actors = movies.copy(deep=True)\n",
        "movies_actors.actors = movies_actors.actors.str.split(',')\n",
        "movies_actors.head()"
      ],
      "execution_count": null,
      "outputs": [
        {
          "output_type": "execute_result",
          "data": {
            "text/html": [
              "<div>\n",
              "<style scoped>\n",
              "    .dataframe tbody tr th:only-of-type {\n",
              "        vertical-align: middle;\n",
              "    }\n",
              "\n",
              "    .dataframe tbody tr th {\n",
              "        vertical-align: top;\n",
              "    }\n",
              "\n",
              "    .dataframe thead th {\n",
              "        text-align: right;\n",
              "    }\n",
              "</style>\n",
              "<table border=\"1\" class=\"dataframe\">\n",
              "  <thead>\n",
              "    <tr style=\"text-align: right;\">\n",
              "      <th></th>\n",
              "      <th>rank</th>\n",
              "      <th>title</th>\n",
              "      <th>genre</th>\n",
              "      <th>director</th>\n",
              "      <th>actors</th>\n",
              "      <th>year</th>\n",
              "      <th>runtime_min</th>\n",
              "      <th>rating</th>\n",
              "      <th>votes</th>\n",
              "      <th>revenue_mill</th>\n",
              "      <th>metascore</th>\n",
              "    </tr>\n",
              "  </thead>\n",
              "  <tbody>\n",
              "    <tr>\n",
              "      <th>0</th>\n",
              "      <td>1</td>\n",
              "      <td>Guardians of the Galaxy</td>\n",
              "      <td>Action,Adventure,Sci-Fi</td>\n",
              "      <td>James Gunn</td>\n",
              "      <td>[Chris Pratt,  Vin Diesel,  Bradley Cooper,  Z...</td>\n",
              "      <td>2014</td>\n",
              "      <td>121</td>\n",
              "      <td>8.1</td>\n",
              "      <td>757074</td>\n",
              "      <td>333.13</td>\n",
              "      <td>76.0</td>\n",
              "    </tr>\n",
              "    <tr>\n",
              "      <th>1</th>\n",
              "      <td>2</td>\n",
              "      <td>Prometheus</td>\n",
              "      <td>Adventure,Mystery,Sci-Fi</td>\n",
              "      <td>Ridley Scott</td>\n",
              "      <td>[Noomi Rapace,  Logan Marshall-Green,  Michael...</td>\n",
              "      <td>2012</td>\n",
              "      <td>124</td>\n",
              "      <td>7.0</td>\n",
              "      <td>485820</td>\n",
              "      <td>126.46</td>\n",
              "      <td>65.0</td>\n",
              "    </tr>\n",
              "    <tr>\n",
              "      <th>2</th>\n",
              "      <td>3</td>\n",
              "      <td>Split</td>\n",
              "      <td>Horror,Thriller</td>\n",
              "      <td>M. Night Shyamalan</td>\n",
              "      <td>[James McAvoy,  Anya Taylor-Joy,  Haley Lu Ric...</td>\n",
              "      <td>2016</td>\n",
              "      <td>117</td>\n",
              "      <td>7.3</td>\n",
              "      <td>157606</td>\n",
              "      <td>138.12</td>\n",
              "      <td>62.0</td>\n",
              "    </tr>\n",
              "    <tr>\n",
              "      <th>3</th>\n",
              "      <td>4</td>\n",
              "      <td>Sing</td>\n",
              "      <td>Animation,Comedy,Family</td>\n",
              "      <td>Christophe Lourdelet</td>\n",
              "      <td>[Matthew McConaughey, Reese Witherspoon,  Seth...</td>\n",
              "      <td>2016</td>\n",
              "      <td>108</td>\n",
              "      <td>7.2</td>\n",
              "      <td>60545</td>\n",
              "      <td>270.32</td>\n",
              "      <td>59.0</td>\n",
              "    </tr>\n",
              "    <tr>\n",
              "      <th>4</th>\n",
              "      <td>5</td>\n",
              "      <td>Suicide Squad</td>\n",
              "      <td>Action,Adventure,Fantasy</td>\n",
              "      <td>David Ayer</td>\n",
              "      <td>[Will Smith,  Jared Leto,  Margot Robbie,  Vio...</td>\n",
              "      <td>2016</td>\n",
              "      <td>123</td>\n",
              "      <td>6.2</td>\n",
              "      <td>393727</td>\n",
              "      <td>325.02</td>\n",
              "      <td>40.0</td>\n",
              "    </tr>\n",
              "  </tbody>\n",
              "</table>\n",
              "</div>"
            ],
            "text/plain": [
              "   rank                    title                     genre  \\\n",
              "0     1  Guardians of the Galaxy   Action,Adventure,Sci-Fi   \n",
              "1     2               Prometheus  Adventure,Mystery,Sci-Fi   \n",
              "2     3                    Split           Horror,Thriller   \n",
              "3     4                     Sing   Animation,Comedy,Family   \n",
              "4     5            Suicide Squad  Action,Adventure,Fantasy   \n",
              "\n",
              "               director                                             actors  \\\n",
              "0            James Gunn  [Chris Pratt,  Vin Diesel,  Bradley Cooper,  Z...   \n",
              "1          Ridley Scott  [Noomi Rapace,  Logan Marshall-Green,  Michael...   \n",
              "2    M. Night Shyamalan  [James McAvoy,  Anya Taylor-Joy,  Haley Lu Ric...   \n",
              "3  Christophe Lourdelet  [Matthew McConaughey, Reese Witherspoon,  Seth...   \n",
              "4            David Ayer  [Will Smith,  Jared Leto,  Margot Robbie,  Vio...   \n",
              "\n",
              "   year  runtime_min  rating   votes  revenue_mill  metascore  \n",
              "0  2014          121     8.1  757074        333.13       76.0  \n",
              "1  2012          124     7.0  485820        126.46       65.0  \n",
              "2  2016          117     7.3  157606        138.12       62.0  \n",
              "3  2016          108     7.2   60545        270.32       59.0  \n",
              "4  2016          123     6.2  393727        325.02       40.0  "
            ]
          },
          "metadata": {
            "tags": []
          },
          "execution_count": 19
        }
      ]
    },
    {
      "cell_type": "code",
      "metadata": {
        "id": "lHvPBeHRrGB3"
      },
      "source": [
        "movies_actors = explode(movies_actors, ['actors'])"
      ],
      "execution_count": null,
      "outputs": []
    },
    {
      "cell_type": "code",
      "metadata": {
        "id": "P1lV6CAeFCkK"
      },
      "source": [
        "movies_actors.actors = movies_actors.actors.str.strip()"
      ],
      "execution_count": null,
      "outputs": []
    },
    {
      "cell_type": "code",
      "metadata": {
        "id": "NCpDFEVLrP2R",
        "colab": {
          "base_uri": "https://localhost:8080/",
          "height": 195
        },
        "outputId": "2c56eea1-0638-4f32-fade-40c4777ce736"
      },
      "source": [
        "movies_actors.head()"
      ],
      "execution_count": null,
      "outputs": [
        {
          "output_type": "execute_result",
          "data": {
            "text/html": [
              "<div>\n",
              "<style scoped>\n",
              "    .dataframe tbody tr th:only-of-type {\n",
              "        vertical-align: middle;\n",
              "    }\n",
              "\n",
              "    .dataframe tbody tr th {\n",
              "        vertical-align: top;\n",
              "    }\n",
              "\n",
              "    .dataframe thead th {\n",
              "        text-align: right;\n",
              "    }\n",
              "</style>\n",
              "<table border=\"1\" class=\"dataframe\">\n",
              "  <thead>\n",
              "    <tr style=\"text-align: right;\">\n",
              "      <th></th>\n",
              "      <th>rank</th>\n",
              "      <th>title</th>\n",
              "      <th>genre</th>\n",
              "      <th>director</th>\n",
              "      <th>actors</th>\n",
              "      <th>year</th>\n",
              "      <th>runtime_min</th>\n",
              "      <th>rating</th>\n",
              "      <th>votes</th>\n",
              "      <th>revenue_mill</th>\n",
              "      <th>metascore</th>\n",
              "    </tr>\n",
              "  </thead>\n",
              "  <tbody>\n",
              "    <tr>\n",
              "      <th>0</th>\n",
              "      <td>1</td>\n",
              "      <td>Guardians of the Galaxy</td>\n",
              "      <td>Action,Adventure,Sci-Fi</td>\n",
              "      <td>James Gunn</td>\n",
              "      <td>Chris Pratt</td>\n",
              "      <td>2014</td>\n",
              "      <td>121</td>\n",
              "      <td>8.1</td>\n",
              "      <td>757074</td>\n",
              "      <td>333.13</td>\n",
              "      <td>76.0</td>\n",
              "    </tr>\n",
              "    <tr>\n",
              "      <th>1</th>\n",
              "      <td>1</td>\n",
              "      <td>Guardians of the Galaxy</td>\n",
              "      <td>Action,Adventure,Sci-Fi</td>\n",
              "      <td>James Gunn</td>\n",
              "      <td>Vin Diesel</td>\n",
              "      <td>2014</td>\n",
              "      <td>121</td>\n",
              "      <td>8.1</td>\n",
              "      <td>757074</td>\n",
              "      <td>333.13</td>\n",
              "      <td>76.0</td>\n",
              "    </tr>\n",
              "    <tr>\n",
              "      <th>2</th>\n",
              "      <td>1</td>\n",
              "      <td>Guardians of the Galaxy</td>\n",
              "      <td>Action,Adventure,Sci-Fi</td>\n",
              "      <td>James Gunn</td>\n",
              "      <td>Bradley Cooper</td>\n",
              "      <td>2014</td>\n",
              "      <td>121</td>\n",
              "      <td>8.1</td>\n",
              "      <td>757074</td>\n",
              "      <td>333.13</td>\n",
              "      <td>76.0</td>\n",
              "    </tr>\n",
              "    <tr>\n",
              "      <th>3</th>\n",
              "      <td>1</td>\n",
              "      <td>Guardians of the Galaxy</td>\n",
              "      <td>Action,Adventure,Sci-Fi</td>\n",
              "      <td>James Gunn</td>\n",
              "      <td>Zoe Saldana</td>\n",
              "      <td>2014</td>\n",
              "      <td>121</td>\n",
              "      <td>8.1</td>\n",
              "      <td>757074</td>\n",
              "      <td>333.13</td>\n",
              "      <td>76.0</td>\n",
              "    </tr>\n",
              "    <tr>\n",
              "      <th>4</th>\n",
              "      <td>2</td>\n",
              "      <td>Prometheus</td>\n",
              "      <td>Adventure,Mystery,Sci-Fi</td>\n",
              "      <td>Ridley Scott</td>\n",
              "      <td>Noomi Rapace</td>\n",
              "      <td>2012</td>\n",
              "      <td>124</td>\n",
              "      <td>7.0</td>\n",
              "      <td>485820</td>\n",
              "      <td>126.46</td>\n",
              "      <td>65.0</td>\n",
              "    </tr>\n",
              "  </tbody>\n",
              "</table>\n",
              "</div>"
            ],
            "text/plain": [
              "   rank                    title                     genre      director  \\\n",
              "0     1  Guardians of the Galaxy   Action,Adventure,Sci-Fi    James Gunn   \n",
              "1     1  Guardians of the Galaxy   Action,Adventure,Sci-Fi    James Gunn   \n",
              "2     1  Guardians of the Galaxy   Action,Adventure,Sci-Fi    James Gunn   \n",
              "3     1  Guardians of the Galaxy   Action,Adventure,Sci-Fi    James Gunn   \n",
              "4     2               Prometheus  Adventure,Mystery,Sci-Fi  Ridley Scott   \n",
              "\n",
              "           actors  year  runtime_min  rating   votes  revenue_mill  metascore  \n",
              "0     Chris Pratt  2014          121     8.1  757074        333.13       76.0  \n",
              "1      Vin Diesel  2014          121     8.1  757074        333.13       76.0  \n",
              "2  Bradley Cooper  2014          121     8.1  757074        333.13       76.0  \n",
              "3     Zoe Saldana  2014          121     8.1  757074        333.13       76.0  \n",
              "4    Noomi Rapace  2012          124     7.0  485820        126.46       65.0  "
            ]
          },
          "metadata": {
            "tags": []
          },
          "execution_count": 22
        }
      ]
    },
    {
      "cell_type": "markdown",
      "metadata": {
        "id": "ws_uTZdNPdOI"
      },
      "source": [
        "<a id=section6></a> \n",
        "### 6. Pandas Profiling after Data Preprocessing"
      ]
    },
    {
      "cell_type": "markdown",
      "metadata": {
        "id": "G2RXuxNT8NV4"
      },
      "source": [
        "Here, we will perform **Pandas Profiling after preprocessing** our dataset, so we will name the **output file** as __car_sales_profiling_after_preprocessing.html__."
      ]
    },
    {
      "cell_type": "code",
      "metadata": {
        "id": "M-SYq5fGNVwt"
      },
      "source": [
        "# To output pandas profiling report to an external html file.\n",
        "# Saving the output as profiling_after_preprocessing.html\n",
        "\n",
        "#profile = movies.profile_report(title='Pandas Profiling after Data Preprocessing')\n",
        "#profile.to_file(output_file=\"movies_profiling_after_preprocessing.html\")\n",
        "\n",
        "# To output the pandas profiling report on the notebook.\n",
        "\n",
        "#movies.profile_report(title='Pandas Profiling after Data Preprocessing')"
      ],
      "execution_count": null,
      "outputs": []
    },
    {
      "cell_type": "markdown",
      "metadata": {
        "id": "3cOUrivZB5SF"
      },
      "source": [
        "**Observations from Pandas Profiling before Data Processing:**<br>\n",
        "\n",
        "**Dataset info:**\n",
        "* Number of variables: 12\n",
        "* Number of observations: 838\n",
        "\n",
        "**Summary of data types in this dataset:**\n",
        "* Numeric: 8\n",
        "* Categorical : 4\n",
        "\n",
        "**Insights:**\n",
        "\n",
        "* **Title**, **Rank**, **Director** has a **high cardinality**.\n",
        "These high cardinalities are fine, because we have different the movie names are different, rank is unique and there are many directors making films in the media industry.\n"
      ]
    },
    {
      "cell_type": "code",
      "metadata": {
        "id": "9JubB-bdCu5d"
      },
      "source": [
        "movies.to_csv('movies.csv')    \n",
        "movies_genre.to_csv('movies_genre.csv')    \n",
        "movies_actors.to_csv('movies_actors.csv')    "
      ],
      "execution_count": null,
      "outputs": []
    },
    {
      "cell_type": "markdown",
      "metadata": {
        "id": "MRkqrlEoPt1z"
      },
      "source": [
        "<a id=section7></a> \n",
        "### 7. Exploratory Data Analysis"
      ]
    },
    {
      "cell_type": "markdown",
      "metadata": {
        "id": "9kui5mhFDShc"
      },
      "source": [
        "**Exploratory Data Analysis(EDA)** is an **approach for analyzing data sets** and to **summarize** their **main characteristics**, often with **visual methods**. In the movie dataset, we are analysing about what features affects the revenue of a movie."
      ]
    },
    {
      "cell_type": "markdown",
      "metadata": {
        "id": "HtA5_yK-HL-a"
      },
      "source": [
        "<a id=section701></a>\n",
        "### 7.1 Feature Based Analysis"
      ]
    },
    {
      "cell_type": "code",
      "metadata": {
        "id": "Vz9q0s94qwQm",
        "colab": {
          "base_uri": "https://localhost:8080/",
          "height": 195
        },
        "outputId": "a20a5f59-6e0d-4666-db7c-81814fa1dda8"
      },
      "source": [
        "movies.head()"
      ],
      "execution_count": null,
      "outputs": [
        {
          "output_type": "execute_result",
          "data": {
            "text/html": [
              "<div>\n",
              "<style scoped>\n",
              "    .dataframe tbody tr th:only-of-type {\n",
              "        vertical-align: middle;\n",
              "    }\n",
              "\n",
              "    .dataframe tbody tr th {\n",
              "        vertical-align: top;\n",
              "    }\n",
              "\n",
              "    .dataframe thead th {\n",
              "        text-align: right;\n",
              "    }\n",
              "</style>\n",
              "<table border=\"1\" class=\"dataframe\">\n",
              "  <thead>\n",
              "    <tr style=\"text-align: right;\">\n",
              "      <th></th>\n",
              "      <th>rank</th>\n",
              "      <th>title</th>\n",
              "      <th>genre</th>\n",
              "      <th>director</th>\n",
              "      <th>actors</th>\n",
              "      <th>year</th>\n",
              "      <th>runtime_min</th>\n",
              "      <th>rating</th>\n",
              "      <th>votes</th>\n",
              "      <th>revenue_mill</th>\n",
              "      <th>metascore</th>\n",
              "    </tr>\n",
              "  </thead>\n",
              "  <tbody>\n",
              "    <tr>\n",
              "      <th>0</th>\n",
              "      <td>1</td>\n",
              "      <td>Guardians of the Galaxy</td>\n",
              "      <td>Action,Adventure,Sci-Fi</td>\n",
              "      <td>James Gunn</td>\n",
              "      <td>Chris Pratt, Vin Diesel, Bradley Cooper, Zoe S...</td>\n",
              "      <td>2014</td>\n",
              "      <td>121</td>\n",
              "      <td>8.1</td>\n",
              "      <td>757074</td>\n",
              "      <td>333.13</td>\n",
              "      <td>76.0</td>\n",
              "    </tr>\n",
              "    <tr>\n",
              "      <th>1</th>\n",
              "      <td>2</td>\n",
              "      <td>Prometheus</td>\n",
              "      <td>Adventure,Mystery,Sci-Fi</td>\n",
              "      <td>Ridley Scott</td>\n",
              "      <td>Noomi Rapace, Logan Marshall-Green, Michael Fa...</td>\n",
              "      <td>2012</td>\n",
              "      <td>124</td>\n",
              "      <td>7.0</td>\n",
              "      <td>485820</td>\n",
              "      <td>126.46</td>\n",
              "      <td>65.0</td>\n",
              "    </tr>\n",
              "    <tr>\n",
              "      <th>2</th>\n",
              "      <td>3</td>\n",
              "      <td>Split</td>\n",
              "      <td>Horror,Thriller</td>\n",
              "      <td>M. Night Shyamalan</td>\n",
              "      <td>James McAvoy, Anya Taylor-Joy, Haley Lu Richar...</td>\n",
              "      <td>2016</td>\n",
              "      <td>117</td>\n",
              "      <td>7.3</td>\n",
              "      <td>157606</td>\n",
              "      <td>138.12</td>\n",
              "      <td>62.0</td>\n",
              "    </tr>\n",
              "    <tr>\n",
              "      <th>3</th>\n",
              "      <td>4</td>\n",
              "      <td>Sing</td>\n",
              "      <td>Animation,Comedy,Family</td>\n",
              "      <td>Christophe Lourdelet</td>\n",
              "      <td>Matthew McConaughey,Reese Witherspoon, Seth Ma...</td>\n",
              "      <td>2016</td>\n",
              "      <td>108</td>\n",
              "      <td>7.2</td>\n",
              "      <td>60545</td>\n",
              "      <td>270.32</td>\n",
              "      <td>59.0</td>\n",
              "    </tr>\n",
              "    <tr>\n",
              "      <th>4</th>\n",
              "      <td>5</td>\n",
              "      <td>Suicide Squad</td>\n",
              "      <td>Action,Adventure,Fantasy</td>\n",
              "      <td>David Ayer</td>\n",
              "      <td>Will Smith, Jared Leto, Margot Robbie, Viola D...</td>\n",
              "      <td>2016</td>\n",
              "      <td>123</td>\n",
              "      <td>6.2</td>\n",
              "      <td>393727</td>\n",
              "      <td>325.02</td>\n",
              "      <td>40.0</td>\n",
              "    </tr>\n",
              "  </tbody>\n",
              "</table>\n",
              "</div>"
            ],
            "text/plain": [
              "   rank                    title                     genre  \\\n",
              "0     1  Guardians of the Galaxy   Action,Adventure,Sci-Fi   \n",
              "1     2               Prometheus  Adventure,Mystery,Sci-Fi   \n",
              "2     3                    Split           Horror,Thriller   \n",
              "3     4                     Sing   Animation,Comedy,Family   \n",
              "4     5            Suicide Squad  Action,Adventure,Fantasy   \n",
              "\n",
              "               director                                             actors  \\\n",
              "0            James Gunn  Chris Pratt, Vin Diesel, Bradley Cooper, Zoe S...   \n",
              "1          Ridley Scott  Noomi Rapace, Logan Marshall-Green, Michael Fa...   \n",
              "2    M. Night Shyamalan  James McAvoy, Anya Taylor-Joy, Haley Lu Richar...   \n",
              "3  Christophe Lourdelet  Matthew McConaughey,Reese Witherspoon, Seth Ma...   \n",
              "4            David Ayer  Will Smith, Jared Leto, Margot Robbie, Viola D...   \n",
              "\n",
              "   year  runtime_min  rating   votes  revenue_mill  metascore  \n",
              "0  2014          121     8.1  757074        333.13       76.0  \n",
              "1  2012          124     7.0  485820        126.46       65.0  \n",
              "2  2016          117     7.3  157606        138.12       62.0  \n",
              "3  2016          108     7.2   60545        270.32       59.0  \n",
              "4  2016          123     6.2  393727        325.02       40.0  "
            ]
          },
          "metadata": {
            "tags": []
          },
          "execution_count": 25
        }
      ]
    },
    {
      "cell_type": "markdown",
      "metadata": {
        "id": "IWh73AMmDzw6"
      },
      "source": [
        "<a id=section70101></a>\n",
        "### 7.1.1 What are the top 5 IMDB ranked movies?"
      ]
    },
    {
      "cell_type": "code",
      "metadata": {
        "id": "vifRCb23P200",
        "colab": {
          "base_uri": "https://localhost:8080/",
          "height": 195
        },
        "outputId": "7e598051-06fc-4959-be9c-8fb5b58018fe"
      },
      "source": [
        "movies.head(5)"
      ],
      "execution_count": null,
      "outputs": [
        {
          "output_type": "execute_result",
          "data": {
            "text/html": [
              "<div>\n",
              "<style scoped>\n",
              "    .dataframe tbody tr th:only-of-type {\n",
              "        vertical-align: middle;\n",
              "    }\n",
              "\n",
              "    .dataframe tbody tr th {\n",
              "        vertical-align: top;\n",
              "    }\n",
              "\n",
              "    .dataframe thead th {\n",
              "        text-align: right;\n",
              "    }\n",
              "</style>\n",
              "<table border=\"1\" class=\"dataframe\">\n",
              "  <thead>\n",
              "    <tr style=\"text-align: right;\">\n",
              "      <th></th>\n",
              "      <th>rank</th>\n",
              "      <th>title</th>\n",
              "      <th>genre</th>\n",
              "      <th>director</th>\n",
              "      <th>actors</th>\n",
              "      <th>year</th>\n",
              "      <th>runtime_min</th>\n",
              "      <th>rating</th>\n",
              "      <th>votes</th>\n",
              "      <th>revenue_mill</th>\n",
              "      <th>metascore</th>\n",
              "    </tr>\n",
              "  </thead>\n",
              "  <tbody>\n",
              "    <tr>\n",
              "      <th>0</th>\n",
              "      <td>1</td>\n",
              "      <td>Guardians of the Galaxy</td>\n",
              "      <td>Action,Adventure,Sci-Fi</td>\n",
              "      <td>James Gunn</td>\n",
              "      <td>Chris Pratt, Vin Diesel, Bradley Cooper, Zoe S...</td>\n",
              "      <td>2014</td>\n",
              "      <td>121</td>\n",
              "      <td>8.1</td>\n",
              "      <td>757074</td>\n",
              "      <td>333.13</td>\n",
              "      <td>76.0</td>\n",
              "    </tr>\n",
              "    <tr>\n",
              "      <th>1</th>\n",
              "      <td>2</td>\n",
              "      <td>Prometheus</td>\n",
              "      <td>Adventure,Mystery,Sci-Fi</td>\n",
              "      <td>Ridley Scott</td>\n",
              "      <td>Noomi Rapace, Logan Marshall-Green, Michael Fa...</td>\n",
              "      <td>2012</td>\n",
              "      <td>124</td>\n",
              "      <td>7.0</td>\n",
              "      <td>485820</td>\n",
              "      <td>126.46</td>\n",
              "      <td>65.0</td>\n",
              "    </tr>\n",
              "    <tr>\n",
              "      <th>2</th>\n",
              "      <td>3</td>\n",
              "      <td>Split</td>\n",
              "      <td>Horror,Thriller</td>\n",
              "      <td>M. Night Shyamalan</td>\n",
              "      <td>James McAvoy, Anya Taylor-Joy, Haley Lu Richar...</td>\n",
              "      <td>2016</td>\n",
              "      <td>117</td>\n",
              "      <td>7.3</td>\n",
              "      <td>157606</td>\n",
              "      <td>138.12</td>\n",
              "      <td>62.0</td>\n",
              "    </tr>\n",
              "    <tr>\n",
              "      <th>3</th>\n",
              "      <td>4</td>\n",
              "      <td>Sing</td>\n",
              "      <td>Animation,Comedy,Family</td>\n",
              "      <td>Christophe Lourdelet</td>\n",
              "      <td>Matthew McConaughey,Reese Witherspoon, Seth Ma...</td>\n",
              "      <td>2016</td>\n",
              "      <td>108</td>\n",
              "      <td>7.2</td>\n",
              "      <td>60545</td>\n",
              "      <td>270.32</td>\n",
              "      <td>59.0</td>\n",
              "    </tr>\n",
              "    <tr>\n",
              "      <th>4</th>\n",
              "      <td>5</td>\n",
              "      <td>Suicide Squad</td>\n",
              "      <td>Action,Adventure,Fantasy</td>\n",
              "      <td>David Ayer</td>\n",
              "      <td>Will Smith, Jared Leto, Margot Robbie, Viola D...</td>\n",
              "      <td>2016</td>\n",
              "      <td>123</td>\n",
              "      <td>6.2</td>\n",
              "      <td>393727</td>\n",
              "      <td>325.02</td>\n",
              "      <td>40.0</td>\n",
              "    </tr>\n",
              "  </tbody>\n",
              "</table>\n",
              "</div>"
            ],
            "text/plain": [
              "   rank                    title                     genre  \\\n",
              "0     1  Guardians of the Galaxy   Action,Adventure,Sci-Fi   \n",
              "1     2               Prometheus  Adventure,Mystery,Sci-Fi   \n",
              "2     3                    Split           Horror,Thriller   \n",
              "3     4                     Sing   Animation,Comedy,Family   \n",
              "4     5            Suicide Squad  Action,Adventure,Fantasy   \n",
              "\n",
              "               director                                             actors  \\\n",
              "0            James Gunn  Chris Pratt, Vin Diesel, Bradley Cooper, Zoe S...   \n",
              "1          Ridley Scott  Noomi Rapace, Logan Marshall-Green, Michael Fa...   \n",
              "2    M. Night Shyamalan  James McAvoy, Anya Taylor-Joy, Haley Lu Richar...   \n",
              "3  Christophe Lourdelet  Matthew McConaughey,Reese Witherspoon, Seth Ma...   \n",
              "4            David Ayer  Will Smith, Jared Leto, Margot Robbie, Viola D...   \n",
              "\n",
              "   year  runtime_min  rating   votes  revenue_mill  metascore  \n",
              "0  2014          121     8.1  757074        333.13       76.0  \n",
              "1  2012          124     7.0  485820        126.46       65.0  \n",
              "2  2016          117     7.3  157606        138.12       62.0  \n",
              "3  2016          108     7.2   60545        270.32       59.0  \n",
              "4  2016          123     6.2  393727        325.02       40.0  "
            ]
          },
          "metadata": {
            "tags": []
          },
          "execution_count": 26
        }
      ]
    },
    {
      "cell_type": "markdown",
      "metadata": {
        "id": "LJ-tHehdFDV9"
      },
      "source": [
        "These are the top 5 IMDB ranked movies. **Gaurdians of Galaxy** followed by **Prometheus** tops the list from the given dataset.\n"
      ]
    },
    {
      "cell_type": "markdown",
      "metadata": {
        "id": "jzmWrhAxFqwK"
      },
      "source": [
        "<a id=section70102></a>\n",
        "### 7.1.2 What are the top 10 user rated movies?"
      ]
    },
    {
      "cell_type": "code",
      "metadata": {
        "id": "cxn49yX_P7pd",
        "colab": {
          "base_uri": "https://localhost:8080/",
          "height": 478
        },
        "outputId": "437ec066-106b-4380-c245-89f11ebf036b"
      },
      "source": [
        "movies.sort_values(by='rating', ascending=False).head(10)"
      ],
      "execution_count": null,
      "outputs": [
        {
          "output_type": "execute_result",
          "data": {
            "text/html": [
              "<div>\n",
              "<style scoped>\n",
              "    .dataframe tbody tr th:only-of-type {\n",
              "        vertical-align: middle;\n",
              "    }\n",
              "\n",
              "    .dataframe tbody tr th {\n",
              "        vertical-align: top;\n",
              "    }\n",
              "\n",
              "    .dataframe thead th {\n",
              "        text-align: right;\n",
              "    }\n",
              "</style>\n",
              "<table border=\"1\" class=\"dataframe\">\n",
              "  <thead>\n",
              "    <tr style=\"text-align: right;\">\n",
              "      <th></th>\n",
              "      <th>rank</th>\n",
              "      <th>title</th>\n",
              "      <th>genre</th>\n",
              "      <th>director</th>\n",
              "      <th>actors</th>\n",
              "      <th>year</th>\n",
              "      <th>runtime_min</th>\n",
              "      <th>rating</th>\n",
              "      <th>votes</th>\n",
              "      <th>revenue_mill</th>\n",
              "      <th>metascore</th>\n",
              "    </tr>\n",
              "  </thead>\n",
              "  <tbody>\n",
              "    <tr>\n",
              "      <th>54</th>\n",
              "      <td>55</td>\n",
              "      <td>The Dark Knight</td>\n",
              "      <td>Action,Crime,Drama</td>\n",
              "      <td>Christopher Nolan</td>\n",
              "      <td>Christian Bale, Heath Ledger, Aaron Eckhart,Mi...</td>\n",
              "      <td>2008</td>\n",
              "      <td>152</td>\n",
              "      <td>9.0</td>\n",
              "      <td>1791916</td>\n",
              "      <td>533.32</td>\n",
              "      <td>82.0</td>\n",
              "    </tr>\n",
              "    <tr>\n",
              "      <th>80</th>\n",
              "      <td>81</td>\n",
              "      <td>Inception</td>\n",
              "      <td>Action,Adventure,Sci-Fi</td>\n",
              "      <td>Christopher Nolan</td>\n",
              "      <td>Leonardo DiCaprio, Joseph Gordon-Levitt, Ellen...</td>\n",
              "      <td>2010</td>\n",
              "      <td>148</td>\n",
              "      <td>8.8</td>\n",
              "      <td>1583625</td>\n",
              "      <td>292.57</td>\n",
              "      <td>74.0</td>\n",
              "    </tr>\n",
              "    <tr>\n",
              "      <th>36</th>\n",
              "      <td>37</td>\n",
              "      <td>Interstellar</td>\n",
              "      <td>Adventure,Drama,Sci-Fi</td>\n",
              "      <td>Christopher Nolan</td>\n",
              "      <td>Matthew McConaughey, Anne Hathaway, Jessica Ch...</td>\n",
              "      <td>2014</td>\n",
              "      <td>169</td>\n",
              "      <td>8.6</td>\n",
              "      <td>1047747</td>\n",
              "      <td>187.99</td>\n",
              "      <td>74.0</td>\n",
              "    </tr>\n",
              "    <tr>\n",
              "      <th>249</th>\n",
              "      <td>250</td>\n",
              "      <td>The Intouchables</td>\n",
              "      <td>Biography,Comedy,Drama</td>\n",
              "      <td>Olivier Nakache</td>\n",
              "      <td>François Cluzet, Omar Sy, Anne Le Ny, Audrey F...</td>\n",
              "      <td>2011</td>\n",
              "      <td>112</td>\n",
              "      <td>8.6</td>\n",
              "      <td>557965</td>\n",
              "      <td>13.18</td>\n",
              "      <td>57.0</td>\n",
              "    </tr>\n",
              "    <tr>\n",
              "      <th>96</th>\n",
              "      <td>97</td>\n",
              "      <td>Kimi no na wa</td>\n",
              "      <td>Animation,Drama,Fantasy</td>\n",
              "      <td>Makoto Shinkai</td>\n",
              "      <td>Ryûnosuke Kamiki, Mone Kamishiraishi, Ryô Nari...</td>\n",
              "      <td>2016</td>\n",
              "      <td>106</td>\n",
              "      <td>8.6</td>\n",
              "      <td>34110</td>\n",
              "      <td>4.68</td>\n",
              "      <td>79.0</td>\n",
              "    </tr>\n",
              "    <tr>\n",
              "      <th>124</th>\n",
              "      <td>125</td>\n",
              "      <td>The Dark Knight Rises</td>\n",
              "      <td>Action,Thriller</td>\n",
              "      <td>Christopher Nolan</td>\n",
              "      <td>Christian Bale, Tom Hardy, Anne Hathaway,Gary ...</td>\n",
              "      <td>2012</td>\n",
              "      <td>164</td>\n",
              "      <td>8.5</td>\n",
              "      <td>1222645</td>\n",
              "      <td>448.13</td>\n",
              "      <td>78.0</td>\n",
              "    </tr>\n",
              "    <tr>\n",
              "      <th>991</th>\n",
              "      <td>992</td>\n",
              "      <td>Taare Zameen Par</td>\n",
              "      <td>Drama,Family,Music</td>\n",
              "      <td>Aamir Khan</td>\n",
              "      <td>Darsheel Safary, Aamir Khan, Tanay Chheda, Sac...</td>\n",
              "      <td>2007</td>\n",
              "      <td>165</td>\n",
              "      <td>8.5</td>\n",
              "      <td>102697</td>\n",
              "      <td>1.20</td>\n",
              "      <td>42.0</td>\n",
              "    </tr>\n",
              "    <tr>\n",
              "      <th>133</th>\n",
              "      <td>134</td>\n",
              "      <td>Whiplash</td>\n",
              "      <td>Drama,Music</td>\n",
              "      <td>Damien Chazelle</td>\n",
              "      <td>Miles Teller, J.K. Simmons, Melissa Benoist, P...</td>\n",
              "      <td>2014</td>\n",
              "      <td>107</td>\n",
              "      <td>8.5</td>\n",
              "      <td>477276</td>\n",
              "      <td>13.09</td>\n",
              "      <td>88.0</td>\n",
              "    </tr>\n",
              "    <tr>\n",
              "      <th>99</th>\n",
              "      <td>100</td>\n",
              "      <td>The Departed</td>\n",
              "      <td>Crime,Drama,Thriller</td>\n",
              "      <td>Martin Scorsese</td>\n",
              "      <td>Leonardo DiCaprio, Matt Damon, Jack Nicholson,...</td>\n",
              "      <td>2006</td>\n",
              "      <td>151</td>\n",
              "      <td>8.5</td>\n",
              "      <td>937414</td>\n",
              "      <td>132.37</td>\n",
              "      <td>85.0</td>\n",
              "    </tr>\n",
              "    <tr>\n",
              "      <th>476</th>\n",
              "      <td>477</td>\n",
              "      <td>The Lives of Others</td>\n",
              "      <td>Drama,Thriller</td>\n",
              "      <td>Florian Henckel von Donnersmarck</td>\n",
              "      <td>Ulrich Mühe, Martina Gedeck,Sebastian Koch, Ul...</td>\n",
              "      <td>2006</td>\n",
              "      <td>137</td>\n",
              "      <td>8.5</td>\n",
              "      <td>278103</td>\n",
              "      <td>11.28</td>\n",
              "      <td>89.0</td>\n",
              "    </tr>\n",
              "  </tbody>\n",
              "</table>\n",
              "</div>"
            ],
            "text/plain": [
              "     rank                  title                    genre  \\\n",
              "54     55        The Dark Knight       Action,Crime,Drama   \n",
              "80     81              Inception  Action,Adventure,Sci-Fi   \n",
              "36     37           Interstellar   Adventure,Drama,Sci-Fi   \n",
              "249   250       The Intouchables   Biography,Comedy,Drama   \n",
              "96     97          Kimi no na wa  Animation,Drama,Fantasy   \n",
              "124   125  The Dark Knight Rises          Action,Thriller   \n",
              "991   992       Taare Zameen Par       Drama,Family,Music   \n",
              "133   134               Whiplash              Drama,Music   \n",
              "99    100           The Departed     Crime,Drama,Thriller   \n",
              "476   477    The Lives of Others           Drama,Thriller   \n",
              "\n",
              "                             director  \\\n",
              "54                  Christopher Nolan   \n",
              "80                  Christopher Nolan   \n",
              "36                  Christopher Nolan   \n",
              "249                   Olivier Nakache   \n",
              "96                     Makoto Shinkai   \n",
              "124                 Christopher Nolan   \n",
              "991                        Aamir Khan   \n",
              "133                   Damien Chazelle   \n",
              "99                    Martin Scorsese   \n",
              "476  Florian Henckel von Donnersmarck   \n",
              "\n",
              "                                                actors  year  runtime_min  \\\n",
              "54   Christian Bale, Heath Ledger, Aaron Eckhart,Mi...  2008          152   \n",
              "80   Leonardo DiCaprio, Joseph Gordon-Levitt, Ellen...  2010          148   \n",
              "36   Matthew McConaughey, Anne Hathaway, Jessica Ch...  2014          169   \n",
              "249  François Cluzet, Omar Sy, Anne Le Ny, Audrey F...  2011          112   \n",
              "96   Ryûnosuke Kamiki, Mone Kamishiraishi, Ryô Nari...  2016          106   \n",
              "124  Christian Bale, Tom Hardy, Anne Hathaway,Gary ...  2012          164   \n",
              "991  Darsheel Safary, Aamir Khan, Tanay Chheda, Sac...  2007          165   \n",
              "133  Miles Teller, J.K. Simmons, Melissa Benoist, P...  2014          107   \n",
              "99   Leonardo DiCaprio, Matt Damon, Jack Nicholson,...  2006          151   \n",
              "476  Ulrich Mühe, Martina Gedeck,Sebastian Koch, Ul...  2006          137   \n",
              "\n",
              "     rating    votes  revenue_mill  metascore  \n",
              "54      9.0  1791916        533.32       82.0  \n",
              "80      8.8  1583625        292.57       74.0  \n",
              "36      8.6  1047747        187.99       74.0  \n",
              "249     8.6   557965         13.18       57.0  \n",
              "96      8.6    34110          4.68       79.0  \n",
              "124     8.5  1222645        448.13       78.0  \n",
              "991     8.5   102697          1.20       42.0  \n",
              "133     8.5   477276         13.09       88.0  \n",
              "99      8.5   937414        132.37       85.0  \n",
              "476     8.5   278103         11.28       89.0  "
            ]
          },
          "metadata": {
            "tags": []
          },
          "execution_count": 27
        }
      ]
    },
    {
      "cell_type": "markdown",
      "metadata": {
        "id": "KiK2lsfhGymq"
      },
      "source": [
        "* These are the top 10 high user rated movies. The top 3 movies namely **The Dark Knight**, **Inception** and **Interstellar** movies are directed by **Christopher Nolan**. \n",
        "* From the last 2 graphs we infer that, the IMDB rank given for a movie, does not co-relate with the user rating. \n"
      ]
    },
    {
      "cell_type": "markdown",
      "metadata": {
        "id": "vfFO9aHEG9qM"
      },
      "source": [
        "<a id=section70103></a>\n",
        "### 7.1.3 What are the top 10 movies with higher votes?"
      ]
    },
    {
      "cell_type": "code",
      "metadata": {
        "id": "NnzbnQ5h_uHS",
        "colab": {
          "base_uri": "https://localhost:8080/",
          "height": 343
        },
        "outputId": "d3e20beb-95ca-4584-eff1-11ef26d9fd1b"
      },
      "source": [
        "movies.sort_values(by='votes', ascending=False).head(10)"
      ],
      "execution_count": null,
      "outputs": [
        {
          "output_type": "execute_result",
          "data": {
            "text/html": [
              "<div>\n",
              "<style scoped>\n",
              "    .dataframe tbody tr th:only-of-type {\n",
              "        vertical-align: middle;\n",
              "    }\n",
              "\n",
              "    .dataframe tbody tr th {\n",
              "        vertical-align: top;\n",
              "    }\n",
              "\n",
              "    .dataframe thead th {\n",
              "        text-align: right;\n",
              "    }\n",
              "</style>\n",
              "<table border=\"1\" class=\"dataframe\">\n",
              "  <thead>\n",
              "    <tr style=\"text-align: right;\">\n",
              "      <th></th>\n",
              "      <th>rank</th>\n",
              "      <th>title</th>\n",
              "      <th>genre</th>\n",
              "      <th>director</th>\n",
              "      <th>actors</th>\n",
              "      <th>year</th>\n",
              "      <th>runtime_min</th>\n",
              "      <th>rating</th>\n",
              "      <th>votes</th>\n",
              "      <th>revenue_mill</th>\n",
              "      <th>metascore</th>\n",
              "    </tr>\n",
              "  </thead>\n",
              "  <tbody>\n",
              "    <tr>\n",
              "      <th>54</th>\n",
              "      <td>55</td>\n",
              "      <td>The Dark Knight</td>\n",
              "      <td>Action,Crime,Drama</td>\n",
              "      <td>Christopher Nolan</td>\n",
              "      <td>Christian Bale, Heath Ledger, Aaron Eckhart,Mi...</td>\n",
              "      <td>2008</td>\n",
              "      <td>152</td>\n",
              "      <td>9.0</td>\n",
              "      <td>1791916</td>\n",
              "      <td>533.32</td>\n",
              "      <td>82.0</td>\n",
              "    </tr>\n",
              "    <tr>\n",
              "      <th>80</th>\n",
              "      <td>81</td>\n",
              "      <td>Inception</td>\n",
              "      <td>Action,Adventure,Sci-Fi</td>\n",
              "      <td>Christopher Nolan</td>\n",
              "      <td>Leonardo DiCaprio, Joseph Gordon-Levitt, Ellen...</td>\n",
              "      <td>2010</td>\n",
              "      <td>148</td>\n",
              "      <td>8.8</td>\n",
              "      <td>1583625</td>\n",
              "      <td>292.57</td>\n",
              "      <td>74.0</td>\n",
              "    </tr>\n",
              "    <tr>\n",
              "      <th>124</th>\n",
              "      <td>125</td>\n",
              "      <td>The Dark Knight Rises</td>\n",
              "      <td>Action,Thriller</td>\n",
              "      <td>Christopher Nolan</td>\n",
              "      <td>Christian Bale, Tom Hardy, Anne Hathaway,Gary ...</td>\n",
              "      <td>2012</td>\n",
              "      <td>164</td>\n",
              "      <td>8.5</td>\n",
              "      <td>1222645</td>\n",
              "      <td>448.13</td>\n",
              "      <td>78.0</td>\n",
              "    </tr>\n",
              "    <tr>\n",
              "      <th>36</th>\n",
              "      <td>37</td>\n",
              "      <td>Interstellar</td>\n",
              "      <td>Adventure,Drama,Sci-Fi</td>\n",
              "      <td>Christopher Nolan</td>\n",
              "      <td>Matthew McConaughey, Anne Hathaway, Jessica Ch...</td>\n",
              "      <td>2014</td>\n",
              "      <td>169</td>\n",
              "      <td>8.6</td>\n",
              "      <td>1047747</td>\n",
              "      <td>187.99</td>\n",
              "      <td>74.0</td>\n",
              "    </tr>\n",
              "    <tr>\n",
              "      <th>76</th>\n",
              "      <td>77</td>\n",
              "      <td>The Avengers</td>\n",
              "      <td>Action,Sci-Fi</td>\n",
              "      <td>Joss Whedon</td>\n",
              "      <td>Robert Downey Jr., Chris Evans, Scarlett Johan...</td>\n",
              "      <td>2012</td>\n",
              "      <td>143</td>\n",
              "      <td>8.1</td>\n",
              "      <td>1045588</td>\n",
              "      <td>623.28</td>\n",
              "      <td>69.0</td>\n",
              "    </tr>\n",
              "    <tr>\n",
              "      <th>144</th>\n",
              "      <td>145</td>\n",
              "      <td>Django Unchained</td>\n",
              "      <td>Drama,Western</td>\n",
              "      <td>Quentin Tarantino</td>\n",
              "      <td>Jamie Foxx, Christoph Waltz, Leonardo DiCaprio...</td>\n",
              "      <td>2012</td>\n",
              "      <td>165</td>\n",
              "      <td>8.4</td>\n",
              "      <td>1039115</td>\n",
              "      <td>162.80</td>\n",
              "      <td>81.0</td>\n",
              "    </tr>\n",
              "    <tr>\n",
              "      <th>77</th>\n",
              "      <td>78</td>\n",
              "      <td>Inglourious Basterds</td>\n",
              "      <td>Adventure,Drama,War</td>\n",
              "      <td>Quentin Tarantino</td>\n",
              "      <td>Brad Pitt, Diane Kruger, Eli Roth,Mélanie Laurent</td>\n",
              "      <td>2009</td>\n",
              "      <td>153</td>\n",
              "      <td>8.3</td>\n",
              "      <td>959065</td>\n",
              "      <td>120.52</td>\n",
              "      <td>69.0</td>\n",
              "    </tr>\n",
              "    <tr>\n",
              "      <th>99</th>\n",
              "      <td>100</td>\n",
              "      <td>The Departed</td>\n",
              "      <td>Crime,Drama,Thriller</td>\n",
              "      <td>Martin Scorsese</td>\n",
              "      <td>Leonardo DiCaprio, Matt Damon, Jack Nicholson,...</td>\n",
              "      <td>2006</td>\n",
              "      <td>151</td>\n",
              "      <td>8.5</td>\n",
              "      <td>937414</td>\n",
              "      <td>132.37</td>\n",
              "      <td>85.0</td>\n",
              "    </tr>\n",
              "    <tr>\n",
              "      <th>87</th>\n",
              "      <td>88</td>\n",
              "      <td>Avatar</td>\n",
              "      <td>Action,Adventure,Fantasy</td>\n",
              "      <td>James Cameron</td>\n",
              "      <td>Sam Worthington, Zoe Saldana, Sigourney Weaver...</td>\n",
              "      <td>2009</td>\n",
              "      <td>162</td>\n",
              "      <td>7.8</td>\n",
              "      <td>935408</td>\n",
              "      <td>760.51</td>\n",
              "      <td>83.0</td>\n",
              "    </tr>\n",
              "    <tr>\n",
              "      <th>64</th>\n",
              "      <td>65</td>\n",
              "      <td>The Prestige</td>\n",
              "      <td>Drama,Mystery,Sci-Fi</td>\n",
              "      <td>Christopher Nolan</td>\n",
              "      <td>Christian Bale, Hugh Jackman, Scarlett Johanss...</td>\n",
              "      <td>2006</td>\n",
              "      <td>130</td>\n",
              "      <td>8.5</td>\n",
              "      <td>913152</td>\n",
              "      <td>53.08</td>\n",
              "      <td>66.0</td>\n",
              "    </tr>\n",
              "  </tbody>\n",
              "</table>\n",
              "</div>"
            ],
            "text/plain": [
              "     rank                  title                     genre           director  \\\n",
              "54     55        The Dark Knight        Action,Crime,Drama  Christopher Nolan   \n",
              "80     81              Inception   Action,Adventure,Sci-Fi  Christopher Nolan   \n",
              "124   125  The Dark Knight Rises           Action,Thriller  Christopher Nolan   \n",
              "36     37           Interstellar    Adventure,Drama,Sci-Fi  Christopher Nolan   \n",
              "76     77           The Avengers             Action,Sci-Fi        Joss Whedon   \n",
              "144   145       Django Unchained             Drama,Western  Quentin Tarantino   \n",
              "77     78   Inglourious Basterds       Adventure,Drama,War  Quentin Tarantino   \n",
              "99    100           The Departed      Crime,Drama,Thriller    Martin Scorsese   \n",
              "87     88                 Avatar  Action,Adventure,Fantasy      James Cameron   \n",
              "64     65           The Prestige      Drama,Mystery,Sci-Fi  Christopher Nolan   \n",
              "\n",
              "                                                actors  year  runtime_min  \\\n",
              "54   Christian Bale, Heath Ledger, Aaron Eckhart,Mi...  2008          152   \n",
              "80   Leonardo DiCaprio, Joseph Gordon-Levitt, Ellen...  2010          148   \n",
              "124  Christian Bale, Tom Hardy, Anne Hathaway,Gary ...  2012          164   \n",
              "36   Matthew McConaughey, Anne Hathaway, Jessica Ch...  2014          169   \n",
              "76   Robert Downey Jr., Chris Evans, Scarlett Johan...  2012          143   \n",
              "144  Jamie Foxx, Christoph Waltz, Leonardo DiCaprio...  2012          165   \n",
              "77   Brad Pitt, Diane Kruger, Eli Roth,Mélanie Laurent  2009          153   \n",
              "99   Leonardo DiCaprio, Matt Damon, Jack Nicholson,...  2006          151   \n",
              "87   Sam Worthington, Zoe Saldana, Sigourney Weaver...  2009          162   \n",
              "64   Christian Bale, Hugh Jackman, Scarlett Johanss...  2006          130   \n",
              "\n",
              "     rating    votes  revenue_mill  metascore  \n",
              "54      9.0  1791916        533.32       82.0  \n",
              "80      8.8  1583625        292.57       74.0  \n",
              "124     8.5  1222645        448.13       78.0  \n",
              "36      8.6  1047747        187.99       74.0  \n",
              "76      8.1  1045588        623.28       69.0  \n",
              "144     8.4  1039115        162.80       81.0  \n",
              "77      8.3   959065        120.52       69.0  \n",
              "99      8.5   937414        132.37       85.0  \n",
              "87      7.8   935408        760.51       83.0  \n",
              "64      8.5   913152         53.08       66.0  "
            ]
          },
          "metadata": {
            "tags": []
          },
          "execution_count": 28
        }
      ]
    },
    {
      "cell_type": "markdown",
      "metadata": {
        "id": "dvRhLUx6JI1r"
      },
      "source": [
        "These are the top 10 movies with high votes. The top 4 movies namely **The Dark Knight**, **Inception**, **The Dark Knight Rises** and **Interstellar** were directed by **Christopher Nolan**. \n",
        "From the previous and the above data, we infer that, users have highly voted and rated high for **Christopher Nolan** directed movies.\n"
      ]
    },
    {
      "cell_type": "markdown",
      "metadata": {
        "id": "HdRk4VD7Jl3N"
      },
      "source": [
        "<a id=section70104></a>\n",
        "### 7.1.4 What are the top 10 movies with high revenue?"
      ]
    },
    {
      "cell_type": "code",
      "metadata": {
        "id": "RZMesgjt5_oo",
        "colab": {
          "base_uri": "https://localhost:8080/",
          "height": 511
        },
        "outputId": "65d1c216-af1b-4eee-dfbc-24a5fcf72b66"
      },
      "source": [
        "movies.sort_values(by='revenue_mill', ascending=False).head(10)"
      ],
      "execution_count": null,
      "outputs": [
        {
          "output_type": "execute_result",
          "data": {
            "text/html": [
              "<div>\n",
              "<style scoped>\n",
              "    .dataframe tbody tr th:only-of-type {\n",
              "        vertical-align: middle;\n",
              "    }\n",
              "\n",
              "    .dataframe tbody tr th {\n",
              "        vertical-align: top;\n",
              "    }\n",
              "\n",
              "    .dataframe thead th {\n",
              "        text-align: right;\n",
              "    }\n",
              "</style>\n",
              "<table border=\"1\" class=\"dataframe\">\n",
              "  <thead>\n",
              "    <tr style=\"text-align: right;\">\n",
              "      <th></th>\n",
              "      <th>rank</th>\n",
              "      <th>title</th>\n",
              "      <th>genre</th>\n",
              "      <th>director</th>\n",
              "      <th>actors</th>\n",
              "      <th>year</th>\n",
              "      <th>runtime_min</th>\n",
              "      <th>rating</th>\n",
              "      <th>votes</th>\n",
              "      <th>revenue_mill</th>\n",
              "      <th>metascore</th>\n",
              "    </tr>\n",
              "  </thead>\n",
              "  <tbody>\n",
              "    <tr>\n",
              "      <th>50</th>\n",
              "      <td>51</td>\n",
              "      <td>Star Wars: Episode VII - The Force Awakens</td>\n",
              "      <td>Action,Adventure,Fantasy</td>\n",
              "      <td>J.J. Abrams</td>\n",
              "      <td>Daisy Ridley, John Boyega, Oscar Isaac, Domhna...</td>\n",
              "      <td>2015</td>\n",
              "      <td>136</td>\n",
              "      <td>8.1</td>\n",
              "      <td>661608</td>\n",
              "      <td>936.63</td>\n",
              "      <td>81.0</td>\n",
              "    </tr>\n",
              "    <tr>\n",
              "      <th>87</th>\n",
              "      <td>88</td>\n",
              "      <td>Avatar</td>\n",
              "      <td>Action,Adventure,Fantasy</td>\n",
              "      <td>James Cameron</td>\n",
              "      <td>Sam Worthington, Zoe Saldana, Sigourney Weaver...</td>\n",
              "      <td>2009</td>\n",
              "      <td>162</td>\n",
              "      <td>7.8</td>\n",
              "      <td>935408</td>\n",
              "      <td>760.51</td>\n",
              "      <td>83.0</td>\n",
              "    </tr>\n",
              "    <tr>\n",
              "      <th>85</th>\n",
              "      <td>86</td>\n",
              "      <td>Jurassic World</td>\n",
              "      <td>Action,Adventure,Sci-Fi</td>\n",
              "      <td>Colin Trevorrow</td>\n",
              "      <td>Chris Pratt, Bryce Dallas Howard, Ty Simpkins,...</td>\n",
              "      <td>2015</td>\n",
              "      <td>124</td>\n",
              "      <td>7.0</td>\n",
              "      <td>455169</td>\n",
              "      <td>652.18</td>\n",
              "      <td>59.0</td>\n",
              "    </tr>\n",
              "    <tr>\n",
              "      <th>76</th>\n",
              "      <td>77</td>\n",
              "      <td>The Avengers</td>\n",
              "      <td>Action,Sci-Fi</td>\n",
              "      <td>Joss Whedon</td>\n",
              "      <td>Robert Downey Jr., Chris Evans, Scarlett Johan...</td>\n",
              "      <td>2012</td>\n",
              "      <td>143</td>\n",
              "      <td>8.1</td>\n",
              "      <td>1045588</td>\n",
              "      <td>623.28</td>\n",
              "      <td>69.0</td>\n",
              "    </tr>\n",
              "    <tr>\n",
              "      <th>54</th>\n",
              "      <td>55</td>\n",
              "      <td>The Dark Knight</td>\n",
              "      <td>Action,Crime,Drama</td>\n",
              "      <td>Christopher Nolan</td>\n",
              "      <td>Christian Bale, Heath Ledger, Aaron Eckhart,Mi...</td>\n",
              "      <td>2008</td>\n",
              "      <td>152</td>\n",
              "      <td>9.0</td>\n",
              "      <td>1791916</td>\n",
              "      <td>533.32</td>\n",
              "      <td>82.0</td>\n",
              "    </tr>\n",
              "    <tr>\n",
              "      <th>12</th>\n",
              "      <td>13</td>\n",
              "      <td>Rogue One</td>\n",
              "      <td>Action,Adventure,Sci-Fi</td>\n",
              "      <td>Gareth Edwards</td>\n",
              "      <td>Felicity Jones, Diego Luna, Alan Tudyk, Donnie...</td>\n",
              "      <td>2016</td>\n",
              "      <td>133</td>\n",
              "      <td>7.9</td>\n",
              "      <td>323118</td>\n",
              "      <td>532.17</td>\n",
              "      <td>65.0</td>\n",
              "    </tr>\n",
              "    <tr>\n",
              "      <th>119</th>\n",
              "      <td>120</td>\n",
              "      <td>Finding Dory</td>\n",
              "      <td>Animation,Adventure,Comedy</td>\n",
              "      <td>Andrew Stanton</td>\n",
              "      <td>Ellen DeGeneres, Albert Brooks,Ed O'Neill, Kai...</td>\n",
              "      <td>2016</td>\n",
              "      <td>97</td>\n",
              "      <td>7.4</td>\n",
              "      <td>157026</td>\n",
              "      <td>486.29</td>\n",
              "      <td>77.0</td>\n",
              "    </tr>\n",
              "    <tr>\n",
              "      <th>94</th>\n",
              "      <td>95</td>\n",
              "      <td>Avengers: Age of Ultron</td>\n",
              "      <td>Action,Adventure,Sci-Fi</td>\n",
              "      <td>Joss Whedon</td>\n",
              "      <td>Robert Downey Jr., Chris Evans, Mark Ruffalo, ...</td>\n",
              "      <td>2015</td>\n",
              "      <td>141</td>\n",
              "      <td>7.4</td>\n",
              "      <td>516895</td>\n",
              "      <td>458.99</td>\n",
              "      <td>66.0</td>\n",
              "    </tr>\n",
              "    <tr>\n",
              "      <th>124</th>\n",
              "      <td>125</td>\n",
              "      <td>The Dark Knight Rises</td>\n",
              "      <td>Action,Thriller</td>\n",
              "      <td>Christopher Nolan</td>\n",
              "      <td>Christian Bale, Tom Hardy, Anne Hathaway,Gary ...</td>\n",
              "      <td>2012</td>\n",
              "      <td>164</td>\n",
              "      <td>8.5</td>\n",
              "      <td>1222645</td>\n",
              "      <td>448.13</td>\n",
              "      <td>78.0</td>\n",
              "    </tr>\n",
              "    <tr>\n",
              "      <th>578</th>\n",
              "      <td>579</td>\n",
              "      <td>The Hunger Games: Catching Fire</td>\n",
              "      <td>Action,Adventure,Mystery</td>\n",
              "      <td>Francis Lawrence</td>\n",
              "      <td>Jennifer Lawrence, Josh Hutcherson, Liam Hemsw...</td>\n",
              "      <td>2013</td>\n",
              "      <td>146</td>\n",
              "      <td>7.6</td>\n",
              "      <td>525646</td>\n",
              "      <td>424.65</td>\n",
              "      <td>76.0</td>\n",
              "    </tr>\n",
              "  </tbody>\n",
              "</table>\n",
              "</div>"
            ],
            "text/plain": [
              "     rank                                       title  \\\n",
              "50     51  Star Wars: Episode VII - The Force Awakens   \n",
              "87     88                                      Avatar   \n",
              "85     86                              Jurassic World   \n",
              "76     77                                The Avengers   \n",
              "54     55                             The Dark Knight   \n",
              "12     13                                   Rogue One   \n",
              "119   120                                Finding Dory   \n",
              "94     95                     Avengers: Age of Ultron   \n",
              "124   125                       The Dark Knight Rises   \n",
              "578   579             The Hunger Games: Catching Fire   \n",
              "\n",
              "                          genre           director  \\\n",
              "50     Action,Adventure,Fantasy        J.J. Abrams   \n",
              "87     Action,Adventure,Fantasy      James Cameron   \n",
              "85      Action,Adventure,Sci-Fi    Colin Trevorrow   \n",
              "76                Action,Sci-Fi        Joss Whedon   \n",
              "54           Action,Crime,Drama  Christopher Nolan   \n",
              "12      Action,Adventure,Sci-Fi     Gareth Edwards   \n",
              "119  Animation,Adventure,Comedy     Andrew Stanton   \n",
              "94      Action,Adventure,Sci-Fi        Joss Whedon   \n",
              "124             Action,Thriller  Christopher Nolan   \n",
              "578    Action,Adventure,Mystery   Francis Lawrence   \n",
              "\n",
              "                                                actors  year  runtime_min  \\\n",
              "50   Daisy Ridley, John Boyega, Oscar Isaac, Domhna...  2015          136   \n",
              "87   Sam Worthington, Zoe Saldana, Sigourney Weaver...  2009          162   \n",
              "85   Chris Pratt, Bryce Dallas Howard, Ty Simpkins,...  2015          124   \n",
              "76   Robert Downey Jr., Chris Evans, Scarlett Johan...  2012          143   \n",
              "54   Christian Bale, Heath Ledger, Aaron Eckhart,Mi...  2008          152   \n",
              "12   Felicity Jones, Diego Luna, Alan Tudyk, Donnie...  2016          133   \n",
              "119  Ellen DeGeneres, Albert Brooks,Ed O'Neill, Kai...  2016           97   \n",
              "94   Robert Downey Jr., Chris Evans, Mark Ruffalo, ...  2015          141   \n",
              "124  Christian Bale, Tom Hardy, Anne Hathaway,Gary ...  2012          164   \n",
              "578  Jennifer Lawrence, Josh Hutcherson, Liam Hemsw...  2013          146   \n",
              "\n",
              "     rating    votes  revenue_mill  metascore  \n",
              "50      8.1   661608        936.63       81.0  \n",
              "87      7.8   935408        760.51       83.0  \n",
              "85      7.0   455169        652.18       59.0  \n",
              "76      8.1  1045588        623.28       69.0  \n",
              "54      9.0  1791916        533.32       82.0  \n",
              "12      7.9   323118        532.17       65.0  \n",
              "119     7.4   157026        486.29       77.0  \n",
              "94      7.4   516895        458.99       66.0  \n",
              "124     8.5  1222645        448.13       78.0  \n",
              "578     7.6   525646        424.65       76.0  "
            ]
          },
          "metadata": {
            "tags": []
          },
          "execution_count": 29
        }
      ]
    },
    {
      "cell_type": "markdown",
      "metadata": {
        "id": "EVV-LVR0J4Mm"
      },
      "source": [
        "This shows the top 5 movies based on revenue. **Star Wars: Episode VII - The Force Awakens** movie has fetched a high revenue of 936 million dollars."
      ]
    },
    {
      "cell_type": "markdown",
      "metadata": {
        "id": "c1koutAMWnu0"
      },
      "source": [
        "<a id=section70105></a>\n",
        "### 7.1.5 What is the top 10 movies with high critic scores?"
      ]
    },
    {
      "cell_type": "code",
      "metadata": {
        "id": "W9r0fP0VLLwC",
        "colab": {
          "base_uri": "https://localhost:8080/",
          "height": 343
        },
        "outputId": "b008fdc8-5b91-4b92-881c-dc9e90d11bea"
      },
      "source": [
        "movies.sort_values(by='metascore', ascending=False).head(10)"
      ],
      "execution_count": null,
      "outputs": [
        {
          "output_type": "execute_result",
          "data": {
            "text/html": [
              "<div>\n",
              "<style scoped>\n",
              "    .dataframe tbody tr th:only-of-type {\n",
              "        vertical-align: middle;\n",
              "    }\n",
              "\n",
              "    .dataframe tbody tr th {\n",
              "        vertical-align: top;\n",
              "    }\n",
              "\n",
              "    .dataframe thead th {\n",
              "        text-align: right;\n",
              "    }\n",
              "</style>\n",
              "<table border=\"1\" class=\"dataframe\">\n",
              "  <thead>\n",
              "    <tr style=\"text-align: right;\">\n",
              "      <th></th>\n",
              "      <th>rank</th>\n",
              "      <th>title</th>\n",
              "      <th>genre</th>\n",
              "      <th>director</th>\n",
              "      <th>actors</th>\n",
              "      <th>year</th>\n",
              "      <th>runtime_min</th>\n",
              "      <th>rating</th>\n",
              "      <th>votes</th>\n",
              "      <th>revenue_mill</th>\n",
              "      <th>metascore</th>\n",
              "    </tr>\n",
              "  </thead>\n",
              "  <tbody>\n",
              "    <tr>\n",
              "      <th>656</th>\n",
              "      <td>657</td>\n",
              "      <td>Boyhood</td>\n",
              "      <td>Drama</td>\n",
              "      <td>Richard Linklater</td>\n",
              "      <td>Ellar Coltrane, Patricia Arquette, Ethan Hawke...</td>\n",
              "      <td>2014</td>\n",
              "      <td>165</td>\n",
              "      <td>7.9</td>\n",
              "      <td>286722</td>\n",
              "      <td>25.36</td>\n",
              "      <td>100.0</td>\n",
              "    </tr>\n",
              "    <tr>\n",
              "      <th>41</th>\n",
              "      <td>42</td>\n",
              "      <td>Moonlight</td>\n",
              "      <td>Drama</td>\n",
              "      <td>Barry Jenkins</td>\n",
              "      <td>Mahershala Ali, Shariff Earp, Duan Sanderson, ...</td>\n",
              "      <td>2016</td>\n",
              "      <td>111</td>\n",
              "      <td>7.5</td>\n",
              "      <td>135095</td>\n",
              "      <td>27.85</td>\n",
              "      <td>99.0</td>\n",
              "    </tr>\n",
              "    <tr>\n",
              "      <th>230</th>\n",
              "      <td>231</td>\n",
              "      <td>Pan's Labyrinth</td>\n",
              "      <td>Drama,Fantasy,War</td>\n",
              "      <td>Guillermo del Toro</td>\n",
              "      <td>Ivana Baquero, Ariadna Gil, Sergi López,Maribe...</td>\n",
              "      <td>2006</td>\n",
              "      <td>118</td>\n",
              "      <td>8.2</td>\n",
              "      <td>498879</td>\n",
              "      <td>37.62</td>\n",
              "      <td>98.0</td>\n",
              "    </tr>\n",
              "    <tr>\n",
              "      <th>509</th>\n",
              "      <td>510</td>\n",
              "      <td>Gravity</td>\n",
              "      <td>Drama,Sci-Fi,Thriller</td>\n",
              "      <td>Alfonso Cuarón</td>\n",
              "      <td>Sandra Bullock, George Clooney, Ed Harris, Ort...</td>\n",
              "      <td>2013</td>\n",
              "      <td>91</td>\n",
              "      <td>7.8</td>\n",
              "      <td>622089</td>\n",
              "      <td>274.08</td>\n",
              "      <td>96.0</td>\n",
              "    </tr>\n",
              "    <tr>\n",
              "      <th>489</th>\n",
              "      <td>490</td>\n",
              "      <td>Ratatouille</td>\n",
              "      <td>Animation,Comedy,Family</td>\n",
              "      <td>Brad Bird</td>\n",
              "      <td>Brad Garrett, Lou Romano, Patton Oswalt,Ian Holm</td>\n",
              "      <td>2007</td>\n",
              "      <td>111</td>\n",
              "      <td>8.0</td>\n",
              "      <td>504039</td>\n",
              "      <td>206.44</td>\n",
              "      <td>96.0</td>\n",
              "    </tr>\n",
              "    <tr>\n",
              "      <th>21</th>\n",
              "      <td>22</td>\n",
              "      <td>Manchester by the Sea</td>\n",
              "      <td>Drama</td>\n",
              "      <td>Kenneth Lonergan</td>\n",
              "      <td>Casey Affleck, Michelle Williams, Kyle Chandle...</td>\n",
              "      <td>2016</td>\n",
              "      <td>137</td>\n",
              "      <td>7.9</td>\n",
              "      <td>134213</td>\n",
              "      <td>47.70</td>\n",
              "      <td>96.0</td>\n",
              "    </tr>\n",
              "    <tr>\n",
              "      <th>111</th>\n",
              "      <td>112</td>\n",
              "      <td>12 Years a Slave</td>\n",
              "      <td>Biography,Drama,History</td>\n",
              "      <td>Steve McQueen</td>\n",
              "      <td>Chiwetel Ejiofor, Michael Kenneth Williams, Mi...</td>\n",
              "      <td>2013</td>\n",
              "      <td>134</td>\n",
              "      <td>8.1</td>\n",
              "      <td>486338</td>\n",
              "      <td>56.67</td>\n",
              "      <td>96.0</td>\n",
              "    </tr>\n",
              "    <tr>\n",
              "      <th>324</th>\n",
              "      <td>325</td>\n",
              "      <td>The Social Network</td>\n",
              "      <td>Biography,Drama</td>\n",
              "      <td>David Fincher</td>\n",
              "      <td>Jesse Eisenberg, Andrew Garfield, Justin Timbe...</td>\n",
              "      <td>2010</td>\n",
              "      <td>120</td>\n",
              "      <td>7.7</td>\n",
              "      <td>510100</td>\n",
              "      <td>96.92</td>\n",
              "      <td>95.0</td>\n",
              "    </tr>\n",
              "    <tr>\n",
              "      <th>406</th>\n",
              "      <td>407</td>\n",
              "      <td>Zero Dark Thirty</td>\n",
              "      <td>Drama,History,Thriller</td>\n",
              "      <td>Kathryn Bigelow</td>\n",
              "      <td>Jessica Chastain, Joel Edgerton, Chris Pratt, ...</td>\n",
              "      <td>2012</td>\n",
              "      <td>157</td>\n",
              "      <td>7.4</td>\n",
              "      <td>226661</td>\n",
              "      <td>95.72</td>\n",
              "      <td>95.0</td>\n",
              "    </tr>\n",
              "    <tr>\n",
              "      <th>501</th>\n",
              "      <td>502</td>\n",
              "      <td>Carol</td>\n",
              "      <td>Drama,Romance</td>\n",
              "      <td>Todd Haynes</td>\n",
              "      <td>Cate Blanchett, Rooney Mara, Sarah Paulson, Ky...</td>\n",
              "      <td>2015</td>\n",
              "      <td>118</td>\n",
              "      <td>7.2</td>\n",
              "      <td>77995</td>\n",
              "      <td>0.25</td>\n",
              "      <td>95.0</td>\n",
              "    </tr>\n",
              "  </tbody>\n",
              "</table>\n",
              "</div>"
            ],
            "text/plain": [
              "     rank                  title                    genre            director  \\\n",
              "656   657                Boyhood                    Drama   Richard Linklater   \n",
              "41     42              Moonlight                    Drama       Barry Jenkins   \n",
              "230   231        Pan's Labyrinth        Drama,Fantasy,War  Guillermo del Toro   \n",
              "509   510                Gravity    Drama,Sci-Fi,Thriller      Alfonso Cuarón   \n",
              "489   490            Ratatouille  Animation,Comedy,Family           Brad Bird   \n",
              "21     22  Manchester by the Sea                    Drama    Kenneth Lonergan   \n",
              "111   112       12 Years a Slave  Biography,Drama,History       Steve McQueen   \n",
              "324   325     The Social Network          Biography,Drama       David Fincher   \n",
              "406   407       Zero Dark Thirty   Drama,History,Thriller     Kathryn Bigelow   \n",
              "501   502                  Carol            Drama,Romance         Todd Haynes   \n",
              "\n",
              "                                                actors  year  runtime_min  \\\n",
              "656  Ellar Coltrane, Patricia Arquette, Ethan Hawke...  2014          165   \n",
              "41   Mahershala Ali, Shariff Earp, Duan Sanderson, ...  2016          111   \n",
              "230  Ivana Baquero, Ariadna Gil, Sergi López,Maribe...  2006          118   \n",
              "509  Sandra Bullock, George Clooney, Ed Harris, Ort...  2013           91   \n",
              "489   Brad Garrett, Lou Romano, Patton Oswalt,Ian Holm  2007          111   \n",
              "21   Casey Affleck, Michelle Williams, Kyle Chandle...  2016          137   \n",
              "111  Chiwetel Ejiofor, Michael Kenneth Williams, Mi...  2013          134   \n",
              "324  Jesse Eisenberg, Andrew Garfield, Justin Timbe...  2010          120   \n",
              "406  Jessica Chastain, Joel Edgerton, Chris Pratt, ...  2012          157   \n",
              "501  Cate Blanchett, Rooney Mara, Sarah Paulson, Ky...  2015          118   \n",
              "\n",
              "     rating   votes  revenue_mill  metascore  \n",
              "656     7.9  286722         25.36      100.0  \n",
              "41      7.5  135095         27.85       99.0  \n",
              "230     8.2  498879         37.62       98.0  \n",
              "509     7.8  622089        274.08       96.0  \n",
              "489     8.0  504039        206.44       96.0  \n",
              "21      7.9  134213         47.70       96.0  \n",
              "111     8.1  486338         56.67       96.0  \n",
              "324     7.7  510100         96.92       95.0  \n",
              "406     7.4  226661         95.72       95.0  \n",
              "501     7.2   77995          0.25       95.0  "
            ]
          },
          "metadata": {
            "tags": []
          },
          "execution_count": 30
        }
      ]
    },
    {
      "cell_type": "markdown",
      "metadata": {
        "id": "h73Ro1MaYPId"
      },
      "source": [
        "This explains that **Boyhood** followed by **Moonlight** movies tops the critic scores. "
      ]
    },
    {
      "cell_type": "markdown",
      "metadata": {
        "id": "7dOGkDXqnBCa"
      },
      "source": [
        "<a id=section70105></a>\n",
        "### 7.1.6 What is the top 10 movies with more duration?"
      ]
    },
    {
      "cell_type": "code",
      "metadata": {
        "id": "CpzhPj7Mv4dK",
        "colab": {
          "base_uri": "https://localhost:8080/",
          "height": 511
        },
        "outputId": "b49a3025-b8e7-4d2c-c1fd-02b5f28d6d91"
      },
      "source": [
        "movies.sort_values(by='runtime_min', ascending=False).head(10)"
      ],
      "execution_count": null,
      "outputs": [
        {
          "output_type": "execute_result",
          "data": {
            "text/html": [
              "<div>\n",
              "<style scoped>\n",
              "    .dataframe tbody tr th:only-of-type {\n",
              "        vertical-align: middle;\n",
              "    }\n",
              "\n",
              "    .dataframe tbody tr th {\n",
              "        vertical-align: top;\n",
              "    }\n",
              "\n",
              "    .dataframe thead th {\n",
              "        text-align: right;\n",
              "    }\n",
              "</style>\n",
              "<table border=\"1\" class=\"dataframe\">\n",
              "  <thead>\n",
              "    <tr style=\"text-align: right;\">\n",
              "      <th></th>\n",
              "      <th>rank</th>\n",
              "      <th>title</th>\n",
              "      <th>genre</th>\n",
              "      <th>director</th>\n",
              "      <th>actors</th>\n",
              "      <th>year</th>\n",
              "      <th>runtime_min</th>\n",
              "      <th>rating</th>\n",
              "      <th>votes</th>\n",
              "      <th>revenue_mill</th>\n",
              "      <th>metascore</th>\n",
              "    </tr>\n",
              "  </thead>\n",
              "  <tbody>\n",
              "    <tr>\n",
              "      <th>88</th>\n",
              "      <td>89</td>\n",
              "      <td>The Hateful Eight</td>\n",
              "      <td>Crime,Drama,Mystery</td>\n",
              "      <td>Quentin Tarantino</td>\n",
              "      <td>Samuel L. Jackson, Kurt Russell, Jennifer Jaso...</td>\n",
              "      <td>2015</td>\n",
              "      <td>187</td>\n",
              "      <td>7.8</td>\n",
              "      <td>341170</td>\n",
              "      <td>54.12</td>\n",
              "      <td>68.0</td>\n",
              "    </tr>\n",
              "    <tr>\n",
              "      <th>82</th>\n",
              "      <td>83</td>\n",
              "      <td>The Wolf of Wall Street</td>\n",
              "      <td>Biography,Comedy,Crime</td>\n",
              "      <td>Martin Scorsese</td>\n",
              "      <td>Leonardo DiCaprio, Jonah Hill, Margot Robbie,M...</td>\n",
              "      <td>2013</td>\n",
              "      <td>180</td>\n",
              "      <td>8.2</td>\n",
              "      <td>865134</td>\n",
              "      <td>116.87</td>\n",
              "      <td>75.0</td>\n",
              "    </tr>\n",
              "    <tr>\n",
              "      <th>311</th>\n",
              "      <td>312</td>\n",
              "      <td>La vie d'Adèle</td>\n",
              "      <td>Drama,Romance</td>\n",
              "      <td>Abdellatif Kechiche</td>\n",
              "      <td>Léa Seydoux, Adèle Exarchopoulos, Salim Kechio...</td>\n",
              "      <td>2013</td>\n",
              "      <td>180</td>\n",
              "      <td>7.8</td>\n",
              "      <td>103150</td>\n",
              "      <td>2.20</td>\n",
              "      <td>88.0</td>\n",
              "    </tr>\n",
              "    <tr>\n",
              "      <th>267</th>\n",
              "      <td>268</td>\n",
              "      <td>Cloud Atlas</td>\n",
              "      <td>Drama,Sci-Fi</td>\n",
              "      <td>Tom Tykwer</td>\n",
              "      <td>Tom Hanks, Halle Berry, Hugh Grant, Hugo Weaving</td>\n",
              "      <td>2012</td>\n",
              "      <td>172</td>\n",
              "      <td>7.5</td>\n",
              "      <td>298651</td>\n",
              "      <td>27.10</td>\n",
              "      <td>55.0</td>\n",
              "    </tr>\n",
              "    <tr>\n",
              "      <th>430</th>\n",
              "      <td>431</td>\n",
              "      <td>3 Idiots</td>\n",
              "      <td>Comedy,Drama</td>\n",
              "      <td>Rajkumar Hirani</td>\n",
              "      <td>Aamir Khan, Madhavan, Mona Singh, Sharman Joshi</td>\n",
              "      <td>2009</td>\n",
              "      <td>170</td>\n",
              "      <td>8.4</td>\n",
              "      <td>238789</td>\n",
              "      <td>6.52</td>\n",
              "      <td>67.0</td>\n",
              "    </tr>\n",
              "    <tr>\n",
              "      <th>75</th>\n",
              "      <td>76</td>\n",
              "      <td>Pirates of the Caribbean: At World's End</td>\n",
              "      <td>Action,Adventure,Fantasy</td>\n",
              "      <td>Gore Verbinski</td>\n",
              "      <td>Johnny Depp, Orlando Bloom, Keira Knightley,Ge...</td>\n",
              "      <td>2007</td>\n",
              "      <td>169</td>\n",
              "      <td>7.1</td>\n",
              "      <td>498821</td>\n",
              "      <td>309.40</td>\n",
              "      <td>50.0</td>\n",
              "    </tr>\n",
              "    <tr>\n",
              "      <th>36</th>\n",
              "      <td>37</td>\n",
              "      <td>Interstellar</td>\n",
              "      <td>Adventure,Drama,Sci-Fi</td>\n",
              "      <td>Christopher Nolan</td>\n",
              "      <td>Matthew McConaughey, Anne Hathaway, Jessica Ch...</td>\n",
              "      <td>2014</td>\n",
              "      <td>169</td>\n",
              "      <td>8.6</td>\n",
              "      <td>1047747</td>\n",
              "      <td>187.99</td>\n",
              "      <td>74.0</td>\n",
              "    </tr>\n",
              "    <tr>\n",
              "      <th>271</th>\n",
              "      <td>272</td>\n",
              "      <td>The Hobbit: An Unexpected Journey</td>\n",
              "      <td>Adventure,Fantasy</td>\n",
              "      <td>Peter Jackson</td>\n",
              "      <td>Martin Freeman, Ian McKellen, Richard Armitage...</td>\n",
              "      <td>2012</td>\n",
              "      <td>169</td>\n",
              "      <td>7.9</td>\n",
              "      <td>668651</td>\n",
              "      <td>303.00</td>\n",
              "      <td>58.0</td>\n",
              "    </tr>\n",
              "    <tr>\n",
              "      <th>425</th>\n",
              "      <td>426</td>\n",
              "      <td>The Curious Case of Benjamin Button</td>\n",
              "      <td>Drama,Fantasy,Romance</td>\n",
              "      <td>David Fincher</td>\n",
              "      <td>Brad Pitt, Cate Blanchett, Tilda Swinton, Juli...</td>\n",
              "      <td>2008</td>\n",
              "      <td>166</td>\n",
              "      <td>7.8</td>\n",
              "      <td>485075</td>\n",
              "      <td>127.49</td>\n",
              "      <td>70.0</td>\n",
              "    </tr>\n",
              "    <tr>\n",
              "      <th>126</th>\n",
              "      <td>127</td>\n",
              "      <td>Transformers: Age of Extinction</td>\n",
              "      <td>Action,Adventure,Sci-Fi</td>\n",
              "      <td>Michael Bay</td>\n",
              "      <td>Mark Wahlberg, Nicola Peltz, Jack Reynor, Stan...</td>\n",
              "      <td>2014</td>\n",
              "      <td>165</td>\n",
              "      <td>5.7</td>\n",
              "      <td>255483</td>\n",
              "      <td>245.43</td>\n",
              "      <td>32.0</td>\n",
              "    </tr>\n",
              "  </tbody>\n",
              "</table>\n",
              "</div>"
            ],
            "text/plain": [
              "     rank                                     title                     genre  \\\n",
              "88     89                         The Hateful Eight       Crime,Drama,Mystery   \n",
              "82     83                   The Wolf of Wall Street    Biography,Comedy,Crime   \n",
              "311   312                            La vie d'Adèle             Drama,Romance   \n",
              "267   268                               Cloud Atlas              Drama,Sci-Fi   \n",
              "430   431                                  3 Idiots              Comedy,Drama   \n",
              "75     76  Pirates of the Caribbean: At World's End  Action,Adventure,Fantasy   \n",
              "36     37                              Interstellar    Adventure,Drama,Sci-Fi   \n",
              "271   272         The Hobbit: An Unexpected Journey         Adventure,Fantasy   \n",
              "425   426       The Curious Case of Benjamin Button     Drama,Fantasy,Romance   \n",
              "126   127           Transformers: Age of Extinction   Action,Adventure,Sci-Fi   \n",
              "\n",
              "                director                                             actors  \\\n",
              "88     Quentin Tarantino  Samuel L. Jackson, Kurt Russell, Jennifer Jaso...   \n",
              "82       Martin Scorsese  Leonardo DiCaprio, Jonah Hill, Margot Robbie,M...   \n",
              "311  Abdellatif Kechiche  Léa Seydoux, Adèle Exarchopoulos, Salim Kechio...   \n",
              "267           Tom Tykwer   Tom Hanks, Halle Berry, Hugh Grant, Hugo Weaving   \n",
              "430      Rajkumar Hirani    Aamir Khan, Madhavan, Mona Singh, Sharman Joshi   \n",
              "75        Gore Verbinski  Johnny Depp, Orlando Bloom, Keira Knightley,Ge...   \n",
              "36     Christopher Nolan  Matthew McConaughey, Anne Hathaway, Jessica Ch...   \n",
              "271        Peter Jackson  Martin Freeman, Ian McKellen, Richard Armitage...   \n",
              "425        David Fincher  Brad Pitt, Cate Blanchett, Tilda Swinton, Juli...   \n",
              "126          Michael Bay  Mark Wahlberg, Nicola Peltz, Jack Reynor, Stan...   \n",
              "\n",
              "     year  runtime_min  rating    votes  revenue_mill  metascore  \n",
              "88   2015          187     7.8   341170         54.12       68.0  \n",
              "82   2013          180     8.2   865134        116.87       75.0  \n",
              "311  2013          180     7.8   103150          2.20       88.0  \n",
              "267  2012          172     7.5   298651         27.10       55.0  \n",
              "430  2009          170     8.4   238789          6.52       67.0  \n",
              "75   2007          169     7.1   498821        309.40       50.0  \n",
              "36   2014          169     8.6  1047747        187.99       74.0  \n",
              "271  2012          169     7.9   668651        303.00       58.0  \n",
              "425  2008          166     7.8   485075        127.49       70.0  \n",
              "126  2014          165     5.7   255483        245.43       32.0  "
            ]
          },
          "metadata": {
            "tags": []
          },
          "execution_count": 31
        }
      ]
    },
    {
      "cell_type": "markdown",
      "metadata": {
        "id": "V21cf_y2wONv"
      },
      "source": [
        "This explains that **The Hateful Eight** followed by **The Wolf of Wall Street** movies have high duration. "
      ]
    },
    {
      "cell_type": "markdown",
      "metadata": {
        "id": "8m7hUuj4gHAW"
      },
      "source": [
        "<a id=section70107></a>\n",
        "### 7.1.7 What is the correlation between various features?"
      ]
    },
    {
      "cell_type": "code",
      "metadata": {
        "id": "JTThdaZlfXsg",
        "colab": {
          "base_uri": "https://localhost:8080/",
          "height": 340
        },
        "outputId": "883c918a-2ea2-4304-ddf4-f36ea57b00f8"
      },
      "source": [
        "movies_corr = movies.corr()\n",
        "sns.heatmap(data = movies_corr, annot=True, linewidths=.5, cmap = 'BrBG')"
      ],
      "execution_count": null,
      "outputs": [
        {
          "output_type": "execute_result",
          "data": {
            "text/plain": [
              "<matplotlib.axes._subplots.AxesSubplot at 0x7f2d11ca9b70>"
            ]
          },
          "metadata": {
            "tags": []
          },
          "execution_count": 32
        },
        {
          "output_type": "display_data",
          "data": {
            "image/png": "[encoded data removed]",
            "text/plain": [
              "<Figure size 432x288 with 2 Axes>"
            ]
          },
          "metadata": {
            "tags": [],
            "needs_background": "light"
          }
        }
      ]
    },
    {
      "cell_type": "markdown",
      "metadata": {
        "id": "H2CkWbmkgZJM"
      },
      "source": [
        "This explains that:\n",
        "* **User Rating** and **Critic Average Rating or Metascore** are highly correlated.\n",
        "* **User votes** and **Revenue in millions** are highly correlated.\n",
        "* **Rating** and **Votes** are highly correlated.\n",
        "* **Year** and **Rank** are negatively correlated with all the other features.\n"
      ]
    },
    {
      "cell_type": "markdown",
      "metadata": {
        "id": "amlD4fNLnQKz"
      },
      "source": [
        "<a id=section702></a>\n",
        "### 7.2 Director Based Analysis"
      ]
    },
    {
      "cell_type": "markdown",
      "metadata": {
        "id": "tHK7SHchnX6g"
      },
      "source": [
        "<a id=section70201></a>\n",
        "### 7.2.1 Who are the top 20 directors directed more movies over the years?"
      ]
    },
    {
      "cell_type": "code",
      "metadata": {
        "id": "hP3jqmQyxHnb",
        "colab": {
          "base_uri": "https://localhost:8080/",
          "height": 235
        },
        "outputId": "3bcf8978-8cae-4d42-86c8-d0b9483abd6c"
      },
      "source": [
        "top_directors = (movies.groupby('director')['title'].count()).sort_values(ascending = False)\n",
        "top_directors"
      ],
      "execution_count": null,
      "outputs": [
        {
          "output_type": "execute_result",
          "data": {
            "text/plain": [
              "director\n",
              "Ridley Scott          8\n",
              "David Yates           6\n",
              "Michael Bay           6\n",
              "Paul W.S. Anderson    6\n",
              "Christopher Nolan     5\n",
              "                     ..\n",
              "Levan Gabriadze       1\n",
              "Luca Guadagnino       1\n",
              "Luke Greenfield       1\n",
              "Luke Scott            1\n",
              "Aamir Khan            1\n",
              "Name: title, Length: 524, dtype: int64"
            ]
          },
          "metadata": {
            "tags": []
          },
          "execution_count": 33
        }
      ]
    },
    {
      "cell_type": "code",
      "metadata": {
        "id": "ZRGqhsTHb4pU",
        "colab": {
          "base_uri": "https://localhost:8080/",
          "height": 458
        },
        "outputId": "0b3e69df-a1b5-45ac-de64-138628b74add"
      },
      "source": [
        "top_directors[:20].plot(kind='bar', figsize=(12,5), title='No. of movies directed by top 20 directors')"
      ],
      "execution_count": null,
      "outputs": [
        {
          "output_type": "execute_result",
          "data": {
            "text/plain": [
              "<matplotlib.axes._subplots.AxesSubplot at 0x7f2d0ee39e80>"
            ]
          },
          "metadata": {
            "tags": []
          },
          "execution_count": 34
        },
        {
          "output_type": "display_data",
          "data": {
            "image/png": "[encoded data removed]",
            "text/plain": [
              "<Figure size 864x360 with 1 Axes>"
            ]
          },
          "metadata": {
            "tags": [],
            "needs_background": "light"
          }
        }
      ]
    },
    {
      "cell_type": "markdown",
      "metadata": {
        "id": "2Gf0qJeNkYRg"
      },
      "source": [
        "* This explains that **RidleyScott**, **David Yates** and **Michael Bay** have directed greater number of movies over the given years in the dataset. \n",
        "* In the top 20 directors, lets see which director's movies have generated more revenue?"
      ]
    },
    {
      "cell_type": "code",
      "metadata": {
        "id": "IW858BzPop9y",
        "colab": {
          "base_uri": "https://localhost:8080/",
          "height": 402
        },
        "outputId": "70d30f86-c181-4516-afc4-640c5de2365d"
      },
      "source": [
        "# This dataframe gives the list of movies directed by the top 20 directors.\n",
        "top_directors_movies = pd.DataFrame()\n",
        "for director,v in top_directors[:21].items():\n",
        "    top_directors_movies = top_directors_movies.append(movies[movies['director'].str.contains(director)],ignore_index=True)\n",
        "top_directors_movies"
      ],
      "execution_count": null,
      "outputs": [
        {
          "output_type": "execute_result",
          "data": {
            "text/html": [
              "<div>\n",
              "<style scoped>\n",
              "    .dataframe tbody tr th:only-of-type {\n",
              "        vertical-align: middle;\n",
              "    }\n",
              "\n",
              "    .dataframe tbody tr th {\n",
              "        vertical-align: top;\n",
              "    }\n",
              "\n",
              "    .dataframe thead th {\n",
              "        text-align: right;\n",
              "    }\n",
              "</style>\n",
              "<table border=\"1\" class=\"dataframe\">\n",
              "  <thead>\n",
              "    <tr style=\"text-align: right;\">\n",
              "      <th></th>\n",
              "      <th>rank</th>\n",
              "      <th>title</th>\n",
              "      <th>genre</th>\n",
              "      <th>director</th>\n",
              "      <th>actors</th>\n",
              "      <th>year</th>\n",
              "      <th>runtime_min</th>\n",
              "      <th>rating</th>\n",
              "      <th>votes</th>\n",
              "      <th>revenue_mill</th>\n",
              "      <th>metascore</th>\n",
              "    </tr>\n",
              "  </thead>\n",
              "  <tbody>\n",
              "    <tr>\n",
              "      <th>0</th>\n",
              "      <td>2</td>\n",
              "      <td>Prometheus</td>\n",
              "      <td>Adventure,Mystery,Sci-Fi</td>\n",
              "      <td>Ridley Scott</td>\n",
              "      <td>Noomi Rapace, Logan Marshall-Green, Michael Fa...</td>\n",
              "      <td>2012</td>\n",
              "      <td>124</td>\n",
              "      <td>7.0</td>\n",
              "      <td>485820</td>\n",
              "      <td>126.46</td>\n",
              "      <td>65.0</td>\n",
              "    </tr>\n",
              "    <tr>\n",
              "      <th>1</th>\n",
              "      <td>103</td>\n",
              "      <td>The Martian</td>\n",
              "      <td>Adventure,Drama,Sci-Fi</td>\n",
              "      <td>Ridley Scott</td>\n",
              "      <td>Matt Damon, Jessica Chastain, Kristen Wiig, Ka...</td>\n",
              "      <td>2015</td>\n",
              "      <td>144</td>\n",
              "      <td>8.0</td>\n",
              "      <td>556097</td>\n",
              "      <td>228.43</td>\n",
              "      <td>80.0</td>\n",
              "    </tr>\n",
              "    <tr>\n",
              "      <th>2</th>\n",
              "      <td>388</td>\n",
              "      <td>Robin Hood</td>\n",
              "      <td>Action,Adventure,Drama</td>\n",
              "      <td>Ridley Scott</td>\n",
              "      <td>Russell Crowe, Cate Blanchett, Matthew Macfady...</td>\n",
              "      <td>2010</td>\n",
              "      <td>140</td>\n",
              "      <td>6.7</td>\n",
              "      <td>221117</td>\n",
              "      <td>105.22</td>\n",
              "      <td>53.0</td>\n",
              "    </tr>\n",
              "    <tr>\n",
              "      <th>3</th>\n",
              "      <td>471</td>\n",
              "      <td>American Gangster</td>\n",
              "      <td>Biography,Crime,Drama</td>\n",
              "      <td>Ridley Scott</td>\n",
              "      <td>Denzel Washington, Russell Crowe, Chiwetel Eji...</td>\n",
              "      <td>2007</td>\n",
              "      <td>157</td>\n",
              "      <td>7.8</td>\n",
              "      <td>337835</td>\n",
              "      <td>130.13</td>\n",
              "      <td>76.0</td>\n",
              "    </tr>\n",
              "    <tr>\n",
              "      <th>4</th>\n",
              "      <td>517</td>\n",
              "      <td>Exodus: Gods and Kings</td>\n",
              "      <td>Action,Adventure,Drama</td>\n",
              "      <td>Ridley Scott</td>\n",
              "      <td>Christian Bale, Joel Edgerton, Ben Kingsley, S...</td>\n",
              "      <td>2014</td>\n",
              "      <td>150</td>\n",
              "      <td>6.0</td>\n",
              "      <td>137299</td>\n",
              "      <td>65.01</td>\n",
              "      <td>52.0</td>\n",
              "    </tr>\n",
              "    <tr>\n",
              "      <th>...</th>\n",
              "      <td>...</td>\n",
              "      <td>...</td>\n",
              "      <td>...</td>\n",
              "      <td>...</td>\n",
              "      <td>...</td>\n",
              "      <td>...</td>\n",
              "      <td>...</td>\n",
              "      <td>...</td>\n",
              "      <td>...</td>\n",
              "      <td>...</td>\n",
              "      <td>...</td>\n",
              "    </tr>\n",
              "    <tr>\n",
              "      <th>101</th>\n",
              "      <td>613</td>\n",
              "      <td>The Lovely Bones</td>\n",
              "      <td>Drama,Fantasy,Thriller</td>\n",
              "      <td>Peter Jackson</td>\n",
              "      <td>Rachel Weisz, Mark Wahlberg, Saoirse Ronan, Su...</td>\n",
              "      <td>2009</td>\n",
              "      <td>135</td>\n",
              "      <td>6.7</td>\n",
              "      <td>130702</td>\n",
              "      <td>43.98</td>\n",
              "      <td>42.0</td>\n",
              "    </tr>\n",
              "    <tr>\n",
              "      <th>102</th>\n",
              "      <td>66</td>\n",
              "      <td>Kingsman: The Secret Service</td>\n",
              "      <td>Action,Adventure,Comedy</td>\n",
              "      <td>Matthew Vaughn</td>\n",
              "      <td>Colin Firth, Taron Egerton, Samuel L. Jackson,...</td>\n",
              "      <td>2014</td>\n",
              "      <td>129</td>\n",
              "      <td>7.7</td>\n",
              "      <td>440209</td>\n",
              "      <td>128.25</td>\n",
              "      <td>58.0</td>\n",
              "    </tr>\n",
              "    <tr>\n",
              "      <th>103</th>\n",
              "      <td>206</td>\n",
              "      <td>X: First Class</td>\n",
              "      <td>Action,Adventure,Sci-Fi</td>\n",
              "      <td>Matthew Vaughn</td>\n",
              "      <td>James McAvoy, Michael Fassbender, Jennifer Law...</td>\n",
              "      <td>2011</td>\n",
              "      <td>132</td>\n",
              "      <td>7.8</td>\n",
              "      <td>550011</td>\n",
              "      <td>146.41</td>\n",
              "      <td>65.0</td>\n",
              "    </tr>\n",
              "    <tr>\n",
              "      <th>104</th>\n",
              "      <td>220</td>\n",
              "      <td>Kick-Ass</td>\n",
              "      <td>Action,Comedy</td>\n",
              "      <td>Matthew Vaughn</td>\n",
              "      <td>Aaron Taylor-Johnson, Nicolas Cage, Chloë Grac...</td>\n",
              "      <td>2010</td>\n",
              "      <td>117</td>\n",
              "      <td>7.7</td>\n",
              "      <td>456749</td>\n",
              "      <td>48.04</td>\n",
              "      <td>66.0</td>\n",
              "    </tr>\n",
              "    <tr>\n",
              "      <th>105</th>\n",
              "      <td>347</td>\n",
              "      <td>Stardust</td>\n",
              "      <td>Adventure,Family,Fantasy</td>\n",
              "      <td>Matthew Vaughn</td>\n",
              "      <td>Charlie Cox, Claire Danes, Sienna Miller, Ian ...</td>\n",
              "      <td>2007</td>\n",
              "      <td>127</td>\n",
              "      <td>7.7</td>\n",
              "      <td>220664</td>\n",
              "      <td>38.35</td>\n",
              "      <td>66.0</td>\n",
              "    </tr>\n",
              "  </tbody>\n",
              "</table>\n",
              "<p>106 rows × 11 columns</p>\n",
              "</div>"
            ],
            "text/plain": [
              "     rank                         title                     genre  \\\n",
              "0       2                    Prometheus  Adventure,Mystery,Sci-Fi   \n",
              "1     103                   The Martian    Adventure,Drama,Sci-Fi   \n",
              "2     388                    Robin Hood    Action,Adventure,Drama   \n",
              "3     471             American Gangster     Biography,Crime,Drama   \n",
              "4     517        Exodus: Gods and Kings    Action,Adventure,Drama   \n",
              "..    ...                           ...                       ...   \n",
              "101   613              The Lovely Bones    Drama,Fantasy,Thriller   \n",
              "102    66  Kingsman: The Secret Service   Action,Adventure,Comedy   \n",
              "103   206                X: First Class   Action,Adventure,Sci-Fi   \n",
              "104   220                      Kick-Ass             Action,Comedy   \n",
              "105   347                      Stardust  Adventure,Family,Fantasy   \n",
              "\n",
              "           director                                             actors  year  \\\n",
              "0      Ridley Scott  Noomi Rapace, Logan Marshall-Green, Michael Fa...  2012   \n",
              "1      Ridley Scott  Matt Damon, Jessica Chastain, Kristen Wiig, Ka...  2015   \n",
              "2      Ridley Scott  Russell Crowe, Cate Blanchett, Matthew Macfady...  2010   \n",
              "3      Ridley Scott  Denzel Washington, Russell Crowe, Chiwetel Eji...  2007   \n",
              "4      Ridley Scott  Christian Bale, Joel Edgerton, Ben Kingsley, S...  2014   \n",
              "..              ...                                                ...   ...   \n",
              "101   Peter Jackson  Rachel Weisz, Mark Wahlberg, Saoirse Ronan, Su...  2009   \n",
              "102  Matthew Vaughn  Colin Firth, Taron Egerton, Samuel L. Jackson,...  2014   \n",
              "103  Matthew Vaughn  James McAvoy, Michael Fassbender, Jennifer Law...  2011   \n",
              "104  Matthew Vaughn  Aaron Taylor-Johnson, Nicolas Cage, Chloë Grac...  2010   \n",
              "105  Matthew Vaughn  Charlie Cox, Claire Danes, Sienna Miller, Ian ...  2007   \n",
              "\n",
              "     runtime_min  rating   votes  revenue_mill  metascore  \n",
              "0            124     7.0  485820        126.46       65.0  \n",
              "1            144     8.0  556097        228.43       80.0  \n",
              "2            140     6.7  221117        105.22       53.0  \n",
              "3            157     7.8  337835        130.13       76.0  \n",
              "4            150     6.0  137299         65.01       52.0  \n",
              "..           ...     ...     ...           ...        ...  \n",
              "101          135     6.7  130702         43.98       42.0  \n",
              "102          129     7.7  440209        128.25       58.0  \n",
              "103          132     7.8  550011        146.41       65.0  \n",
              "104          117     7.7  456749         48.04       66.0  \n",
              "105          127     7.7  220664         38.35       66.0  \n",
              "\n",
              "[106 rows x 11 columns]"
            ]
          },
          "metadata": {
            "tags": []
          },
          "execution_count": 35
        }
      ]
    },
    {
      "cell_type": "code",
      "metadata": {
        "id": "m9bekPfDqKQY",
        "colab": {
          "base_uri": "https://localhost:8080/",
          "height": 669
        },
        "outputId": "79e4ac94-1314-479d-ced8-acacd747ab5d"
      },
      "source": [
        "# This datafrae gives the details of the average revenue generated by the top 20 directors\n",
        "top_directors_revenue = top_directors_movies.groupby('director').mean()\n",
        "top_directors_revenue = top_directors_revenue.drop(top_directors_revenue.columns.difference(['director','revenue_mill']), axis = 1)\n",
        "top_directors_revenue = top_directors_revenue.sort_values('revenue_mill', ascending = True)\n",
        "top_directors_revenue.reset_index(inplace=True)\n",
        "top_directors_revenue = pd.merge(left = top_directors_revenue, right = top_directors, on = 'director')\n",
        "top_directors_revenue"
      ],
      "execution_count": null,
      "outputs": [
        {
          "output_type": "execute_result",
          "data": {
            "text/html": [
              "<div>\n",
              "<style scoped>\n",
              "    .dataframe tbody tr th:only-of-type {\n",
              "        vertical-align: middle;\n",
              "    }\n",
              "\n",
              "    .dataframe tbody tr th {\n",
              "        vertical-align: top;\n",
              "    }\n",
              "\n",
              "    .dataframe thead th {\n",
              "        text-align: right;\n",
              "    }\n",
              "</style>\n",
              "<table border=\"1\" class=\"dataframe\">\n",
              "  <thead>\n",
              "    <tr style=\"text-align: right;\">\n",
              "      <th></th>\n",
              "      <th>director</th>\n",
              "      <th>revenue_mill</th>\n",
              "      <th>title</th>\n",
              "    </tr>\n",
              "  </thead>\n",
              "  <tbody>\n",
              "    <tr>\n",
              "      <th>0</th>\n",
              "      <td>Woody Allen</td>\n",
              "      <td>28.238000</td>\n",
              "      <td>5</td>\n",
              "    </tr>\n",
              "    <tr>\n",
              "      <th>1</th>\n",
              "      <td>Paul W.S. Anderson</td>\n",
              "      <td>34.820000</td>\n",
              "      <td>6</td>\n",
              "    </tr>\n",
              "    <tr>\n",
              "      <th>2</th>\n",
              "      <td>Danny Boyle</td>\n",
              "      <td>36.680000</td>\n",
              "      <td>5</td>\n",
              "    </tr>\n",
              "    <tr>\n",
              "      <th>3</th>\n",
              "      <td>Denis Villeneuve</td>\n",
              "      <td>43.242000</td>\n",
              "      <td>5</td>\n",
              "    </tr>\n",
              "    <tr>\n",
              "      <th>4</th>\n",
              "      <td>M. Night Shyamalan</td>\n",
              "      <td>74.098000</td>\n",
              "      <td>5</td>\n",
              "    </tr>\n",
              "    <tr>\n",
              "      <th>5</th>\n",
              "      <td>Antoine Fuqua</td>\n",
              "      <td>78.642000</td>\n",
              "      <td>5</td>\n",
              "    </tr>\n",
              "    <tr>\n",
              "      <th>6</th>\n",
              "      <td>Nicholas Stoller</td>\n",
              "      <td>85.222500</td>\n",
              "      <td>4</td>\n",
              "    </tr>\n",
              "    <tr>\n",
              "      <th>7</th>\n",
              "      <td>Ridley Scott</td>\n",
              "      <td>89.882500</td>\n",
              "      <td>8</td>\n",
              "    </tr>\n",
              "    <tr>\n",
              "      <th>8</th>\n",
              "      <td>Matthew Vaughn</td>\n",
              "      <td>90.262500</td>\n",
              "      <td>4</td>\n",
              "    </tr>\n",
              "    <tr>\n",
              "      <th>9</th>\n",
              "      <td>Martin Scorsese</td>\n",
              "      <td>91.622000</td>\n",
              "      <td>5</td>\n",
              "    </tr>\n",
              "    <tr>\n",
              "      <th>10</th>\n",
              "      <td>Peter Berg</td>\n",
              "      <td>102.266000</td>\n",
              "      <td>5</td>\n",
              "    </tr>\n",
              "    <tr>\n",
              "      <th>11</th>\n",
              "      <td>David Fincher</td>\n",
              "      <td>105.544000</td>\n",
              "      <td>5</td>\n",
              "    </tr>\n",
              "    <tr>\n",
              "      <th>12</th>\n",
              "      <td>Louis Leterrier</td>\n",
              "      <td>105.567500</td>\n",
              "      <td>4</td>\n",
              "    </tr>\n",
              "    <tr>\n",
              "      <th>13</th>\n",
              "      <td>Paul Feig</td>\n",
              "      <td>141.955000</td>\n",
              "      <td>4</td>\n",
              "    </tr>\n",
              "    <tr>\n",
              "      <th>14</th>\n",
              "      <td>Justin Lin</td>\n",
              "      <td>164.958000</td>\n",
              "      <td>5</td>\n",
              "    </tr>\n",
              "    <tr>\n",
              "      <th>15</th>\n",
              "      <td>Zack Snyder</td>\n",
              "      <td>195.148000</td>\n",
              "      <td>5</td>\n",
              "    </tr>\n",
              "    <tr>\n",
              "      <th>16</th>\n",
              "      <td>Peter Jackson</td>\n",
              "      <td>215.112500</td>\n",
              "      <td>4</td>\n",
              "    </tr>\n",
              "    <tr>\n",
              "      <th>17</th>\n",
              "      <td>Michael Bay</td>\n",
              "      <td>236.886667</td>\n",
              "      <td>6</td>\n",
              "    </tr>\n",
              "    <tr>\n",
              "      <th>18</th>\n",
              "      <td>David Yates</td>\n",
              "      <td>271.751667</td>\n",
              "      <td>6</td>\n",
              "    </tr>\n",
              "    <tr>\n",
              "      <th>19</th>\n",
              "      <td>Christopher Nolan</td>\n",
              "      <td>303.018000</td>\n",
              "      <td>5</td>\n",
              "    </tr>\n",
              "    <tr>\n",
              "      <th>20</th>\n",
              "      <td>J.J. Abrams</td>\n",
              "      <td>336.690000</td>\n",
              "      <td>5</td>\n",
              "    </tr>\n",
              "  </tbody>\n",
              "</table>\n",
              "</div>"
            ],
            "text/plain": [
              "              director  revenue_mill  title\n",
              "0          Woody Allen     28.238000      5\n",
              "1   Paul W.S. Anderson     34.820000      6\n",
              "2          Danny Boyle     36.680000      5\n",
              "3     Denis Villeneuve     43.242000      5\n",
              "4   M. Night Shyamalan     74.098000      5\n",
              "5        Antoine Fuqua     78.642000      5\n",
              "6     Nicholas Stoller     85.222500      4\n",
              "7         Ridley Scott     89.882500      8\n",
              "8       Matthew Vaughn     90.262500      4\n",
              "9      Martin Scorsese     91.622000      5\n",
              "10          Peter Berg    102.266000      5\n",
              "11       David Fincher    105.544000      5\n",
              "12     Louis Leterrier    105.567500      4\n",
              "13           Paul Feig    141.955000      4\n",
              "14          Justin Lin    164.958000      5\n",
              "15         Zack Snyder    195.148000      5\n",
              "16       Peter Jackson    215.112500      4\n",
              "17         Michael Bay    236.886667      6\n",
              "18         David Yates    271.751667      6\n",
              "19   Christopher Nolan    303.018000      5\n",
              "20         J.J. Abrams    336.690000      5"
            ]
          },
          "metadata": {
            "tags": []
          },
          "execution_count": 36
        }
      ]
    },
    {
      "cell_type": "code",
      "metadata": {
        "id": "sdZHlLx8btfW",
        "colab": {
          "base_uri": "https://localhost:8080/",
          "height": 460
        },
        "outputId": "99898714-b711-4b28-c75c-a05fa4ad44a7"
      },
      "source": [
        "plt.figure(figsize=(10,7))\n",
        "sns.barplot(y='director', x = 'revenue_mill', data=top_directors_revenue.sort_values(by='revenue_mill', ascending = False), color='Green', hue = 'title', palette='CMRmap_r')"
      ],
      "execution_count": null,
      "outputs": [
        {
          "output_type": "execute_result",
          "data": {
            "text/plain": [
              "<matplotlib.axes._subplots.AxesSubplot at 0x7f2d0f327f60>"
            ]
          },
          "metadata": {
            "tags": []
          },
          "execution_count": 37
        },
        {
          "output_type": "display_data",
          "data": {
            "image/png": "[encoded data removed]",
            "text/plain": [
              "<Figure size 720x504 with 1 Axes>"
            ]
          },
          "metadata": {
            "tags": [],
            "needs_background": "light"
          }
        }
      ]
    },
    {
      "cell_type": "markdown",
      "metadata": {
        "id": "2zZCvKo3vhM3"
      },
      "source": [
        "* This explains that, **JJ Abrams** and **Christopher Nolan** have directed 5 movies over years which has fetched more revenue on board followed by **David Yates** and **Michael Bay** who have directed 6 movies.However **Ridley Scott** who have directed 8 movies have made a less revenue.\n",
        "* Now lets further dig into movies revenue in details for the top 2 directors who have made more revenue."
      ]
    },
    {
      "cell_type": "code",
      "metadata": {
        "id": "iGtVuo1E9cZe"
      },
      "source": [
        "Dir_Abrams = top_directors_movies[top_directors_movies['director'].str.contains('J.J. Abrams')]"
      ],
      "execution_count": null,
      "outputs": []
    },
    {
      "cell_type": "code",
      "metadata": {
        "id": "tcKm0sg2dL27",
        "colab": {
          "base_uri": "https://localhost:8080/",
          "height": 297
        },
        "outputId": "a7cd4c04-0d6f-42e3-c397-2345e5d8250e"
      },
      "source": [
        "sns.barplot(data = Dir_Abrams.sort_values(by='revenue_mill',ascending = False), y = 'title', x = 'revenue_mill')"
      ],
      "execution_count": null,
      "outputs": [
        {
          "output_type": "execute_result",
          "data": {
            "text/plain": [
              "<matplotlib.axes._subplots.AxesSubplot at 0x7f2d0eb0e780>"
            ]
          },
          "metadata": {
            "tags": []
          },
          "execution_count": 39
        },
        {
          "output_type": "display_data",
          "data": {
            "image/png": "[encoded data removed]",
            "text/plain": [
              "<Figure size 432x288 with 1 Axes>"
            ]
          },
          "metadata": {
            "tags": [],
            "needs_background": "light"
          }
        }
      ]
    },
    {
      "cell_type": "code",
      "metadata": {
        "id": "WcvzqKjIR90c"
      },
      "source": [
        "Dir_Chris = top_directors_movies[top_directors_movies['director'].str.contains('Christopher Nolan')]"
      ],
      "execution_count": null,
      "outputs": []
    },
    {
      "cell_type": "code",
      "metadata": {
        "id": "qA-925cfdabc",
        "colab": {
          "base_uri": "https://localhost:8080/",
          "height": 297
        },
        "outputId": "e6f5e580-5d20-47e9-e175-90ea99484489"
      },
      "source": [
        "sns.barplot(data = Dir_Chris.sort_values(by='revenue_mill',ascending = False), y = 'title', x = 'revenue_mill')"
      ],
      "execution_count": null,
      "outputs": [
        {
          "output_type": "execute_result",
          "data": {
            "text/plain": [
              "<matplotlib.axes._subplots.AxesSubplot at 0x7f2d0ea79390>"
            ]
          },
          "metadata": {
            "tags": []
          },
          "execution_count": 41
        },
        {
          "output_type": "display_data",
          "data": {
            "image/png": "[encoded data removed]",
            "text/plain": [
              "<Figure size 432x288 with 1 Axes>"
            ]
          },
          "metadata": {
            "tags": [],
            "needs_background": "light"
          }
        }
      ]
    },
    {
      "cell_type": "markdown",
      "metadata": {
        "id": "Ee7ncH4zY3Y8"
      },
      "source": [
        "* This explains that, some movies directed by these top most directors have performed really well and has lead to high revenue whereas, we also find some of the movies that had lesser revenue in global media market.\n",
        "* From the feature analysis, we found that the top 3 movies which were high on rating and top 4 movies which were high on uservotes were directed by **Christopher Nolan**\n",
        "* We infer that, even though a movie is directed by a most popular high revenue producing director, it is not essential that the movie should result in high performance and revenue."
      ]
    },
    {
      "cell_type": "markdown",
      "metadata": {
        "id": "6nmC2k-_a3fv"
      },
      "source": [
        "* From the feature analysis, we found that the top 3 movies which were high on rating were directed by **Christopher Nolan**\n",
        "* From the feature analysis, we also found that the top 4 movies which were high on uservotes were directed by **Christopher Nolan**."
      ]
    },
    {
      "cell_type": "markdown",
      "metadata": {
        "id": "zyc1ezG3jK6L"
      },
      "source": [
        "<a id=section703></a>\n",
        "### 7.3 Year Based Analysis"
      ]
    },
    {
      "cell_type": "markdown",
      "metadata": {
        "id": "D-haGLUUice2"
      },
      "source": [
        "<a id=section70201></a>\n",
        "### 7.3.1 What are the number of movies over years?"
      ]
    },
    {
      "cell_type": "code",
      "metadata": {
        "id": "E5WdYpu7i88K",
        "colab": {
          "base_uri": "https://localhost:8080/",
          "height": 373
        },
        "outputId": "520b285f-b589-40d6-8cf8-ed291db1cc43"
      },
      "source": [
        "year_count = pd.DataFrame(movies.groupby('year')['title'].count().sort_values(ascending=False))\n",
        "year_count.rename(columns = {'title': 'movie_count'}, inplace = True)\n",
        "year_count.reset_index(inplace = True)\n",
        "year_count"
      ],
      "execution_count": null,
      "outputs": [
        {
          "output_type": "execute_result",
          "data": {
            "text/html": [
              "<div>\n",
              "<style scoped>\n",
              "    .dataframe tbody tr th:only-of-type {\n",
              "        vertical-align: middle;\n",
              "    }\n",
              "\n",
              "    .dataframe tbody tr th {\n",
              "        vertical-align: top;\n",
              "    }\n",
              "\n",
              "    .dataframe thead th {\n",
              "        text-align: right;\n",
              "    }\n",
              "</style>\n",
              "<table border=\"1\" class=\"dataframe\">\n",
              "  <thead>\n",
              "    <tr style=\"text-align: right;\">\n",
              "      <th></th>\n",
              "      <th>year</th>\n",
              "      <th>movie_count</th>\n",
              "    </tr>\n",
              "  </thead>\n",
              "  <tbody>\n",
              "    <tr>\n",
              "      <th>0</th>\n",
              "      <td>2016</td>\n",
              "      <td>198</td>\n",
              "    </tr>\n",
              "    <tr>\n",
              "      <th>1</th>\n",
              "      <td>2015</td>\n",
              "      <td>109</td>\n",
              "    </tr>\n",
              "    <tr>\n",
              "      <th>2</th>\n",
              "      <td>2014</td>\n",
              "      <td>93</td>\n",
              "    </tr>\n",
              "    <tr>\n",
              "      <th>3</th>\n",
              "      <td>2013</td>\n",
              "      <td>84</td>\n",
              "    </tr>\n",
              "    <tr>\n",
              "      <th>4</th>\n",
              "      <td>2012</td>\n",
              "      <td>62</td>\n",
              "    </tr>\n",
              "    <tr>\n",
              "      <th>5</th>\n",
              "      <td>2011</td>\n",
              "      <td>57</td>\n",
              "    </tr>\n",
              "    <tr>\n",
              "      <th>6</th>\n",
              "      <td>2010</td>\n",
              "      <td>57</td>\n",
              "    </tr>\n",
              "    <tr>\n",
              "      <th>7</th>\n",
              "      <td>2008</td>\n",
              "      <td>48</td>\n",
              "    </tr>\n",
              "    <tr>\n",
              "      <th>8</th>\n",
              "      <td>2009</td>\n",
              "      <td>45</td>\n",
              "    </tr>\n",
              "    <tr>\n",
              "      <th>9</th>\n",
              "      <td>2007</td>\n",
              "      <td>44</td>\n",
              "    </tr>\n",
              "    <tr>\n",
              "      <th>10</th>\n",
              "      <td>2006</td>\n",
              "      <td>41</td>\n",
              "    </tr>\n",
              "  </tbody>\n",
              "</table>\n",
              "</div>"
            ],
            "text/plain": [
              "    year  movie_count\n",
              "0   2016          198\n",
              "1   2015          109\n",
              "2   2014           93\n",
              "3   2013           84\n",
              "4   2012           62\n",
              "5   2011           57\n",
              "6   2010           57\n",
              "7   2008           48\n",
              "8   2009           45\n",
              "9   2007           44\n",
              "10  2006           41"
            ]
          },
          "metadata": {
            "tags": []
          },
          "execution_count": 42
        }
      ]
    },
    {
      "cell_type": "code",
      "metadata": {
        "id": "T4rcj-LtOAis",
        "colab": {
          "base_uri": "https://localhost:8080/",
          "height": 296
        },
        "outputId": "147b0be7-8157-40bb-ee84-ef6fa3e29c8b"
      },
      "source": [
        "sns.lineplot(data = year_count, x = 'year', y = 'movie_count')"
      ],
      "execution_count": null,
      "outputs": [
        {
          "output_type": "execute_result",
          "data": {
            "text/plain": [
              "<matplotlib.axes._subplots.AxesSubplot at 0x7f2d0ea6e2e8>"
            ]
          },
          "metadata": {
            "tags": []
          },
          "execution_count": 43
        },
        {
          "output_type": "display_data",
          "data": {
            "image/png": "[encoded data removed]",
            "text/plain": [
              "<Figure size 432x288 with 1 Axes>"
            ]
          },
          "metadata": {
            "tags": [],
            "needs_background": "light"
          }
        }
      ]
    },
    {
      "cell_type": "markdown",
      "metadata": {
        "id": "xgY9w9UmwRaH"
      },
      "source": [
        "This explains that:\n",
        "* Trend is there are more number of movies getting released every year. \n",
        "* Maximum number of movies were released in year 2016."
      ]
    },
    {
      "cell_type": "markdown",
      "metadata": {
        "id": "YIKwPDzFhsqw"
      },
      "source": [
        "<a id=section70201></a>\n",
        "### 7.3.2 How revenue varies over years?"
      ]
    },
    {
      "cell_type": "code",
      "metadata": {
        "id": "zdCzutwMzSgh",
        "colab": {
          "base_uri": "https://localhost:8080/",
          "height": 373
        },
        "outputId": "dc55a125-d1fb-44b8-93b4-357c294bf768"
      },
      "source": [
        "year_rev = pd.DataFrame(movies.groupby(['year'])['revenue_mill'].mean()).sort_values(by = 'revenue_mill', ascending = False)\n",
        "year_rev.reset_index(inplace = True)\n",
        "year_rev"
      ],
      "execution_count": null,
      "outputs": [
        {
          "output_type": "execute_result",
          "data": {
            "text/html": [
              "<div>\n",
              "<style scoped>\n",
              "    .dataframe tbody tr th:only-of-type {\n",
              "        vertical-align: middle;\n",
              "    }\n",
              "\n",
              "    .dataframe tbody tr th {\n",
              "        vertical-align: top;\n",
              "    }\n",
              "\n",
              "    .dataframe thead th {\n",
              "        text-align: right;\n",
              "    }\n",
              "</style>\n",
              "<table border=\"1\" class=\"dataframe\">\n",
              "  <thead>\n",
              "    <tr style=\"text-align: right;\">\n",
              "      <th></th>\n",
              "      <th>year</th>\n",
              "      <th>revenue_mill</th>\n",
              "    </tr>\n",
              "  </thead>\n",
              "  <tbody>\n",
              "    <tr>\n",
              "      <th>0</th>\n",
              "      <td>2009</td>\n",
              "      <td>115.742000</td>\n",
              "    </tr>\n",
              "    <tr>\n",
              "      <th>1</th>\n",
              "      <td>2012</td>\n",
              "      <td>110.103065</td>\n",
              "    </tr>\n",
              "    <tr>\n",
              "      <th>2</th>\n",
              "      <td>2010</td>\n",
              "      <td>105.081579</td>\n",
              "    </tr>\n",
              "    <tr>\n",
              "      <th>3</th>\n",
              "      <td>2008</td>\n",
              "      <td>97.525417</td>\n",
              "    </tr>\n",
              "    <tr>\n",
              "      <th>4</th>\n",
              "      <td>2011</td>\n",
              "      <td>93.703333</td>\n",
              "    </tr>\n",
              "    <tr>\n",
              "      <th>5</th>\n",
              "      <td>2007</td>\n",
              "      <td>93.074091</td>\n",
              "    </tr>\n",
              "    <tr>\n",
              "      <th>6</th>\n",
              "      <td>2013</td>\n",
              "      <td>88.084643</td>\n",
              "    </tr>\n",
              "    <tr>\n",
              "      <th>7</th>\n",
              "      <td>2006</td>\n",
              "      <td>87.255610</td>\n",
              "    </tr>\n",
              "    <tr>\n",
              "      <th>8</th>\n",
              "      <td>2014</td>\n",
              "      <td>85.433656</td>\n",
              "    </tr>\n",
              "    <tr>\n",
              "      <th>9</th>\n",
              "      <td>2015</td>\n",
              "      <td>80.725596</td>\n",
              "    </tr>\n",
              "    <tr>\n",
              "      <th>10</th>\n",
              "      <td>2016</td>\n",
              "      <td>55.566111</td>\n",
              "    </tr>\n",
              "  </tbody>\n",
              "</table>\n",
              "</div>"
            ],
            "text/plain": [
              "    year  revenue_mill\n",
              "0   2009    115.742000\n",
              "1   2012    110.103065\n",
              "2   2010    105.081579\n",
              "3   2008     97.525417\n",
              "4   2011     93.703333\n",
              "5   2007     93.074091\n",
              "6   2013     88.084643\n",
              "7   2006     87.255610\n",
              "8   2014     85.433656\n",
              "9   2015     80.725596\n",
              "10  2016     55.566111"
            ]
          },
          "metadata": {
            "tags": []
          },
          "execution_count": 44
        }
      ]
    },
    {
      "cell_type": "code",
      "metadata": {
        "id": "8EeQWlCpyCOV",
        "colab": {
          "base_uri": "https://localhost:8080/",
          "height": 373
        },
        "outputId": "8f493fb4-174e-4260-dfdc-4125ba006e5b"
      },
      "source": [
        "year_rev_count = pd. merge(left = year_count, right= year_rev, on = 'year') \n",
        "year_rev_count = pd.DataFrame(year_rev_count)\n",
        "year_rev_count"
      ],
      "execution_count": null,
      "outputs": [
        {
          "output_type": "execute_result",
          "data": {
            "text/html": [
              "<div>\n",
              "<style scoped>\n",
              "    .dataframe tbody tr th:only-of-type {\n",
              "        vertical-align: middle;\n",
              "    }\n",
              "\n",
              "    .dataframe tbody tr th {\n",
              "        vertical-align: top;\n",
              "    }\n",
              "\n",
              "    .dataframe thead th {\n",
              "        text-align: right;\n",
              "    }\n",
              "</style>\n",
              "<table border=\"1\" class=\"dataframe\">\n",
              "  <thead>\n",
              "    <tr style=\"text-align: right;\">\n",
              "      <th></th>\n",
              "      <th>year</th>\n",
              "      <th>movie_count</th>\n",
              "      <th>revenue_mill</th>\n",
              "    </tr>\n",
              "  </thead>\n",
              "  <tbody>\n",
              "    <tr>\n",
              "      <th>0</th>\n",
              "      <td>2016</td>\n",
              "      <td>198</td>\n",
              "      <td>55.566111</td>\n",
              "    </tr>\n",
              "    <tr>\n",
              "      <th>1</th>\n",
              "      <td>2015</td>\n",
              "      <td>109</td>\n",
              "      <td>80.725596</td>\n",
              "    </tr>\n",
              "    <tr>\n",
              "      <th>2</th>\n",
              "      <td>2014</td>\n",
              "      <td>93</td>\n",
              "      <td>85.433656</td>\n",
              "    </tr>\n",
              "    <tr>\n",
              "      <th>3</th>\n",
              "      <td>2013</td>\n",
              "      <td>84</td>\n",
              "      <td>88.084643</td>\n",
              "    </tr>\n",
              "    <tr>\n",
              "      <th>4</th>\n",
              "      <td>2012</td>\n",
              "      <td>62</td>\n",
              "      <td>110.103065</td>\n",
              "    </tr>\n",
              "    <tr>\n",
              "      <th>5</th>\n",
              "      <td>2011</td>\n",
              "      <td>57</td>\n",
              "      <td>93.703333</td>\n",
              "    </tr>\n",
              "    <tr>\n",
              "      <th>6</th>\n",
              "      <td>2010</td>\n",
              "      <td>57</td>\n",
              "      <td>105.081579</td>\n",
              "    </tr>\n",
              "    <tr>\n",
              "      <th>7</th>\n",
              "      <td>2008</td>\n",
              "      <td>48</td>\n",
              "      <td>97.525417</td>\n",
              "    </tr>\n",
              "    <tr>\n",
              "      <th>8</th>\n",
              "      <td>2009</td>\n",
              "      <td>45</td>\n",
              "      <td>115.742000</td>\n",
              "    </tr>\n",
              "    <tr>\n",
              "      <th>9</th>\n",
              "      <td>2007</td>\n",
              "      <td>44</td>\n",
              "      <td>93.074091</td>\n",
              "    </tr>\n",
              "    <tr>\n",
              "      <th>10</th>\n",
              "      <td>2006</td>\n",
              "      <td>41</td>\n",
              "      <td>87.255610</td>\n",
              "    </tr>\n",
              "  </tbody>\n",
              "</table>\n",
              "</div>"
            ],
            "text/plain": [
              "    year  movie_count  revenue_mill\n",
              "0   2016          198     55.566111\n",
              "1   2015          109     80.725596\n",
              "2   2014           93     85.433656\n",
              "3   2013           84     88.084643\n",
              "4   2012           62    110.103065\n",
              "5   2011           57     93.703333\n",
              "6   2010           57    105.081579\n",
              "7   2008           48     97.525417\n",
              "8   2009           45    115.742000\n",
              "9   2007           44     93.074091\n",
              "10  2006           41     87.255610"
            ]
          },
          "metadata": {
            "tags": []
          },
          "execution_count": 45
        }
      ]
    },
    {
      "cell_type": "code",
      "metadata": {
        "id": "8BlLxUjd5yEq",
        "colab": {
          "base_uri": "https://localhost:8080/",
          "height": 296
        },
        "outputId": "a8214847-c6ef-4cf6-a08b-b8562077c4d5"
      },
      "source": [
        "sns.lineplot(data = movies, x = 'year', y = 'revenue_mill')"
      ],
      "execution_count": null,
      "outputs": [
        {
          "output_type": "execute_result",
          "data": {
            "text/plain": [
              "<matplotlib.axes._subplots.AxesSubplot at 0x7f2d0ea15c88>"
            ]
          },
          "metadata": {
            "tags": []
          },
          "execution_count": 46
        },
        {
          "output_type": "display_data",
          "data": {
            "image/png": "[encoded data removed]",
            "text/plain": [
              "<Figure size 432x288 with 1 Axes>"
            ]
          },
          "metadata": {
            "tags": [],
            "needs_background": "light"
          }
        }
      ]
    },
    {
      "cell_type": "markdown",
      "metadata": {
        "id": "TNivO-oG2kT1"
      },
      "source": [
        "* This explains that, the average revenue was found to be high in the year 2009 followed by 2012, 2010.\n",
        "* Even though 2016 had more number of movies, the average revenue was found to be the least.\n",
        "* We infer that:\n",
        "  * Number of movies doesnt imply that we would have a greater revenue\n",
        "  * Public users are not satisfied even though number of released are high."
      ]
    },
    {
      "cell_type": "markdown",
      "metadata": {
        "id": "04BAipTPoXDQ"
      },
      "source": [
        "<a id=section70303></a>\n",
        "### 7.3.3 How rating varies over years? "
      ]
    },
    {
      "cell_type": "code",
      "metadata": {
        "id": "w5rtfeBx7Gde",
        "colab": {
          "base_uri": "https://localhost:8080/",
          "height": 373
        },
        "outputId": "367515ff-de91-4599-c893-60a5ce37799c"
      },
      "source": [
        "year_rate = pd.DataFrame(movies.groupby(['year'])['rating'].mean()).sort_values(by = 'rating', ascending = False)\n",
        "year_rate.reset_index(inplace = True)\n",
        "year_rate"
      ],
      "execution_count": null,
      "outputs": [
        {
          "output_type": "execute_result",
          "data": {
            "text/html": [
              "<div>\n",
              "<style scoped>\n",
              "    .dataframe tbody tr th:only-of-type {\n",
              "        vertical-align: middle;\n",
              "    }\n",
              "\n",
              "    .dataframe tbody tr th {\n",
              "        vertical-align: top;\n",
              "    }\n",
              "\n",
              "    .dataframe thead th {\n",
              "        text-align: right;\n",
              "    }\n",
              "</style>\n",
              "<table border=\"1\" class=\"dataframe\">\n",
              "  <thead>\n",
              "    <tr style=\"text-align: right;\">\n",
              "      <th></th>\n",
              "      <th>year</th>\n",
              "      <th>rating</th>\n",
              "    </tr>\n",
              "  </thead>\n",
              "  <tbody>\n",
              "    <tr>\n",
              "      <th>0</th>\n",
              "      <td>2006</td>\n",
              "      <td>7.143902</td>\n",
              "    </tr>\n",
              "    <tr>\n",
              "      <th>1</th>\n",
              "      <td>2007</td>\n",
              "      <td>7.140909</td>\n",
              "    </tr>\n",
              "    <tr>\n",
              "      <th>2</th>\n",
              "      <td>2011</td>\n",
              "      <td>6.945614</td>\n",
              "    </tr>\n",
              "    <tr>\n",
              "      <th>3</th>\n",
              "      <td>2012</td>\n",
              "      <td>6.933871</td>\n",
              "    </tr>\n",
              "    <tr>\n",
              "      <th>4</th>\n",
              "      <td>2009</td>\n",
              "      <td>6.911111</td>\n",
              "    </tr>\n",
              "    <tr>\n",
              "      <th>5</th>\n",
              "      <td>2010</td>\n",
              "      <td>6.894737</td>\n",
              "    </tr>\n",
              "    <tr>\n",
              "      <th>6</th>\n",
              "      <td>2013</td>\n",
              "      <td>6.832143</td>\n",
              "    </tr>\n",
              "    <tr>\n",
              "      <th>7</th>\n",
              "      <td>2014</td>\n",
              "      <td>6.822581</td>\n",
              "    </tr>\n",
              "    <tr>\n",
              "      <th>8</th>\n",
              "      <td>2008</td>\n",
              "      <td>6.708333</td>\n",
              "    </tr>\n",
              "    <tr>\n",
              "      <th>9</th>\n",
              "      <td>2015</td>\n",
              "      <td>6.674312</td>\n",
              "    </tr>\n",
              "    <tr>\n",
              "      <th>10</th>\n",
              "      <td>2016</td>\n",
              "      <td>6.644444</td>\n",
              "    </tr>\n",
              "  </tbody>\n",
              "</table>\n",
              "</div>"
            ],
            "text/plain": [
              "    year    rating\n",
              "0   2006  7.143902\n",
              "1   2007  7.140909\n",
              "2   2011  6.945614\n",
              "3   2012  6.933871\n",
              "4   2009  6.911111\n",
              "5   2010  6.894737\n",
              "6   2013  6.832143\n",
              "7   2014  6.822581\n",
              "8   2008  6.708333\n",
              "9   2015  6.674312\n",
              "10  2016  6.644444"
            ]
          },
          "metadata": {
            "tags": []
          },
          "execution_count": 47
        }
      ]
    },
    {
      "cell_type": "code",
      "metadata": {
        "id": "Za4kVmVO-Eeg",
        "colab": {
          "base_uri": "https://localhost:8080/",
          "height": 373
        },
        "outputId": "ba7db361-9b9e-4ebf-933f-428260799796"
      },
      "source": [
        "year_rate_count = pd.merge(left = year_rev_count, right = year_rate, on = 'year')\n",
        "year_rate_count.sort_values(by = 'revenue_mill', ascending = False)"
      ],
      "execution_count": null,
      "outputs": [
        {
          "output_type": "execute_result",
          "data": {
            "text/html": [
              "<div>\n",
              "<style scoped>\n",
              "    .dataframe tbody tr th:only-of-type {\n",
              "        vertical-align: middle;\n",
              "    }\n",
              "\n",
              "    .dataframe tbody tr th {\n",
              "        vertical-align: top;\n",
              "    }\n",
              "\n",
              "    .dataframe thead th {\n",
              "        text-align: right;\n",
              "    }\n",
              "</style>\n",
              "<table border=\"1\" class=\"dataframe\">\n",
              "  <thead>\n",
              "    <tr style=\"text-align: right;\">\n",
              "      <th></th>\n",
              "      <th>year</th>\n",
              "      <th>movie_count</th>\n",
              "      <th>revenue_mill</th>\n",
              "      <th>rating</th>\n",
              "    </tr>\n",
              "  </thead>\n",
              "  <tbody>\n",
              "    <tr>\n",
              "      <th>8</th>\n",
              "      <td>2009</td>\n",
              "      <td>45</td>\n",
              "      <td>115.742000</td>\n",
              "      <td>6.911111</td>\n",
              "    </tr>\n",
              "    <tr>\n",
              "      <th>4</th>\n",
              "      <td>2012</td>\n",
              "      <td>62</td>\n",
              "      <td>110.103065</td>\n",
              "      <td>6.933871</td>\n",
              "    </tr>\n",
              "    <tr>\n",
              "      <th>6</th>\n",
              "      <td>2010</td>\n",
              "      <td>57</td>\n",
              "      <td>105.081579</td>\n",
              "      <td>6.894737</td>\n",
              "    </tr>\n",
              "    <tr>\n",
              "      <th>7</th>\n",
              "      <td>2008</td>\n",
              "      <td>48</td>\n",
              "      <td>97.525417</td>\n",
              "      <td>6.708333</td>\n",
              "    </tr>\n",
              "    <tr>\n",
              "      <th>5</th>\n",
              "      <td>2011</td>\n",
              "      <td>57</td>\n",
              "      <td>93.703333</td>\n",
              "      <td>6.945614</td>\n",
              "    </tr>\n",
              "    <tr>\n",
              "      <th>9</th>\n",
              "      <td>2007</td>\n",
              "      <td>44</td>\n",
              "      <td>93.074091</td>\n",
              "      <td>7.140909</td>\n",
              "    </tr>\n",
              "    <tr>\n",
              "      <th>3</th>\n",
              "      <td>2013</td>\n",
              "      <td>84</td>\n",
              "      <td>88.084643</td>\n",
              "      <td>6.832143</td>\n",
              "    </tr>\n",
              "    <tr>\n",
              "      <th>10</th>\n",
              "      <td>2006</td>\n",
              "      <td>41</td>\n",
              "      <td>87.255610</td>\n",
              "      <td>7.143902</td>\n",
              "    </tr>\n",
              "    <tr>\n",
              "      <th>2</th>\n",
              "      <td>2014</td>\n",
              "      <td>93</td>\n",
              "      <td>85.433656</td>\n",
              "      <td>6.822581</td>\n",
              "    </tr>\n",
              "    <tr>\n",
              "      <th>1</th>\n",
              "      <td>2015</td>\n",
              "      <td>109</td>\n",
              "      <td>80.725596</td>\n",
              "      <td>6.674312</td>\n",
              "    </tr>\n",
              "    <tr>\n",
              "      <th>0</th>\n",
              "      <td>2016</td>\n",
              "      <td>198</td>\n",
              "      <td>55.566111</td>\n",
              "      <td>6.644444</td>\n",
              "    </tr>\n",
              "  </tbody>\n",
              "</table>\n",
              "</div>"
            ],
            "text/plain": [
              "    year  movie_count  revenue_mill    rating\n",
              "8   2009           45    115.742000  6.911111\n",
              "4   2012           62    110.103065  6.933871\n",
              "6   2010           57    105.081579  6.894737\n",
              "7   2008           48     97.525417  6.708333\n",
              "5   2011           57     93.703333  6.945614\n",
              "9   2007           44     93.074091  7.140909\n",
              "3   2013           84     88.084643  6.832143\n",
              "10  2006           41     87.255610  7.143902\n",
              "2   2014           93     85.433656  6.822581\n",
              "1   2015          109     80.725596  6.674312\n",
              "0   2016          198     55.566111  6.644444"
            ]
          },
          "metadata": {
            "tags": []
          },
          "execution_count": 48
        }
      ]
    },
    {
      "cell_type": "code",
      "metadata": {
        "id": "YkmxjwQo77gh",
        "colab": {
          "base_uri": "https://localhost:8080/",
          "height": 296
        },
        "outputId": "95bfd40a-3f08-41c7-9028-895c8ebc4d50"
      },
      "source": [
        "fig, ax = plt.subplots()\n",
        "sns.set(style=\"whitegrid\")\n",
        "sns.lineplot(data = movies, x='year', y = 'rating')"
      ],
      "execution_count": null,
      "outputs": [
        {
          "output_type": "execute_result",
          "data": {
            "text/plain": [
              "<matplotlib.axes._subplots.AxesSubplot at 0x7f2d0e949ef0>"
            ]
          },
          "metadata": {
            "tags": []
          },
          "execution_count": 49
        },
        {
          "output_type": "display_data",
          "data": {
            "image/png": "[encoded data removed]",
            "text/plain": [
              "<Figure size 432x288 with 1 Axes>"
            ]
          },
          "metadata": {
            "tags": [],
            "needs_background": "light"
          }
        }
      ]
    },
    {
      "cell_type": "markdown",
      "metadata": {
        "id": "ho69KWyUrij8"
      },
      "source": [
        "* This explains that, in 2006, 2007 we have had the maximum average rating and after which the rating has been decreasing every year. This infers that, even though more number of movies are released every year, the performance of the movie and the likeliness of the public users have decreased.\n",
        "* Lets see how the rating varies with revenue?"
      ]
    },
    {
      "cell_type": "code",
      "metadata": {
        "id": "j0sBeoQYtzVc",
        "colab": {
          "base_uri": "https://localhost:8080/",
          "height": 302
        },
        "outputId": "f92bc259-3d6c-4415-b94a-5b627d47756e"
      },
      "source": [
        "sns.regplot(data = movies, x = 'rating', y = 'revenue_mill')"
      ],
      "execution_count": null,
      "outputs": [
        {
          "output_type": "execute_result",
          "data": {
            "text/plain": [
              "<matplotlib.axes._subplots.AxesSubplot at 0x7f2d0e91f9b0>"
            ]
          },
          "metadata": {
            "tags": []
          },
          "execution_count": 50
        },
        {
          "output_type": "display_data",
          "data": {
            "image/png": "[encoded data removed]",
            "text/plain": [
              "<Figure size 432x288 with 1 Axes>"
            ]
          },
          "metadata": {
            "tags": []
          }
        }
      ]
    },
    {
      "cell_type": "markdown",
      "metadata": {
        "id": "n0bnDPcBt8KR"
      },
      "source": [
        "* This explains that, rating and revenue are positively correlated, Most of the movies rating are found between 5-8, and their respective revenue range between 1-200 but still the variation in revenue is relatively less for increase in rating."
      ]
    },
    {
      "cell_type": "markdown",
      "metadata": {
        "id": "3wgwWGiLjqhk"
      },
      "source": [
        "<a id=section70303></a>\n",
        "### 7.3.4 How user votes varies over years? "
      ]
    },
    {
      "cell_type": "code",
      "metadata": {
        "id": "4mrdpYbKpWjl",
        "colab": {
          "base_uri": "https://localhost:8080/",
          "height": 373
        },
        "outputId": "9b4edb45-3c93-4a97-9c79-851650dad801"
      },
      "source": [
        "year_vote = pd.DataFrame(movies.groupby(['year'])['votes'].mean()).sort_values(by = 'votes', ascending = False)\n",
        "year_vote.reset_index(inplace = True)\n",
        "year_vote"
      ],
      "execution_count": null,
      "outputs": [
        {
          "output_type": "execute_result",
          "data": {
            "text/html": [
              "<div>\n",
              "<style scoped>\n",
              "    .dataframe tbody tr th:only-of-type {\n",
              "        vertical-align: middle;\n",
              "    }\n",
              "\n",
              "    .dataframe tbody tr th {\n",
              "        vertical-align: top;\n",
              "    }\n",
              "\n",
              "    .dataframe thead th {\n",
              "        text-align: right;\n",
              "    }\n",
              "</style>\n",
              "<table border=\"1\" class=\"dataframe\">\n",
              "  <thead>\n",
              "    <tr style=\"text-align: right;\">\n",
              "      <th></th>\n",
              "      <th>year</th>\n",
              "      <th>votes</th>\n",
              "    </tr>\n",
              "  </thead>\n",
              "  <tbody>\n",
              "    <tr>\n",
              "      <th>0</th>\n",
              "      <td>2012</td>\n",
              "      <td>290861.483871</td>\n",
              "    </tr>\n",
              "    <tr>\n",
              "      <th>1</th>\n",
              "      <td>2006</td>\n",
              "      <td>277232.219512</td>\n",
              "    </tr>\n",
              "    <tr>\n",
              "      <th>2</th>\n",
              "      <td>2009</td>\n",
              "      <td>267180.577778</td>\n",
              "    </tr>\n",
              "    <tr>\n",
              "      <th>3</th>\n",
              "      <td>2008</td>\n",
              "      <td>266580.145833</td>\n",
              "    </tr>\n",
              "    <tr>\n",
              "      <th>4</th>\n",
              "      <td>2007</td>\n",
              "      <td>266530.704545</td>\n",
              "    </tr>\n",
              "    <tr>\n",
              "      <th>5</th>\n",
              "      <td>2010</td>\n",
              "      <td>261082.929825</td>\n",
              "    </tr>\n",
              "    <tr>\n",
              "      <th>6</th>\n",
              "      <td>2011</td>\n",
              "      <td>259254.736842</td>\n",
              "    </tr>\n",
              "    <tr>\n",
              "      <th>7</th>\n",
              "      <td>2013</td>\n",
              "      <td>225531.892857</td>\n",
              "    </tr>\n",
              "    <tr>\n",
              "      <th>8</th>\n",
              "      <td>2014</td>\n",
              "      <td>211926.881720</td>\n",
              "    </tr>\n",
              "    <tr>\n",
              "      <th>9</th>\n",
              "      <td>2015</td>\n",
              "      <td>129512.651376</td>\n",
              "    </tr>\n",
              "    <tr>\n",
              "      <th>10</th>\n",
              "      <td>2016</td>\n",
              "      <td>68437.823232</td>\n",
              "    </tr>\n",
              "  </tbody>\n",
              "</table>\n",
              "</div>"
            ],
            "text/plain": [
              "    year          votes\n",
              "0   2012  290861.483871\n",
              "1   2006  277232.219512\n",
              "2   2009  267180.577778\n",
              "3   2008  266580.145833\n",
              "4   2007  266530.704545\n",
              "5   2010  261082.929825\n",
              "6   2011  259254.736842\n",
              "7   2013  225531.892857\n",
              "8   2014  211926.881720\n",
              "9   2015  129512.651376\n",
              "10  2016   68437.823232"
            ]
          },
          "metadata": {
            "tags": []
          },
          "execution_count": 51
        }
      ]
    },
    {
      "cell_type": "code",
      "metadata": {
        "id": "7PHbNry6srvL",
        "colab": {
          "base_uri": "https://localhost:8080/",
          "height": 373
        },
        "outputId": "fb0d3fb7-4bae-44db-e137-d3053853a7bd"
      },
      "source": [
        "year_vote_count = pd.merge(left = year_rev_count, right = year_vote, on = 'year')\n",
        "year_vote_count.sort_values(by = 'votes', ascending = False)"
      ],
      "execution_count": null,
      "outputs": [
        {
          "output_type": "execute_result",
          "data": {
            "text/html": [
              "<div>\n",
              "<style scoped>\n",
              "    .dataframe tbody tr th:only-of-type {\n",
              "        vertical-align: middle;\n",
              "    }\n",
              "\n",
              "    .dataframe tbody tr th {\n",
              "        vertical-align: top;\n",
              "    }\n",
              "\n",
              "    .dataframe thead th {\n",
              "        text-align: right;\n",
              "    }\n",
              "</style>\n",
              "<table border=\"1\" class=\"dataframe\">\n",
              "  <thead>\n",
              "    <tr style=\"text-align: right;\">\n",
              "      <th></th>\n",
              "      <th>year</th>\n",
              "      <th>movie_count</th>\n",
              "      <th>revenue_mill</th>\n",
              "      <th>votes</th>\n",
              "    </tr>\n",
              "  </thead>\n",
              "  <tbody>\n",
              "    <tr>\n",
              "      <th>4</th>\n",
              "      <td>2012</td>\n",
              "      <td>62</td>\n",
              "      <td>110.103065</td>\n",
              "      <td>290861.483871</td>\n",
              "    </tr>\n",
              "    <tr>\n",
              "      <th>10</th>\n",
              "      <td>2006</td>\n",
              "      <td>41</td>\n",
              "      <td>87.255610</td>\n",
              "      <td>277232.219512</td>\n",
              "    </tr>\n",
              "    <tr>\n",
              "      <th>8</th>\n",
              "      <td>2009</td>\n",
              "      <td>45</td>\n",
              "      <td>115.742000</td>\n",
              "      <td>267180.577778</td>\n",
              "    </tr>\n",
              "    <tr>\n",
              "      <th>7</th>\n",
              "      <td>2008</td>\n",
              "      <td>48</td>\n",
              "      <td>97.525417</td>\n",
              "      <td>266580.145833</td>\n",
              "    </tr>\n",
              "    <tr>\n",
              "      <th>9</th>\n",
              "      <td>2007</td>\n",
              "      <td>44</td>\n",
              "      <td>93.074091</td>\n",
              "      <td>266530.704545</td>\n",
              "    </tr>\n",
              "    <tr>\n",
              "      <th>6</th>\n",
              "      <td>2010</td>\n",
              "      <td>57</td>\n",
              "      <td>105.081579</td>\n",
              "      <td>261082.929825</td>\n",
              "    </tr>\n",
              "    <tr>\n",
              "      <th>5</th>\n",
              "      <td>2011</td>\n",
              "      <td>57</td>\n",
              "      <td>93.703333</td>\n",
              "      <td>259254.736842</td>\n",
              "    </tr>\n",
              "    <tr>\n",
              "      <th>3</th>\n",
              "      <td>2013</td>\n",
              "      <td>84</td>\n",
              "      <td>88.084643</td>\n",
              "      <td>225531.892857</td>\n",
              "    </tr>\n",
              "    <tr>\n",
              "      <th>2</th>\n",
              "      <td>2014</td>\n",
              "      <td>93</td>\n",
              "      <td>85.433656</td>\n",
              "      <td>211926.881720</td>\n",
              "    </tr>\n",
              "    <tr>\n",
              "      <th>1</th>\n",
              "      <td>2015</td>\n",
              "      <td>109</td>\n",
              "      <td>80.725596</td>\n",
              "      <td>129512.651376</td>\n",
              "    </tr>\n",
              "    <tr>\n",
              "      <th>0</th>\n",
              "      <td>2016</td>\n",
              "      <td>198</td>\n",
              "      <td>55.566111</td>\n",
              "      <td>68437.823232</td>\n",
              "    </tr>\n",
              "  </tbody>\n",
              "</table>\n",
              "</div>"
            ],
            "text/plain": [
              "    year  movie_count  revenue_mill          votes\n",
              "4   2012           62    110.103065  290861.483871\n",
              "10  2006           41     87.255610  277232.219512\n",
              "8   2009           45    115.742000  267180.577778\n",
              "7   2008           48     97.525417  266580.145833\n",
              "9   2007           44     93.074091  266530.704545\n",
              "6   2010           57    105.081579  261082.929825\n",
              "5   2011           57     93.703333  259254.736842\n",
              "3   2013           84     88.084643  225531.892857\n",
              "2   2014           93     85.433656  211926.881720\n",
              "1   2015          109     80.725596  129512.651376\n",
              "0   2016          198     55.566111   68437.823232"
            ]
          },
          "metadata": {
            "tags": []
          },
          "execution_count": 52
        }
      ]
    },
    {
      "cell_type": "code",
      "metadata": {
        "id": "jif3DroFkhDB",
        "colab": {
          "base_uri": "https://localhost:8080/",
          "height": 302
        },
        "outputId": "14291bf0-7fd6-42c7-d405-1b47138694e1"
      },
      "source": [
        "fig, ax = plt.subplots()\n",
        "sns.set(style=\"whitegrid\")\n",
        "sns.lineplot(data = movies, x='year', y = 'votes')"
      ],
      "execution_count": null,
      "outputs": [
        {
          "output_type": "execute_result",
          "data": {
            "text/plain": [
              "<matplotlib.axes._subplots.AxesSubplot at 0x7f2d0e87bbe0>"
            ]
          },
          "metadata": {
            "tags": []
          },
          "execution_count": 53
        },
        {
          "output_type": "display_data",
          "data": {
            "image/png": "[encoded data removed]",
            "text/plain": [
              "<Figure size 432x288 with 1 Axes>"
            ]
          },
          "metadata": {
            "tags": []
          }
        }
      ]
    },
    {
      "cell_type": "markdown",
      "metadata": {
        "id": "4ATncoo0m3pj"
      },
      "source": [
        "* This explains that, from 2006-2012, the number of user votes were almost same, after the peak in 2012, the user votes have been decreasing over years. \n",
        "* We know that, every year more number of movies were released, but still people who are voting for a movie has highly decreased which means people are not satisfied with the performance. Mostly a user would not vote a movie if he/she did not like the movie.\n",
        "* Lets see if decrease in votes affect the revenue?"
      ]
    },
    {
      "cell_type": "code",
      "metadata": {
        "id": "BIX-OMfvpnxz",
        "colab": {
          "base_uri": "https://localhost:8080/",
          "height": 302
        },
        "outputId": "a050efb0-a106-468d-b10a-5de7d7dfbb00"
      },
      "source": [
        "sns.regplot(data = movies, x = 'votes', y = 'revenue_mill')"
      ],
      "execution_count": null,
      "outputs": [
        {
          "output_type": "execute_result",
          "data": {
            "text/plain": [
              "<matplotlib.axes._subplots.AxesSubplot at 0x7f2d0e84c780>"
            ]
          },
          "metadata": {
            "tags": []
          },
          "execution_count": 54
        },
        {
          "output_type": "display_data",
          "data": {
            "image/png": "[encoded data removed]",
            "text/plain": [
              "<Figure size 432x288 with 1 Axes>"
            ]
          },
          "metadata": {
            "tags": []
          }
        }
      ]
    },
    {
      "cell_type": "markdown",
      "metadata": {
        "id": "gT_rAVDMmSe5"
      },
      "source": [
        "* This explains that, **User Votes** and **Revenue** are highly correlated. Movies with high number of user votes have actually performed well and fetched more revenue.\n",
        "\n"
      ]
    },
    {
      "cell_type": "markdown",
      "metadata": {
        "id": "jxxmelWP1o5T"
      },
      "source": [
        "<a id=section70305></a>\n",
        "### 7.3.5 Metascore variation over years? \n"
      ]
    },
    {
      "cell_type": "code",
      "metadata": {
        "id": "otBRA9Nh13eG",
        "colab": {
          "base_uri": "https://localhost:8080/",
          "height": 373
        },
        "outputId": "1d53c6dd-afed-4854-a4e0-484035a3a556"
      },
      "source": [
        "year_ms = pd.DataFrame(movies.groupby(['year'])['metascore'].mean()).sort_values(by = 'metascore', ascending = False)\n",
        "year_ms.reset_index(inplace = True)\n",
        "year_ms"
      ],
      "execution_count": null,
      "outputs": [
        {
          "output_type": "execute_result",
          "data": {
            "text/html": [
              "<div>\n",
              "<style scoped>\n",
              "    .dataframe tbody tr th:only-of-type {\n",
              "        vertical-align: middle;\n",
              "    }\n",
              "\n",
              "    .dataframe tbody tr th {\n",
              "        vertical-align: top;\n",
              "    }\n",
              "\n",
              "    .dataframe thead th {\n",
              "        text-align: right;\n",
              "    }\n",
              "</style>\n",
              "<table border=\"1\" class=\"dataframe\">\n",
              "  <thead>\n",
              "    <tr style=\"text-align: right;\">\n",
              "      <th></th>\n",
              "      <th>year</th>\n",
              "      <th>metascore</th>\n",
              "    </tr>\n",
              "  </thead>\n",
              "  <tbody>\n",
              "    <tr>\n",
              "      <th>0</th>\n",
              "      <td>2007</td>\n",
              "      <td>65.522727</td>\n",
              "    </tr>\n",
              "    <tr>\n",
              "      <th>1</th>\n",
              "      <td>2006</td>\n",
              "      <td>64.414634</td>\n",
              "    </tr>\n",
              "    <tr>\n",
              "      <th>2</th>\n",
              "      <td>2011</td>\n",
              "      <td>61.157895</td>\n",
              "    </tr>\n",
              "    <tr>\n",
              "      <th>3</th>\n",
              "      <td>2012</td>\n",
              "      <td>61.145161</td>\n",
              "    </tr>\n",
              "    <tr>\n",
              "      <th>4</th>\n",
              "      <td>2010</td>\n",
              "      <td>60.157895</td>\n",
              "    </tr>\n",
              "    <tr>\n",
              "      <th>5</th>\n",
              "      <td>2016</td>\n",
              "      <td>59.181818</td>\n",
              "    </tr>\n",
              "    <tr>\n",
              "      <th>6</th>\n",
              "      <td>2013</td>\n",
              "      <td>58.845238</td>\n",
              "    </tr>\n",
              "    <tr>\n",
              "      <th>7</th>\n",
              "      <td>2015</td>\n",
              "      <td>58.651376</td>\n",
              "    </tr>\n",
              "    <tr>\n",
              "      <th>8</th>\n",
              "      <td>2014</td>\n",
              "      <td>57.569892</td>\n",
              "    </tr>\n",
              "    <tr>\n",
              "      <th>9</th>\n",
              "      <td>2009</td>\n",
              "      <td>56.933333</td>\n",
              "    </tr>\n",
              "    <tr>\n",
              "      <th>10</th>\n",
              "      <td>2008</td>\n",
              "      <td>56.750000</td>\n",
              "    </tr>\n",
              "  </tbody>\n",
              "</table>\n",
              "</div>"
            ],
            "text/plain": [
              "    year  metascore\n",
              "0   2007  65.522727\n",
              "1   2006  64.414634\n",
              "2   2011  61.157895\n",
              "3   2012  61.145161\n",
              "4   2010  60.157895\n",
              "5   2016  59.181818\n",
              "6   2013  58.845238\n",
              "7   2015  58.651376\n",
              "8   2014  57.569892\n",
              "9   2009  56.933333\n",
              "10  2008  56.750000"
            ]
          },
          "metadata": {
            "tags": []
          },
          "execution_count": 55
        }
      ]
    },
    {
      "cell_type": "code",
      "metadata": {
        "id": "xFB3mfF34LHq",
        "colab": {
          "base_uri": "https://localhost:8080/",
          "height": 373
        },
        "outputId": "07be5c03-f286-478a-8b6c-9bbc299e10ab"
      },
      "source": [
        "year_ms_count = pd.merge(left = year_rev_count, right = year_ms, on = 'year')\n",
        "year_ms_count.sort_values(by = 'metascore', ascending = False)"
      ],
      "execution_count": null,
      "outputs": [
        {
          "output_type": "execute_result",
          "data": {
            "text/html": [
              "<div>\n",
              "<style scoped>\n",
              "    .dataframe tbody tr th:only-of-type {\n",
              "        vertical-align: middle;\n",
              "    }\n",
              "\n",
              "    .dataframe tbody tr th {\n",
              "        vertical-align: top;\n",
              "    }\n",
              "\n",
              "    .dataframe thead th {\n",
              "        text-align: right;\n",
              "    }\n",
              "</style>\n",
              "<table border=\"1\" class=\"dataframe\">\n",
              "  <thead>\n",
              "    <tr style=\"text-align: right;\">\n",
              "      <th></th>\n",
              "      <th>year</th>\n",
              "      <th>movie_count</th>\n",
              "      <th>revenue_mill</th>\n",
              "      <th>metascore</th>\n",
              "    </tr>\n",
              "  </thead>\n",
              "  <tbody>\n",
              "    <tr>\n",
              "      <th>9</th>\n",
              "      <td>2007</td>\n",
              "      <td>44</td>\n",
              "      <td>93.074091</td>\n",
              "      <td>65.522727</td>\n",
              "    </tr>\n",
              "    <tr>\n",
              "      <th>10</th>\n",
              "      <td>2006</td>\n",
              "      <td>41</td>\n",
              "      <td>87.255610</td>\n",
              "      <td>64.414634</td>\n",
              "    </tr>\n",
              "    <tr>\n",
              "      <th>5</th>\n",
              "      <td>2011</td>\n",
              "      <td>57</td>\n",
              "      <td>93.703333</td>\n",
              "      <td>61.157895</td>\n",
              "    </tr>\n",
              "    <tr>\n",
              "      <th>4</th>\n",
              "      <td>2012</td>\n",
              "      <td>62</td>\n",
              "      <td>110.103065</td>\n",
              "      <td>61.145161</td>\n",
              "    </tr>\n",
              "    <tr>\n",
              "      <th>6</th>\n",
              "      <td>2010</td>\n",
              "      <td>57</td>\n",
              "      <td>105.081579</td>\n",
              "      <td>60.157895</td>\n",
              "    </tr>\n",
              "    <tr>\n",
              "      <th>0</th>\n",
              "      <td>2016</td>\n",
              "      <td>198</td>\n",
              "      <td>55.566111</td>\n",
              "      <td>59.181818</td>\n",
              "    </tr>\n",
              "    <tr>\n",
              "      <th>3</th>\n",
              "      <td>2013</td>\n",
              "      <td>84</td>\n",
              "      <td>88.084643</td>\n",
              "      <td>58.845238</td>\n",
              "    </tr>\n",
              "    <tr>\n",
              "      <th>1</th>\n",
              "      <td>2015</td>\n",
              "      <td>109</td>\n",
              "      <td>80.725596</td>\n",
              "      <td>58.651376</td>\n",
              "    </tr>\n",
              "    <tr>\n",
              "      <th>2</th>\n",
              "      <td>2014</td>\n",
              "      <td>93</td>\n",
              "      <td>85.433656</td>\n",
              "      <td>57.569892</td>\n",
              "    </tr>\n",
              "    <tr>\n",
              "      <th>8</th>\n",
              "      <td>2009</td>\n",
              "      <td>45</td>\n",
              "      <td>115.742000</td>\n",
              "      <td>56.933333</td>\n",
              "    </tr>\n",
              "    <tr>\n",
              "      <th>7</th>\n",
              "      <td>2008</td>\n",
              "      <td>48</td>\n",
              "      <td>97.525417</td>\n",
              "      <td>56.750000</td>\n",
              "    </tr>\n",
              "  </tbody>\n",
              "</table>\n",
              "</div>"
            ],
            "text/plain": [
              "    year  movie_count  revenue_mill  metascore\n",
              "9   2007           44     93.074091  65.522727\n",
              "10  2006           41     87.255610  64.414634\n",
              "5   2011           57     93.703333  61.157895\n",
              "4   2012           62    110.103065  61.145161\n",
              "6   2010           57    105.081579  60.157895\n",
              "0   2016          198     55.566111  59.181818\n",
              "3   2013           84     88.084643  58.845238\n",
              "1   2015          109     80.725596  58.651376\n",
              "2   2014           93     85.433656  57.569892\n",
              "8   2009           45    115.742000  56.933333\n",
              "7   2008           48     97.525417  56.750000"
            ]
          },
          "metadata": {
            "tags": []
          },
          "execution_count": 56
        }
      ]
    },
    {
      "cell_type": "code",
      "metadata": {
        "id": "LKIC2IJht0o0",
        "colab": {
          "base_uri": "https://localhost:8080/",
          "height": 302
        },
        "outputId": "ad9b060f-3127-467f-c58e-8981b6cbf1f8"
      },
      "source": [
        "fig, ax = plt.subplots()\n",
        "sns.set(style=\"whitegrid\")\n",
        "sns.lineplot(data = movies, x='year', y = 'metascore')"
      ],
      "execution_count": null,
      "outputs": [
        {
          "output_type": "execute_result",
          "data": {
            "text/plain": [
              "<matplotlib.axes._subplots.AxesSubplot at 0x7f2d0e775320>"
            ]
          },
          "metadata": {
            "tags": []
          },
          "execution_count": 57
        },
        {
          "output_type": "display_data",
          "data": {
            "image/png": "[encoded data removed]",
            "text/plain": [
              "<Figure size 432x288 with 1 Axes>"
            ]
          },
          "metadata": {
            "tags": []
          }
        }
      ]
    },
    {
      "cell_type": "markdown",
      "metadata": {
        "id": "Ssh-iXD2LYwF"
      },
      "source": [
        "* This explains that **Metascore** values have been varying between 55-65 score and is found to be varying very less over years. \n",
        "* Lets see how metascore affects revenue?"
      ]
    },
    {
      "cell_type": "code",
      "metadata": {
        "id": "mSJ6W-5tuS0z",
        "colab": {
          "base_uri": "https://localhost:8080/",
          "height": 302
        },
        "outputId": "1d609b80-6539-4dbe-cd8f-5558dc2b97df"
      },
      "source": [
        "sns.regplot(data = movies, x = 'metascore', y = 'revenue_mill')"
      ],
      "execution_count": null,
      "outputs": [
        {
          "output_type": "execute_result",
          "data": {
            "text/plain": [
              "<matplotlib.axes._subplots.AxesSubplot at 0x7f2d0e7a7400>"
            ]
          },
          "metadata": {
            "tags": []
          },
          "execution_count": 58
        },
        {
          "output_type": "display_data",
          "data": {
            "image/png": "[encoded data removed]",
            "text/plain": [
              "<Figure size 432x288 with 1 Axes>"
            ]
          },
          "metadata": {
            "tags": []
          }
        }
      ]
    },
    {
      "cell_type": "markdown",
      "metadata": {
        "id": "r0xBsEg65I3S"
      },
      "source": [
        "* This explains that, variation in revenue is positive and very minimal with increase in metascore. \n",
        "* Mostly for a metascore ranging between 30-80, the revenue is found between range of 1- 200 million dollars.\n",
        "* Its evident that, metascore doesnt change much of revenue value of a movie.\n",
        "* Lets now see how the rating and metascore varies with eachother?"
      ]
    },
    {
      "cell_type": "code",
      "metadata": {
        "id": "jj2zRcpN1_jw",
        "colab": {
          "base_uri": "https://localhost:8080/",
          "height": 302
        },
        "outputId": "9071a701-f196-4905-e5c4-676ae77270c9"
      },
      "source": [
        "sns.regplot(data = movies, x = 'rating', y = 'metascore')"
      ],
      "execution_count": null,
      "outputs": [
        {
          "output_type": "execute_result",
          "data": {
            "text/plain": [
              "<matplotlib.axes._subplots.AxesSubplot at 0x7f2d0e89c940>"
            ]
          },
          "metadata": {
            "tags": []
          },
          "execution_count": 59
        },
        {
          "output_type": "display_data",
          "data": {
            "image/png": "[encoded data removed]",
            "text/plain": [
              "<Figure size 432x288 with 1 Axes>"
            ]
          },
          "metadata": {
            "tags": []
          }
        }
      ]
    },
    {
      "cell_type": "markdown",
      "metadata": {
        "id": "J9sZRsTO2Z63"
      },
      "source": [
        "This explains that, increase in user rating for a movie also has increase in critic scores"
      ]
    },
    {
      "cell_type": "markdown",
      "metadata": {
        "id": "w1E_ESQMMuHs"
      },
      "source": [
        "<a id=section704></a>\n",
        "### 7.4 Genre Based Analysis"
      ]
    },
    {
      "cell_type": "markdown",
      "metadata": {
        "id": "x5NqPGqU_7sg"
      },
      "source": [
        "<a id=section70401></a>\n",
        "### 7.4.1 How many movies under each genre?"
      ]
    },
    {
      "cell_type": "code",
      "metadata": {
        "id": "S6SEZgOyM-PT",
        "colab": {
          "base_uri": "https://localhost:8080/",
          "height": 639
        },
        "outputId": "a2eb0229-c81d-4161-a17c-5da6f7c7c5e5"
      },
      "source": [
        "movie_genre_count = pd.DataFrame(movies_genre.groupby('genre')['title'].count().sort_values(ascending = False))\n",
        "movie_genre_count.rename(columns = {'title': 'movie_count'}, inplace = True)\n",
        "movie_genre_count.reset_index(inplace=True)\n",
        "movie_genre_count"
      ],
      "execution_count": null,
      "outputs": [
        {
          "output_type": "execute_result",
          "data": {
            "text/html": [
              "<div>\n",
              "<style scoped>\n",
              "    .dataframe tbody tr th:only-of-type {\n",
              "        vertical-align: middle;\n",
              "    }\n",
              "\n",
              "    .dataframe tbody tr th {\n",
              "        vertical-align: top;\n",
              "    }\n",
              "\n",
              "    .dataframe thead th {\n",
              "        text-align: right;\n",
              "    }\n",
              "</style>\n",
              "<table border=\"1\" class=\"dataframe\">\n",
              "  <thead>\n",
              "    <tr style=\"text-align: right;\">\n",
              "      <th></th>\n",
              "      <th>genre</th>\n",
              "      <th>movie_count</th>\n",
              "    </tr>\n",
              "  </thead>\n",
              "  <tbody>\n",
              "    <tr>\n",
              "      <th>0</th>\n",
              "      <td>Drama</td>\n",
              "      <td>419</td>\n",
              "    </tr>\n",
              "    <tr>\n",
              "      <th>1</th>\n",
              "      <td>Action</td>\n",
              "      <td>277</td>\n",
              "    </tr>\n",
              "    <tr>\n",
              "      <th>2</th>\n",
              "      <td>Comedy</td>\n",
              "      <td>250</td>\n",
              "    </tr>\n",
              "    <tr>\n",
              "      <th>3</th>\n",
              "      <td>Adventure</td>\n",
              "      <td>244</td>\n",
              "    </tr>\n",
              "    <tr>\n",
              "      <th>4</th>\n",
              "      <td>Thriller</td>\n",
              "      <td>148</td>\n",
              "    </tr>\n",
              "    <tr>\n",
              "      <th>5</th>\n",
              "      <td>Crime</td>\n",
              "      <td>126</td>\n",
              "    </tr>\n",
              "    <tr>\n",
              "      <th>6</th>\n",
              "      <td>Romance</td>\n",
              "      <td>120</td>\n",
              "    </tr>\n",
              "    <tr>\n",
              "      <th>7</th>\n",
              "      <td>Sci-Fi</td>\n",
              "      <td>107</td>\n",
              "    </tr>\n",
              "    <tr>\n",
              "      <th>8</th>\n",
              "      <td>Fantasy</td>\n",
              "      <td>92</td>\n",
              "    </tr>\n",
              "    <tr>\n",
              "      <th>9</th>\n",
              "      <td>Horror</td>\n",
              "      <td>87</td>\n",
              "    </tr>\n",
              "    <tr>\n",
              "      <th>10</th>\n",
              "      <td>Mystery</td>\n",
              "      <td>86</td>\n",
              "    </tr>\n",
              "    <tr>\n",
              "      <th>11</th>\n",
              "      <td>Biography</td>\n",
              "      <td>67</td>\n",
              "    </tr>\n",
              "    <tr>\n",
              "      <th>12</th>\n",
              "      <td>Family</td>\n",
              "      <td>48</td>\n",
              "    </tr>\n",
              "    <tr>\n",
              "      <th>13</th>\n",
              "      <td>Animation</td>\n",
              "      <td>45</td>\n",
              "    </tr>\n",
              "    <tr>\n",
              "      <th>14</th>\n",
              "      <td>History</td>\n",
              "      <td>25</td>\n",
              "    </tr>\n",
              "    <tr>\n",
              "      <th>15</th>\n",
              "      <td>Music</td>\n",
              "      <td>15</td>\n",
              "    </tr>\n",
              "    <tr>\n",
              "      <th>16</th>\n",
              "      <td>Sport</td>\n",
              "      <td>15</td>\n",
              "    </tr>\n",
              "    <tr>\n",
              "      <th>17</th>\n",
              "      <td>War</td>\n",
              "      <td>10</td>\n",
              "    </tr>\n",
              "    <tr>\n",
              "      <th>18</th>\n",
              "      <td>Musical</td>\n",
              "      <td>5</td>\n",
              "    </tr>\n",
              "    <tr>\n",
              "      <th>19</th>\n",
              "      <td>Western</td>\n",
              "      <td>4</td>\n",
              "    </tr>\n",
              "  </tbody>\n",
              "</table>\n",
              "</div>"
            ],
            "text/plain": [
              "        genre  movie_count\n",
              "0       Drama          419\n",
              "1      Action          277\n",
              "2      Comedy          250\n",
              "3   Adventure          244\n",
              "4    Thriller          148\n",
              "5       Crime          126\n",
              "6     Romance          120\n",
              "7      Sci-Fi          107\n",
              "8     Fantasy           92\n",
              "9      Horror           87\n",
              "10    Mystery           86\n",
              "11  Biography           67\n",
              "12     Family           48\n",
              "13  Animation           45\n",
              "14    History           25\n",
              "15      Music           15\n",
              "16      Sport           15\n",
              "17        War           10\n",
              "18    Musical            5\n",
              "19    Western            4"
            ]
          },
          "metadata": {
            "tags": []
          },
          "execution_count": 60
        }
      ]
    },
    {
      "cell_type": "code",
      "metadata": {
        "id": "cyKAdef8SnND",
        "colab": {
          "base_uri": "https://localhost:8080/",
          "height": 302
        },
        "outputId": "4a4b0a01-448d-4ede-f22c-986397f46052"
      },
      "source": [
        "sns.barplot(data = movie_genre_count, y = 'genre', x = 'movie_count')"
      ],
      "execution_count": null,
      "outputs": [
        {
          "output_type": "execute_result",
          "data": {
            "text/plain": [
              "<matplotlib.axes._subplots.AxesSubplot at 0x7f2d0e71b978>"
            ]
          },
          "metadata": {
            "tags": []
          },
          "execution_count": 61
        },
        {
          "output_type": "display_data",
          "data": {
            "image/png": "[encoded data removed]",
            "text/plain": [
              "<Figure size 432x288 with 1 Axes>"
            ]
          },
          "metadata": {
            "tags": []
          }
        }
      ]
    },
    {
      "cell_type": "markdown",
      "metadata": {
        "id": "F_ftyzhLYd1D"
      },
      "source": [
        "This explains that **Drama**, **Action**, **Comedy** and **Adventure** are the top 4 genre's over years."
      ]
    },
    {
      "cell_type": "markdown",
      "metadata": {
        "id": "QZGLncrhXuWE"
      },
      "source": [
        "<a id=section70402></a>\n",
        "### 7.4.2 How revenue varies for various genre's?"
      ]
    },
    {
      "cell_type": "code",
      "metadata": {
        "id": "El4hXq83XrgZ",
        "colab": {
          "base_uri": "https://localhost:8080/",
          "height": 639
        },
        "outputId": "2a2a091a-fe49-488d-cd0c-5659977d8975"
      },
      "source": [
        "movie_genre_rev = pd.DataFrame((movies_genre.groupby('genre')['revenue_mill'].mean()).sort_values(ascending = False))\n",
        "movie_genre_rev.reset_index(inplace=True)\n",
        "movie_genre_rev"
      ],
      "execution_count": null,
      "outputs": [
        {
          "output_type": "execute_result",
          "data": {
            "text/html": [
              "<div>\n",
              "<style scoped>\n",
              "    .dataframe tbody tr th:only-of-type {\n",
              "        vertical-align: middle;\n",
              "    }\n",
              "\n",
              "    .dataframe tbody tr th {\n",
              "        vertical-align: top;\n",
              "    }\n",
              "\n",
              "    .dataframe thead th {\n",
              "        text-align: right;\n",
              "    }\n",
              "</style>\n",
              "<table border=\"1\" class=\"dataframe\">\n",
              "  <thead>\n",
              "    <tr style=\"text-align: right;\">\n",
              "      <th></th>\n",
              "      <th>genre</th>\n",
              "      <th>revenue_mill</th>\n",
              "    </tr>\n",
              "  </thead>\n",
              "  <tbody>\n",
              "    <tr>\n",
              "      <th>0</th>\n",
              "      <td>Animation</td>\n",
              "      <td>192.359556</td>\n",
              "    </tr>\n",
              "    <tr>\n",
              "      <th>1</th>\n",
              "      <td>Adventure</td>\n",
              "      <td>157.160041</td>\n",
              "    </tr>\n",
              "    <tr>\n",
              "      <th>2</th>\n",
              "      <td>Sci-Fi</td>\n",
              "      <td>137.454860</td>\n",
              "    </tr>\n",
              "    <tr>\n",
              "      <th>3</th>\n",
              "      <td>Fantasy</td>\n",
              "      <td>133.052065</td>\n",
              "    </tr>\n",
              "    <tr>\n",
              "      <th>4</th>\n",
              "      <td>Action</td>\n",
              "      <td>127.089928</td>\n",
              "    </tr>\n",
              "    <tr>\n",
              "      <th>5</th>\n",
              "      <td>Family</td>\n",
              "      <td>124.141667</td>\n",
              "    </tr>\n",
              "    <tr>\n",
              "      <th>6</th>\n",
              "      <td>Western</td>\n",
              "      <td>117.457500</td>\n",
              "    </tr>\n",
              "    <tr>\n",
              "      <th>7</th>\n",
              "      <td>Musical</td>\n",
              "      <td>81.642000</td>\n",
              "    </tr>\n",
              "    <tr>\n",
              "      <th>8</th>\n",
              "      <td>Comedy</td>\n",
              "      <td>76.952520</td>\n",
              "    </tr>\n",
              "    <tr>\n",
              "      <th>9</th>\n",
              "      <td>Thriller</td>\n",
              "      <td>70.749324</td>\n",
              "    </tr>\n",
              "    <tr>\n",
              "      <th>10</th>\n",
              "      <td>Sport</td>\n",
              "      <td>67.076667</td>\n",
              "    </tr>\n",
              "    <tr>\n",
              "      <th>11</th>\n",
              "      <td>Crime</td>\n",
              "      <td>63.675079</td>\n",
              "    </tr>\n",
              "    <tr>\n",
              "      <th>12</th>\n",
              "      <td>Biography</td>\n",
              "      <td>59.034030</td>\n",
              "    </tr>\n",
              "    <tr>\n",
              "      <th>13</th>\n",
              "      <td>Mystery</td>\n",
              "      <td>54.464070</td>\n",
              "    </tr>\n",
              "    <tr>\n",
              "      <th>14</th>\n",
              "      <td>War</td>\n",
              "      <td>53.433000</td>\n",
              "    </tr>\n",
              "    <tr>\n",
              "      <th>15</th>\n",
              "      <td>History</td>\n",
              "      <td>52.958000</td>\n",
              "    </tr>\n",
              "    <tr>\n",
              "      <th>16</th>\n",
              "      <td>Drama</td>\n",
              "      <td>50.724010</td>\n",
              "    </tr>\n",
              "    <tr>\n",
              "      <th>17</th>\n",
              "      <td>Music</td>\n",
              "      <td>47.070000</td>\n",
              "    </tr>\n",
              "    <tr>\n",
              "      <th>18</th>\n",
              "      <td>Romance</td>\n",
              "      <td>42.947583</td>\n",
              "    </tr>\n",
              "    <tr>\n",
              "      <th>19</th>\n",
              "      <td>Horror</td>\n",
              "      <td>37.406897</td>\n",
              "    </tr>\n",
              "  </tbody>\n",
              "</table>\n",
              "</div>"
            ],
            "text/plain": [
              "        genre  revenue_mill\n",
              "0   Animation    192.359556\n",
              "1   Adventure    157.160041\n",
              "2      Sci-Fi    137.454860\n",
              "3     Fantasy    133.052065\n",
              "4      Action    127.089928\n",
              "5      Family    124.141667\n",
              "6     Western    117.457500\n",
              "7     Musical     81.642000\n",
              "8      Comedy     76.952520\n",
              "9    Thriller     70.749324\n",
              "10      Sport     67.076667\n",
              "11      Crime     63.675079\n",
              "12  Biography     59.034030\n",
              "13    Mystery     54.464070\n",
              "14        War     53.433000\n",
              "15    History     52.958000\n",
              "16      Drama     50.724010\n",
              "17      Music     47.070000\n",
              "18    Romance     42.947583\n",
              "19     Horror     37.406897"
            ]
          },
          "metadata": {
            "tags": []
          },
          "execution_count": 62
        }
      ]
    },
    {
      "cell_type": "code",
      "metadata": {
        "id": "Jqf0G5_BZbeD",
        "colab": {
          "base_uri": "https://localhost:8080/",
          "height": 302
        },
        "outputId": "40075879-f23b-4c8e-f443-1fd08c5cab2c"
      },
      "source": [
        "sns.barplot(data = movie_genre_rev, y = 'genre', x = 'revenue_mill')"
      ],
      "execution_count": null,
      "outputs": [
        {
          "output_type": "execute_result",
          "data": {
            "text/plain": [
              "<matplotlib.axes._subplots.AxesSubplot at 0x7f2d0e589400>"
            ]
          },
          "metadata": {
            "tags": []
          },
          "execution_count": 63
        },
        {
          "output_type": "display_data",
          "data": {
            "image/png": "[encoded data removed]",
            "text/plain": [
              "<Figure size 432x288 with 1 Axes>"
            ]
          },
          "metadata": {
            "tags": []
          }
        }
      ]
    },
    {
      "cell_type": "markdown",
      "metadata": {
        "id": "2QmH9IMfF4mj"
      },
      "source": [
        "This explains that **Animation**, **Adventure**,**Sci Fi** and **Fantasy** are the top 4 genre's that have produced high revenue's in the media industry."
      ]
    },
    {
      "cell_type": "code",
      "metadata": {
        "id": "uqrA2Afdcw_e",
        "colab": {
          "base_uri": "https://localhost:8080/",
          "height": 639
        },
        "outputId": "966e0158-da43-4328-8d62-0a8818e8f30a"
      },
      "source": [
        "movie_gcr = pd. merge(left = movie_genre_count, right = movie_genre_rev, on = 'genre').sort_values(by = 'revenue_mill', ascending = False)\n",
        "movie_gcr.reset_index(inplace = True)\n",
        "movie_gcr"
      ],
      "execution_count": null,
      "outputs": [
        {
          "output_type": "execute_result",
          "data": {
            "text/html": [
              "<div>\n",
              "<style scoped>\n",
              "    .dataframe tbody tr th:only-of-type {\n",
              "        vertical-align: middle;\n",
              "    }\n",
              "\n",
              "    .dataframe tbody tr th {\n",
              "        vertical-align: top;\n",
              "    }\n",
              "\n",
              "    .dataframe thead th {\n",
              "        text-align: right;\n",
              "    }\n",
              "</style>\n",
              "<table border=\"1\" class=\"dataframe\">\n",
              "  <thead>\n",
              "    <tr style=\"text-align: right;\">\n",
              "      <th></th>\n",
              "      <th>index</th>\n",
              "      <th>genre</th>\n",
              "      <th>movie_count</th>\n",
              "      <th>revenue_mill</th>\n",
              "    </tr>\n",
              "  </thead>\n",
              "  <tbody>\n",
              "    <tr>\n",
              "      <th>0</th>\n",
              "      <td>13</td>\n",
              "      <td>Animation</td>\n",
              "      <td>45</td>\n",
              "      <td>192.359556</td>\n",
              "    </tr>\n",
              "    <tr>\n",
              "      <th>1</th>\n",
              "      <td>3</td>\n",
              "      <td>Adventure</td>\n",
              "      <td>244</td>\n",
              "      <td>157.160041</td>\n",
              "    </tr>\n",
              "    <tr>\n",
              "      <th>2</th>\n",
              "      <td>7</td>\n",
              "      <td>Sci-Fi</td>\n",
              "      <td>107</td>\n",
              "      <td>137.454860</td>\n",
              "    </tr>\n",
              "    <tr>\n",
              "      <th>3</th>\n",
              "      <td>8</td>\n",
              "      <td>Fantasy</td>\n",
              "      <td>92</td>\n",
              "      <td>133.052065</td>\n",
              "    </tr>\n",
              "    <tr>\n",
              "      <th>4</th>\n",
              "      <td>1</td>\n",
              "      <td>Action</td>\n",
              "      <td>277</td>\n",
              "      <td>127.089928</td>\n",
              "    </tr>\n",
              "    <tr>\n",
              "      <th>5</th>\n",
              "      <td>12</td>\n",
              "      <td>Family</td>\n",
              "      <td>48</td>\n",
              "      <td>124.141667</td>\n",
              "    </tr>\n",
              "    <tr>\n",
              "      <th>6</th>\n",
              "      <td>19</td>\n",
              "      <td>Western</td>\n",
              "      <td>4</td>\n",
              "      <td>117.457500</td>\n",
              "    </tr>\n",
              "    <tr>\n",
              "      <th>7</th>\n",
              "      <td>18</td>\n",
              "      <td>Musical</td>\n",
              "      <td>5</td>\n",
              "      <td>81.642000</td>\n",
              "    </tr>\n",
              "    <tr>\n",
              "      <th>8</th>\n",
              "      <td>2</td>\n",
              "      <td>Comedy</td>\n",
              "      <td>250</td>\n",
              "      <td>76.952520</td>\n",
              "    </tr>\n",
              "    <tr>\n",
              "      <th>9</th>\n",
              "      <td>4</td>\n",
              "      <td>Thriller</td>\n",
              "      <td>148</td>\n",
              "      <td>70.749324</td>\n",
              "    </tr>\n",
              "    <tr>\n",
              "      <th>10</th>\n",
              "      <td>16</td>\n",
              "      <td>Sport</td>\n",
              "      <td>15</td>\n",
              "      <td>67.076667</td>\n",
              "    </tr>\n",
              "    <tr>\n",
              "      <th>11</th>\n",
              "      <td>5</td>\n",
              "      <td>Crime</td>\n",
              "      <td>126</td>\n",
              "      <td>63.675079</td>\n",
              "    </tr>\n",
              "    <tr>\n",
              "      <th>12</th>\n",
              "      <td>11</td>\n",
              "      <td>Biography</td>\n",
              "      <td>67</td>\n",
              "      <td>59.034030</td>\n",
              "    </tr>\n",
              "    <tr>\n",
              "      <th>13</th>\n",
              "      <td>10</td>\n",
              "      <td>Mystery</td>\n",
              "      <td>86</td>\n",
              "      <td>54.464070</td>\n",
              "    </tr>\n",
              "    <tr>\n",
              "      <th>14</th>\n",
              "      <td>17</td>\n",
              "      <td>War</td>\n",
              "      <td>10</td>\n",
              "      <td>53.433000</td>\n",
              "    </tr>\n",
              "    <tr>\n",
              "      <th>15</th>\n",
              "      <td>14</td>\n",
              "      <td>History</td>\n",
              "      <td>25</td>\n",
              "      <td>52.958000</td>\n",
              "    </tr>\n",
              "    <tr>\n",
              "      <th>16</th>\n",
              "      <td>0</td>\n",
              "      <td>Drama</td>\n",
              "      <td>419</td>\n",
              "      <td>50.724010</td>\n",
              "    </tr>\n",
              "    <tr>\n",
              "      <th>17</th>\n",
              "      <td>15</td>\n",
              "      <td>Music</td>\n",
              "      <td>15</td>\n",
              "      <td>47.070000</td>\n",
              "    </tr>\n",
              "    <tr>\n",
              "      <th>18</th>\n",
              "      <td>6</td>\n",
              "      <td>Romance</td>\n",
              "      <td>120</td>\n",
              "      <td>42.947583</td>\n",
              "    </tr>\n",
              "    <tr>\n",
              "      <th>19</th>\n",
              "      <td>9</td>\n",
              "      <td>Horror</td>\n",
              "      <td>87</td>\n",
              "      <td>37.406897</td>\n",
              "    </tr>\n",
              "  </tbody>\n",
              "</table>\n",
              "</div>"
            ],
            "text/plain": [
              "    index      genre  movie_count  revenue_mill\n",
              "0      13  Animation           45    192.359556\n",
              "1       3  Adventure          244    157.160041\n",
              "2       7     Sci-Fi          107    137.454860\n",
              "3       8    Fantasy           92    133.052065\n",
              "4       1     Action          277    127.089928\n",
              "5      12     Family           48    124.141667\n",
              "6      19    Western            4    117.457500\n",
              "7      18    Musical            5     81.642000\n",
              "8       2     Comedy          250     76.952520\n",
              "9       4   Thriller          148     70.749324\n",
              "10     16      Sport           15     67.076667\n",
              "11      5      Crime          126     63.675079\n",
              "12     11  Biography           67     59.034030\n",
              "13     10    Mystery           86     54.464070\n",
              "14     17        War           10     53.433000\n",
              "15     14    History           25     52.958000\n",
              "16      0      Drama          419     50.724010\n",
              "17     15      Music           15     47.070000\n",
              "18      6    Romance          120     42.947583\n",
              "19      9     Horror           87     37.406897"
            ]
          },
          "metadata": {
            "tags": []
          },
          "execution_count": 64
        }
      ]
    },
    {
      "cell_type": "markdown",
      "metadata": {
        "id": "Q-y4lzORdmyE"
      },
      "source": [
        "* This explains that, more number of movies in a particular genre does not imply there will be more revenue.\n",
        "* In revenue analysis, we had seen that 2009,2012 and 2010 have had high revenue respectively. Lets see which genre's have contributed more in 2009."
      ]
    },
    {
      "cell_type": "code",
      "metadata": {
        "id": "0gcigiDc1kKi",
        "colab": {
          "base_uri": "https://localhost:8080/",
          "height": 550
        },
        "outputId": "22c16a3a-8944-41af-d43a-2e9dd5173d7c"
      },
      "source": [
        "movies_2009 = movies_genre[movies_genre['year']==2009].groupby('genre')['revenue_mill'].mean().sort_values(ascending = False)\n",
        "a = movies_genre[movies_genre['year']==2009].groupby('genre')['title'].count().sort_values(ascending = False)\n",
        "movies_2009 = pd.merge(left = movies_2009, right = a, on = 'genre')\n",
        "movies_2009.rename(columns={'title':'movie_count'})"
      ],
      "execution_count": null,
      "outputs": [
        {
          "output_type": "execute_result",
          "data": {
            "text/html": [
              "<div>\n",
              "<style scoped>\n",
              "    .dataframe tbody tr th:only-of-type {\n",
              "        vertical-align: middle;\n",
              "    }\n",
              "\n",
              "    .dataframe tbody tr th {\n",
              "        vertical-align: top;\n",
              "    }\n",
              "\n",
              "    .dataframe thead th {\n",
              "        text-align: right;\n",
              "    }\n",
              "</style>\n",
              "<table border=\"1\" class=\"dataframe\">\n",
              "  <thead>\n",
              "    <tr style=\"text-align: right;\">\n",
              "      <th></th>\n",
              "      <th>revenue_mill</th>\n",
              "      <th>movie_count</th>\n",
              "    </tr>\n",
              "    <tr>\n",
              "      <th>genre</th>\n",
              "      <th></th>\n",
              "      <th></th>\n",
              "    </tr>\n",
              "  </thead>\n",
              "  <tbody>\n",
              "    <tr>\n",
              "      <th>Sport</th>\n",
              "      <td>255.950000</td>\n",
              "      <td>1</td>\n",
              "    </tr>\n",
              "    <tr>\n",
              "      <th>Action</th>\n",
              "      <td>192.460000</td>\n",
              "      <td>14</td>\n",
              "    </tr>\n",
              "    <tr>\n",
              "      <th>Adventure</th>\n",
              "      <td>190.002941</td>\n",
              "      <td>17</td>\n",
              "    </tr>\n",
              "    <tr>\n",
              "      <th>Sci-Fi</th>\n",
              "      <td>182.371429</td>\n",
              "      <td>7</td>\n",
              "    </tr>\n",
              "    <tr>\n",
              "      <th>Fantasy</th>\n",
              "      <td>177.795714</td>\n",
              "      <td>7</td>\n",
              "    </tr>\n",
              "    <tr>\n",
              "      <th>Family</th>\n",
              "      <td>147.130000</td>\n",
              "      <td>3</td>\n",
              "    </tr>\n",
              "    <tr>\n",
              "      <th>Biography</th>\n",
              "      <td>129.940000</td>\n",
              "      <td>3</td>\n",
              "    </tr>\n",
              "    <tr>\n",
              "      <th>Animation</th>\n",
              "      <td>123.407500</td>\n",
              "      <td>4</td>\n",
              "    </tr>\n",
              "    <tr>\n",
              "      <th>War</th>\n",
              "      <td>120.520000</td>\n",
              "      <td>1</td>\n",
              "    </tr>\n",
              "    <tr>\n",
              "      <th>Crime</th>\n",
              "      <td>114.250000</td>\n",
              "      <td>5</td>\n",
              "    </tr>\n",
              "    <tr>\n",
              "      <th>Comedy</th>\n",
              "      <td>100.867692</td>\n",
              "      <td>13</td>\n",
              "    </tr>\n",
              "    <tr>\n",
              "      <th>Romance</th>\n",
              "      <td>72.830000</td>\n",
              "      <td>5</td>\n",
              "    </tr>\n",
              "    <tr>\n",
              "      <th>Drama</th>\n",
              "      <td>67.267778</td>\n",
              "      <td>18</td>\n",
              "    </tr>\n",
              "    <tr>\n",
              "      <th>Thriller</th>\n",
              "      <td>62.824286</td>\n",
              "      <td>7</td>\n",
              "    </tr>\n",
              "    <tr>\n",
              "      <th>Horror</th>\n",
              "      <td>29.895714</td>\n",
              "      <td>7</td>\n",
              "    </tr>\n",
              "    <tr>\n",
              "      <th>Mystery</th>\n",
              "      <td>28.910000</td>\n",
              "      <td>7</td>\n",
              "    </tr>\n",
              "  </tbody>\n",
              "</table>\n",
              "</div>"
            ],
            "text/plain": [
              "           revenue_mill  movie_count\n",
              "genre                               \n",
              "Sport        255.950000            1\n",
              "Action       192.460000           14\n",
              "Adventure    190.002941           17\n",
              "Sci-Fi       182.371429            7\n",
              "Fantasy      177.795714            7\n",
              "Family       147.130000            3\n",
              "Biography    129.940000            3\n",
              "Animation    123.407500            4\n",
              "War          120.520000            1\n",
              "Crime        114.250000            5\n",
              "Comedy       100.867692           13\n",
              "Romance       72.830000            5\n",
              "Drama         67.267778           18\n",
              "Thriller      62.824286            7\n",
              "Horror        29.895714            7\n",
              "Mystery       28.910000            7"
            ]
          },
          "metadata": {
            "tags": []
          },
          "execution_count": 65
        }
      ]
    },
    {
      "cell_type": "code",
      "metadata": {
        "id": "vXwnvaBi3Dp0",
        "colab": {
          "base_uri": "https://localhost:8080/",
          "height": 77
        },
        "outputId": "cf09f0fb-d019-41ad-c486-5fe770c436f3"
      },
      "source": [
        "d = movies_genre[movies_genre['year']==2009]\n",
        "d[d['genre']=='Sport']"
      ],
      "execution_count": null,
      "outputs": [
        {
          "output_type": "execute_result",
          "data": {
            "text/html": [
              "<div>\n",
              "<style scoped>\n",
              "    .dataframe tbody tr th:only-of-type {\n",
              "        vertical-align: middle;\n",
              "    }\n",
              "\n",
              "    .dataframe tbody tr th {\n",
              "        vertical-align: top;\n",
              "    }\n",
              "\n",
              "    .dataframe thead th {\n",
              "        text-align: right;\n",
              "    }\n",
              "</style>\n",
              "<table border=\"1\" class=\"dataframe\">\n",
              "  <thead>\n",
              "    <tr style=\"text-align: right;\">\n",
              "      <th></th>\n",
              "      <th>rank</th>\n",
              "      <th>title</th>\n",
              "      <th>genre</th>\n",
              "      <th>director</th>\n",
              "      <th>actors</th>\n",
              "      <th>year</th>\n",
              "      <th>runtime_min</th>\n",
              "      <th>rating</th>\n",
              "      <th>votes</th>\n",
              "      <th>revenue_mill</th>\n",
              "      <th>metascore</th>\n",
              "    </tr>\n",
              "  </thead>\n",
              "  <tbody>\n",
              "    <tr>\n",
              "      <th>736</th>\n",
              "      <td>311</td>\n",
              "      <td>The Blind Side</td>\n",
              "      <td>Sport</td>\n",
              "      <td>John Lee Hancock</td>\n",
              "      <td>Quinton Aaron, Sandra Bullock, Tim McGraw,Jae ...</td>\n",
              "      <td>2009</td>\n",
              "      <td>129</td>\n",
              "      <td>7.7</td>\n",
              "      <td>237221</td>\n",
              "      <td>255.95</td>\n",
              "      <td>53.0</td>\n",
              "    </tr>\n",
              "  </tbody>\n",
              "</table>\n",
              "</div>"
            ],
            "text/plain": [
              "     rank           title  genre          director  \\\n",
              "736   311  The Blind Side  Sport  John Lee Hancock   \n",
              "\n",
              "                                                actors  year  runtime_min  \\\n",
              "736  Quinton Aaron, Sandra Bullock, Tim McGraw,Jae ...  2009          129   \n",
              "\n",
              "     rating   votes  revenue_mill  metascore  \n",
              "736     7.7  237221        255.95       53.0  "
            ]
          },
          "metadata": {
            "tags": []
          },
          "execution_count": 66
        }
      ]
    },
    {
      "cell_type": "markdown",
      "metadata": {
        "id": "98hFMP9u3f4i"
      },
      "source": [
        "* In 2009 year, **The Blind Side** a sport genre movie alone has contributed about 255 million dollars."
      ]
    },
    {
      "cell_type": "markdown",
      "metadata": {
        "id": "3JeilURce-TL"
      },
      "source": [
        "<a id=section70402></a>\n",
        "### 7.4.3 What is the trend in genre over years?"
      ]
    },
    {
      "cell_type": "code",
      "metadata": {
        "id": "GD0AaRX3ePQH",
        "colab": {
          "base_uri": "https://localhost:8080/",
          "height": 611
        },
        "outputId": "c87c9abc-f049-4ca9-ae02-6dd57e52609f"
      },
      "source": [
        "plt.figure(figsize=(10,10))\n",
        "movies_genre[movies_genre['genre']=='Drama'].groupby('year')['title'].count().plot(kind = 'line', color = 'red', yticks = np.arange(0,120, 10))\n",
        "movies_genre[movies_genre['genre']=='Action'].groupby('year')['title'].count().plot(kind = 'line', color = 'orange', yticks = np.arange(0,120, 10))\n",
        "movies_genre[movies_genre['genre']=='Comedy'].groupby('year')['title'].count().plot(kind = 'line', color = 'green',yticks = np.arange(0,120, 10))\n",
        "movies_genre[movies_genre['genre']=='Adventure'].groupby('year')['title'].count().plot(kind = 'line', color = 'blue', yticks = np.arange(0,120, 10))\n",
        "movies_genre[movies_genre['genre']=='Sci-Fi'].groupby('year')['title'].count().plot(kind = 'line', color = 'purple', yticks = np.arange(0,120, 10))\n",
        "movies_genre[movies_genre['genre']=='Fantasy'].groupby('year')['title'].count().plot(kind = 'line', color = 'yellow', yticks = np.arange(0,120, 10))\n",
        "movies_genre[movies_genre['genre']=='Animation'].groupby('year')['title'].count().plot(kind = 'line', color = 'tomato', yticks = np.arange(0,120, 10))\n",
        "plt.legend(labels = ('Drama', 'Action', 'Comedy', 'Adventure','Sci-Fi','Fantasy','Animation'))\n",
        "plt.show()"
      ],
      "execution_count": null,
      "outputs": [
        {
          "output_type": "display_data",
          "data": {
            "image/png": "[encoded data removed]",
            "text/plain": [
              "<Figure size 720x720 with 1 Axes>"
            ]
          },
          "metadata": {
            "tags": []
          }
        }
      ]
    },
    {
      "cell_type": "markdown",
      "metadata": {
        "id": "JTlgDp3tfYUu"
      },
      "source": [
        "This explains the trend of the top 4 genre's over years:\n",
        "* **Drama** movies have seen a decrease in release from 2006-2009, post which every year we find increase in number of drama genre movies.\n",
        "* **Action**, **Comedy** and **Adventure** have  seen increase in movies from 2013.\n",
        "* **Animation**, **Fantasy** and **Sci-Fi** movies are more or less the same numbers over 10 years."
      ]
    },
    {
      "cell_type": "markdown",
      "metadata": {
        "id": "C9JF0pTriusC"
      },
      "source": [
        "<a id=section70403></a>\n",
        "### 7.4.4 What is the high rated genre over years?"
      ]
    },
    {
      "cell_type": "code",
      "metadata": {
        "id": "5zCfQt3Xi1fx",
        "colab": {
          "base_uri": "https://localhost:8080/",
          "height": 639
        },
        "outputId": "036e110e-fabd-4fcd-e384-27014797506b"
      },
      "source": [
        "genre_rate = movies_genre.groupby('genre')['rating'].mean().sort_values(ascending = False)\n",
        "genre_vote = movies_genre.groupby('genre')['votes'].mean().round(1).sort_values(ascending = False)\n",
        "genre_vote_rate = pd.merge(left = genre_rate, right = genre_vote,on = 'genre')\n",
        "genre_vote_rate = pd.merge(left = genre_vote_rate, right= movie_genre_count, on = 'genre')\n",
        "genre_vote_rate.sort_values(by = 'votes', ascending = False)"
      ],
      "execution_count": null,
      "outputs": [
        {
          "output_type": "execute_result",
          "data": {
            "text/html": [
              "<div>\n",
              "<style scoped>\n",
              "    .dataframe tbody tr th:only-of-type {\n",
              "        vertical-align: middle;\n",
              "    }\n",
              "\n",
              "    .dataframe tbody tr th {\n",
              "        vertical-align: top;\n",
              "    }\n",
              "\n",
              "    .dataframe thead th {\n",
              "        text-align: right;\n",
              "    }\n",
              "</style>\n",
              "<table border=\"1\" class=\"dataframe\">\n",
              "  <thead>\n",
              "    <tr style=\"text-align: right;\">\n",
              "      <th></th>\n",
              "      <th>genre</th>\n",
              "      <th>rating</th>\n",
              "      <th>votes</th>\n",
              "      <th>movie_count</th>\n",
              "    </tr>\n",
              "  </thead>\n",
              "  <tbody>\n",
              "    <tr>\n",
              "      <th>4</th>\n",
              "      <td>Western</td>\n",
              "      <td>7.250000</td>\n",
              "      <td>390412.8</td>\n",
              "      <td>4</td>\n",
              "    </tr>\n",
              "    <tr>\n",
              "      <th>13</th>\n",
              "      <td>Sci-Fi</td>\n",
              "      <td>6.768224</td>\n",
              "      <td>317911.3</td>\n",
              "      <td>107</td>\n",
              "    </tr>\n",
              "    <tr>\n",
              "      <th>0</th>\n",
              "      <td>War</td>\n",
              "      <td>7.600000</td>\n",
              "      <td>292591.0</td>\n",
              "      <td>10</td>\n",
              "    </tr>\n",
              "    <tr>\n",
              "      <th>11</th>\n",
              "      <td>Adventure</td>\n",
              "      <td>6.797951</td>\n",
              "      <td>266497.9</td>\n",
              "      <td>244</td>\n",
              "    </tr>\n",
              "    <tr>\n",
              "      <th>17</th>\n",
              "      <td>Action</td>\n",
              "      <td>6.650903</td>\n",
              "      <td>250533.2</td>\n",
              "      <td>277</td>\n",
              "    </tr>\n",
              "    <tr>\n",
              "      <th>18</th>\n",
              "      <td>Fantasy</td>\n",
              "      <td>6.630435</td>\n",
              "      <td>231953.9</td>\n",
              "      <td>92</td>\n",
              "    </tr>\n",
              "    <tr>\n",
              "      <th>8</th>\n",
              "      <td>Mystery</td>\n",
              "      <td>6.968605</td>\n",
              "      <td>208712.5</td>\n",
              "      <td>86</td>\n",
              "    </tr>\n",
              "    <tr>\n",
              "      <th>3</th>\n",
              "      <td>Animation</td>\n",
              "      <td>7.311111</td>\n",
              "      <td>207999.6</td>\n",
              "      <td>45</td>\n",
              "    </tr>\n",
              "    <tr>\n",
              "      <th>10</th>\n",
              "      <td>Crime</td>\n",
              "      <td>6.900794</td>\n",
              "      <td>204617.6</td>\n",
              "      <td>126</td>\n",
              "    </tr>\n",
              "    <tr>\n",
              "      <th>12</th>\n",
              "      <td>Thriller</td>\n",
              "      <td>6.792568</td>\n",
              "      <td>199899.8</td>\n",
              "      <td>148</td>\n",
              "    </tr>\n",
              "    <tr>\n",
              "      <th>1</th>\n",
              "      <td>Biography</td>\n",
              "      <td>7.353731</td>\n",
              "      <td>175024.0</td>\n",
              "      <td>67</td>\n",
              "    </tr>\n",
              "    <tr>\n",
              "      <th>9</th>\n",
              "      <td>Musical</td>\n",
              "      <td>6.940000</td>\n",
              "      <td>173376.2</td>\n",
              "      <td>5</td>\n",
              "    </tr>\n",
              "    <tr>\n",
              "      <th>7</th>\n",
              "      <td>Drama</td>\n",
              "      <td>7.042959</td>\n",
              "      <td>167934.6</td>\n",
              "      <td>419</td>\n",
              "    </tr>\n",
              "    <tr>\n",
              "      <th>2</th>\n",
              "      <td>History</td>\n",
              "      <td>7.324000</td>\n",
              "      <td>158678.0</td>\n",
              "      <td>25</td>\n",
              "    </tr>\n",
              "    <tr>\n",
              "      <th>14</th>\n",
              "      <td>Comedy</td>\n",
              "      <td>6.709200</td>\n",
              "      <td>154991.6</td>\n",
              "      <td>250</td>\n",
              "    </tr>\n",
              "    <tr>\n",
              "      <th>15</th>\n",
              "      <td>Romance</td>\n",
              "      <td>6.700833</td>\n",
              "      <td>134277.4</td>\n",
              "      <td>120</td>\n",
              "    </tr>\n",
              "    <tr>\n",
              "      <th>16</th>\n",
              "      <td>Family</td>\n",
              "      <td>6.670833</td>\n",
              "      <td>133659.2</td>\n",
              "      <td>48</td>\n",
              "    </tr>\n",
              "    <tr>\n",
              "      <th>6</th>\n",
              "      <td>Sport</td>\n",
              "      <td>7.086667</td>\n",
              "      <td>133210.7</td>\n",
              "      <td>15</td>\n",
              "    </tr>\n",
              "    <tr>\n",
              "      <th>5</th>\n",
              "      <td>Music</td>\n",
              "      <td>7.166667</td>\n",
              "      <td>122430.9</td>\n",
              "      <td>15</td>\n",
              "    </tr>\n",
              "    <tr>\n",
              "      <th>19</th>\n",
              "      <td>Horror</td>\n",
              "      <td>6.288506</td>\n",
              "      <td>109373.2</td>\n",
              "      <td>87</td>\n",
              "    </tr>\n",
              "  </tbody>\n",
              "</table>\n",
              "</div>"
            ],
            "text/plain": [
              "        genre    rating     votes  movie_count\n",
              "4     Western  7.250000  390412.8            4\n",
              "13     Sci-Fi  6.768224  317911.3          107\n",
              "0         War  7.600000  292591.0           10\n",
              "11  Adventure  6.797951  266497.9          244\n",
              "17     Action  6.650903  250533.2          277\n",
              "18    Fantasy  6.630435  231953.9           92\n",
              "8     Mystery  6.968605  208712.5           86\n",
              "3   Animation  7.311111  207999.6           45\n",
              "10      Crime  6.900794  204617.6          126\n",
              "12   Thriller  6.792568  199899.8          148\n",
              "1   Biography  7.353731  175024.0           67\n",
              "9     Musical  6.940000  173376.2            5\n",
              "7       Drama  7.042959  167934.6          419\n",
              "2     History  7.324000  158678.0           25\n",
              "14     Comedy  6.709200  154991.6          250\n",
              "15    Romance  6.700833  134277.4          120\n",
              "16     Family  6.670833  133659.2           48\n",
              "6       Sport  7.086667  133210.7           15\n",
              "5       Music  7.166667  122430.9           15\n",
              "19     Horror  6.288506  109373.2           87"
            ]
          },
          "metadata": {
            "tags": []
          },
          "execution_count": 68
        }
      ]
    },
    {
      "cell_type": "markdown",
      "metadata": {
        "id": "ZljGMk-dn8pQ"
      },
      "source": [
        "* This explains that high rating has ben given for movies of genre **War**, **Biography**, **Animation** .\n",
        "* **Western** and **Musical** movies are released in less numbers over years but still they have got a high rating. **Wastern** genre movies have got the maximum number of votes of all the other genre's.\n",
        "*Lets see how votes and rating are correlated?\n"
      ]
    },
    {
      "cell_type": "code",
      "metadata": {
        "id": "bmS1eeEoqtre",
        "colab": {
          "base_uri": "https://localhost:8080/",
          "height": 313
        },
        "outputId": "5d016b32-a782-4284-f1be-b477015a2b71"
      },
      "source": [
        "sns.regplot(data = movies, y = 'votes', x = 'rating')"
      ],
      "execution_count": null,
      "outputs": [
        {
          "output_type": "execute_result",
          "data": {
            "text/plain": [
              "<matplotlib.axes._subplots.AxesSubplot at 0x7f2d0ece7400>"
            ]
          },
          "metadata": {
            "tags": []
          },
          "execution_count": 69
        },
        {
          "output_type": "display_data",
          "data": {
            "image/png": "[encoded data removed]",
            "text/plain": [
              "<Figure size 432x288 with 1 Axes>"
            ]
          },
          "metadata": {
            "tags": []
          }
        }
      ]
    },
    {
      "cell_type": "markdown",
      "metadata": {
        "id": "OvMgZYCPrKST"
      },
      "source": [
        "This explains that maximum movie rating lies between 5-8, and as the number of votes increases, the rating also hsa increased."
      ]
    },
    {
      "cell_type": "markdown",
      "metadata": {
        "id": "Bl5WsWker2mh"
      },
      "source": [
        "<a id=section704></a>\n",
        "### 7.4 Actors Based Analysis"
      ]
    },
    {
      "cell_type": "markdown",
      "metadata": {
        "id": "zlOcCn9M6m_b"
      },
      "source": [
        "<a id=section70401></a>\n",
        "### 7.4.1 Which actor has acted more in movies over 10 years?"
      ]
    },
    {
      "cell_type": "code",
      "metadata": {
        "id": "-S_NR7SQr-3T",
        "colab": {
          "base_uri": "https://localhost:8080/",
          "height": 402
        },
        "outputId": "53bcf127-668c-4298-9a9b-a071e647a8f7"
      },
      "source": [
        "top_actors_count = pd.DataFrame(movies_actors.groupby('actors')['title'].count().sort_values(ascending = False))\n",
        "top_actors_count.reset_index(inplace=True)\n",
        "top_actors_count.rename(columns = {'title':'movie_count'}, inplace=True)\n",
        "top_actors_count"
      ],
      "execution_count": null,
      "outputs": [
        {
          "output_type": "execute_result",
          "data": {
            "text/html": [
              "<div>\n",
              "<style scoped>\n",
              "    .dataframe tbody tr th:only-of-type {\n",
              "        vertical-align: middle;\n",
              "    }\n",
              "\n",
              "    .dataframe tbody tr th {\n",
              "        vertical-align: top;\n",
              "    }\n",
              "\n",
              "    .dataframe thead th {\n",
              "        text-align: right;\n",
              "    }\n",
              "</style>\n",
              "<table border=\"1\" class=\"dataframe\">\n",
              "  <thead>\n",
              "    <tr style=\"text-align: right;\">\n",
              "      <th></th>\n",
              "      <th>actors</th>\n",
              "      <th>movie_count</th>\n",
              "    </tr>\n",
              "  </thead>\n",
              "  <tbody>\n",
              "    <tr>\n",
              "      <th>0</th>\n",
              "      <td>Mark Wahlberg</td>\n",
              "      <td>15</td>\n",
              "    </tr>\n",
              "    <tr>\n",
              "      <th>1</th>\n",
              "      <td>Hugh Jackman</td>\n",
              "      <td>14</td>\n",
              "    </tr>\n",
              "    <tr>\n",
              "      <th>2</th>\n",
              "      <td>Brad Pitt</td>\n",
              "      <td>13</td>\n",
              "    </tr>\n",
              "    <tr>\n",
              "      <th>3</th>\n",
              "      <td>Scarlett Johansson</td>\n",
              "      <td>12</td>\n",
              "    </tr>\n",
              "    <tr>\n",
              "      <th>4</th>\n",
              "      <td>Robert Downey Jr.</td>\n",
              "      <td>12</td>\n",
              "    </tr>\n",
              "    <tr>\n",
              "      <th>...</th>\n",
              "      <td>...</td>\n",
              "      <td>...</td>\n",
              "    </tr>\n",
              "    <tr>\n",
              "      <th>1633</th>\n",
              "      <td>Lily Cole</td>\n",
              "      <td>1</td>\n",
              "    </tr>\n",
              "    <tr>\n",
              "      <th>1634</th>\n",
              "      <td>Lily Rabe</td>\n",
              "      <td>1</td>\n",
              "    </tr>\n",
              "    <tr>\n",
              "      <th>1635</th>\n",
              "      <td>Lin Shaye</td>\n",
              "      <td>1</td>\n",
              "    </tr>\n",
              "    <tr>\n",
              "      <th>1636</th>\n",
              "      <td>Linda Gegusch</td>\n",
              "      <td>1</td>\n",
              "    </tr>\n",
              "    <tr>\n",
              "      <th>1637</th>\n",
              "      <td>50 Cent</td>\n",
              "      <td>1</td>\n",
              "    </tr>\n",
              "  </tbody>\n",
              "</table>\n",
              "<p>1638 rows × 2 columns</p>\n",
              "</div>"
            ],
            "text/plain": [
              "                  actors  movie_count\n",
              "0          Mark Wahlberg           15\n",
              "1           Hugh Jackman           14\n",
              "2              Brad Pitt           13\n",
              "3     Scarlett Johansson           12\n",
              "4      Robert Downey Jr.           12\n",
              "...                  ...          ...\n",
              "1633           Lily Cole            1\n",
              "1634           Lily Rabe            1\n",
              "1635           Lin Shaye            1\n",
              "1636       Linda Gegusch            1\n",
              "1637             50 Cent            1\n",
              "\n",
              "[1638 rows x 2 columns]"
            ]
          },
          "metadata": {
            "tags": []
          },
          "execution_count": 70
        }
      ]
    },
    {
      "cell_type": "code",
      "metadata": {
        "id": "wtWpGxEc_DnK",
        "colab": {
          "base_uri": "https://localhost:8080/",
          "height": 302
        },
        "outputId": "2d47ab01-b1fa-4834-e0ce-275303e292ff"
      },
      "source": [
        "sns.barplot(data = top_actors_count[0:10], y = 'actors', x = 'movie_count')"
      ],
      "execution_count": null,
      "outputs": [
        {
          "output_type": "execute_result",
          "data": {
            "text/plain": [
              "<matplotlib.axes._subplots.AxesSubplot at 0x7f2d0cbe9a90>"
            ]
          },
          "metadata": {
            "tags": []
          },
          "execution_count": 71
        },
        {
          "output_type": "display_data",
          "data": {
            "image/png": "[encoded data removed]",
            "text/plain": [
              "<Figure size 432x288 with 1 Axes>"
            ]
          },
          "metadata": {
            "tags": []
          }
        }
      ]
    },
    {
      "cell_type": "markdown",
      "metadata": {
        "id": "HoALIN14sgt1"
      },
      "source": [
        "This explains that **Mark Wahlberg** and **Christian Bale** are the top actors who have acted in more movies. Now lets dig a little more and see the revenue generted by movies with these top actors."
      ]
    },
    {
      "cell_type": "code",
      "metadata": {
        "id": "Ub3FNineum0M",
        "colab": {
          "base_uri": "https://localhost:8080/",
          "height": 302
        },
        "outputId": "a743a968-34b8-4ba9-a7a1-6f668d56d44c"
      },
      "source": [
        "sns.barplot(data = movies_actors[movies_actors['actors'].str.contains('Mark Wahlberg')].sort_values(by = 'revenue_mill', ascending=True), x = 'revenue_mill', y = 'title')"
      ],
      "execution_count": null,
      "outputs": [
        {
          "output_type": "execute_result",
          "data": {
            "text/plain": [
              "<matplotlib.axes._subplots.AxesSubplot at 0x7f2d0cb0ae48>"
            ]
          },
          "metadata": {
            "tags": []
          },
          "execution_count": 72
        },
        {
          "output_type": "display_data",
          "data": {
            "image/png": "[encoded data removed]",
            "text/plain": [
              "<Figure size 432x288 with 1 Axes>"
            ]
          },
          "metadata": {
            "tags": []
          }
        }
      ]
    },
    {
      "cell_type": "code",
      "metadata": {
        "id": "IoSZvmFtxULu",
        "colab": {
          "base_uri": "https://localhost:8080/",
          "height": 302
        },
        "outputId": "3043f901-90d2-4233-def2-9d4f86aaccc9"
      },
      "source": [
        "sns.barplot(data = movies_actors[movies_actors['actors'].str.contains('Hugh Jackman')].sort_values(by = 'revenue_mill', ascending=True), x = 'revenue_mill', y = 'title')"
      ],
      "execution_count": null,
      "outputs": [
        {
          "output_type": "execute_result",
          "data": {
            "text/plain": [
              "<matplotlib.axes._subplots.AxesSubplot at 0x7f2d0ca3d240>"
            ]
          },
          "metadata": {
            "tags": []
          },
          "execution_count": 73
        },
        {
          "output_type": "display_data",
          "data": {
            "image/png": "[encoded data removed]",
            "text/plain": [
              "<Figure size 432x288 with 1 Axes>"
            ]
          },
          "metadata": {
            "tags": []
          }
        }
      ]
    },
    {
      "cell_type": "markdown",
      "metadata": {
        "id": "gThojn0GLqa3"
      },
      "source": [
        "<a id=section70402></a>\n",
        "### 7.4.2 Which actor's movies has made more revenue over years?"
      ]
    },
    {
      "cell_type": "code",
      "metadata": {
        "id": "fHpqUF8DSFRA",
        "colab": {
          "base_uri": "https://localhost:8080/",
          "height": 402
        },
        "outputId": "580d395c-7dfc-4d21-8e86-68e30432b374"
      },
      "source": [
        "top_actors_rev = pd.DataFrame(movies_actors.groupby('actors')['revenue_mill'].mean().sort_values(ascending = False))\n",
        "top_actors_rev.reset_index(inplace=True)\n",
        "top_actors_rev = pd.merge(left = top_actors_rev, right = top_actors_count, on = 'actors')\n",
        "top_actors_rev"
      ],
      "execution_count": null,
      "outputs": [
        {
          "output_type": "execute_result",
          "data": {
            "text/html": [
              "<div>\n",
              "<style scoped>\n",
              "    .dataframe tbody tr th:only-of-type {\n",
              "        vertical-align: middle;\n",
              "    }\n",
              "\n",
              "    .dataframe tbody tr th {\n",
              "        vertical-align: top;\n",
              "    }\n",
              "\n",
              "    .dataframe thead th {\n",
              "        text-align: right;\n",
              "    }\n",
              "</style>\n",
              "<table border=\"1\" class=\"dataframe\">\n",
              "  <thead>\n",
              "    <tr style=\"text-align: right;\">\n",
              "      <th></th>\n",
              "      <th>actors</th>\n",
              "      <th>revenue_mill</th>\n",
              "      <th>movie_count</th>\n",
              "    </tr>\n",
              "  </thead>\n",
              "  <tbody>\n",
              "    <tr>\n",
              "      <th>0</th>\n",
              "      <td>Daisy Ridley</td>\n",
              "      <td>936.63</td>\n",
              "      <td>1</td>\n",
              "    </tr>\n",
              "    <tr>\n",
              "      <th>1</th>\n",
              "      <td>John Boyega</td>\n",
              "      <td>936.63</td>\n",
              "      <td>1</td>\n",
              "    </tr>\n",
              "    <tr>\n",
              "      <th>2</th>\n",
              "      <td>Donnie Yen</td>\n",
              "      <td>532.17</td>\n",
              "      <td>1</td>\n",
              "    </tr>\n",
              "    <tr>\n",
              "      <th>3</th>\n",
              "      <td>Alan Tudyk</td>\n",
              "      <td>532.17</td>\n",
              "      <td>1</td>\n",
              "    </tr>\n",
              "    <tr>\n",
              "      <th>4</th>\n",
              "      <td>Ed O'Neill</td>\n",
              "      <td>486.29</td>\n",
              "      <td>1</td>\n",
              "    </tr>\n",
              "    <tr>\n",
              "      <th>...</th>\n",
              "      <td>...</td>\n",
              "      <td>...</td>\n",
              "      <td>...</td>\n",
              "    </tr>\n",
              "    <tr>\n",
              "      <th>1633</th>\n",
              "      <td>Cary Joji Fukunaga</td>\n",
              "      <td>0.01</td>\n",
              "      <td>1</td>\n",
              "    </tr>\n",
              "    <tr>\n",
              "      <th>1634</th>\n",
              "      <td>Jason O'Mara</td>\n",
              "      <td>0.01</td>\n",
              "      <td>1</td>\n",
              "    </tr>\n",
              "    <tr>\n",
              "      <th>1635</th>\n",
              "      <td>Callum Keith Rennie</td>\n",
              "      <td>0.01</td>\n",
              "      <td>1</td>\n",
              "    </tr>\n",
              "    <tr>\n",
              "      <th>1636</th>\n",
              "      <td>Christian Cooke</td>\n",
              "      <td>0.01</td>\n",
              "      <td>1</td>\n",
              "    </tr>\n",
              "    <tr>\n",
              "      <th>1637</th>\n",
              "      <td>Vincent Kartheiser</td>\n",
              "      <td>0.00</td>\n",
              "      <td>1</td>\n",
              "    </tr>\n",
              "  </tbody>\n",
              "</table>\n",
              "<p>1638 rows × 3 columns</p>\n",
              "</div>"
            ],
            "text/plain": [
              "                   actors  revenue_mill  movie_count\n",
              "0            Daisy Ridley        936.63            1\n",
              "1             John Boyega        936.63            1\n",
              "2              Donnie Yen        532.17            1\n",
              "3              Alan Tudyk        532.17            1\n",
              "4              Ed O'Neill        486.29            1\n",
              "...                   ...           ...          ...\n",
              "1633   Cary Joji Fukunaga          0.01            1\n",
              "1634         Jason O'Mara          0.01            1\n",
              "1635  Callum Keith Rennie          0.01            1\n",
              "1636      Christian Cooke          0.01            1\n",
              "1637   Vincent Kartheiser          0.00            1\n",
              "\n",
              "[1638 rows x 3 columns]"
            ]
          },
          "metadata": {
            "tags": []
          },
          "execution_count": 74
        }
      ]
    },
    {
      "cell_type": "code",
      "metadata": {
        "id": "7pmCgG_LTjQd",
        "colab": {
          "base_uri": "https://localhost:8080/",
          "height": 302
        },
        "outputId": "fae366c3-8e55-4589-9dcf-2cbec29c94c8"
      },
      "source": [
        "sns.barplot(data = top_actors_rev[0:10], y = 'actors', x = 'revenue_mill')"
      ],
      "execution_count": null,
      "outputs": [
        {
          "output_type": "execute_result",
          "data": {
            "text/plain": [
              "<matplotlib.axes._subplots.AxesSubplot at 0x7f2d0c96d358>"
            ]
          },
          "metadata": {
            "tags": []
          },
          "execution_count": 75
        },
        {
          "output_type": "display_data",
          "data": {
            "image/png": "[encoded data removed]",
            "text/plain": [
              "<Figure size 432x288 with 1 Axes>"
            ]
          },
          "metadata": {
            "tags": []
          }
        }
      ]
    },
    {
      "cell_type": "markdown",
      "metadata": {
        "id": "2Bfp3VCnz_Jh"
      },
      "source": [
        "* This explains that **Daisy Ridley** and **John Boyega** are the top actors who have acted in movies which produced more revenue. \n",
        "\n",
        "* From all the above graphs we infer that, even though the actors have acted in any movies, not all of their movies have performed well and have had good revenue.So its evident that, top actors need not have always high revenue."
      ]
    },
    {
      "cell_type": "markdown",
      "metadata": {
        "id": "uluyrarhQgBm"
      },
      "source": [
        "<a id=section705></a>\n",
        "### 7.5 Duration Based Analysis"
      ]
    },
    {
      "cell_type": "code",
      "metadata": {
        "id": "Vubo-o5ZQjrq",
        "colab": {
          "base_uri": "https://localhost:8080/",
          "height": 302
        },
        "outputId": "a8e9daca-c1d6-4a24-9d86-755d50c9a3fb"
      },
      "source": [
        "sns.regplot(data = movies, x = 'runtime_min', y = 'rating')"
      ],
      "execution_count": null,
      "outputs": [
        {
          "output_type": "execute_result",
          "data": {
            "text/plain": [
              "<matplotlib.axes._subplots.AxesSubplot at 0x7f2d0c932518>"
            ]
          },
          "metadata": {
            "tags": []
          },
          "execution_count": 76
        },
        {
          "output_type": "display_data",
          "data": {
            "image/png": "[encoded data removed]",
            "text/plain": [
              "<Figure size 432x288 with 1 Axes>"
            ]
          },
          "metadata": {
            "tags": []
          }
        }
      ]
    },
    {
      "cell_type": "markdown",
      "metadata": {
        "id": "qPBWpqSuRPuy"
      },
      "source": [
        "This explains that, increase in runtime, has increase in rating of a movie, but however movies more than 160 min i.e 2.5 hours have less number of ratings. People rate the movie only if they like it, we infer that movies greater then 2.5 hours people are bored and not rating them."
      ]
    },
    {
      "cell_type": "code",
      "metadata": {
        "id": "GwNeqIo-SPTV",
        "colab": {
          "base_uri": "https://localhost:8080/",
          "height": 313
        },
        "outputId": "b395a0c3-7a20-4861-850d-820262aea939"
      },
      "source": [
        "sns.regplot(data = movies, x = 'runtime_min', y = 'votes')"
      ],
      "execution_count": null,
      "outputs": [
        {
          "output_type": "execute_result",
          "data": {
            "text/plain": [
              "<matplotlib.axes._subplots.AxesSubplot at 0x7f2d0c879e10>"
            ]
          },
          "metadata": {
            "tags": []
          },
          "execution_count": 77
        },
        {
          "output_type": "display_data",
          "data": {
            "image/png": "[encoded data removed]",
            "text/plain": [
              "<Figure size 432x288 with 1 Axes>"
            ]
          },
          "metadata": {
            "tags": []
          }
        }
      ]
    },
    {
      "cell_type": "markdown",
      "metadata": {
        "id": "JsCAU-IFSo71"
      },
      "source": [
        "Similarly, we see that people have voted more for movies less than 2.5 hours."
      ]
    },
    {
      "cell_type": "markdown",
      "metadata": {
        "id": "JgFTX5NYCWtI"
      },
      "source": [
        "<a id=section8></a> \n",
        "### 8. Conclusion"
      ]
    },
    {
      "cell_type": "markdown",
      "metadata": {
        "id": "_9e9ve2ymfyV"
      },
      "source": [
        "* Using pandas profilingreport, we standardized the columns, removed the missing data, split the data on different genre's, split the data on different actors, striped the data to avoid any spaces.\n",
        "*  **Feature based analysis**: We saw the top 10 movies with respect to count, rating, votes, meatscore , duration and revenue. We infer that IMDB rank varies with that of the average user rating of a movie. The high rated and high voted top movies are directed by Christopher Nolan.\n",
        "* **Director based anlysis**: We infer that, a director giving more number of movies doesnt imply leads to more revenue and a director giving more revenue doesnt imply that all his/her movies would lead to more revenue, there may also be some movies which has not performed well.\n",
        "* **Year based analysis**: We infer that-\n",
        "  * More number of movies were released as year progressed,  but with fall in revenue, rating, votes and critic score.\n",
        "  * More number of movies doesnt imply that we will have a greater revenue.\n",
        "  * More movies and lesser revenue implies public users are not satisfied with the movies and hence their rating and vote count has decreased.\n",
        "  * The performance and quality of movie has decresed over years.\n",
        "* **Rating analysis**: We infer that-\n",
        "  * Both users and critics have almost same opiion about a movie.\n",
        "  * As the number of votes increases for a movie the rating also has increased which means that the movie has performed well.\n",
        "* **Genre based analysis**: We infer that-\n",
        "  * More number f movies with Drama and action genre were released but however, Animation and Adventure genre movies fetch more revenue.\n",
        "  * From the genre trends of evert year, we see that mostly the directors prefer to take action, comedy and adventure movies more than others.\n",
        "  * Even tthough War, Biography movies are highly rated, the number of people who has watched the movie/voted is less which means only a lesser crowd likes such kid of movies.\n",
        "  * Animation genre movies are highly rated as well as gives more revenue which is evident that users likes more of animated movies.\n",
        "* **Actors based analysis**: We infer that-\n",
        "  * Even though an actor has acted in more movies, it doesnt imply that it would lead in high revenue.\n",
        "  * Even though an actor has given movies with more revenue, there were some which have not performed well\n",
        "* **Duration based analysis**: We infer that-\n",
        "  * People are getting bored and are voting less / rating less for movies greater than 2 and half hours.\n",
        "\n",
        "\n",
        "\n",
        "\n"
      ]
    },
    {
      "cell_type": "markdown",
      "metadata": {
        "id": "8vGQWBU1GE3h"
      },
      "source": [
        "Overall, I can confirm that:\n",
        "  * In a business perspective- film industry has grown up over years in producing different genre of movies and more number of movies.\n",
        "  * In Public perspective- Users vote high and rate high for movies which satifies them which leads to more revenue."
      ]
    }
  ]
}